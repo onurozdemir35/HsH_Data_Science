{
 "cells": [
  {
   "cell_type": "markdown",
   "id": "d02dfa6c-e5fd-426b-a7c8-cf4c2b9a38d0",
   "metadata": {},
   "source": [
    "## Übung 1: Variable Zuweisung\n",
    "**Aufgabe:**  \n",
    "Weise der Variablen `name` deinen Namen zu und gib den Wert der Variablen mit der `print()`-Funktion aus.\n",
    "\n"
   ]
  },
  {
   "cell_type": "code",
   "execution_count": 1,
   "id": "ccdf6e16-9b16-4b86-869f-aab31713f62e",
   "metadata": {},
   "outputs": [
    {
     "name": "stdout",
     "output_type": "stream",
     "text": [
      "Onur\n"
     ]
    }
   ],
   "source": [
    "# Schreibt bitte eure Lösung hier\n",
    "name = \"Onur\"\n",
    "\n",
    "print(name)"
   ]
  },
  {
   "cell_type": "markdown",
   "id": "5bb2242b-46c0-4d78-acae-a39971dfce2d",
   "metadata": {},
   "source": [
    "## Übung 2: Addition von Variablen\n",
    "**Aufgabe:**  \n",
    "Erstelle zwei Variablen `a` und `b` mit den Werten 5 und 10. Addiere die beiden Variablen und speichere das Ergebnis in einer neuen Variablen `summe`. Gib die `summe` aus.\n"
   ]
  },
  {
   "cell_type": "code",
   "execution_count": 2,
   "id": "493f0615-47e2-46dd-8edf-fb0cb4f74328",
   "metadata": {},
   "outputs": [
    {
     "name": "stdout",
     "output_type": "stream",
     "text": [
      "12\n"
     ]
    }
   ],
   "source": [
    "# Schreibt bitte eure Lösung hier\n",
    "a = 5\n",
    "b = 7\n",
    "print(a + b)"
   ]
  },
  {
   "cell_type": "markdown",
   "id": "fed17ffa-93aa-4f15-9eec-6abdaa5c1d7f",
   "metadata": {},
   "source": [
    "## Übung 3: Umwandlung von Variablen\n",
    "**Aufgabe:**  \n",
    "Weise der Variablen `zahl` den Wert 10 zu. Konvertiere diese Zahl in eine Zeichenfolge und gib sie aus."
   ]
  },
  {
   "cell_type": "code",
   "execution_count": 4,
   "id": "2309ea4d-d089-43c2-9fce-59b1bebe504f",
   "metadata": {},
   "outputs": [
    {
     "name": "stdout",
     "output_type": "stream",
     "text": [
      "<class 'str'>\n"
     ]
    }
   ],
   "source": [
    "# Schreibt bitte eure Lösung hier\n",
    "zahl = 10\n",
    "print(type(zahl))"
   ]
  },
  {
   "cell_type": "markdown",
   "id": "7e1f9192-1351-43df-875f-fd417953da34",
   "metadata": {},
   "source": [
    "## Übung 4: Berechnung des Durchschnitts\n",
    "**Aufgabe:**  \n",
    "Erstelle drei Variablen `note1`, `note2` und `note3` mit den Werten 8, 9 und 7. Berechne den Durchschnitt der Noten und gib das Ergebnis aus."
   ]
  },
  {
   "cell_type": "code",
   "execution_count": 10,
   "id": "1c60e85e-4fbe-4f6c-8873-da681c5dc5cc",
   "metadata": {},
   "outputs": [
    {
     "name": "stdout",
     "output_type": "stream",
     "text": [
      "8\n"
     ]
    }
   ],
   "source": [
    "# Schreibt bitte eure Lösung hier\n",
    "\n",
    "note1 = 8\n",
    "note2 = 9\n",
    "note3 = 7\n",
    "print((note1 + note2 + note3)//3)"
   ]
  },
  {
   "cell_type": "markdown",
   "id": "e2b7f41d-5f7a-49dc-bb91-7ecffc735919",
   "metadata": {},
   "source": [
    "## Übung 5: Variablen und Zeichenfolgen\n",
    "**Aufgabe:**  \n",
    "Erstelle zwei Variablen `vorname` und `nachname`. Verbinde beide Variablen zu einer vollständigen Namen und gib diesen aus."
   ]
  },
  {
   "cell_type": "code",
   "execution_count": 1,
   "id": "fd8ca96b-ba69-4b17-9af8-09061cce36e7",
   "metadata": {},
   "outputs": [
    {
     "name": "stdout",
     "output_type": "stream",
     "text": [
      "Onur Özdemir\n"
     ]
    }
   ],
   "source": [
    "# Schreibt bitte eure Lösung hier\n",
    "\n",
    "Vorname = \"Onur\"\n",
    "Nachname = \"Özdemir\"\n",
    "\n",
    "print(Vorname, Nachname)"
   ]
  },
  {
   "cell_type": "markdown",
   "id": "82bcb01f-f49b-468b-b1b2-4e5707102d07",
   "metadata": {},
   "source": [
    "## Übung 6: Boolean-Operationen\n",
    "**Aufgabe:**  \n",
    "Erstelle zwei boolesche Variablen `a` und `b`. Weisen Sie `a` den Wert `True` und `b` den Wert `False` zu. Überprüfe mit den logischen Operatoren `and`, `or` und `not`, was für Ergebnisse du erhältst."
   ]
  },
  {
   "cell_type": "code",
   "execution_count": 2,
   "id": "b2afa73e-f2c4-4f7a-a938-f3cd63820024",
   "metadata": {},
   "outputs": [
    {
     "name": "stdout",
     "output_type": "stream",
     "text": [
      "True\n"
     ]
    }
   ],
   "source": [
    "# Schreibt bitte eure Lösung hier\n",
    "\n",
    "a = True\n",
    "b = False\n",
    "\n",
    "print(a and not b) #True and not False "
   ]
  },
  {
   "cell_type": "markdown",
   "id": "5b7a5811-c8c3-4086-93bc-76e1e76c29bc",
   "metadata": {},
   "source": [
    "## Übung 7: Umkehren eines Strings\n",
    "**Aufgabe:**  \n",
    "Erstelle eine Variable `text` mit dem Wert `\"Python\"`. Kehr den String um und gib das Ergebnis aus."
   ]
  },
  {
   "cell_type": "code",
   "execution_count": 3,
   "id": "1da12a7b-c538-4933-8b86-434ca0f44769",
   "metadata": {},
   "outputs": [
    {
     "name": "stdout",
     "output_type": "stream",
     "text": [
      "nohtyP\n"
     ]
    }
   ],
   "source": [
    "# Schreibt bitte eure Lösung hier\n",
    "\n",
    "text = \"Python\"\n",
    "print(text[::-1])"
   ]
  },
  {
   "cell_type": "markdown",
   "id": "41ce8a22-2111-4d53-885c-27d7098a4fe4",
   "metadata": {},
   "source": [
    "## Übung 8: Berechnung der Fläche eines Kreises\n",
    "**Aufgabe:**  \n",
    "Erstelle eine Variable `radius` mit dem Wert 5. Berechne die Fläche eines Kreises (Formel: A = π * r²) und gib das Ergebnis aus."
   ]
  },
  {
   "cell_type": "code",
   "execution_count": 13,
   "id": "ab01c0fa-f5dd-494e-b63f-d82cf62f42a4",
   "metadata": {},
   "outputs": [
    {
     "data": {
      "text/plain": [
       "78.5"
      ]
     },
     "execution_count": 13,
     "metadata": {},
     "output_type": "execute_result"
    }
   ],
   "source": [
    "# Schreibt bitte eure Lösung hier\n",
    "radius = 5\n",
    "def flaeche_kreises(radius):\n",
    "   return 3.14 * radius**2  # Der Fläche eines Kreises\n",
    "\n",
    "flaeche_kreises(5)"
   ]
  },
  {
   "cell_type": "markdown",
   "id": "9b05e15b-e83b-4812-81d5-3e4fc312dc14",
   "metadata": {},
   "source": [
    "## Übung 9: Variablen-Tausch\n",
    "**Aufgabe:**  \n",
    "Erstelle zwei Variablen `x` und `y`. Weise `x` den Wert 10 und `y` den Wert 20 zu. Tausche die Werte der beiden Variablen und gib die neuen Werte aus."
   ]
  },
  {
   "cell_type": "code",
   "execution_count": 14,
   "id": "0ea8b23c-2e8e-43cd-8a4a-cefd5d0b2776",
   "metadata": {},
   "outputs": [
    {
     "name": "stdout",
     "output_type": "stream",
     "text": [
      "x = 10 y = 20\n",
      "new x is 20 new y is 10\n"
     ]
    }
   ],
   "source": [
    "# Schreibt bitte eure Lösung hier\n",
    "x = 10\n",
    "y = 20\n",
    "print(\"x =\", x, \"y =\", y)\n",
    "\n",
    "x, y = y, x\n",
    "print(\"new x is\", x, \"new y is\", y)"
   ]
  },
  {
   "cell_type": "markdown",
   "id": "3d3be8bd-adcf-43bf-908d-4e33f41d49d8",
   "metadata": {},
   "source": [
    "## Übung 10: Berechnung des Alters\n",
    "**Aufgabe:**  \n",
    "Erstelle eine Variable `geburtsjahr` mit deinem Geburtsjahr. Berechne dein Alter, indem du das aktuelle Jahr von deinem Geburtsjahr subtrahierst und gib das Ergebnis aus."
   ]
  },
  {
   "cell_type": "code",
   "execution_count": 21,
   "id": "bb6ebf21-4e27-4723-b395-fb5f34d686aa",
   "metadata": {},
   "outputs": [
    {
     "name": "stdin",
     "output_type": "stream",
     "text": [
      "Write please your Birthday year:  1993\n"
     ]
    },
    {
     "name": "stdout",
     "output_type": "stream",
     "text": [
      "Your age is : 32\n"
     ]
    }
   ],
   "source": [
    "# Schreibt bitte eure Lösung hier\n",
    "import datetime\n",
    "\n",
    "aktuel_year = datetime.datetime.now().year\n",
    "def your_age(birthday_year):\n",
    "    birthday_year = int(input(\"Write please your Birthday year: \"))\n",
    "    print(\"Your age is :\",  aktuel_year - birthday_year)\n",
    "\n",
    "your_age(1993)"
   ]
  },
  {
   "cell_type": "markdown",
   "id": "4901547b-af81-412b-9eea-36cb6b27a87b",
   "metadata": {},
   "source": [
    "## Übung 11: Fehlerhafte Variablendeklaration\n",
    "Im folgenden Python-Code gibt es mehrere Fehler. Finde die Fehler und korrigiere sie.\n",
    "\n",
    "```python\n",
    "# Fehlerhafter Code\n",
    "1variable = 10\n",
    "my-variable = \"Hallo\"\n",
    "True = 5\n",
    "print(my variable)\n",
    "```\n",
    "### Aufgaben:\n",
    "1. Identifiziere die fehlerhaften Stellen im Code.\n",
    "2. Korrigiere den Code, sodass er ausführbar wird."
   ]
  },
  {
   "cell_type": "code",
   "execution_count": 22,
   "id": "d6949d23-cc0b-4a19-9be1-8b9a480ee9e1",
   "metadata": {},
   "outputs": [
    {
     "name": "stdout",
     "output_type": "stream",
     "text": [
      "Hallo\n"
     ]
    }
   ],
   "source": [
    "# Schreibt bitte eure Lösung hier\n",
    "variable = 10\n",
    "my_variable = \"Hallo\"\n",
    "true = 5\n",
    "print(my_variable)"
   ]
  },
  {
   "cell_type": "markdown",
   "id": "1a397a7b-62a1-4958-82c2-3d8d1872e97f",
   "metadata": {},
   "source": [
    "## Übung 2: Überschreiben von Variablen\n",
    "\n",
    "Der folgende Code soll verschiedene Werte einer Variable zuweisen und diese ausgeben. Es gibt jedoch einen Fehler. Korrigiere ihn.\n",
    "\n",
    "```python\n",
    "# Fehlerhafter Code\n",
    "zahl = 10\n",
    "print(\"Zahl:\", Zhal)\n",
    "\n",
    "zahl = \"Hallo\"\n",
    "print(\"Text:\", Zahl)\n",
    "\n",
    "zahl = [1, 2, 3]\n",
    "print(\"Liste:\", zahl)\n",
    "```\n",
    "\n",
    "### Aufgaben:\n",
    "1. Finde den Fehler, der den Code zum Absturz bringt.\n",
    "2. Korrigiere den Code."
   ]
  },
  {
   "cell_type": "code",
   "execution_count": 26,
   "id": "256572cb-e374-4be4-85ca-087b3df8ef74",
   "metadata": {},
   "outputs": [
    {
     "name": "stdout",
     "output_type": "stream",
     "text": [
      "Zahl: 10\n",
      "Text: Hallo\n",
      "Liste: [1, 2, 3]\n"
     ]
    }
   ],
   "source": [
    "# Schreibt bitte eure Lösung hier\n",
    "zahl = 10\n",
    "print(\"Zahl:\", zahl)\n",
    "\n",
    "zahl = \"Hallo\"\n",
    "print(\"Text:\", zahl)\n",
    "\n",
    "zahl = [1, 2, 3]\n",
    "print(\"Liste:\", zahl)"
   ]
  },
  {
   "cell_type": "code",
   "execution_count": null,
   "id": "3afb861f-f14c-43d8-8fb4-0f4970bdd200",
   "metadata": {},
   "outputs": [],
   "source": []
  }
 ],
 "metadata": {
  "kernelspec": {
   "display_name": "Python 3 (ipykernel)",
   "language": "python",
   "name": "python3"
  },
  "language_info": {
   "codemirror_mode": {
    "name": "ipython",
    "version": 3
   },
   "file_extension": ".py",
   "mimetype": "text/x-python",
   "name": "python",
   "nbconvert_exporter": "python",
   "pygments_lexer": "ipython3",
   "version": "3.12.4"
  }
 },
 "nbformat": 4,
 "nbformat_minor": 5
}
