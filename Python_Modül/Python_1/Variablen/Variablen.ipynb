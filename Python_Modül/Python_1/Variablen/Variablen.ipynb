{
 "cells": [
  {
   "cell_type": "code",
   "execution_count": null,
   "id": "acbd91fe-7041-4653-827c-956ff1e27109",
   "metadata": {},
   "outputs": [],
   "source": []
  },
  {
   "cell_type": "markdown",
   "id": "b5733ad0-6c94-4f64-91ae-cbc26e162d9c",
   "metadata": {},
   "source": [
    "# Python print()- Funktion"
   ]
  },
  {
   "cell_type": "markdown",
   "id": "805a5000-1775-41f3-b24b-42d38397dc9f",
   "metadata": {},
   "source": [
    "* **Definition und Verwendung der `print()`-Funktion**:  \n",
    "  Die `print()`-Funktion gibt die angegebene Nachricht auf dem Bildschirm oder einem anderen Standardausgabegerät aus.\n",
    "  \n",
    "* **Objekte als Nachricht**:  \n",
    "  Die Nachricht kann eine Zeichenkette (`str`) oder ein beliebiges anderes Objekt sein.\n",
    "\n",
    "* **Automatische Umwandlung**:  \n",
    "  Vor der Ausgabe wird das Objekt automatisch in eine Zeichenkette umgewandelt (z. B. bei Zahlen oder Listen).\n"
   ]
  },
  {
   "cell_type": "code",
   "execution_count": 30,
   "id": "40b7094d-3ec4-492b-a011-c96e8bd9b6a6",
   "metadata": {},
   "outputs": [
    {
     "name": "stdout",
     "output_type": "stream",
     "text": [
      "Hallo Wel\n"
     ]
    }
   ],
   "source": [
    "print(\"Hallo Wel\")  # Ausgabe: Hallo-Welt"
   ]
  },
  {
   "cell_type": "markdown",
   "id": "4b6d2722-7a73-45ac-912a-0e308f2ac6e0",
   "metadata": {},
   "source": [
    "# Variablen"
   ]
  },
  {
   "cell_type": "markdown",
   "id": "0328e542-9f5f-467e-ab1b-87993d73d02e",
   "metadata": {},
   "source": [
    "* **Das Zuweisungssymbol** (=) ist kein Operator.\n",
    "* **Definition von Variablen** :\n",
    "    - Durch die Zuweisung eines Objekts zu einer Variablen wird der Name dieser Variablen an das Objekt gebunden oder verknüpft (assoziiert).\n",
    "    - Anschließend kann die Variable verwendet werden, um auf den Wert des Objekts zuzugreifen.\n",
    "* **Deklaration und Initialisierung**: Variablen werden in Python deklariert, indem man ihnen einen Wert zuweist, z. B.: `x = 10.`\n",
    "* **Datentypen**: Python ist dynamisch typisiert, daher müssen Datentypen nicht explizit angegeben werden. Beispiele:\n",
    "    * `int`  (Ganzzahlen): `x = 10` \n",
    "    * `float` (Gleitkommazahlen): `y = 3.14`\n",
    "    * `str` (Strings): `name = \"Alice\"`\n",
    "    * `bool`  (Booleans): `is_active = True`"
   ]
  },
  {
   "cell_type": "code",
   "execution_count": 2,
   "id": "f4ba1be1-29d7-4485-9c20-f342f5930fa0",
   "metadata": {},
   "outputs": [
    {
     "name": "stdout",
     "output_type": "stream",
     "text": [
      "10\n"
     ]
    }
   ],
   "source": [
    "print(10)"
   ]
  },
  {
   "cell_type": "code",
   "execution_count": 1,
   "id": "cc8fd732-c387-40ac-8868-d914f27bd5d2",
   "metadata": {},
   "outputs": [
    {
     "name": "stdout",
     "output_type": "stream",
     "text": [
      "10\n"
     ]
    }
   ],
   "source": [
    "zahl = 10\n",
    "print(zahl)"
   ]
  },
  {
   "cell_type": "markdown",
   "id": "cafd45ec-9c68-4c78-b285-89d59124fbde",
   "metadata": {},
   "source": [
    "## Type-Casting in Python\n",
    "\n",
    "In Python können Sie den Datentyp einer Variablen festlegen, indem Sie Type-Casting verwenden. Hier ist ein Beispiel:"
   ]
  },
  {
   "cell_type": "code",
   "execution_count": 24,
   "id": "4fe971e8-0011-4b41-a6d1-d943154b7449",
   "metadata": {},
   "outputs": [
    {
     "name": "stdout",
     "output_type": "stream",
     "text": [
      "6\n",
      "6.0\n",
      "6\n"
     ]
    }
   ],
   "source": [
    "x = int(6)\n",
    "print(x)\n",
    "y = float(6)\n",
    "print(y)\n",
    "c = str(6)\n",
    "print(c)"
   ]
  },
  {
   "cell_type": "markdown",
   "id": "04a36319-fe09-4bd7-babf-4494c4913c98",
   "metadata": {},
   "source": [
    "## Ermittlung des Datentyps einer Variablen durch type()\n"
   ]
  },
  {
   "cell_type": "code",
   "execution_count": 36,
   "id": "df147ff4-fe57-4e1f-9161-58f7b7f0d7e7",
   "metadata": {},
   "outputs": [
    {
     "name": "stdout",
     "output_type": "stream",
     "text": [
      "<class 'int'>\n",
      "<class 'str'>\n"
     ]
    }
   ],
   "source": [
    "x = 2\n",
    "y = \"Hallo Welt\"\n",
    "print(type(x))\n",
    "print(type(y))\n"
   ]
  },
  {
   "cell_type": "markdown",
   "id": "3e8c8690-a75e-497c-b437-753ad7aff443",
   "metadata": {},
   "source": [
    "## Datentypen"
   ]
  },
  {
   "cell_type": "markdown",
   "id": "4eba7271-e8d9-4735-822d-99e91c7ab446",
   "metadata": {},
   "source": [
    "|**Datentyp**   |**Beschreibung**                                            |**Beispiel**              |\n",
    "|---------------|------------------------------------------------------------|---------------------------|\n",
    "| `int`         | Ganzzahlen (positive oder negative Zahlen, ohne Dezimal)   | `x = 42`                 |\n",
    "| `float`       | Gleitkommazahlen (Dezimalzahlen)                           | `y = 3.14`               |\n",
    "| `complex`     | Komplexe Zahlen                                            | `z = 2 + 3j`             |\n",
    "| `str`         | Zeichenketten (Strings, Text)                              | `name = \"Alice\"`         |\n",
    "| `bool`        | Wahrheitswerte (`True` oder `False`)                       | `is_active = True`       |\n",
    "| `list`        | Geordnete, veränderbare Sammlung von Elementen             | `fruits = [\"apple\", \"banana\"]` |\n",
    "| `tuple`       | Geordnete, unveränderbare Sammlung von Elementen           | `coordinates = (10, 20)` |\n",
    "| `set`         | Ungeordnete Sammlung von eindeutigen Elementen             | `unique_numbers = {1, 2, 3}` |\n",
    "| `dict`        | Sammlung von Schlüssel-Wert-Paaren                         | `person = {\"name\": \"Bob\", \"age\": 25}` |\n",
    "| `frozenset`   | Unveränderbare Sammlung von eindeutigen Elementen          | `frozen = frozenset([1, 2, 3])` |\n",
    "| `range`       | Sequenz von Zahlen                                         | `numbers = range(5)`     |\n",
    "| `bytes`       | Unveränderbare Folge von Bytes                             | `data = b\"hello\"`        |\n",
    "| `bytearray`   | Änderbare Folge von Bytes                                  | `data = bytearray(5)`    |\n",
    "| `memoryview`  | Speicheransicht eines Bytes-Objekts                        | `view = memoryview(b\"abc\")` |\n",
    "| `NoneType`    | Repräsentiert das Fehlen eines Wertes (`None`)             | `result = None`          |\n"
   ]
  },
  {
   "cell_type": "markdown",
   "id": "df32150e-35e3-4927-90e9-ddd55aa1fc50",
   "metadata": {},
   "source": [
    "## Arbeiten mit Variablen in Python\n",
    "\n",
    "- **Variable umbenennen oder neu zuweisen**: Der Wert einer Variablen kann jederzeit geändert werden. Beispiel:`x = 20`\n",
    "  \n",
    "- **In Python gelten einige wichtige Regeln für Variablennamen:**\n",
    "\n",
    "* **Erlaubte Zeichen**: Ein Variablenname darf nur aus Buchstaben (A-Z, a-z), Zahlen (0-9) und Unterstrichen (`_`) bestehen.\n",
    "* **Beginn des Namens**: Der Name muss mit einem Buchstaben oder einem Unterstrich beginnen, nicht mit einer Zahl.\n",
    "* **Groß- und Kleinschreibung**: Python unterscheidet zwischen Groß- und Kleinschreibung. Das bedeutet, dass `variable` und `Variable` zwei verschiedene Variablen sind.\n",
    "* **Keine reservierten Schlüsselwörter**: Variablennamen dürfen keine Python-Schlüsselwörter wie `if`, `for`, `while`, `class`, `def` etc. sein.\n",
    "* **Länge**: Es gibt keine festgelegte maximale Länge für Variablennamen. Aus Gründen der Lesbarkeit sollten sie jedoch möglichst kurz und prägnant gewählt werden.\n",
    "* **Vermeidung von Sonderzeichen**: Zeichen wie `!`, `@`, `#`, `%`, `&`, `*`, `+`, `=`, `-` und andere sind nicht erlaubt.\n",
    "* **Pfade und Leerzeichen**: Leerzeichen sind nicht erlaubt. Wenn du mehrere Wörter in einem Variablennamen verwenden möchtest, kannst du den Unterstrich (`_`) verwenden (z. B. `my_variable`).\n",
    "\n",
    "## Variablennamen:\n",
    "| **Namenskonvention** | **Beispiel**                 |\n",
    "|----------------------|------------------------------|\n",
    "| **PascalCase**        | `MyClass`, `EmployeeDetails`  |\n",
    "| **CamelCase**         | `myFunction`, `myVariable`    |  \n",
    "| **Snake_case**        | `my_variable`, `employee_list` |\n",
    "\n",
    "\n",
    "\n",
    "**Beispiel für gültige Variablennamen**: \n",
    "```python\n",
    "my_variable = 5\n",
    "myVar = 10\n",
    "my_variable_2 = 20\n",
    "```\n",
    "**Beispiel für ungültige Variablennamen**:\n",
    "```python\n",
    "2my_var = 10  # beginnt mit einer Zahl\n",
    "my-var = 20   # enthält einen Bindestrich\n",
    "for = 15      # \"for\" ist ein Schlüsselwort\n",
    "```\n",
    "**Mehrfache Zuordnung**: \n",
    "* Mehrere Variablen können in einer Zeile zugewiesen werden:\n",
    "    * Gleich: `a = b = c = 5`\n",
    "    * Unterschiedlich: `x, y = 10, 20`\n"
   ]
  },
  {
   "cell_type": "code",
   "execution_count": 1,
   "id": "44245153-56fa-488f-92c4-f5e24188bc56",
   "metadata": {},
   "outputs": [],
   "source": [
    "my_var = 10"
   ]
  },
  {
   "cell_type": "code",
   "execution_count": null,
   "id": "87ab2220-d2bc-4cd4-978e-81c021488a90",
   "metadata": {},
   "outputs": [],
   "source": []
  },
  {
   "cell_type": "code",
   "execution_count": 38,
   "id": "eb4c8c42-6646-4b83-b86d-ae806e61bb1d",
   "metadata": {},
   "outputs": [
    {
     "name": "stdout",
     "output_type": "stream",
     "text": [
      "10\n",
      "20\n"
     ]
    }
   ],
   "source": [
    "x, y = 10, 20\n",
    "print(x)\n",
    "print(y)"
   ]
  },
  {
   "cell_type": "code",
   "execution_count": 37,
   "id": "4c6503c5-8309-4c2d-875c-54ed9139d17b",
   "metadata": {},
   "outputs": [],
   "source": []
  },
  {
   "cell_type": "markdown",
   "id": "82262076-9679-4f4d-a96a-8cb2e98a5dde",
   "metadata": {},
   "source": [
    "In der print()-Funktion kannst du mehrere Variablen angeben, die durch Kommas voneinander getrennt sind."
   ]
  },
  {
   "cell_type": "code",
   "execution_count": 39,
   "id": "ed6aa793-d98d-485c-be8e-2ddc738f24eb",
   "metadata": {},
   "outputs": [
    {
     "name": "stdout",
     "output_type": "stream",
     "text": [
      "Hallo Welt\n"
     ]
    }
   ],
   "source": [
    "x = \"Hallo\"\n",
    "y = \"Welt\"\n",
    " \n",
    "print(x, y)"
   ]
  },
  {
   "cell_type": "code",
   "execution_count": 41,
   "id": "6ab6af37-3c4f-4266-8e5e-abef074a8da6",
   "metadata": {},
   "outputs": [
    {
     "name": "stdout",
     "output_type": "stream",
     "text": [
      "Hallo Welt \n"
     ]
    }
   ],
   "source": [
    "x = \"Hallo \"\n",
    "y = \"Welt \"\n",
    " \n",
    "print(x + y)"
   ]
  },
  {
   "cell_type": "code",
   "execution_count": 40,
   "id": "1989b1cf-4e85-4eb2-86f6-3f6e68d0f421",
   "metadata": {},
   "outputs": [
    {
     "name": "stdout",
     "output_type": "stream",
     "text": [
      "2 3\n"
     ]
    }
   ],
   "source": [
    "x = 2\n",
    "y = 3\n",
    " \n",
    "print(x, y)"
   ]
  },
  {
   "cell_type": "code",
   "execution_count": 42,
   "id": "00e8c927-290a-4774-adaa-cb84bef991c4",
   "metadata": {},
   "outputs": [
    {
     "name": "stdout",
     "output_type": "stream",
     "text": [
      "5\n"
     ]
    }
   ],
   "source": [
    "x = 2\n",
    "y = 3\n",
    " \n",
    "print(x + y)"
   ]
  },
  {
   "cell_type": "markdown",
   "id": "1f2fb5d1-2866-45b3-971e-8f72ed6a2e69",
   "metadata": {},
   "source": [
    " **Globale Variablen** werden in einem späteren Abschnitt erläutert."
   ]
  },
  {
   "cell_type": "markdown",
   "id": "a5c885e0-3273-42fd-89ac-1a8a4f1739c9",
   "metadata": {},
   "source": [
    "# Python- Operatoren"
   ]
  },
  {
   "cell_type": "markdown",
   "id": "79ce4a2e-b03e-4179-ad56-ddecb90a59ea",
   "metadata": {},
   "source": [
    "## Boolesche Werte "
   ]
  },
  {
   "cell_type": "markdown",
   "id": "478b936a-ab3d-4e6e-a9e9-f3963c6896cf",
   "metadata": {},
   "source": [
    "| **Operation**     | **Beispiel**           | **Ergebnis**          | **Erklärung**                                    |\n",
    "|-------------------|------------------------|-----------------------|--------------------------------------------------|\n",
    "| **AND**           | `True and True`        | `True`                | `True and True` ergibt `True`                    |\n",
    "| **AND**           | `True and False`       | `False`               | `True and False` ergibt `False`                  |\n",
    "| **AND**           | `False and True`       | `False`               | `False and True` ergibt `False`                  |\n",
    "| **AND**           | `False and False`      | `False`               | `False and False` ergibt `False`                 |\n",
    "| **OR**            | `True or True`         | `True`                | `True or True` ergibt `True`                     |\n",
    "| **OR**            | `True or False`        | `True`                | `True or False` ergibt `True`                    |\n",
    "| **OR**            | `False or True`        | `True`                | `False or True` ergibt `True`                    |\n",
    "| **OR**            | `False or False`       | `False`               | `False or False` ergibt `False`                  |\n",
    "| **NOT**           | `not True`             | `False`               | `not True` ergibt `False`                        |\n",
    "| **NOT**           | `not False`            | `True`                | `not False` ergibt `True`                        |\n",
    "\n"
   ]
  },
  {
   "cell_type": "code",
   "execution_count": 44,
   "id": "a54e7803-4b15-495b-884a-b88cd78ee8fb",
   "metadata": {},
   "outputs": [
    {
     "name": "stdout",
     "output_type": "stream",
     "text": [
      "True\n",
      "False\n"
     ]
    }
   ],
   "source": [
    "print(3 > 2)\n",
    "print(2 == 3)"
   ]
  },
  {
   "cell_type": "markdown",
   "id": "afb3c15c-f615-4b4d-8f9a-970e57dae2b1",
   "metadata": {},
   "source": [
    "| **Operator**       | **Beispiel**                | **Beschreibung**                                              |\n",
    "|--------------------|-----------------------------|---------------------------------------------------------------|\n",
    "| **Arithmetische Operatoren** |                             |                                                               |\n",
    "| `+`                | `a + b`                     | Addition                                                      |\n",
    "| `-`                | `a - b`                     | Subtraktion                                                   |\n",
    "| `*`                | `a * b`                     | Multiplikation                                                |\n",
    "| `/`                | `a / b`                     | Division (gibt immer einen `float` zurück)                    |\n",
    "| `//`               | `a // b`                    | Ganzzahlige Division (gibt den ganzzahligen Quotienten zurück) |\n",
    "| `%`                | `a % b`                     | Modulo (Rest der Division)                                    |\n",
    "| `**`               | `a ** b`                    | Potenzierung                                                  |\n",
    "| **Vergleichsoperatoren** |                         |                                                               |\n",
    "| `==`               | `a == b`                    | Gleichheit                                                     |\n",
    "| `!=`               | `a != b`                    | Ungleichheit                                                   |\n",
    "| `>`                | `a > b`                     | Größer als                                                     |\n",
    "| `<`                | `a < b`                     | Kleiner als                                                    |\n",
    "| `>=`               | `a >= b`                    | Größer oder gleich                                             |\n",
    "| `<=`               | `a <= b`                    | Kleiner oder gleich                                            |\n",
    "| **Logische Operatoren** |                          |                                                               |\n",
    "| `and`              | `a and b`                   | Logisches UND                                                  |\n",
    "| `or`               | `a or b`                    | Logisches ODER                                                 |\n",
    "| `not`              | `not a`                     | Logisches NICHT                                                |\n",
    "| **Zuweisungsoperatoren** |                        |                                                               |\n",
    "| `=`                | `a = 5`                     | Zuweisung                                                     |\n",
    "| `+=`               | `a += 5`                    | Addition und Zuweisung                                        |\n",
    "| `-=`               | `a -= 5`                    | Subtraktion und Zuweisung                                     |\n",
    "| `*=`               | `a *= 5`                    | Multiplikation und Zuweisung                                   |\n",
    "| `/=`               | `a /= 5`                    | Division und Zuweisung                                         |\n",
    "| `//=`              | `a //= 5`                   | Ganzzahlige Division und Zuweisung                            |\n",
    "| `%=`               | `a %= 5`                    | Modulo und Zuweisung                                           |\n",
    "| `**=`              | `a **= 5`                   | Potenzierung und Zuweisung                                     |\n",
    "| **Identitätsoperatoren** |                        |                                                               |\n",
    "| `is`               | `a is b`                    | Überprüft, ob zwei Variablen auf dasselbe Objekt im Speicher verweisen |\n",
    "| `is not`           | `a is not b`                | Überprüft, ob zwei Variablen nicht dasselbe Objekt im Speicher sind |\n",
    "| **Mitgliedschaftsoperatoren** |                    |                                                               |\n",
    "| `in`               | `a in list`                 | Überprüft, ob ein Wert in einer Liste (oder einem anderen iterierbaren Objekt) enthalten ist |\n",
    "| `not in`           | `a not in list`             | Überprüft, ob ein Wert nicht in einer Liste (oder einem anderen iterierbaren Objekt) enthalten ist |\n",
    "| **Bitweise Operatoren** |                         |                                                               |\n",
    "| `&`                | `a & b`                     | Bitweises UND                                                  |\n",
    "| `|`                | `a | b`                     | Bitweises ODER                                                 |\n",
    "| `^`                | `a ^ b`                     | Bitweises XOR (exklusives ODER)                               |\n",
    "| `~`                | `~a`                        | Bitweises NOT (Invertierung)                                  |\n",
    "| `<<`               | `a << b`                    | Bitweises Verschieben nach links                               |\n",
    "| `>>`               | `a >> b`                    | Bitweises Verschieben nach rechts                              |\n"
   ]
  },
  {
   "cell_type": "markdown",
   "id": "5dd1b693-0058-4484-90b7-e50554648740",
   "metadata": {},
   "source": [
    "## Beispiele"
   ]
  },
  {
   "cell_type": "code",
   "execution_count": 4,
   "id": "ae0cd909-84ae-42db-a735-a8550be23712",
   "metadata": {},
   "outputs": [
    {
     "name": "stdout",
     "output_type": "stream",
     "text": [
      "7.5\n"
     ]
    }
   ],
   "source": [
    "print(15 / 2)"
   ]
  },
  {
   "cell_type": "code",
   "execution_count": 3,
   "id": "4dc63087-dad5-492c-adac-62d556a87c78",
   "metadata": {},
   "outputs": [
    {
     "name": "stdout",
     "output_type": "stream",
     "text": [
      "7\n"
     ]
    }
   ],
   "source": [
    "print(15 // 2)"
   ]
  },
  {
   "cell_type": "code",
   "execution_count": 5,
   "id": "4d54bbfb-f1b5-4f4d-9665-0444e514b42f",
   "metadata": {},
   "outputs": [
    {
     "name": "stdout",
     "output_type": "stream",
     "text": [
      "1\n"
     ]
    }
   ],
   "source": [
    "print(15 % 2)"
   ]
  },
  {
   "cell_type": "code",
   "execution_count": 8,
   "id": "739bb3fd-d56a-4392-b720-289debfabce9",
   "metadata": {},
   "outputs": [
    {
     "name": "stdout",
     "output_type": "stream",
     "text": [
      "8\n"
     ]
    }
   ],
   "source": [
    "print(2 ** 3)"
   ]
  },
  {
   "cell_type": "markdown",
   "id": "36ed59db-a059-4979-8beb-54f5a16c2e10",
   "metadata": {},
   "source": [
    "# Python Math\n"
   ]
  },
  {
   "cell_type": "markdown",
   "id": "3f4459ba-2413-4d61-8c14-9be0fecd9508",
   "metadata": {},
   "source": [
    "- Ein Modul ist eine Datei, die aus Python-Code besteht.  \n",
    "- Es kann Funktionen, Klassen und Variablen definieren sowie ausführbaren Code enthalten.  "
   ]
  },
  {
   "cell_type": "markdown",
   "id": "656ec6c9-f42d-43d1-82f0-d36d7cd670d4",
   "metadata": {},
   "source": [
    "- Python verfügt über das integrierte `math`-Modul für mathematische Berechnungen.  \n",
    "- Enthält eine Vielzahl von Methoden für mathematische Aufgaben.  \n",
    "- Bietet Konstanten wie `pi` (π) und `e` (Eulersche Zahl).  \n",
    "- Unterstützt Operationen wie Quadratwurzeln, Potenzen, Logarithmen und Trigonometrie.  \n"
   ]
  },
  {
   "cell_type": "code",
   "execution_count": 9,
   "id": "0d3e7d3c-fb87-4c49-a880-4f7666a40053",
   "metadata": {},
   "outputs": [
    {
     "name": "stdout",
     "output_type": "stream",
     "text": [
      "5\n",
      "4\n"
     ]
    }
   ],
   "source": [
    "import math\n",
    "\n",
    "zahl = 4.7\n",
    "print(math.ceil(zahl))  # Rundet auf: 5\n",
    "print(math.floor(zahl)) # Rundet ab: 4\n"
   ]
  },
  {
   "cell_type": "code",
   "execution_count": 10,
   "id": "6001e77d-87d2-42b3-8911-3d146134702b",
   "metadata": {},
   "outputs": [
    {
     "name": "stdout",
     "output_type": "stream",
     "text": [
      "3.141592653589793\n"
     ]
    }
   ],
   "source": [
    "print(math.pi)"
   ]
  },
  {
   "cell_type": "markdown",
   "id": "59ac9313-80c2-4fe0-8c40-37ec0a0b6c64",
   "metadata": {},
   "source": [
    "# Python- Kommentare"
   ]
  },
  {
   "cell_type": "markdown",
   "id": "c937618d-de04-437f-a942-96821fc20887",
   "metadata": {},
   "source": [
    "- **Kommentare** sind Texte im Code, die vom Python-Interpreter ignoriert werden.\n",
    "- Sie dienen dazu, den Code für Menschen verständlicher zu machen.\n",
    "- Einzeilige Kommentare beginnen mit `#`.\n",
    "- Mehrzeilige Kommentare werden durch `'''` oder `\"\"\"` gekennzeichnet.\n",
    "- Kommentare können genutzt werden, um:\n",
    "  - Den Zweck des Codes zu erklären.\n",
    "  - Hinweise für andere Entwickler zu geben.\n",
    "  - Temporäre Code-Deaktivierungen vorzunehmen.\n"
   ]
  },
  {
   "cell_type": "code",
   "execution_count": 15,
   "id": "ec1b303a-6efe-4412-af64-bec8c138fafe",
   "metadata": {},
   "outputs": [
    {
     "name": "stdout",
     "output_type": "stream",
     "text": [
      "Hallo Welt\n"
     ]
    }
   ],
   "source": [
    "# Dies ist ein Kommentar\n",
    "print(\"Hallo Welt\")"
   ]
  },
  {
   "cell_type": "code",
   "execution_count": 14,
   "id": "bc4af132-e036-46da-9440-e81d1758ba72",
   "metadata": {},
   "outputs": [
    {
     "name": "stdout",
     "output_type": "stream",
     "text": [
      "Dies ist ein Beispiel.\n"
     ]
    }
   ],
   "source": [
    "'''\n",
    "Dies ist ein mehrzeiliger Kommentar.\n",
    "Er wird durch drei einfache Anführungszeichen gekennzeichnet.\n",
    "'''\n",
    "print(\"Dies ist ein Beispiel.\")"
   ]
  },
  {
   "cell_type": "code",
   "execution_count": null,
   "id": "f39d0e0b-f586-4c42-9ea7-c71c6f2c8e5d",
   "metadata": {},
   "outputs": [],
   "source": []
  },
  {
   "attachments": {},
   "cell_type": "markdown",
   "id": "90de16dd-e60b-4428-8565-4fdeb9f51581",
   "metadata": {},
   "source": [
    "## Quellen\n",
    "\n",
    "1. https://www.w3schools.com/python/\n",
    "2. https://www.python.org/\n",
    "3. https://www.py4e.com/book\n"
   ]
  },
  {
   "cell_type": "code",
   "execution_count": null,
   "id": "65f324f0-5323-4457-8965-98e0dc4f15ad",
   "metadata": {},
   "outputs": [],
   "source": []
  }
 ],
 "metadata": {
  "kernelspec": {
   "display_name": "Python 3 (ipykernel)",
   "language": "python",
   "name": "python3"
  },
  "language_info": {
   "codemirror_mode": {
    "name": "ipython",
    "version": 3
   },
   "file_extension": ".py",
   "mimetype": "text/x-python",
   "name": "python",
   "nbconvert_exporter": "python",
   "pygments_lexer": "ipython3",
   "version": "3.12.4"
  }
 },
 "nbformat": 4,
 "nbformat_minor": 5
}
