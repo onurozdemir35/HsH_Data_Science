{
 "cells": [
  {
   "cell_type": "markdown",
   "id": "2579cbfb-e587-449e-b876-40f3ca922e82",
   "metadata": {},
   "source": [
    "# Task 1: Define a Function ``singleline_diff``\n",
    "\n",
    "### Inputs:\n",
    "- **line1**: first single line string\n",
    "- **line2**: second single line string\n",
    "\n",
    "### Output:\n",
    "- Returns the index where the first difference between `line1` and `line2` occurs.\n",
    "- Returns **IDENTICAL** if the two lines are the same.\n",
    "\n",
    "### Example:\n",
    "\n",
    "### Input:\n",
    "```python\n",
    "line1 = \"Python is fun\"\n",
    "line2 = \"Python is awesome\"\n",
    "\n",
    "```\n",
    "### Output:\n",
    "\n",
    "```python\n",
    "10\n",
    "```\n",
    "\n"
   ]
  },
  {
   "cell_type": "code",
   "execution_count": 89,
   "id": "ea95a28f-88c6-44fa-b413-37b340206a3b",
   "metadata": {},
   "outputs": [],
   "source": [
    "# Schreibt bitte eure Lösung\n",
    "def singleline_diff(line1, line2):\n",
    "    min_lenght = min(len(line1), len(line2))\n",
    "    \n",
    "    for i in range(min_lenght):\n",
    "        if line1[i] != line2[i]:\n",
    "            return i\n",
    "    if len(line1) != len(line2):\n",
    "        return min_lenght\n",
    "\n",
    "    return -1"
   ]
  },
  {
   "cell_type": "code",
   "execution_count": 90,
   "id": "4734b953-c74f-4dd0-856a-458e1969e700",
   "metadata": {},
   "outputs": [
    {
     "data": {
      "text/plain": [
       "10"
      ]
     },
     "execution_count": 90,
     "metadata": {},
     "output_type": "execute_result"
    }
   ],
   "source": [
    "line1 = \"Python is fun\"\n",
    "line2 = \"Python is awesome!\"\n",
    "singleline_diff(line1, line2)"
   ]
  },
  {
   "cell_type": "markdown",
   "id": "ff69ed49-ae10-4642-b853-7875e61a70a9",
   "metadata": {},
   "source": [
    "# Task 2: Define a Function ``singleline_diff_format``\n",
    "\n",
    "### Inputs:\n",
    "- **line1**: first single line string\n",
    "- **line2**: second single line string\n",
    "- **idx**: index of first difference between the lines\n",
    "\n",
    "### Output:\n",
    "- Returns a three line formatted string showing the location of the first difference between line1 and line2.\n",
    "- If either input line contains a newline or carriage return, then returns an empty string.\n",
    "- If idx is not a valid index, then returns an empty string.\n",
    "\n",
    "### Example:\n",
    "\n",
    "### Input:\n",
    "```python\n",
    "line1 = \"Ich lerne Python\"\n",
    "line2 = \"Ich übe Python\"\n",
    "idx = 4\n",
    "```\n",
    "### Output:\n",
    "\n",
    "```python\n",
    "Ich lerne Python\n",
    "====^\n",
    "Ich übe Python\n",
    "```\n",
    "\n"
   ]
  },
  {
   "cell_type": "code",
   "execution_count": 91,
   "id": "701f90dd-9450-4d97-ade5-91ec15f09c3c",
   "metadata": {},
   "outputs": [],
   "source": [
    "# Schreibt bitte eure Lösung hier\n",
    "def singleline_diff_format(line1, line2, idx):\n",
    "   \n",
    "    \n",
    "    if idx < 0 or idx > max(len(line1), len(line2)):\n",
    "        return \"\"\n",
    "\n",
    "    indicator = \"=\" * idx + \"^\"\n",
    "    \n",
    "\n",
    "    print(line1 + \"\\n\" + indicator + \"\\n\" + line2)"
   ]
  },
  {
   "cell_type": "code",
   "execution_count": 92,
   "id": "35c9e279-f44d-465f-ad01-a2fe13ebb1a2",
   "metadata": {},
   "outputs": [
    {
     "name": "stdout",
     "output_type": "stream",
     "text": [
      "Ich lerne Python\n",
      "====^\n",
      "Ich übe Python\n"
     ]
    }
   ],
   "source": [
    "line1 = \"Ich lerne Python\"\n",
    "line2 = \"Ich übe Python\"\n",
    "idx = singleline_diff(line1, line2)\n",
    "\n",
    "singleline_diff_format(line1, line2, idx)\n"
   ]
  },
  {
   "cell_type": "code",
   "execution_count": null,
   "id": "f3458251-4314-4b9d-a882-78facdf8702c",
   "metadata": {},
   "outputs": [],
   "source": []
  },
  {
   "cell_type": "markdown",
   "id": "ced47907-e823-4df4-b64a-97d30ba3c7e8",
   "metadata": {},
   "source": [
    "# Task 3: Define a Function ``multiline_diff``\n",
    "\n",
    "### Inputs:\n",
    "- **lines1**: list of single line strings\n",
    "- **lines2**: list of single line strings\n",
    "\n",
    "### Output:\n",
    "- Returns a tuple containing the line number (starting from 0) and\n",
    "      the index in that line where the first difference between lines1\n",
    "      and lines2 occurs.\n",
    "- Returns (IDENTICAL, IDENTICAL) if the two lists are the same.\n",
    "\n",
    "### Example:\n",
    "\n",
    "### Input:\n",
    "```python\n",
    "line1 = ['Ich lerne', 'Python']\n",
    "line2 = ['Ich lerne', 'Java']\n",
    "```\n",
    "### Output:\n",
    "\n",
    "```python\n",
    "(1, 0)\n",
    "```\n"
   ]
  },
  {
   "cell_type": "code",
   "execution_count": 93,
   "id": "8c411afd-37f3-4b2d-8207-39b5a9c58dcc",
   "metadata": {},
   "outputs": [],
   "source": [
    "def multiline_diff(line1, line2):\n",
    "    min_length = min(len(line1), len(line2))  \n",
    "    \n",
    "    for i in range(min_length):\n",
    "        idx = singleline_diff(line1[i], line2[i])\n",
    "        if idx != -1:\n",
    "            \n",
    "            return (i, idx)\n",
    "    \n",
    "    if len(line1) != len(line2):  \n",
    "        return (min_length, 0)  \n",
    "    \n",
    "    return (\"IDENTICAL\", \"IDENTICAL\") "
   ]
  },
  {
   "cell_type": "code",
   "execution_count": 94,
   "id": "31e6ee05-3555-45ab-8b6c-659addc91a5f",
   "metadata": {},
   "outputs": [
    {
     "data": {
      "text/plain": [
       "(1, 0)"
      ]
     },
     "execution_count": 94,
     "metadata": {},
     "output_type": "execute_result"
    }
   ],
   "source": [
    "line1 = ['Ich lerne', 'Python']\n",
    "line2 = ['Ich lerne', 'Java']\n",
    "multiline_diff(line1, lines2)"
   ]
  },
  {
   "cell_type": "markdown",
   "id": "b0193bd6-fefd-41bd-a701-e00099433ecb",
   "metadata": {},
   "source": [
    "# Task 4: Define a Function ``get_file_lines``\n",
    "\n",
    "### Inputs:\n",
    "-  filename - name of file to read\n",
    "\n",
    "### Output:\n",
    "- Returns a list of lines from the file named `filename`. Each line will be a single line string with no newline ('\\n') or return ('\\r') characters.\n",
    "\n",
    "- If the file does not exist or is not readable, then the behavior of this function is undefined.\n",
    "\n",
    "### Example:\n",
    "\n",
    "### Input:\n",
    "```python\n",
    "file.txt\n",
    "```\n",
    "**Content**:\n",
    "```\n",
    "Ich besuche die IT-Weiterbildung\n",
    "Ich lerne Python \n",
    "Wir machen Aufgaben\n",
    "```\n",
    "### Output:\n",
    "\n",
    "```python\n",
    "['Ich besuche die IT-Weiterbildung', 'Ich lerne Python', 'Wir machen Aufgaben']\n",
    "\n",
    "```\n"
   ]
  },
  {
   "cell_type": "code",
   "execution_count": 96,
   "id": "f0b6c147-e825-4183-a375-14a696b27cda",
   "metadata": {},
   "outputs": [],
   "source": [
    "# Schreibt bitte eure Lösung hier\n",
    "with open(\"file.txt\", \"x\") as file:\n",
    "    file.write('Ich besuche die IT-Weiterbildung')\n",
    "    file.write('Ich lerne Python')\n",
    "    file.write('Wir machen Aufgaben')"
   ]
  },
  {
   "cell_type": "code",
   "execution_count": 107,
   "id": "012bedda-71ee-4a8e-9777-eb5fbefd1a53",
   "metadata": {},
   "outputs": [
    {
     "name": "stdout",
     "output_type": "stream",
     "text": [
      "['Ich besuche die IT-Weiterbildung.', 'Ich lerne Python.', 'Wir machen Aufgaben.']\n"
     ]
    }
   ],
   "source": [
    "def get_file_lines(filename):\n",
    "    try:\n",
    "        with open(filename,\"r\", encoding=\"utf-8\") as file:\n",
    "            return[line.strip() for line in file.readlines()]\n",
    "    except FileNotFoundError:\n",
    "        print(\"File Not Found!\")\n",
    "    \n",
    "print(get_file_lines(\"file.txt\"))"
   ]
  },
  {
   "cell_type": "code",
   "execution_count": null,
   "id": "d902e1ec-ddf1-48ce-9d94-36760dc1eb55",
   "metadata": {},
   "outputs": [],
   "source": []
  },
  {
   "cell_type": "markdown",
   "id": "70d9df99-231c-4085-9abb-c3327a10e6e2",
   "metadata": {},
   "source": [
    "# Task 5: Define a Function ``file_diff_format``\n",
    "\n",
    "### Inputs:\n",
    "- filename1 - name of first file\n",
    "- filename2 - name of second file\n",
    "\n",
    "### Output:\n",
    "- Returns a four line string showing the location of the first difference between the two files named by the inputs.\n",
    "- If the files are identical, the function instead returns the string \"No differences\".  \n",
    "- If either file does not exist or is not readable, then the behavior of this function is undefined.\n",
    "\n",
    "\n",
    "### Example:\n",
    "\n",
    "### Input:\n",
    "```python\n",
    "file.txt\n",
    "```\n",
    "**Content**:\n",
    "```\n",
    "Ich besuche die IT-Weiterbildung\n",
    "Ich lerne Python \n",
    "Wir machen Aufgaben\n",
    "```\n",
    "file1.txt\n",
    "```\n",
    "Ich besuche die IT-Weiterbildung\n",
    "Ich lerne Python\n",
    "Wir machen viele Aufgaben\n",
    "```\n",
    "### Output:\n",
    "\n",
    "```python\n",
    "Line 2:\n",
    "Wir machen viele Aufgaben\n",
    "===========^\n",
    "Wir machen Aufgaben\n",
    "\n",
    "```\n"
   ]
  },
  {
   "cell_type": "code",
   "execution_count": null,
   "id": "ba3e1d58-1f10-4674-9ed5-b0f1751185b1",
   "metadata": {},
   "outputs": [],
   "source": []
  },
  {
   "cell_type": "code",
   "execution_count": 111,
   "id": "a70e7b27-e5be-41b1-8d25-76c2a1bfd194",
   "metadata": {},
   "outputs": [],
   "source": [
    "# Schreibt bitte eure Lösung hier\n",
    "def file_diff_format(filename1, filename2):\n",
    "    \"\"\"\n",
    "    Compares two files and returns a formatted string indicating the first difference.\n",
    "    If files are identical, returns \"No differences\".\n",
    "    \"\"\"\n",
    "    lines1 = get_file_lines(filename1).split(\", \")\n",
    "    lines2 = get_file_lines(filename2).split(\", \")\n",
    "    \n",
    "    diff = multiline_diff(lines1, lines2)\n",
    "    \n",
    "    if diff == (\"IDENTICAL\", \"IDENTICAL\"):\n",
    "        return \"No differences\"\n",
    "    \n",
    "    line_num, idx = diff\n",
    "    \n",
    "    line1 = lines1[line_num] if line_num < len(lines1) else \"(no content)\"\n",
    "    line2 = lines2[line_num] if line_num < len(lines2) else \"(no content)\"\n",
    "    \n",
    "    indicator = \"=\" * idx + \"^\"\n",
    "    \n",
    "    return f\"Line {line_num + 1}:\\n{line1}\\n{indicator}\\n{line2}\""
   ]
  },
  {
   "cell_type": "code",
   "execution_count": null,
   "id": "254a2e26-5e5b-47ae-8e1f-6addc79f4a3c",
   "metadata": {},
   "outputs": [],
   "source": []
  },
  {
   "cell_type": "code",
   "execution_count": null,
   "id": "2c8b156a-4820-4616-b942-8243c0bd4616",
   "metadata": {},
   "outputs": [],
   "source": []
  },
  {
   "cell_type": "markdown",
   "id": "a60e5193-408f-42dd-88b8-4faa7e4719b6",
   "metadata": {},
   "source": [
    "# Task 6: Combine the entire code."
   ]
  },
  {
   "cell_type": "code",
   "execution_count": null,
   "id": "0b29dcc7-1115-4ccd-87b6-292e5b6eae14",
   "metadata": {},
   "outputs": [],
   "source": [
    "# Schreibt bitte eure Lösung hier\n"
   ]
  },
  {
   "cell_type": "code",
   "execution_count": null,
   "id": "69d0ae13-e6e7-444e-8808-75f442e9ceb0",
   "metadata": {},
   "outputs": [],
   "source": [
    "def file_diff_format()"
   ]
  },
  {
   "cell_type": "markdown",
   "id": "843da660-f2ba-4541-a24a-15eb67d2d189",
   "metadata": {},
   "source": [
    "### Quelle:\n",
    "Fakultät 3 HSH, Informationsmanagement (BIM), zweites Semester Python 1 bei Herrn Wübbelt"
   ]
  },
  {
   "cell_type": "code",
   "execution_count": null,
   "id": "d8b8d76d-cd21-4d33-b542-cf497e6a99bb",
   "metadata": {},
   "outputs": [],
   "source": []
  }
 ],
 "metadata": {
  "kernelspec": {
   "display_name": "Python 3 (ipykernel)",
   "language": "python",
   "name": "python3"
  },
  "language_info": {
   "codemirror_mode": {
    "name": "ipython",
    "version": 3
   },
   "file_extension": ".py",
   "mimetype": "text/x-python",
   "name": "python",
   "nbconvert_exporter": "python",
   "pygments_lexer": "ipython3",
   "version": "3.12.7"
  }
 },
 "nbformat": 4,
 "nbformat_minor": 5
}
