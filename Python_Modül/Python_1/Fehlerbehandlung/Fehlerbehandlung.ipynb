{
 "cells": [
  {
   "cell_type": "markdown",
   "id": "80faa167-aaec-4d7d-a561-977c128c65ef",
   "metadata": {},
   "source": [
    "# Fehlerbehandlung in Python\n",
    "\n",
    "In Python wird Fehlerbehandlung mit dem `try`-`except`-Block durchgeführt. Dieser Mechanismus ermöglicht es, Fehler abzufangen und das Programm weiter auszuführen, ohne es abrupt zu beenden.\n",
    "\n",
    "## 1. Grundlegende Fehlerbehandlung\n",
    "\n",
    "### Syntax:\n",
    "```python\n",
    "try:\n",
    "    # Code, der Fehler verursachen könnte\n",
    "except FehlerTyp:\n",
    "    # Code, der ausgeführt wird, wenn ein Fehler auftritt\n"
   ]
  },
  {
   "cell_type": "markdown",
   "id": "db060397-8969-4213-ab62-bf5b94b34bf5",
   "metadata": {},
   "source": [
    "## Beispiele:"
   ]
  },
  {
   "cell_type": "code",
   "execution_count": 1,
   "id": "5ed955d1-7269-465c-8cf4-e17ebe1086db",
   "metadata": {},
   "outputs": [
    {
     "ename": "IndexError",
     "evalue": "list index out of range",
     "output_type": "error",
     "traceback": [
      "\u001b[1;31m---------------------------------------------------------------------------\u001b[0m",
      "\u001b[1;31mIndexError\u001b[0m                                Traceback (most recent call last)",
      "Cell \u001b[1;32mIn[1], line 2\u001b[0m\n\u001b[0;32m      1\u001b[0m my_list \u001b[38;5;241m=\u001b[39m [\u001b[38;5;241m1\u001b[39m, \u001b[38;5;241m2\u001b[39m, \u001b[38;5;241m3\u001b[39m]\n\u001b[1;32m----> 2\u001b[0m \u001b[38;5;28mprint\u001b[39m(\u001b[43mmy_list\u001b[49m\u001b[43m[\u001b[49m\u001b[38;5;241;43m5\u001b[39;49m\u001b[43m]\u001b[49m)  \u001b[38;5;66;03m# Zugriff auf einen Index, der nicht existiert\u001b[39;00m\n",
      "\u001b[1;31mIndexError\u001b[0m: list index out of range"
     ]
    }
   ],
   "source": [
    "my_list = [1, 2, 3]\n",
    "print(my_list[5])  # Zugriff auf einen Index, der nicht existiert"
   ]
  },
  {
   "cell_type": "code",
   "execution_count": 2,
   "id": "41fc751f-2b5b-4a18-8f1e-94ef97739291",
   "metadata": {},
   "outputs": [
    {
     "name": "stdout",
     "output_type": "stream",
     "text": [
      "Fehler: Der Index existiert nicht in der Liste!\n"
     ]
    }
   ],
   "source": [
    "# Fehlerbehandlung bei IndexError\n",
    "\n",
    "# Beispiel: Zugriff auf einen Index, der nicht existiert\n",
    "my_list = [1, 2, 3]\n",
    "\n",
    "try:\n",
    "    print(my_list[5])  # Zugriff auf einen Index, der nicht existiert\n",
    "except IndexError:\n",
    "    print(\"Fehler: Der Index existiert nicht in der Liste!\")\n"
   ]
  },
  {
   "cell_type": "markdown",
   "id": "68b2d597-c296-45bc-97a6-5a8cedefcc9d",
   "metadata": {},
   "source": [
    "## Ausnahmen (Exceptions)"
   ]
  },
  {
   "cell_type": "code",
   "execution_count": 1,
   "id": "e7a70957-79ec-4996-b89d-cf2457fb81d2",
   "metadata": {},
   "outputs": [
    {
     "name": "stdout",
     "output_type": "stream",
     "text": [
      "Fehler: Division durch Null!\n"
     ]
    }
   ],
   "source": [
    "try:\n",
    "    x = 10 / 0  # Division durch Null\n",
    "except ZeroDivisionError:\n",
    "    print(\"Fehler: Division durch Null!\")\n"
   ]
  },
  {
   "cell_type": "markdown",
   "id": "3bdac4ef-75e0-4341-809d-af58e7b4fca6",
   "metadata": {},
   "source": [
    "## 2. Mehrere except-Blöcke\n",
    "- Man kann mehrere except-Blöcke verwenden, um verschiedene Fehlerarten zu behandeln."
   ]
  },
  {
   "cell_type": "code",
   "execution_count": 2,
   "id": "8e824b38-d93a-4d54-85f9-38dd4774e4c2",
   "metadata": {},
   "outputs": [
    {
     "name": "stdin",
     "output_type": "stream",
     "text": [
      "Gib eine Zahl ein:  2\n"
     ]
    },
    {
     "name": "stdout",
     "output_type": "stream",
     "text": [
      "5.0\n"
     ]
    }
   ],
   "source": [
    "try:\n",
    "    x = int(input(\"Gib eine Zahl ein: \"))\n",
    "    y = 10 / x\n",
    "    print(y)\n",
    "except ZeroDivisionError:\n",
    "    print(\"Fehler: Division durch Null!\")\n",
    "except ValueError:\n",
    "    print(\"Fehler: Ungültige Eingabe. Bitte gib eine Zahl ein.\")\n"
   ]
  },
  {
   "cell_type": "markdown",
   "id": "cb919fd5-d546-4d96-bca6-3e0382d1f9c4",
   "metadata": {},
   "source": [
    "## 3. Allgemeiner Fehler (`except` ohne Fehler-Typ)\n",
    "\n",
    "- Wenn der Fehler-Typ nicht spezifiziert wird, fängt `except` alle Fehler ab.\n",
    "\n"
   ]
  },
  {
   "cell_type": "code",
   "execution_count": 4,
   "id": "16e0d801-18b9-4ade-8be7-d49c01a87c62",
   "metadata": {},
   "outputs": [
    {
     "name": "stdin",
     "output_type": "stream",
     "text": [
      "Gib eine Zahl ein:  2\n"
     ]
    },
    {
     "name": "stdout",
     "output_type": "stream",
     "text": [
      "5.0\n"
     ]
    }
   ],
   "source": [
    "try:\n",
    "    x = int(input(\"Gib eine Zahl ein: \"))\n",
    "    y = 10 / x\n",
    "    print(y)\n",
    "except:\n",
    "    print(\"Es ist ein unerwarteter Fehler aufgetreten.\")\n"
   ]
  },
  {
   "cell_type": "markdown",
   "id": "fcfca782-49aa-454e-96b1-d2eb665d8360",
   "metadata": {},
   "source": [
    "## 4. `finally`-Block\n",
    "Der `finally`-Block wird immer ausgeführt, unabhängig davon, ob ein Fehler aufgetreten ist oder nicht. Er wird häufig verwendet, um Ressourcen zu bereinigen, z. B. Dateien zu schließen.\n",
    "\n",
    "### Beispiel:\n"
   ]
  },
  {
   "cell_type": "code",
   "execution_count": 1,
   "id": "ffdd50dd-14a2-4bfe-8e5d-ba95df872fd3",
   "metadata": {},
   "outputs": [
    {
     "name": "stdout",
     "output_type": "stream",
     "text": [
      "Die Datei wurde nicht gefunden.\n",
      "Der 'finally'-Block wird immer ausgeführt.\n"
     ]
    }
   ],
   "source": [
    "try:\n",
    "    file = open(\"example.txt\", \"r\")\n",
    "    # Weitere Dateioperationen\n",
    "except FileNotFoundError:\n",
    "    print(\"Die Datei wurde nicht gefunden.\")\n",
    "finally:\n",
    "    print(\"Der 'finally'-Block wird immer ausgeführt.\")\n",
    "    try:\n",
    "        file.close()  # Datei wird sicher geschlossen, nur wenn sie geöffnet wurde\n",
    "    except NameError:\n",
    "        pass  # Falls 'file' nicht definiert wurde, passiert nichts\n"
   ]
  },
  {
   "cell_type": "code",
   "execution_count": 2,
   "id": "8de07838-44eb-45db-aa28-2bb26844acd8",
   "metadata": {},
   "outputs": [
    {
     "name": "stdout",
     "output_type": "stream",
     "text": [
      "File didnt find!\n",
      "Das wird immer ausgeführt.\n"
     ]
    }
   ],
   "source": [
    "try:\n",
    "    file = open(\"test.txt\", \"r\")\n",
    "\n",
    "except FileNotFoundError:\n",
    "    print(\"File didnt find!\")\n",
    "finally:\n",
    "    print(\"Das wird immer ausgeführt.\")\n",
    "    try:\n",
    "        file.close()\n",
    "    except NameError:\n",
    "        pass"
   ]
  },
  {
   "cell_type": "markdown",
   "id": "b0c913d7-28ed-4246-b693-624be33f9fec",
   "metadata": {},
   "source": [
    "## 5. Eigene Exceptions\n",
    "- Es ist jedoch häufig erforderlich, eigene Ausnahmen (Exceptions) zu definieren:"
   ]
  },
  {
   "cell_type": "markdown",
   "id": "999840ad-0279-4ccc-a08e-1d2e1241488d",
   "metadata": {},
   "source": [
    "### Was ist `raise` in Python?\n",
    "\n",
    "- Das `raise`-Schlüsselwort wird verwendet, um **manuell eine Ausnahme (Exception)** auszulösen.  \n",
    "- Signalisiert dem Programm, dass ein **Fehler aufgetreten** ist.  \n",
    "- Stoppt die **Ausführung des Programms**, es sei denn:  \n",
    "  - Die Ausnahme wird von einem entsprechenden **try-except-Block** abgefangen.\n",
    "\n"
   ]
  },
  {
   "cell_type": "code",
   "execution_count": 10,
   "id": "5ff1c826-1bc6-433a-ac35-3a3cbf086930",
   "metadata": {},
   "outputs": [
    {
     "ename": "ValueError",
     "evalue": "Die Zahl muss positiv sein.",
     "output_type": "error",
     "traceback": [
      "\u001b[1;31m---------------------------------------------------------------------------\u001b[0m",
      "\u001b[1;31mValueError\u001b[0m                                Traceback (most recent call last)",
      "Cell \u001b[1;32mIn[10], line 5\u001b[0m\n\u001b[0;32m      3\u001b[0m         \u001b[38;5;28;01mraise\u001b[39;00m \u001b[38;5;167;01mValueError\u001b[39;00m(\u001b[38;5;124m\"\u001b[39m\u001b[38;5;124mDie Zahl muss positiv sein.\u001b[39m\u001b[38;5;124m\"\u001b[39m)\n\u001b[0;32m      4\u001b[0m     \u001b[38;5;28;01mreturn\u001b[39;00m number\n\u001b[1;32m----> 5\u001b[0m \u001b[43mcheck_positive\u001b[49m\u001b[43m(\u001b[49m\u001b[38;5;241;43m-\u001b[39;49m\u001b[38;5;241;43m5\u001b[39;49m\u001b[43m)\u001b[49m\n",
      "Cell \u001b[1;32mIn[10], line 3\u001b[0m, in \u001b[0;36mcheck_positive\u001b[1;34m(number)\u001b[0m\n\u001b[0;32m      1\u001b[0m \u001b[38;5;28;01mdef\u001b[39;00m \u001b[38;5;21mcheck_positive\u001b[39m(number):\n\u001b[0;32m      2\u001b[0m     \u001b[38;5;28;01mif\u001b[39;00m number \u001b[38;5;241m<\u001b[39m \u001b[38;5;241m0\u001b[39m:\n\u001b[1;32m----> 3\u001b[0m         \u001b[38;5;28;01mraise\u001b[39;00m \u001b[38;5;167;01mValueError\u001b[39;00m(\u001b[38;5;124m\"\u001b[39m\u001b[38;5;124mDie Zahl muss positiv sein.\u001b[39m\u001b[38;5;124m\"\u001b[39m)\n\u001b[0;32m      4\u001b[0m     \u001b[38;5;28;01mreturn\u001b[39;00m number\n",
      "\u001b[1;31mValueError\u001b[0m: Die Zahl muss positiv sein."
     ]
    }
   ],
   "source": [
    "def check_positive(number):\n",
    "    if number < 0:\n",
    "        raise ValueError(\"Die Zahl muss positiv sein.\")\n",
    "    return number\n",
    "check_positive(-5)"
   ]
  },
  {
   "cell_type": "code",
   "execution_count": 3,
   "id": "7c42a61b-1edd-4e58-8495-17e7d3897f57",
   "metadata": {},
   "outputs": [
    {
     "name": "stdout",
     "output_type": "stream",
     "text": [
      "Fehler: Die Zahl muss positiv sein.\n"
     ]
    }
   ],
   "source": [
    "def check_positive(number):\n",
    "    if number < 0:\n",
    "        raise ValueError(\"Die Zahl muss positiv sein.\")\n",
    "    return number\n",
    "\n",
    "try:\n",
    "    check_positive(-5)\n",
    "except ValueError as e:\n",
    "    print(f\"Fehler: {e}\")\n"
   ]
  },
  {
   "cell_type": "code",
   "execution_count": 12,
   "id": "5c881dd9-4c73-449f-9f39-cc939caab84c",
   "metadata": {},
   "outputs": [
    {
     "name": "stdout",
     "output_type": "stream",
     "text": [
      "Fehler: Die Zahl muss positiv sein.\n"
     ]
    }
   ],
   "source": [
    "class PositiveNumberError(Exception):\n",
    "    \"\"\"Benutzerdefinierte Ausnahme für negative Zahlen.\"\"\"\n",
    "    pass\n",
    "\n",
    "def check_positive(number):\n",
    "    if number < 0:\n",
    "        raise PositiveNumberError(\"Die Zahl muss positiv sein.\")\n",
    "    return number\n",
    "\n",
    "try:\n",
    "    check_positive(-5)\n",
    "except PositiveNumberError as e:\n",
    "    print(f\"Fehler: {e}\")\n"
   ]
  },
  {
   "cell_type": "code",
   "execution_count": 4,
   "id": "645c7e13-ee1b-4036-9cf9-2e51a07f336d",
   "metadata": {},
   "outputs": [
    {
     "name": "stdout",
     "output_type": "stream",
     "text": [
      "Fehler: Die Zahl muss positive sein\n"
     ]
    }
   ],
   "source": [
    "class PositiveNumberError(Exception):\n",
    "    pass\n",
    "\n",
    "def check_positive(number):\n",
    "    if number < 0:\n",
    "        raise PositiveNumberError(\"Die Zahl muss positive sein\")\n",
    "    return number\n",
    "\n",
    "try:\n",
    "    check_positive(-5)\n",
    "\n",
    "except PositiveNumberError as e:\n",
    "    print(f\"Fehler: {e}\")"
   ]
  },
  {
   "cell_type": "code",
   "execution_count": 7,
   "id": "4e635963-0318-40fd-8bd0-725c21401e40",
   "metadata": {},
   "outputs": [
    {
     "name": "stdout",
     "output_type": "stream",
     "text": [
      "Fehler: Die Zahl muss positive sein\n"
     ]
    }
   ],
   "source": [
    "class PositiveNumberError(Exception):\n",
    "    pass\n",
    "\n",
    "def negative_error(number):\n",
    "    if number < 0:\n",
    "        raise PositiveNumberError(\"Die Zahl muss positive sein\")\n",
    "    return number\n",
    "\n",
    "try:\n",
    "    negative_error(-5)\n",
    "except PositiveNumberError as e:\n",
    "    print(f\"Fehler: {e}\")"
   ]
  },
  {
   "cell_type": "code",
   "execution_count": null,
   "id": "0ba8ea09-7f62-4880-a774-82cc1e0a78ac",
   "metadata": {},
   "outputs": [],
   "source": []
  }
 ],
 "metadata": {
  "kernelspec": {
   "display_name": "Python 3 (ipykernel)",
   "language": "python",
   "name": "python3"
  },
  "language_info": {
   "codemirror_mode": {
    "name": "ipython",
    "version": 3
   },
   "file_extension": ".py",
   "mimetype": "text/x-python",
   "name": "python",
   "nbconvert_exporter": "python",
   "pygments_lexer": "ipython3",
   "version": "3.12.7"
  }
 },
 "nbformat": 4,
 "nbformat_minor": 5
}
