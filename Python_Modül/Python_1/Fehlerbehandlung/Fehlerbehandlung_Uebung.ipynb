{
 "cells": [
  {
   "cell_type": "markdown",
   "id": "2e0a04db-ee4f-472a-95f5-362356f671fb",
   "metadata": {},
   "source": [
    "# Übungen zur Fehlerbehandlung in Python\n",
    "\n",
    "## Übung 1: Division durch Null (15 Min.)\n",
    "**Aufgabe**: Schreibe ein Programm, das den Benutzer nach zwei Zahlen fragt und deren Division durchführt. Behandle dabei den Fehler einer Division durch Null.\n"
   ]
  },
  {
   "cell_type": "code",
   "execution_count": 3,
   "id": "19b89829-7d0c-457f-88f0-d0b67bf6ee9e",
   "metadata": {},
   "outputs": [
    {
     "name": "stdin",
     "output_type": "stream",
     "text": [
      "Gib die erste Zahl 2\n",
      "Gib die zweite Zahl 0\n"
     ]
    },
    {
     "name": "stdout",
     "output_type": "stream",
     "text": [
      "Fehler : Division durch Null ist nicht erlaubt\n"
     ]
    }
   ],
   "source": [
    "# Schreibt bitte eure Lösung hier\n",
    "try:\n",
    "    num1 = float(input(\"Gib die erste Zahl\"))\n",
    "    num2 = float(input(\"Gib die zweite Zahl\"))\n",
    "    result = num1 / num2\n",
    "except ZeroDivisionError:\n",
    "    print(\"Fehler: Division durch Null ist nicht erlaubt\")\n",
    "else:\n",
    "    print(f\"Das Ergebnis der Division is: {result}\")\n"
   ]
  },
  {
   "cell_type": "markdown",
   "id": "6390cb2a-629d-42e8-9ea9-260f073e016a",
   "metadata": {},
   "source": [
    "## Übung 2: Ungültige Eingabe (ValueError) (10 Min.)\n",
    "\n",
    "**Aufgabe**: Schreibe ein Programm, das den Benutzer nach einer Zahl fragt und sicherstellt, dass die Eingabe eine gültige Zahl ist. Behandle dabei den Fehler einer ungültigen Eingabe.\n",
    " "
   ]
  },
  {
   "cell_type": "code",
   "execution_count": 6,
   "id": "48d406d6-97bc-4fe2-ad8b-84e1a8780599",
   "metadata": {},
   "outputs": [
    {
     "name": "stdin",
     "output_type": "stream",
     "text": [
      "Gib die erste Zahl 1\n"
     ]
    },
    {
     "name": "stdout",
     "output_type": "stream",
     "text": [
      "Das Ergebnis der Division is: 1.0\n"
     ]
    }
   ],
   "source": [
    "# Schreibt bitte eure Lösung hier\n",
    "try:\n",
    "    num1 = float(input(\"Gib die erste Zahl: \"))\n",
    "    result = num1\n",
    "except ValueError:\n",
    "    print(\"Fehler:Keine gültige Eingabe\")\n",
    "else:\n",
    "    print(f\"Das Ergebnis der Division is: {result}\")"
   ]
  },
  {
   "cell_type": "markdown",
   "id": "7a8fb484-361f-44da-9eed-21d1d1a7d1b1",
   "metadata": {},
   "source": [
    "## Übung 3: Datei lesen  (15 Min.)\n",
    "\n",
    "### Aufgabe:\n",
    "Schreibe ein Programm, das eine Datei öffnet und ihren Inhalt liest. Falls die Datei nicht existiert, soll eine entsprechende Fehlermeldung ausgegeben werden.\n"
   ]
  },
  {
   "cell_type": "code",
   "execution_count": 7,
   "id": "becd302b-3059-44ec-af75-6fd6b25264c0",
   "metadata": {},
   "outputs": [
    {
     "name": "stdout",
     "output_type": "stream",
     "text": [
      "Die Datei 'example.txt' wurde nicht gefunden\n"
     ]
    }
   ],
   "source": [
    "# Schreibt bitte eure Lösung hier\n",
    "try:\n",
    "    with open(\"example.txt\", \"r\") as file:\n",
    "        content = file.read()\n",
    "        print(content)\n",
    "except FileNotFoundError:\n",
    "    print(\"Die Datei 'example.txt' wurde nicht gefunden\")"
   ]
  },
  {
   "cell_type": "markdown",
   "id": "aceb5ac5-5165-474b-be90-0d8c40fd0061",
   "metadata": {},
   "source": [
    "## Übung 4: Zugriff auf ein Listen-Element (IndexError)  (10 Min.)\n",
    "\n",
    "### Aufgabe:\n",
    "Schreibe ein Programm, das versucht, auf ein Element einer Liste zuzugreifen. Wenn der Index nicht existiert, soll der Fehler behandelt werden.\n"
   ]
  },
  {
   "cell_type": "code",
   "execution_count": 10,
   "id": "c3cb2e49-3823-47b0-8304-c57a80833128",
   "metadata": {},
   "outputs": [
    {
     "name": "stdout",
     "output_type": "stream",
     "text": [
      "Fehler: Der Index existiert nicht in der Liste!\n"
     ]
    }
   ],
   "source": [
    "# Schreibt bitte eure Lösung hier\n",
    "my_list = [1, 2, 3]\n",
    "\n",
    "try:\n",
    "    print(my_list[5])\n",
    "except IndexError:\n",
    "    print(\"Fehler: Der Index existiert nicht in der Liste!\")"
   ]
  },
  {
   "cell_type": "markdown",
   "id": "43e03105-5851-4838-9fca-817aeb2817e2",
   "metadata": {},
   "source": [
    "## Übung 5: Benutzerdefinierte Exception  (15 Min.)\n",
    "\n",
    "### Aufgabe:\n",
    "Erstelle eine benutzerdefinierte Ausnahme, die ausgelöst wird, wenn eine Zahl kleiner als 0 eingegeben wird. Fange diese Ausnahme und gib eine entsprechende Nachricht aus.\n"
   ]
  },
  {
   "cell_type": "code",
   "execution_count": 18,
   "id": "9fffc3e5-c6e2-4b27-af26-0650e5598678",
   "metadata": {},
   "outputs": [
    {
     "name": "stdin",
     "output_type": "stream",
     "text": [
      "Gib bitte eine positive Zahl:  -3\n"
     ]
    },
    {
     "ename": "NegativeNumberError",
     "evalue": "Die Zahl darf nicht negativ sein.",
     "output_type": "error",
     "traceback": [
      "\u001b[1;31m---------------------------------------------------------------------------\u001b[0m",
      "\u001b[1;31mNegativeNumberError\u001b[0m                       Traceback (most recent call last)",
      "Cell \u001b[1;32mIn[18], line 11\u001b[0m\n\u001b[0;32m      8\u001b[0m     \u001b[38;5;28;01mreturn\u001b[39;00m number\n\u001b[0;32m     10\u001b[0m num \u001b[38;5;241m=\u001b[39m \u001b[38;5;28mfloat\u001b[39m(\u001b[38;5;28minput\u001b[39m(\u001b[38;5;124m\"\u001b[39m\u001b[38;5;124mGib bitte eine positive Zahl: \u001b[39m\u001b[38;5;124m\"\u001b[39m))\n\u001b[1;32m---> 11\u001b[0m check_positive(num)\n",
      "Cell \u001b[1;32mIn[18], line 7\u001b[0m, in \u001b[0;36mcheck_positive\u001b[1;34m(number)\u001b[0m\n\u001b[0;32m      5\u001b[0m \u001b[38;5;28;01mdef\u001b[39;00m \u001b[38;5;21mcheck_positive\u001b[39m(number):\n\u001b[0;32m      6\u001b[0m     \u001b[38;5;28;01mif\u001b[39;00m number \u001b[38;5;241m<\u001b[39m \u001b[38;5;241m0\u001b[39m:\n\u001b[1;32m----> 7\u001b[0m         \u001b[38;5;28;01mraise\u001b[39;00m NegativeNumberError(\u001b[38;5;124m\"\u001b[39m\u001b[38;5;124mDie Zahl darf nicht negativ sein.\u001b[39m\u001b[38;5;124m\"\u001b[39m)\n\u001b[0;32m      8\u001b[0m     \u001b[38;5;28;01mreturn\u001b[39;00m number\n",
      "\u001b[1;31mNegativeNumberError\u001b[0m: Die Zahl darf nicht negativ sein."
     ]
    }
   ],
   "source": [
    "# Schreibt bitte eure Lösung hier\n",
    "class NegativeNumberError(Exception):\n",
    "    pass\n",
    "\n",
    "def check_positive(number):\n",
    "    if number < 0:\n",
    "        raise NegativeNumberError(\"Die Zahl darf nicht negativ sein.\")\n",
    "    return number\n",
    "\n",
    "num = float(input(\"Gib bitte eine positive Zahl: \"))\n",
    "check_positive(num)\n"
   ]
  },
  {
   "cell_type": "markdown",
   "id": "ebbafebb-8831-494a-ac0b-87d746e51e5e",
   "metadata": {},
   "source": [
    "## Übung 6: Mehrere Fehler abfangen  (15 Min.)\n",
    "\n",
    "### Aufgabe:\n",
    "Schreibe ein Programm, das den Benutzer nach zwei Zahlen fragt und sowohl eine Division durch Null als auch ungültige Eingaben behandelt.\n"
   ]
  },
  {
   "cell_type": "code",
   "execution_count": 22,
   "id": "7dc1ee18-0c8b-47ed-868c-d057d099b169",
   "metadata": {},
   "outputs": [
    {
     "name": "stdin",
     "output_type": "stream",
     "text": [
      "Gib eine Tahl ein:  2\n"
     ]
    },
    {
     "name": "stdout",
     "output_type": "stream",
     "text": [
      "5.0\n",
      "Das Ergebnis der Division ist: 1.0\n"
     ]
    }
   ],
   "source": [
    "# Schreibt bitte eure Lösung hier\n",
    "try:\n",
    "    x = int(input(\"Gib eine Tahl ein: \"))\n",
    "    y = 10 / x\n",
    "    print(y)\n",
    "except ZeroDivisionError:\n",
    "    print(\"Fehler: Division durch Null\")\n",
    "except ValueError:\n",
    "    print(\"Fehler: Ungültige Eingabe. Bitte gib eine Zahl ein.\")\n",
    "else:\n",
    "    print(f\"Das Ergebnis der Division ist: {result}\")"
   ]
  },
  {
   "cell_type": "markdown",
   "id": "3a9b179f-1075-42dd-bb21-25b277dc9a73",
   "metadata": {},
   "source": [
    "## Übung 7: Datei erstellen und schreiben (15 Min.)\n",
    "\n",
    "### Aufgabe:\n",
    "Schreibe ein Programm, das eine neue Datei erstellt und Text hineinschreibt. Wenn die Datei bereits existiert, soll eine Fehlermeldung ausgegeben werden.\n"
   ]
  },
  {
   "cell_type": "code",
   "execution_count": 25,
   "id": "f2f4ea3e-c02a-4aad-a523-5d6d1621c260",
   "metadata": {},
   "outputs": [],
   "source": [
    "# Schreibt bitte eure Lösung hier\n",
    "import os\n",
    "def create_file(filename, content):\n",
    "    try:\n",
    "        if os.path.exists(filename):\n",
    "            raise FileExistsError(f\"Fehler: Die Datei '{filename}' existiert bereits\")\n",
    "\n",
    "            with open(filename, \"w\") as file:\n",
    "                file.write(content)\n",
    "                print(f\"Die Datei '{filename}' wurde erfolgreich erstellt\")\n",
    "\n",
    "    except FileExistsError as e:\n",
    "        print(e)\n",
    "    except Exception as e:\n",
    "        print(f\"Ein unerwartete Fehler ist aufgetreten: {e}\")\n",
    "\n",
    "dateiname = \"testdatei.txt\"\n",
    "text_inhalt = \"Dies ist eine Beispiel-Datei mit Texinhalt\"\n",
    "\n",
    "create_file(dateiname, text_inhalt)"
   ]
  },
  {
   "cell_type": "code",
   "execution_count": null,
   "id": "9a882a0b-7be7-4fbc-a930-450e7d58206d",
   "metadata": {},
   "outputs": [],
   "source": []
  },
  {
   "cell_type": "code",
   "execution_count": null,
   "id": "a33557cf-20f3-4ef2-b517-64c2843c34d5",
   "metadata": {},
   "outputs": [],
   "source": []
  }
 ],
 "metadata": {
  "kernelspec": {
   "display_name": "Python 3 (ipykernel)",
   "language": "python",
   "name": "python3"
  },
  "language_info": {
   "codemirror_mode": {
    "name": "ipython",
    "version": 3
   },
   "file_extension": ".py",
   "mimetype": "text/x-python",
   "name": "python",
   "nbconvert_exporter": "python",
   "pygments_lexer": "ipython3",
   "version": "3.12.7"
  }
 },
 "nbformat": 4,
 "nbformat_minor": 5
}
