{
 "cells": [
  {
   "cell_type": "markdown",
   "id": "6da6cdb8-57d4-4987-bb3e-3e28b17aabd1",
   "metadata": {},
   "source": [
    "# Klassen in Python\n",
    "\n",
    "- **Definition**:\n",
    "  - Fast alles in Python ist ein Objekt, das über Eigenschaften und Methoden verfügt.\n",
    "  - Klassen sind Vorlagen oder Baupläne zur Erstellung von Objekten (Instanzen).\n",
    "  - Sie definieren Eigenschaften (Attribute) und Verhalten (Methoden) von Objekten.\n",
    "  \n",
    "- **Syntax**:\n",
    "  ```python\n",
    "  class Klassenname:\n",
    "      def __init__(self, parameter):\n",
    "          self.attribut = parameter\n",
    "          \n",
    "      def methode(self):\n",
    "          # Code für die Methode\n"
   ]
  },
  {
   "cell_type": "markdown",
   "id": "caa9275e-4a5e-46fe-8a87-b79331050c08",
   "metadata": {},
   "source": [
    "## Klassen Motivation\n",
    "\n",
    "- Funktionen bieten kein geeignetes Konzept zur Organisation und Verwaltung strukturierter Daten.\n",
    "- Besseres Code-Design durch klare Strukturierung.\n",
    "- **Klassen und Klassendiagramme**:\n",
    "  - Klassen können visuell durch Klassendiagramme beschrieben werden.\n",
    "  - Klassendiagramme zeigen die **Struktur** und **Beziehungen** zwischen Klassen.\n",
    "## Beispiel \n",
    "### Ohne Klassen:"
   ]
  },
  {
   "cell_type": "code",
   "execution_count": 10,
   "id": "eba57810-78b6-49c0-9fd0-8b5005055466",
   "metadata": {},
   "outputs": [
    {
     "name": "stdout",
     "output_type": "stream",
     "text": [
      "Hallo, ich bin Alice und 30 Jahre alt.\n"
     ]
    }
   ],
   "source": [
    "name = \"Alice\"\n",
    "alter = 30\n",
    "\n",
    "def vorstellen(name, alter):\n",
    "    print(f\"Hallo, ich bin {name} und {alter} Jahre alt.\")\n",
    "\n",
    "vorstellen(name, alter)\n"
   ]
  },
  {
   "cell_type": "markdown",
   "id": "0863b48e-cfce-492a-8634-22be6d2fbf5e",
   "metadata": {},
   "source": [
    "### Mit Klassen:\n",
    "- Daten und Verhalten werden in einem Objekt zusammengefasst.\n"
   ]
  },
  {
   "cell_type": "code",
   "execution_count": 9,
   "id": "e655d153-d4dc-4dcb-a246-dcc4fdabaa3f",
   "metadata": {},
   "outputs": [
    {
     "name": "stdout",
     "output_type": "stream",
     "text": [
      "Hallo, ich bin Alice und 30 Jahre alt.\n"
     ]
    }
   ],
   "source": [
    "class Person:\n",
    "    def __init__(self, name, alter):\n",
    "        self.name = name\n",
    "        self.alter = alter\n",
    "\n",
    "    def vorstellen(self):\n",
    "        print(f\"Hallo, ich bin {self.name} und {self.alter} Jahre alt.\")\n",
    "\n",
    "alice = Person(\"Alice\", 30)\n",
    "alice.vorstellen()\n"
   ]
  },
  {
   "cell_type": "markdown",
   "id": "63c86006-f3ce-4062-91e1-9a4e325e734e",
   "metadata": {},
   "source": [
    "## Erstellen einer Klasse\n",
    "- Eine Klasse wird mit dem Schlüsselwort ``class`` definiert, gefolgt vom Klassennamen.\n"
   ]
  },
  {
   "cell_type": "code",
   "execution_count": 15,
   "id": "30ce0f86-5738-45b7-9f72-52c5f77ba2e5",
   "metadata": {},
   "outputs": [],
   "source": [
    "class Person:\n",
    "    name = \"Alex\"  \n"
   ]
  },
  {
   "cell_type": "markdown",
   "id": "2b42629b-20de-4fb2-9bbb-58e1f328595c",
   "metadata": {},
   "source": [
    "### Erstellen von Objekten\n",
    "\n",
    "- Instanzen von Objekten werden mit dem Aufruf der Klasse erstellt"
   ]
  },
  {
   "cell_type": "code",
   "execution_count": 16,
   "id": "b3f964d9-6a8c-4898-b430-e232cb7829cd",
   "metadata": {},
   "outputs": [
    {
     "name": "stdout",
     "output_type": "stream",
     "text": [
      "Alex\n"
     ]
    }
   ],
   "source": [
    "name1 = Person()\n",
    "print(name1.name)"
   ]
  },
  {
   "cell_type": "markdown",
   "id": "5dc3fda3-cb7d-4b6e-9021-2e263562ed00",
   "metadata": {},
   "source": [
    "### Konstruktor (__init__-Funktion):\n",
    "- Spezielle Funktion\n",
    "- Der Konstruktor wird verwendet, um die Attribute der Klasse zu initialisieren.\n",
    "- Er wird automatisch aufgerufen, wenn ein Objekt der Klasse erstellt wird.\n",
    "- ``self`` verweist auf die aktuelle Instanz der Klasse\n",
    "- Mit ``self`` können wir auf die Attribute und Methoden des aktuellen Objekts zugreifen."
   ]
  },
  {
   "cell_type": "code",
   "execution_count": 34,
   "id": "723157e6-8078-4f1a-897d-e5c9377b6eea",
   "metadata": {},
   "outputs": [],
   "source": [
    "class Person:\n",
    "    def __init__(self, name, alter):\n",
    "        self.name = name  # Initialisierung von Attributen\n",
    "        self.alter = alter\n"
   ]
  },
  {
   "cell_type": "code",
   "execution_count": 35,
   "id": "071b863b-ed2c-419d-802c-cbfa78140dfe",
   "metadata": {},
   "outputs": [
    {
     "name": "stdout",
     "output_type": "stream",
     "text": [
      "Alex\n",
      "30\n",
      "<__main__.Person object at 0x00000222BB730050>\n"
     ]
    }
   ],
   "source": [
    "name1 = Person(\"Alex\", 30)\n",
    "\n",
    "print(name1.name)\n",
    "print(name1.alter)\n",
    "print(name1)"
   ]
  },
  {
   "cell_type": "markdown",
   "id": "5b475380-86ce-4c30-b4c3-292ad11b9a7f",
   "metadata": {},
   "source": [
    "##  ``__str__()``\n",
    "\n",
    "- **Spezielle Funktion**: Legt fest, wie ein Objekt dargestellt wird, wenn es in eine Zeichenkette umgewandelt oder als solche ausgegeben wird.\n",
    "- Beschreibt das Objekt als String"
   ]
  },
  {
   "cell_type": "markdown",
   "id": "ed54b5b3-d0b6-4aaf-ab8a-a5980284fc50",
   "metadata": {},
   "source": [
    "### Ohne ``__str__()``"
   ]
  },
  {
   "cell_type": "code",
   "execution_count": 36,
   "id": "9f7ae997-14db-4ec4-81d7-d1cfa65e87a0",
   "metadata": {},
   "outputs": [
    {
     "name": "stdout",
     "output_type": "stream",
     "text": [
      "<__main__.Person object at 0x00000222BB5F4E00>\n"
     ]
    }
   ],
   "source": [
    "class Person:\n",
    "    def __init__(self, name, alter):\n",
    "        self.name = name\n",
    "        self.alter = alter\n",
    "\n",
    "# Objekt erstellen\n",
    "person_1 = Person(\"Alice\", 30)\n",
    "\n",
    "# __str__() wird automatisch aufgerufen\n",
    "print(person_1)  "
   ]
  },
  {
   "cell_type": "markdown",
   "id": "509af0ce-3abb-4bb2-8c09-42c4fc9e6565",
   "metadata": {},
   "source": [
    "### Mit ``__str__()``"
   ]
  },
  {
   "cell_type": "code",
   "execution_count": 37,
   "id": "d237dd96-aeab-435c-a656-bed0e285f799",
   "metadata": {},
   "outputs": [
    {
     "name": "stdout",
     "output_type": "stream",
     "text": [
      "Alice ist 30 Jahre alt.\n"
     ]
    }
   ],
   "source": [
    "class Person:\n",
    "    def __init__(self, name, alter):\n",
    "        self.name = name\n",
    "        self.alter = alter\n",
    "\n",
    "    def __str__(self):\n",
    "        return f\"{self.name} ist {self.alter} Jahre alt.\"\n",
    "\n",
    "# Objekt erstellen\n",
    "person_1 = Person(\"Alice\", 30)\n",
    "\n",
    "# __str__() wird automatisch aufgerufen\n",
    "print(person_1)  # Ausgabe: Alice ist 30 Jahre alt."
   ]
  },
  {
   "cell_type": "markdown",
   "id": "0b03d400-2d58-4967-99e8-d14e242f2fc4",
   "metadata": {},
   "source": [
    "### Hinzufügen von Methoden:\n",
    "- Methoden sind Funktionen, die innerhalb einer Klasse definiert werden.\n",
    "- Sie definieren das Verhalten der Objekte.\n"
   ]
  },
  {
   "cell_type": "code",
   "execution_count": 14,
   "id": "58819637-8bb3-4001-bcbf-5e4ceae20a86",
   "metadata": {},
   "outputs": [],
   "source": [
    "class Person:\n",
    "    def __init__(self, name, alter):\n",
    "        self.name = name\n",
    "        self.alter = alter\n",
    "    \n",
    "    def vorstellen(self):\n",
    "        print(f\"Hallo, mein Name ist {self.name} und ich bin {self.alter} Jahre alt.\")\n"
   ]
  },
  {
   "cell_type": "code",
   "execution_count": 15,
   "id": "c2f7cbec-1918-4637-8202-6a021af85239",
   "metadata": {},
   "outputs": [
    {
     "name": "stdout",
     "output_type": "stream",
     "text": [
      "Hallo, mein Name ist Alice und ich bin 30 Jahre alt.\n"
     ]
    }
   ],
   "source": [
    "person1 = Person(\"Alice\", 30)\n",
    "person1.vorstellen()  # Ausgabe: Hallo, mein Name ist Alice und ich bin 30 Jahre alt.\n"
   ]
  },
  {
   "cell_type": "markdown",
   "id": "ba77e93d-f235-4c34-b7ee-fbedcdbf9ebb",
   "metadata": {},
   "source": [
    "### Beispiel:"
   ]
  },
  {
   "cell_type": "code",
   "execution_count": 47,
   "id": "6f96b8da-23e4-426f-96e8-8e6e191af92a",
   "metadata": {},
   "outputs": [],
   "source": [
    "class Account:\n",
    "    def __init__(self, name, id, balance):\n",
    "        self.name = name\n",
    "        self.id = id\n",
    "        self.balance = 0.0\n",
    "        \n",
    "    def __str__(self):\n",
    "        return str(self.name) + ' ' + str(self.id) + ': ' + str(self.balance)\n",
    "        \n",
    "    def deposit(self, amount):\n",
    "        self.balance = self.balance + amount\n",
    "        \n",
    "    def getBalance(self):\n",
    "        return self.balance"
   ]
  },
  {
   "cell_type": "code",
   "execution_count": 48,
   "id": "5ddfd3e5-a5d1-487b-9f65-3c0b3c1fd228",
   "metadata": {},
   "outputs": [
    {
     "name": "stdout",
     "output_type": "stream",
     "text": [
      "Max 22424: 0.0\n"
     ]
    }
   ],
   "source": [
    "acc1 = Account(\"Max\", 22424, 200.0) # def __init__(self, name, id, balance):"
   ]
  },
  {
   "cell_type": "code",
   "execution_count": 46,
   "id": "1557576c-5d4a-40c3-96a0-afddf4cd8d33",
   "metadata": {},
   "outputs": [
    {
     "name": "stdout",
     "output_type": "stream",
     "text": [
      "500.0\n"
     ]
    }
   ],
   "source": [
    "acc1.deposit(500)\n",
    "print(acc1.getBalance()) # 500"
   ]
  },
  {
   "cell_type": "markdown",
   "id": "07e5965a-a392-4713-b891-483bae7c3132",
   "metadata": {},
   "source": [
    "### Objekteigenschaften ändern"
   ]
  },
  {
   "cell_type": "code",
   "execution_count": 27,
   "id": "2d083d72-8fa4-47a0-84ce-5bf295512d54",
   "metadata": {},
   "outputs": [
    {
     "name": "stdout",
     "output_type": "stream",
     "text": [
      "Hallo, mein Name ist Alice und ich bin 30 Jahre alt.\n"
     ]
    }
   ],
   "source": [
    "class Person:\n",
    "    def __init__(self, name, alter):\n",
    "        self.name = name\n",
    "        self.alter = alter\n",
    "    \n",
    "    def vorstellen(self):\n",
    "        print(f\"Hallo, mein Name ist {self.name} und ich bin {self.alter} Jahre alt.\")\n",
    "        \n",
    "person1 = Person(\"Alice\", 30)\n",
    "person1.vorstellen()  # Ausgabe: Hallo, mein Name ist Alice und ich bin 30 Jahre alt."
   ]
  },
  {
   "cell_type": "code",
   "execution_count": 28,
   "id": "fd03a0be-89a2-42e4-bd30-caa24a73d056",
   "metadata": {},
   "outputs": [
    {
     "name": "stdout",
     "output_type": "stream",
     "text": [
      "Hallo, mein Name ist Alex und ich bin 30 Jahre alt.\n"
     ]
    }
   ],
   "source": [
    "person1.name = \"Alex\"\n",
    "person1.vorstellen() "
   ]
  },
  {
   "cell_type": "code",
   "execution_count": 29,
   "id": "13df55ef-0327-49aa-9c1d-fd0142614c97",
   "metadata": {},
   "outputs": [],
   "source": [
    "del person1.alter"
   ]
  },
  {
   "cell_type": "code",
   "execution_count": 30,
   "id": "6fe389ec-cd2e-456f-802c-476c0f30e6ee",
   "metadata": {},
   "outputs": [
    {
     "ename": "AttributeError",
     "evalue": "'Person' object has no attribute 'alter'",
     "output_type": "error",
     "traceback": [
      "\u001b[1;31m---------------------------------------------------------------------------\u001b[0m",
      "\u001b[1;31mAttributeError\u001b[0m                            Traceback (most recent call last)",
      "Cell \u001b[1;32mIn[30], line 1\u001b[0m\n\u001b[1;32m----> 1\u001b[0m \u001b[43mperson1\u001b[49m\u001b[38;5;241;43m.\u001b[39;49m\u001b[43mvorstellen\u001b[49m\u001b[43m(\u001b[49m\u001b[43m)\u001b[49m \n",
      "Cell \u001b[1;32mIn[27], line 7\u001b[0m, in \u001b[0;36mPerson.vorstellen\u001b[1;34m(self)\u001b[0m\n\u001b[0;32m      6\u001b[0m \u001b[38;5;28;01mdef\u001b[39;00m \u001b[38;5;21mvorstellen\u001b[39m(\u001b[38;5;28mself\u001b[39m):\n\u001b[1;32m----> 7\u001b[0m     \u001b[38;5;28mprint\u001b[39m(\u001b[38;5;124mf\u001b[39m\u001b[38;5;124m\"\u001b[39m\u001b[38;5;124mHallo, mein Name ist \u001b[39m\u001b[38;5;132;01m{\u001b[39;00m\u001b[38;5;28mself\u001b[39m\u001b[38;5;241m.\u001b[39mname\u001b[38;5;132;01m}\u001b[39;00m\u001b[38;5;124m und ich bin \u001b[39m\u001b[38;5;132;01m{\u001b[39;00m\u001b[38;5;28;43mself\u001b[39;49m\u001b[38;5;241;43m.\u001b[39;49m\u001b[43malter\u001b[49m\u001b[38;5;132;01m}\u001b[39;00m\u001b[38;5;124m Jahre alt.\u001b[39m\u001b[38;5;124m\"\u001b[39m)\n",
      "\u001b[1;31mAttributeError\u001b[0m: 'Person' object has no attribute 'alter'"
     ]
    }
   ],
   "source": [
    "person1.vorstellen() "
   ]
  },
  {
   "cell_type": "code",
   "execution_count": 31,
   "id": "fbee07f8-cf40-4166-a2fa-2f3b9d67a77b",
   "metadata": {},
   "outputs": [],
   "source": [
    "del person1"
   ]
  },
  {
   "cell_type": "code",
   "execution_count": 32,
   "id": "edb4fff8-4f74-4069-b59f-3b274db9530a",
   "metadata": {},
   "outputs": [
    {
     "ename": "NameError",
     "evalue": "name 'person1' is not defined",
     "output_type": "error",
     "traceback": [
      "\u001b[1;31m---------------------------------------------------------------------------\u001b[0m",
      "\u001b[1;31mNameError\u001b[0m                                 Traceback (most recent call last)",
      "Cell \u001b[1;32mIn[32], line 1\u001b[0m\n\u001b[1;32m----> 1\u001b[0m \u001b[43mperson1\u001b[49m\u001b[38;5;241m.\u001b[39mname \u001b[38;5;241m=\u001b[39m \u001b[38;5;124m\"\u001b[39m\u001b[38;5;124mAlex\u001b[39m\u001b[38;5;124m\"\u001b[39m\n",
      "\u001b[1;31mNameError\u001b[0m: name 'person1' is not defined"
     ]
    }
   ],
   "source": [
    "person1.name = \"Alex\""
   ]
  },
  {
   "cell_type": "code",
   "execution_count": null,
   "id": "15ac6f8d-482b-4e16-bb42-735058b2b150",
   "metadata": {},
   "outputs": [],
   "source": []
  }
 ],
 "metadata": {
  "kernelspec": {
   "display_name": "Python 3 (ipykernel)",
   "language": "python",
   "name": "python3"
  },
  "language_info": {
   "codemirror_mode": {
    "name": "ipython",
    "version": 3
   },
   "file_extension": ".py",
   "mimetype": "text/x-python",
   "name": "python",
   "nbconvert_exporter": "python",
   "pygments_lexer": "ipython3",
   "version": "3.12.7"
  }
 },
 "nbformat": 4,
 "nbformat_minor": 5
}
