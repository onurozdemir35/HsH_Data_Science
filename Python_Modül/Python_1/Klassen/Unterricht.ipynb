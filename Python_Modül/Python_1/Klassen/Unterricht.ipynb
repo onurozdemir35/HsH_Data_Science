{
 "cells": [
  {
   "cell_type": "code",
   "execution_count": 8,
   "id": "170573c7-5c80-4361-a7b7-0d48fb6fe663",
   "metadata": {},
   "outputs": [],
   "source": [
    "class Person:\n",
    "    def __init__(self, name, alter):\n",
    "        self.name = name\n",
    "        self.alter = alter\n",
    "\n",
    "    def __str__(self):\n",
    "        return f\"Mein name ist {self.name} und ich bin {self.alter} jahre alt.\"\n",
    "\n",
    "    \n",
    "    def beschreibung(self):\n",
    "        print(f\"Mein name ist {self.name} und ich bin {self.alter} jahre alt\")"
   ]
  },
  {
   "cell_type": "code",
   "execution_count": 9,
   "id": "0b717935-bb11-4050-bdb4-98d7b212e7cc",
   "metadata": {},
   "outputs": [],
   "source": [
    "person_1 = Person(\"Mohammed\", 31)"
   ]
  },
  {
   "cell_type": "code",
   "execution_count": 10,
   "id": "46207228-16d9-46bd-94b2-14298fa67f0a",
   "metadata": {},
   "outputs": [
    {
     "data": {
      "text/plain": [
       "'Mohammed'"
      ]
     },
     "execution_count": 10,
     "metadata": {},
     "output_type": "execute_result"
    }
   ],
   "source": [
    "person_1.name"
   ]
  },
  {
   "cell_type": "code",
   "execution_count": 11,
   "id": "8ef45885-1a88-4573-92a9-7c4e7efc4c0e",
   "metadata": {},
   "outputs": [],
   "source": [
    "person_2 = Person(\"Alex\", 25)"
   ]
  },
  {
   "cell_type": "code",
   "execution_count": 12,
   "id": "8fce4c59-a0e0-4dd3-845e-06924fcfe850",
   "metadata": {},
   "outputs": [
    {
     "name": "stdout",
     "output_type": "stream",
     "text": [
      "Mein name ist Mohammed und ich bin 31 jahre alt\n"
     ]
    }
   ],
   "source": [
    "person_1.beschreibung()\n"
   ]
  },
  {
   "cell_type": "code",
   "execution_count": 13,
   "id": "97c29e4c-1524-4160-89f6-ced5b5b12694",
   "metadata": {},
   "outputs": [
    {
     "name": "stdout",
     "output_type": "stream",
     "text": [
      "Mein name ist Mohammed und ich bin 31 jahre alt.\n"
     ]
    }
   ],
   "source": [
    "print(person_1) #  __str__(self)"
   ]
  },
  {
   "cell_type": "code",
   "execution_count": null,
   "id": "171224bf-5244-4503-a354-3a901428a4af",
   "metadata": {},
   "outputs": [],
   "source": []
  }
 ],
 "metadata": {
  "kernelspec": {
   "display_name": "Python 3 (ipykernel)",
   "language": "python",
   "name": "python3"
  },
  "language_info": {
   "codemirror_mode": {
    "name": "ipython",
    "version": 3
   },
   "file_extension": ".py",
   "mimetype": "text/x-python",
   "name": "python",
   "nbconvert_exporter": "python",
   "pygments_lexer": "ipython3",
   "version": "3.12.7"
  }
 },
 "nbformat": 4,
 "nbformat_minor": 5
}
