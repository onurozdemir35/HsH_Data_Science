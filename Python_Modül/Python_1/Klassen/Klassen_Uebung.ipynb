{
 "cells": [
  {
   "cell_type": "markdown",
   "id": "78d1f040-2120-4342-b165-623378612839",
   "metadata": {},
   "source": [
    "# Klassen Übungen:\n"
   ]
  },
  {
   "cell_type": "markdown",
   "id": "ec7f6c4c-9995-4cbc-ae47-d8c7108cd6e3",
   "metadata": {},
   "source": [
    "## Übung 1: Eine leere Klasse für ein Auto (5 Min.)\n",
    "**Aufgabe**: Erstelle eine Klasse Auto, ohne Attribute oder Methoden. Wir können später entscheiden, welche Informationen wir hinzufügen wollen."
   ]
  },
  {
   "cell_type": "code",
   "execution_count": 1,
   "id": "78e51fe1-fb6e-43f9-952b-dad5bde2465c",
   "metadata": {},
   "outputs": [
    {
     "name": "stdout",
     "output_type": "stream",
     "text": [
      "<class '__main__.Auto'>\n"
     ]
    }
   ],
   "source": [
    "# Schreibt bitte eure Lösung hier\n",
    "class Auto:\n",
    "    pass\n",
    "\n",
    "mein_auto = Auto()\n",
    "print(type(mein_auto))"
   ]
  },
  {
   "cell_type": "markdown",
   "id": "974d96fa-4ca0-4e0c-81fd-0e317ae1be4f",
   "metadata": {},
   "source": [
    "## Übung 2: Eine einfache Klasse für einen Hund (15 Min.)\n",
    "**Aufgabe**: Erstelle eine Klasse Hund, die den Namen und das Alter eines Hundes speichert. Füge eine Methode bellen() hinzu, die \"Wuff!\" ausgibt."
   ]
  },
  {
   "cell_type": "code",
   "execution_count": 21,
   "id": "184f35d3-2703-48ee-9db8-7c204e6c2323",
   "metadata": {},
   "outputs": [],
   "source": [
    "# Schreibt bitte eure Lösung hier\n",
    "class Hund:\n",
    "    def __init__(self, name, alter):\n",
    "        self.name = name\n",
    "        self.alter = alter\n",
    "    def bellen(self):\n",
    "        print(\"Wuff!\")\n",
    "  \n",
    "        "
   ]
  },
  {
   "cell_type": "code",
   "execution_count": 25,
   "id": "2055478c-36b6-4a7e-9073-b4d20514ba88",
   "metadata": {},
   "outputs": [
    {
     "name": "stdout",
     "output_type": "stream",
     "text": [
      "Der name ist Karabas und er ist 3 Jahre alt.\n"
     ]
    }
   ],
   "source": [
    "Hund_1 = Hund(\"Karabas\" , 3)\n",
    "print(f\"Der name ist {Hund_1.name} und er ist {Hund_1.alter} Jahre alt.\")"
   ]
  },
  {
   "cell_type": "code",
   "execution_count": 23,
   "id": "fbd0783f-354e-4fda-94cd-c09f7b0f52fa",
   "metadata": {},
   "outputs": [
    {
     "name": "stdout",
     "output_type": "stream",
     "text": [
      "Wuff!\n"
     ]
    }
   ],
   "source": [
    "Hund_1.bellen()"
   ]
  },
  {
   "cell_type": "markdown",
   "id": "8dd6526d-0085-433c-82cb-224bd7e12021",
   "metadata": {},
   "source": [
    "## Übung 3: Einfache Klasse für eine Person (15 Min.)\n",
    "**Aufgabe**: Erstelle eine Klasse Person, die den Namen und das Alter einer Person speichert. Füge eine Methode vorstellen() hinzu, die sich selbst vorstellt."
   ]
  },
  {
   "cell_type": "code",
   "execution_count": 52,
   "id": "2915b530-0acb-49e5-941e-99e93b1f2dab",
   "metadata": {},
   "outputs": [],
   "source": [
    "# Schreibt bitte eure Lösung hier\n",
    "class Person:\n",
    "    def __init__(self, name, alter):\n",
    "        self.name = name\n",
    "        self.alter = alter\n",
    "        \n",
    "    def __str__(self):\n",
    "        return f\"Mein name ist {self.name} und ich bin {self.alter} jahre alt.\"\n",
    "\n",
    "    def vorstellen(self):\n",
    "        print(f\"Ich bin {self.name} und {self.alter} Jahre alt.\")"
   ]
  },
  {
   "cell_type": "code",
   "execution_count": 53,
   "id": "6a11f924-b3fc-44f9-abe4-a6999c21e74c",
   "metadata": {},
   "outputs": [
    {
     "data": {
      "text/plain": [
       "('Onur', 31)"
      ]
     },
     "execution_count": 53,
     "metadata": {},
     "output_type": "execute_result"
    }
   ],
   "source": [
    "person_1 = Person(\"Onur\", 31)\n",
    "person_1.name, person_1.alter"
   ]
  },
  {
   "cell_type": "code",
   "execution_count": 54,
   "id": "e5819f98-a9ff-4cc4-be01-327c5ee45ed8",
   "metadata": {},
   "outputs": [
    {
     "name": "stdout",
     "output_type": "stream",
     "text": [
      "Ich bin Onur und 31 Jahre alt.\n"
     ]
    }
   ],
   "source": [
    "person_1.vorstellen()"
   ]
  },
  {
   "cell_type": "code",
   "execution_count": 55,
   "id": "839e9369-4c62-48f0-9ac8-d28a9bab55fa",
   "metadata": {},
   "outputs": [
    {
     "name": "stdout",
     "output_type": "stream",
     "text": [
      "Mein name ist Onur und ich bin 31 jahre alt.\n"
     ]
    }
   ],
   "source": [
    "print(person_1)  # __str__(self"
   ]
  },
  {
   "cell_type": "markdown",
   "id": "99b8aa98-635f-4bb9-83c6-25bdf58d2310",
   "metadata": {},
   "source": [
    "## Übung 4: Klasse für ein Auto mit Geschwindigkeit (20 Min.)\n",
    "**Aufgabe**: Erstelle eine Klasse Auto, die die Marke und die aktuelle Geschwindigkeit speichert. Füge Methoden hinzu, um die Geschwindigkeit zu erhöhen und zu verringern."
   ]
  },
  {
   "cell_type": "code",
   "execution_count": 113,
   "id": "f8538e85-e552-4797-a2c8-4ee7168e9cbc",
   "metadata": {},
   "outputs": [],
   "source": [
    "class Auto:\n",
    "    def __init__(self, marke, geschwindigkeit):\n",
    "        self.marke = marke\n",
    "        self.geschwindigkeit = geschwindigkeit\n",
    "\n",
    "    def __str__(self):\n",
    "        return f\"{self.marke} kann bis {self.geschwindigkeit} fahren\"\n",
    "\n",
    "    def erhoehen(self, menge):\n",
    "        self.geschwindigkeit = self.geschwindigkeit + menge\n",
    "        print(f\"Das auto beschleunigt sich auf {self.geschwindigkeit} KM\")\n",
    "\n",
    "    def verringern(self, menge):\n",
    "        self.geschwindigkeit = self.geschwindigkeit - menge\n",
    "        if self.geschwindigkeit < 0:\n",
    "            self.geschwindigkeit = 0\n",
    "        print(f\"Das auto bremst auf {self.geschwindigkeit} KM\")\n"
   ]
  },
  {
   "cell_type": "code",
   "execution_count": 114,
   "id": "f865b0ac-cc05-4aae-9c5f-bda311f3cd09",
   "metadata": {},
   "outputs": [
    {
     "name": "stdout",
     "output_type": "stream",
     "text": [
      "<class 'type'>\n",
      "BMW kann bis 260 fahren\n"
     ]
    }
   ],
   "source": [
    "auto_1 = Auto(\"BMW\", 260)\n",
    "print(type(str))\n",
    "\n",
    "print(auto_1)"
   ]
  },
  {
   "cell_type": "code",
   "execution_count": 115,
   "id": "2104f857-59bb-4bad-99c9-15df5c801221",
   "metadata": {},
   "outputs": [
    {
     "name": "stdout",
     "output_type": "stream",
     "text": [
      "Das auto beschleunigt sich auf 290 KM\n",
      "Das auto bremst auf 0 KM\n"
     ]
    }
   ],
   "source": [
    "auto_1.erhoehen(30)\n",
    "auto_1.verringern(300)\n"
   ]
  },
  {
   "cell_type": "markdown",
   "id": "b125c302-454f-45b3-8128-8878894ea41f",
   "metadata": {},
   "source": [
    "## Übung 5: Klasse für ein Buch (15 Min.)\n",
    "**Aufgabe**: Erstelle eine Klasse Buch, die den Titel und den Autor eines Buches speichert. Füge eine Methode buch_info() hinzu, die die Informationen des Buches anzeigt."
   ]
  },
  {
   "cell_type": "code",
   "execution_count": 123,
   "id": "5a719707-b2dd-494b-9adf-109d94ce7148",
   "metadata": {},
   "outputs": [],
   "source": [
    "# Schreibt bitte eure Lösung hier\n",
    "class Buch:\n",
    "    def __init__(self, titel, autor):\n",
    "        self.titel = titel\n",
    "        self.autor = autor\n",
    "\n",
    "    def buch_info(self):\n",
    "        print(f\"Das Buch \\\"{self.titel}\\\" wurde von {self.autor} geschrieben.\")\n"
   ]
  },
  {
   "cell_type": "code",
   "execution_count": 124,
   "id": "cc759148-9131-43c3-9746-397e63b95538",
   "metadata": {},
   "outputs": [
    {
     "name": "stdout",
     "output_type": "stream",
     "text": [
      "Das Buch \"test\" wurde von Alex geschrieben.\n"
     ]
    }
   ],
   "source": [
    "buch_1 = Buch(\"test\", \"Alex\")\n",
    "buch_1.buch_info()"
   ]
  },
  {
   "cell_type": "markdown",
   "id": "ea3834fb-415e-4641-b0a8-1aea6297fde7",
   "metadata": {},
   "source": [
    "## Übung 6: Klasse für einen Taschenrechner (20 Min.)\n",
    "**Aufgabe**: Erstelle eine Klasse Taschenrechner, die einfache Rechenoperationen wie Addition und Subtraktion durchführt."
   ]
  },
  {
   "cell_type": "code",
   "execution_count": 9,
   "id": "c909db01-2a1f-4914-8208-4c959e6c2163",
   "metadata": {},
   "outputs": [],
   "source": [
    "# Schreibt bitte eure Lösung hier\n",
    "class Taschenrechner:\n",
    "    def __init__(self, x, y):\n",
    "        self.x = x\n",
    "        self.y = y\n",
    "       \n",
    "    def addieren(self):\n",
    "       return self.x + self.y\n",
    "        \n",
    "    def subtrahieren(self):\n",
    "        return self.x - self.y\n",
    "\n",
    "    def multiplizieren(self):\n",
    "        return self.x * self.y\n",
    "\n",
    "    def dividieren(self):\n",
    "        if self.y != 0:\n",
    "            return self.x / self.y\n",
    "        else:\n",
    "            print(\"Man kann nicht durch Null dividieren\")\n"
   ]
  },
  {
   "cell_type": "code",
   "execution_count": 10,
   "id": "dc869d0f-0d2d-4a2f-a56f-3e36d889411d",
   "metadata": {},
   "outputs": [
    {
     "name": "stdout",
     "output_type": "stream",
     "text": [
      "30\n",
      "10\n",
      "200\n",
      "2.0\n"
     ]
    }
   ],
   "source": [
    "rechner = Taschenrechner(20,10)\n",
    "\n",
    "print(rechner.addieren())\n",
    "print(rechner.subtrahieren())\n",
    "print(rechner.multiplizieren())\n",
    "print(rechner.dividieren())\n"
   ]
  },
  {
   "cell_type": "code",
   "execution_count": 14,
   "id": "f4e69841-21a1-4b00-b2b3-51d819400bd6",
   "metadata": {},
   "outputs": [
    {
     "name": "stdout",
     "output_type": "stream",
     "text": [
      "Man kann nicht durch Null dividieren\n"
     ]
    }
   ],
   "source": [
    "rechner.y = 0\n",
    "rechner.dividieren()"
   ]
  },
  {
   "cell_type": "code",
   "execution_count": null,
   "id": "84f7b4eb-458a-4e24-bc80-a2f287aa173b",
   "metadata": {},
   "outputs": [],
   "source": []
  },
  {
   "cell_type": "markdown",
   "id": "380270a9-417b-4d81-bebe-ed75b04a8bb1",
   "metadata": {},
   "source": [
    "## Übung 7: Einfacher Warenkorb (30 Min.)\n",
    "\n",
    "Erstelle eine Klasse `Warenkorb`, die folgende Funktionen unterstützt:\n",
    "\n",
    "1. **Artikel hinzufügen:** Füge einen Artikel mit einem Namen und Preis zum Warenkorb hinzu.\n",
    "2. **Artikel entfernen:** Entferne einen Artikel aus dem Warenkorb.\n",
    "3. **Gesamtpreis berechnen:** Berechne die Summe der Preise aller Artikel im Warenkorb.\n",
    "4. **Warenkorb anzeigen:** Zeige alle Artikel im Warenkorb und den Gesamtpreis an."
   ]
  },
  {
   "cell_type": "code",
   "execution_count": 3,
   "id": "13a303d4-2835-4dfa-93cd-159da7322447",
   "metadata": {},
   "outputs": [],
   "source": [
    "# Schreibt bitte eure Lösung hier\n",
    "class Warenkorb:\n",
    "    def __init__(self):\n",
    "        self.artikel = []\n",
    "\n",
    "    def artikel_hinzufuegen(self, name, preis):\n",
    "        self.artikel.append({\"name\": name, \"preis\":preis})\n",
    "        print(f\"Artikel `{name}´ wurde hinzugefügt.\")\n",
    "\n",
    "    def artikel_entfernen(self, name):\n",
    "        for item in self.artikel:\n",
    "            if item[\"name\"] == name:\n",
    "                self.artikel.remove(item)\n",
    "                print(f\"Artikel `{name}´ wurde entfernt\")\n",
    "                return\n",
    "        print(\"Artikel `{name}´ nicht gefunden.\")\n",
    "\n",
    "    def gesamtpreis_berechnen(self):\n",
    "        return sum(item[\"preis\"] for item in self.artikel)\n",
    "\n",
    "    def warenkorb_anzeigen(self):\n",
    "        if not self.artikel:\n",
    "            print(\"Der Warenkorb ist leer\")\n",
    "            return\n",
    "\n",
    "        print(\"Artikel im Warenkorb:\")\n",
    "        for item in self.artikel:\n",
    "             print(f\" - {item['name']}: {item['preis']} EUR\")\n",
    "        print(f\"Gesamtpreis: {self.gesamtpreis_berechnen()} EUR\")\n",
    "        "
   ]
  },
  {
   "cell_type": "code",
   "execution_count": 4,
   "id": "f0d5f221-3ab4-4133-8db6-ae25893a542c",
   "metadata": {},
   "outputs": [
    {
     "name": "stdout",
     "output_type": "stream",
     "text": [
      "Artikel `Apfel´ wurde hinzugefügt.\n",
      "Artikel `Brot´ wurde hinzugefügt.\n",
      "Artikel im Warenkorb:\n",
      " - Apfel: 1.2 EUR\n",
      " - Brot: 2.5 EUR\n",
      "Gesamtpreis: 3.7 EUR\n"
     ]
    }
   ],
   "source": [
    "warenkorb = Warenkorb()\n",
    "warenkorb.artikel_hinzufuegen(\"Apfel\", 1.2)\n",
    "warenkorb.artikel_hinzufuegen(\"Brot\", 2.5)\n",
    "warenkorb.warenkorb_anzeigen()\n"
   ]
  },
  {
   "cell_type": "code",
   "execution_count": 5,
   "id": "8e9ba227-4707-4963-b385-99b00c172624",
   "metadata": {},
   "outputs": [
    {
     "name": "stdout",
     "output_type": "stream",
     "text": [
      "Artikel `Apfel´ wurde entfernt\n",
      "Artikel im Warenkorb:\n",
      " - Brot: 2.5 EUR\n",
      "Gesamtpreis: 2.5 EUR\n"
     ]
    }
   ],
   "source": [
    "warenkorb.artikel_entfernen(\"Apfel\")\n",
    "warenkorb.warenkorb_anzeigen()"
   ]
  },
  {
   "cell_type": "code",
   "execution_count": null,
   "id": "7c2cee28-257e-4ece-80b8-1a1941c12232",
   "metadata": {},
   "outputs": [],
   "source": []
  }
 ],
 "metadata": {
  "kernelspec": {
   "display_name": "Python 3 (ipykernel)",
   "language": "python",
   "name": "python3"
  },
  "language_info": {
   "codemirror_mode": {
    "name": "ipython",
    "version": 3
   },
   "file_extension": ".py",
   "mimetype": "text/x-python",
   "name": "python",
   "nbconvert_exporter": "python",
   "pygments_lexer": "ipython3",
   "version": "3.12.7"
  }
 },
 "nbformat": 4,
 "nbformat_minor": 5
}
