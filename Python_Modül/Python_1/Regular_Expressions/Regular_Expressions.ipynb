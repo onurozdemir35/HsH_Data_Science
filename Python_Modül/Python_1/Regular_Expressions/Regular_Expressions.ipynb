{
 "cells": [
  {
   "cell_type": "markdown",
   "id": "c474029f-56ed-4aa8-98e2-aff0b82e64a7",
   "metadata": {},
   "source": [
    "# Regular Expressions\n"
   ]
  },
  {
   "cell_type": "markdown",
   "id": "c91279d9-ee3a-4879-82af-5d04d47b4cfb",
   "metadata": {},
   "source": [
    "- **Regular Expressions (Reguläre Ausdrücke)** sind Muster, mit denen Text durchsucht, ersetzt oder extrahiert werden kann. In Python wird das Modul `re` verwendet, um mit regulären Ausdrücken zu arbeiten.\n",
    "\n",
    "- **Importieren des Moduls**:\n",
    "```python\n",
    "import re\n",
    "```\n",
    "\n",
    "## Vorteile von regulären Ausdrücken:\n",
    "- Sehr mächtig und flexibel bei der Textanalyse und -manipulation.\n",
    "- Effizient, besonders für komplexe Such- und Ersetzungsoperationen.\n",
    "\n",
    " \n"
   ]
  },
  {
   "cell_type": "markdown",
   "id": "fa4bf1a9-97d8-4c08-b858-6a6e2764a791",
   "metadata": {},
   "source": [
    "## Beispiele von regulären Ausdrücken:\n",
    "- **`r\"\\d+\"`**: Eine oder mehr Ziffern.\n",
    "- **`r\"[A-Za-z]+\"`**: Eine oder mehr Buchstaben (Groß- oder Kleinbuchstaben).\n",
    "- **`r\"^\\d{4}$\"`**: Genau 4 Ziffern am Anfang und Ende der Zeichenkette."
   ]
  },
  {
   "cell_type": "markdown",
   "id": "564854b5-4958-419f-aff4-4440e7781e28",
   "metadata": {},
   "source": [
    "## Beispiele:\n",
    "\n",
    "1. **`re.match()`** – Überprüfen, ob der reguläre Ausdruck am Anfang der Zeichenkette übereinstimmt:\n",
    "   ```python\n",
    " "
   ]
  },
  {
   "cell_type": "code",
   "execution_count": 27,
   "id": "33790bc6-5bc5-464a-ac18-ebd0bb4b7eaf",
   "metadata": {},
   "outputs": [
    {
     "name": "stdout",
     "output_type": "stream",
     "text": [
      "Ja! Der reguläre Ausdruck am Anfang der Zeichenkette übereinstimmt!\n"
     ]
    }
   ],
   "source": [
    "import re\n",
    "text = \"Python ist cool\"\n",
    "match = re.match(\"Python\", text)\n",
    "\n",
    "if match:\n",
    "    print(\"Ja! Der reguläre Ausdruck am Anfang der Zeichenkette übereinstimmt!\")\n",
    "else:\n",
    "    print(\"Keine Übereinstimmung\")\n"
   ]
  },
  {
   "cell_type": "code",
   "execution_count": 26,
   "id": "fc0f70a5-3b32-47ae-9542-cb914cf64040",
   "metadata": {},
   "outputs": [
    {
     "name": "stdout",
     "output_type": "stream",
     "text": [
      "Keine Übereinstimmung\n"
     ]
    }
   ],
   "source": [
    "import re\n",
    "text = \"Java ist cool\"\n",
    "match = re.match(\"Python\", text)\n",
    "\n",
    "if match:\n",
    "    print(\"Ja! Der reguläre Ausdruck am Anfang der Zeichenkette übereinstimmt!\")\n",
    "else:\n",
    "    print(\"Keine Übereinstimmung\")\n"
   ]
  },
  {
   "cell_type": "markdown",
   "id": "077236b7-a909-43c3-8864-c87f8569ec6f",
   "metadata": {},
   "source": [
    "2. **`re.search()`** – Nach einem Muster in der gesamten Zeichenkette suchen:\n",
    "\n",
    " "
   ]
  },
  {
   "cell_type": "code",
   "execution_count": 51,
   "id": "e1a0764e-93b8-4ddf-89df-87583e1cca01",
   "metadata": {},
   "outputs": [
    {
     "name": "stdout",
     "output_type": "stream",
     "text": [
      "Ja! Wir haben eine Übereinstimmung!\n"
     ]
    }
   ],
   "source": [
    "import re\n",
    "\n",
    "text = \"Ich liebe Python\"\n",
    "pattern = r\"Python\"\n",
    "\n",
    "search = re.search(pattern, text)\n",
    "\n",
    "if search:\n",
    "    print(\"Ja! Wir haben eine Übereinstimmung!\")\n",
    "else:\n",
    "    print(\"Keine Übereinstimmung\")\n"
   ]
  },
  {
   "cell_type": "markdown",
   "id": "37d31f41-e8e9-4402-8ead-15430b8e420a",
   "metadata": {},
   "source": [
    "3. **`re.findall()`** – Alle Übereinstimmungen des Musters finden:\n"
   ]
  },
  {
   "cell_type": "code",
   "execution_count": 52,
   "id": "be1cb9b9-7a6a-486c-9de8-aaa500f98743",
   "metadata": {},
   "outputs": [
    {
     "name": "stdout",
     "output_type": "stream",
     "text": [
      "['1', '2', '3', '4', '5', '6']\n"
     ]
    }
   ],
   "source": [
    "import re\n",
    "text = \"Die Zahlen sind 123 und 456\"\n",
    "numbers = re.findall(r\"\\d\", text)\n",
    "#numbers = re.findall(\"[0-9]\", text)\n",
    "print(numbers)   \n",
    " \n"
   ]
  },
  {
   "cell_type": "markdown",
   "id": "0f646965-dac9-4651-b14e-261830f1e48e",
   "metadata": {},
   "source": [
    "4. **`re.sub()`** – Text ersetzen:"
   ]
  },
  {
   "cell_type": "code",
   "execution_count": 53,
   "id": "c33d9c2f-7e23-4515-8140-011c421e2ed1",
   "metadata": {},
   "outputs": [
    {
     "name": "stdout",
     "output_type": "stream",
     "text": [
      "Das ist neu\n"
     ]
    }
   ],
   "source": [
    "import re\n",
    "text = \"Das ist alt\"\n",
    "replaced = re.sub(\"alt\", \"neu\", text)\n",
    "print(replaced)  # Ausgabe: \"Das ist neu\"\n"
   ]
  },
  {
   "cell_type": "markdown",
   "id": "83d1e8a7-8b66-43c8-ad03-67eb315fd5c5",
   "metadata": {},
   "source": [
    "5. **`re.split()`** – Zeichenkette aufteilen:"
   ]
  },
  {
   "cell_type": "code",
   "execution_count": 54,
   "id": "9258a394-8b6b-4c73-82d4-f140b580dfe2",
   "metadata": {},
   "outputs": [
    {
     "name": "stdout",
     "output_type": "stream",
     "text": [
      "['Apfel', 'Banane', 'Orange']\n"
     ]
    }
   ],
   "source": [
    "import re\n",
    "text = \"Apfel, Banane,  Orange\"\n",
    "result = re.split(r\",\\s*\", text)\n",
    "print(result)  # Ausgabe: ['Apfel', 'Banane', 'Orange']\n"
   ]
  },
  {
   "cell_type": "markdown",
   "id": "e0908fee-d56e-41f7-b81c-537437c58753",
   "metadata": {},
   "source": [
    "## Wichtige Funktionen:\n",
    "| Funktion        | Beschreibung                                                                 | Beispiel                                                      |\n",
    "|-----------------|------------------------------------------------------------------------------|---------------------------------------------------------------|\n",
    "| `re.search()`   | Sucht nach einem Muster in einer Zeichenkette und gibt das erste Vorkommen zurück. | `re.search(r\"\\d+\", \"Die Zahl ist 123\")` → `123`              |\n",
    "| `re.match()`    | Überprüft, ob ein Muster am Anfang der Zeichenkette übereinstimmt.           | `re.match(r\"\\d+\", \"123abc\")` → `123`                          |\n",
    "| `re.findall()`  | Gibt eine Liste aller Vorkommen des Musters in einer Zeichenkette zurück.    | `re.findall(r\"\\d+\", \"1, 2, 3 und 4\")` → `['1', '2', '3', '4']` |\n",
    "| `re.sub()`      | Ersetzt alle Vorkommen eines Musters in einer Zeichenkette durch einen angegebenen Ersatzstring. | `re.sub(r\"\\d+\", \"X\", \"Die Zahl ist 123\")` → `Die Zahl ist X` |\n",
    "| `re.split()`    | Teilt eine Zeichenkette anhand eines Musters und gibt eine Liste der Teile zurück. | `re.split(r\"\\s+\", \"Dies ist ein Test\")` → `['Dies', 'ist', 'ein', 'Test']` |\n",
    "| `re.finditer()` | Gibt einen Iterator zurück, der alle Übereinstimmungen als `Match`-Objekte liefert. | `re.finditer(r\"\\d+\", \"Die Zahl ist 123 und 456\")` → `Match('123'), Match('456')` |`re.split(r'\\s+', 'abc 123 xyz 456')` gibt `['abc', '123', 'xyz', '456']` zurück. |\n",
    "\n"
   ]
  },
  {
   "cell_type": "code",
   "execution_count": 60,
   "id": "61ef8a30-414b-417b-a617-f903b6df22d3",
   "metadata": {},
   "outputs": [
    {
     "name": "stdout",
     "output_type": "stream",
     "text": [
      "<re.Match object; span=(0, 3), match='123'>\n"
     ]
    }
   ],
   "source": [
    "print(re.match(r\"\\d+\", \"123abc\"))"
   ]
  },
  {
   "cell_type": "markdown",
   "id": "5390607a-b707-444a-bd2b-79b5ed63368f",
   "metadata": {},
   "source": [
    "## Wichtige reguläre Ausdrucks-Symbole\n",
    "\n",
    "| Symbol | Beschreibung                                           |\n",
    "|--------|--------------------------------------------------------|\n",
    "| `.`    | Ein beliebiges Zeichen (außer dem Zeilenumbruch)        |\n",
    "| `\\d`   | Eine Ziffer (entspricht `[0-9]`)                       |\n",
    "| `\\w`   | Ein alphanumerisches Zeichen (entspricht `[a-zA-Z0-9_]`)|\n",
    "| `\\s`   | Ein Leerzeichen oder Tabulator                         |\n",
    "| `+`    | Ein oder mehr Vorkommen des vorhergehenden Musters     |\n",
    "| `*`    | Null oder mehr Vorkommen des vorhergehenden Musters    |\n",
    "| `?`    | Null oder ein Vorkommen des vorhergehenden Musters     |\n",
    "| `[]`   | Eine Reihe von Charakteren (z. B. `[a-z]` für alle Kleinbuchstaben) |\n",
    "| `\\|`   | Oder (z. B. `a\\|b` für \"a oder b\")                     |\n",
    "| `()`   | Eine Gruppe, die es ermöglicht, Teile des Musters zusammenzufassen und später zu referenzieren (z. B. `(abc)` für das Wort \"abc\") |\n"
   ]
  },
  {
   "cell_type": "markdown",
   "id": "b838e713-157e-40d0-b8c3-4b3b2ec7a7be",
   "metadata": {},
   "source": [
    "## Beispiel: Regulärer Ausdruck für ein Passwort mit Zahlen und Buchstaben"
   ]
  },
  {
   "cell_type": "code",
   "execution_count": 73,
   "id": "a397c585-1f70-4e4a-998e-2c32ac86f3e8",
   "metadata": {},
   "outputs": [
    {
     "name": "stdout",
     "output_type": "stream",
     "text": [
      "Gültiges Passwort\n"
     ]
    }
   ],
   "source": [
    "import re\n",
    "\n",
    "# Regulärer Ausdruck: Ein Passwort mit mindestens einem Buchstaben und einer Zahl\n",
    "pattern = r\"^(?=.*[a-zA-Z])(?=.*\\d)[a-zA-Z\\d]+$\"\n",
    "\n",
    "# Testzeichenkette\n",
    "password = \"Passwort123\"\n",
    "\n",
    "# Verwende re.match(), um zu überprüfen, ob das Passwort gültig ist\n",
    "result = re.match(pattern, password)\n",
    "\n",
    "if result:\n",
    "    print(\"Gültiges Passwort\")\n",
    "else:\n",
    "    print(\"Ungültiges Passwort\")\n"
   ]
  },
  {
   "cell_type": "markdown",
   "id": "a2daae2b-757f-43ae-a2c2-1c8a567386cb",
   "metadata": {},
   "source": [
    "### Erklärung des regulären Ausdrucks:\n",
    "- `^`: Beginn der Zeichenkette.\n",
    "- `(?=.*[a-zA-Z])`: Positive Lookahead für mindestens einen Buchstaben (sowohl Groß- als auch Kleinbuchstaben).\n",
    "- `(?=.*\\d)`: Positive Lookahead für mindestens eine Ziffer.\n",
    "- `[a-zA-Z\\d]+`: Erlaubt nur Buchstaben und Ziffern in der Zeichenkette (mindestens ein Zeichen).\n",
    "- `$`: Ende der Zeichenkette.\n",
    "\n",
    "### Funktionsweise:\n",
    "- `(?=.*[a-zA-Z])`: Der Ausdruck sucht nach mindestens einem beliebigen Buchstaben (Groß- oder Kleinbuchstabe).\n",
    "- `(?=.*\\d)`: Der Ausdruck sucht nach mindestens einer Ziffer.\n",
    "- `[a-zA-Z\\d]+`: Der Ausdruck erlaubt nur Buchstaben (a-zA-Z) und Ziffern (0-9) in der gesamten Zeichenkette.\n"
   ]
  },
  {
   "cell_type": "code",
   "execution_count": null,
   "id": "1071e8f0-493f-449c-a0e5-d4303ae7ee93",
   "metadata": {},
   "outputs": [],
   "source": []
  }
 ],
 "metadata": {
  "kernelspec": {
   "display_name": "Python 3 (ipykernel)",
   "language": "python",
   "name": "python3"
  },
  "language_info": {
   "codemirror_mode": {
    "name": "ipython",
    "version": 3
   },
   "file_extension": ".py",
   "mimetype": "text/x-python",
   "name": "python",
   "nbconvert_exporter": "python",
   "pygments_lexer": "ipython3",
   "version": "3.12.7"
  }
 },
 "nbformat": 4,
 "nbformat_minor": 5
}
