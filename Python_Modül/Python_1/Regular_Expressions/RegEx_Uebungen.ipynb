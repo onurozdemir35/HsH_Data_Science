{
 "cells": [
  {
   "cell_type": "markdown",
   "id": "9d047a7e-7c99-4298-892e-97321658ef2f",
   "metadata": {},
   "source": [
    "# 1. Übung: Einfache Übereinstimmung mit einem Wort (5 Min.)\n",
    "\n",
    "**Aufgabe:** Überprüfen, ob das Wort „Python“ im Text enthalten ist.\n"
   ]
  },
  {
   "cell_type": "code",
   "execution_count": 1,
   "id": "e82107b0-2adf-4e9a-b59d-555a851bd1c4",
   "metadata": {},
   "outputs": [],
   "source": [
    "# Schreibt bitte eure Lösung hier\n"
   ]
  },
  {
   "cell_type": "markdown",
   "id": "583e1340-2f7f-4bbb-9e14-92c48b6b4cc9",
   "metadata": {},
   "source": [
    "# 2. Übung: Eine Zahl überprüfen (5 Min.)\n",
    "\n",
    "**Aufgabe:** Überprüfen, ob eine Zahl im Text enthalten ist.\n",
    " \n"
   ]
  },
  {
   "cell_type": "code",
   "execution_count": 2,
   "id": "4671b1fe-f501-40cf-a944-f4c5fd1be39f",
   "metadata": {},
   "outputs": [],
   "source": [
    "# Schreibt bitte eure Lösung hier\n"
   ]
  },
  {
   "cell_type": "markdown",
   "id": "1a0a031e-5c88-4f68-bbd1-2076a3221081",
   "metadata": {},
   "source": [
    "# 3. Übung: Einfache Übereinstimmung mit einem Wort am Anfang (5 Min.)\n",
    "\n",
    "**Aufgabe:** Überprüfen, ob der Text mit dem Wort „Start“ beginnt.\n",
    "\n",
    " "
   ]
  },
  {
   "cell_type": "code",
   "execution_count": 3,
   "id": "9e4e90c6-2eb4-4f4d-8b33-24ccfc6e2e7f",
   "metadata": {},
   "outputs": [],
   "source": [
    "# Schreibt bitte eure Lösung hier\n"
   ]
  },
  {
   "cell_type": "markdown",
   "id": "7333fdc4-8dbc-489c-a9ab-24eba68c8de4",
   "metadata": {},
   "source": [
    "# 4. Übung: Einfacher Textersatz (5 Min.)\n",
    " \n",
    "**Aufgabe:** Ersetzen des Wortes „Python“ durch „Java“ im Text.\n",
    " "
   ]
  },
  {
   "cell_type": "code",
   "execution_count": 4,
   "id": "9fd8d9ca-7123-40ca-b4c6-5b8e749b2b59",
   "metadata": {},
   "outputs": [],
   "source": [
    "# Schreibt bitte eure Lösung hier\n"
   ]
  },
  {
   "cell_type": "markdown",
   "id": "66ad8dc5-b2e6-4e7a-b615-98aa507695b0",
   "metadata": {},
   "source": [
    "# 5. Übung: Überprüfung einer gültigen E-Mail-Adresse (10 Min.)\n",
    "\n",
    "**Aufgabe**: Erstelle ein Python-Skript, das überprüft, ob eine eingegebene E-Mail-Adresse im richtigen Format vorliegt.\n",
    " \n"
   ]
  },
  {
   "cell_type": "code",
   "execution_count": 5,
   "id": "36668174-eac9-43ae-9811-477ee74136c0",
   "metadata": {},
   "outputs": [],
   "source": [
    "# Schreibt bitte eure Lösung hier\n"
   ]
  },
  {
   "cell_type": "code",
   "execution_count": null,
   "id": "34244695-41d2-4097-910a-2bfced7dd03d",
   "metadata": {},
   "outputs": [],
   "source": [
    "\n"
   ]
  }
 ],
 "metadata": {
  "kernelspec": {
   "display_name": "Python 3 (ipykernel)",
   "language": "python",
   "name": "python3"
  },
  "language_info": {
   "codemirror_mode": {
    "name": "ipython",
    "version": 3
   },
   "file_extension": ".py",
   "mimetype": "text/x-python",
   "name": "python",
   "nbconvert_exporter": "python",
   "pygments_lexer": "ipython3",
   "version": "3.12.2"
  }
 },
 "nbformat": 4,
 "nbformat_minor": 5
}
