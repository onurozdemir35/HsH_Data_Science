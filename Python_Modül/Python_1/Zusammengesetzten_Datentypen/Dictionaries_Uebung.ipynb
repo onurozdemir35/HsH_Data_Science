{
 "cells": [
  {
   "cell_type": "markdown",
   "id": "39585e3b-6ae8-4812-b346-f0b4986d448a",
   "metadata": {},
   "source": [
    "# Aufgaben zu Dictionaries in Python\n",
    "\n",
    "## Aufgabe 1: Erstelle ein Dictionary\n",
    "Erstelle ein Dictionary, das die Namen von drei Personen als Schlüssel und deren Alter als Werte speichert. Gebe das Alter einer Person anhand ihres Namens aus.\n"
   ]
  },
  {
   "cell_type": "code",
   "execution_count": 2,
   "id": "712b55fb-61c4-4c12-98e1-61d733081f71",
   "metadata": {},
   "outputs": [
    {
     "name": "stdout",
     "output_type": "stream",
     "text": [
      "30\n"
     ]
    }
   ],
   "source": [
    "# Schreibt bitte eure Lösung hier\n",
    "dict_1 = {\"Alice\" : 30 , \"Mark\" : 35, \"Anna\" : 40}\n",
    "print(dict_1[\"Alice\"])"
   ]
  },
  {
   "cell_type": "markdown",
   "id": "bf729798-b5fc-4c57-88c7-c6c452db7bfc",
   "metadata": {},
   "source": [
    "## Aufgabe 2: Hinzufügen eines neuen Eintrags\n",
    "Füge ein neues Paar von Name und Alter zu dem Dictionary hinzu. Gebe das vollständige Dictionary aus."
   ]
  },
  {
   "cell_type": "code",
   "execution_count": 4,
   "id": "f5e5a7fb-ee55-4045-b640-a4fcaae8818f",
   "metadata": {},
   "outputs": [
    {
     "name": "stdout",
     "output_type": "stream",
     "text": [
      "{'Alice': 30, 'Mark': 35, 'Anna': 40, 'Otto': 45}\n"
     ]
    }
   ],
   "source": [
    "# Schreibt bitte eure Lösung hier\n",
    "dict_1[\"Otto\"] = 45\n",
    "print(dict_1)"
   ]
  },
  {
   "cell_type": "markdown",
   "id": "cb646bce-a97f-401c-82dd-eeb94bb0452d",
   "metadata": {},
   "source": [
    "## Aufgabe 3: Ändern eines Wertes\n",
    "Ändere das Alter von Bob und gebe das vollständige Dictionary aus."
   ]
  },
  {
   "cell_type": "code",
   "execution_count": 7,
   "id": "992abdc8-d533-4bd8-bab4-891c99a98caf",
   "metadata": {},
   "outputs": [
    {
     "name": "stdout",
     "output_type": "stream",
     "text": [
      "{'Alice': 30, 'Mark': 35, 'Anna': 40, 'Otto': 45, 'Bob': 25}\n",
      "{'Alice': 30, 'Mark': 35, 'Anna': 40, 'Otto': 45, 'Bob': 30}\n"
     ]
    }
   ],
   "source": [
    "# Schreibt bitte eure Lösung hier\n",
    "dict_1[\"Bob\"] = 25\n",
    "print(dict_1)\n",
    "\n",
    "dict_1[\"Bob\"] = 30\n",
    "print(dict_1)"
   ]
  },
  {
   "cell_type": "markdown",
   "id": "5c24f482-125c-4ad6-8b4f-f9a71973f787",
   "metadata": {},
   "source": [
    "## Aufgabe 4: Entfernen eines Eintrags\n",
    "Entferne das Paar \"Charlie\" und dessen Alter aus dem Dictionary und gebe das Ergebnis aus."
   ]
  },
  {
   "cell_type": "code",
   "execution_count": 9,
   "id": "a0336d12-efc2-4159-8b01-e8387e53d5a0",
   "metadata": {},
   "outputs": [
    {
     "name": "stdout",
     "output_type": "stream",
     "text": [
      "{'Alice': 30, 'Mark': 35, 'Anna': 40, 'Otto': 45, 'Bob': 30, 'Charlie': 25}\n",
      "{'Alice': 30, 'Mark': 35, 'Anna': 40, 'Otto': 45, 'Bob': 30}\n"
     ]
    }
   ],
   "source": [
    "# Schreibt bitte eure Lösung hier\n",
    "dict_1[\"Charlie\"] = 25\n",
    "print(dict_1)\n",
    "\n",
    "del dict_1[\"Charlie\"]\n",
    "print(dict_1)"
   ]
  },
  {
   "cell_type": "markdown",
   "id": "5d6788f9-19de-4b1f-95dc-4c49409d838e",
   "metadata": {},
   "source": [
    "## Aufgabe 5: Überprüfen, ob ein Schlüssel existiert\n",
    "Prüfe, ob der Schlüssel \"Alice\" im Dictionary existiert und gebe eine entsprechende Nachricht aus."
   ]
  },
  {
   "cell_type": "code",
   "execution_count": 12,
   "id": "6a1e41ce-7aa6-415e-b1a8-7c2c90457312",
   "metadata": {},
   "outputs": [
    {
     "name": "stdout",
     "output_type": "stream",
     "text": [
      "Alice ist vorhanden.\n"
     ]
    }
   ],
   "source": [
    "# Schreibt bitte eure Lösung hier\n",
    "my_dict = {\"Alice\" : 1 , \"Martha\" : 2, \"Charlie\" : 3}\n",
    "\n",
    "if \"Alice\" in my_dict:\n",
    "    print(\"Alice ist vorhanden.\")\n",
    "else :\n",
    "    print(\"Alice ist nicht vorhanden.\")"
   ]
  },
  {
   "cell_type": "markdown",
   "id": "9bb435ee-91a1-43e3-9b51-465f535ca783",
   "metadata": {},
   "source": [
    "## Aufgabe 6: Berechnung des Durchschnittsalters\n",
    "Berechne das Durchschnittsalter der Personen im Dictionary."
   ]
  },
  {
   "cell_type": "code",
   "execution_count": 19,
   "id": "cd8d24cb-9550-49cd-af5b-8d34e9cb9f52",
   "metadata": {},
   "outputs": [
    {
     "name": "stdout",
     "output_type": "stream",
     "text": [
      "21\n"
     ]
    }
   ],
   "source": [
    "# Schreibt bitte eure Lösung hier\n",
    "my_dict2 = {\"Alice\" : 15 , \"Martha\" : 27, \"Charlie\" : 23}\n",
    "values = sum(my_dict2.values())\n",
    "lenght = len(my_dict.values())\n",
    "print(values // lenght)"
   ]
  },
  {
   "cell_type": "markdown",
   "id": "fa78331f-acf5-4ed4-94e1-90965e96470f",
   "metadata": {},
   "source": [
    "## Aufgabe 7: Dictionary mit Listen als Werten\n",
    "Erstelle ein Dictionary, bei dem die Schlüssel Tiere und die Werte Listen von Namen sind. Gebe alle Namen jedes Tieres aus."
   ]
  },
  {
   "cell_type": "code",
   "execution_count": 11,
   "id": "6c32640c-c20e-4cf8-a8a2-9b933fe1933e",
   "metadata": {},
   "outputs": [
    {
     "name": "stdout",
     "output_type": "stream",
     "text": [
      "Das Tier ist pferd und\n",
      " Der Name ist Küheylan\n",
      " Der Name ist Kisrak\n",
      "Das Tier ist Löwe und\n",
      " Der Name ist Simbad\n",
      " Der Name ist Kral\n",
      "Das Tier ist Hund und\n",
      " Der Name ist Rintintin\n",
      " Der Name ist Karabas\n"
     ]
    }
   ],
   "source": [
    "# Schreibt bitte eure Lösung hier\n",
    "my_dict7 = {\"pferd\" : [\"Küheylan\", \"Kisrak\"] , \"Löwe\" : [\"Simbad\",\"Kral\"],  \"Hund\" : [\"Rintintin\", \"Karabas\"]}\n",
    "\n",
    "\n",
    "for tier, names in my_dict7.items():\n",
    "    print(f\"Das Tier ist {tier} und\")\n",
    "    for name in names:\n",
    "        print(f\" Der Name ist {name}\")"
   ]
  },
  {
   "cell_type": "markdown",
   "id": "842debe3-11c1-46c9-bd41-e98063fc0c36",
   "metadata": {},
   "source": [
    "## Aufgabe 8: Durchlaufen des Dictionaries\n",
    "Durchlaufe das Dictionary und gebe jeden Namen mit dem dazugehörigen Alter aus."
   ]
  },
  {
   "cell_type": "code",
   "execution_count": 1,
   "id": "f4513a8a-2a06-4400-972b-d3be0f20e99c",
   "metadata": {},
   "outputs": [
    {
     "name": "stdout",
     "output_type": "stream",
     "text": [
      "Der Name ist Alice und Alter 25\n",
      "Der Name ist Bob und Alter 30\n",
      "Der Name ist Charlie und Alter 35\n",
      "Der Name ist Diana und Alter 40\n"
     ]
    }
   ],
   "source": [
    "# Schreibt bitte eure Lösung hier\n",
    "personen_dict = {\"Alice\": 25, \"Bob\": 30, \"Charlie\": 35, \"Diana\": 40}\n",
    "\n",
    "for name, alter in personen_dict.items():\n",
    "    print(f\"Der Name ist {name} und Alter {alter}\")"
   ]
  },
  {
   "cell_type": "code",
   "execution_count": null,
   "id": "46fe9215-65e1-4079-a858-617e8d531461",
   "metadata": {},
   "outputs": [],
   "source": []
  }
 ],
 "metadata": {
  "kernelspec": {
   "display_name": "Python 3 (ipykernel)",
   "language": "python",
   "name": "python3"
  },
  "language_info": {
   "codemirror_mode": {
    "name": "ipython",
    "version": 3
   },
   "file_extension": ".py",
   "mimetype": "text/x-python",
   "name": "python",
   "nbconvert_exporter": "python",
   "pygments_lexer": "ipython3",
   "version": "3.12.4"
  }
 },
 "nbformat": 4,
 "nbformat_minor": 5
}
