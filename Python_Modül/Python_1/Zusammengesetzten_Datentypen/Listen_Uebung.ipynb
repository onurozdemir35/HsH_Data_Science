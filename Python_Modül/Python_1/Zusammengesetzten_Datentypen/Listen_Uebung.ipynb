{
 "cells": [
  {
   "cell_type": "markdown",
   "id": "b2c4cb3d-eb96-4b1f-9b06-7a303ceea806",
   "metadata": {},
   "source": [
    "## Übungen zu Listen in Python mit Lösungen\n",
    "\n",
    "### Übung 1: Erstellen einer Liste\n",
    "**Aufgabe**: Erstelle eine Liste mit den Zahlen von 1 bis 5.\n",
    "\n"
   ]
  },
  {
   "cell_type": "code",
   "execution_count": 1,
   "id": "56bd7b1e-314b-4f15-ad9c-a43459510b0b",
   "metadata": {},
   "outputs": [
    {
     "name": "stdout",
     "output_type": "stream",
     "text": [
      "[1, 2, 3, 4, 5]\n"
     ]
    }
   ],
   "source": [
    "# Schreibt bitte eure Lösung hier\n",
    "liste = [1,2,3,4,5]\n",
    "print(liste)"
   ]
  },
  {
   "cell_type": "markdown",
   "id": "f4bf3e44-3ee7-4acf-aff6-7aec8c2e83bc",
   "metadata": {},
   "source": [
    "### Übung 2: Zugriff auf Listenelemente\n",
    "\n",
    "**Aufgabe:** Greife auf das dritte Element in der Liste `[10, 20, 30, 40, 50]` zu und gib es aus.\n"
   ]
  },
  {
   "cell_type": "code",
   "execution_count": 6,
   "id": "2bf5206e-b620-4eeb-a775-1b4d9f450d77",
   "metadata": {},
   "outputs": [
    {
     "data": {
      "text/plain": [
       "30"
      ]
     },
     "execution_count": 6,
     "metadata": {},
     "output_type": "execute_result"
    }
   ],
   "source": [
    "# Schreibt bitte eure Lösung hier\n",
    "liste_2 = [10, 20, 30, 40, 50]\n",
    "liste_2[2]\n"
   ]
  },
  {
   "cell_type": "markdown",
   "id": "651f355c-0467-46c2-a22a-b338212b5c34",
   "metadata": {},
   "source": [
    "### Übung 3: Liste ändern\n",
    "\n",
    "**Aufgabe:** Ändere das zweite Element in der Liste `[1, 2, 3, 4]` auf 10 und gib die Liste aus.\n"
   ]
  },
  {
   "cell_type": "code",
   "execution_count": 3,
   "id": "c52a0216-fe4a-45b4-8445-ea0bbd299b57",
   "metadata": {},
   "outputs": [
    {
     "data": {
      "text/plain": [
       "[1, 10, 3, 4, 5]"
      ]
     },
     "execution_count": 3,
     "metadata": {},
     "output_type": "execute_result"
    }
   ],
   "source": [
    "# Schreibt bitte eure Lösung hier\n",
    "liste[1] = 10\n",
    "liste\n"
   ]
  },
  {
   "cell_type": "markdown",
   "id": "6160f64a-8e4e-4279-9d0c-e1048673e7b9",
   "metadata": {},
   "source": [
    "### Übung 4: Hinzufügen von Elementen\n",
    "\n",
    "**Aufgabe:** Füge den Wert `6` ans Ende der Liste `[1, 2, 3, 4, 5]` hinzu und gib die Liste aus.\n"
   ]
  },
  {
   "cell_type": "code",
   "execution_count": 7,
   "id": "1d488a65-ae35-45b0-9c87-d971cfc702e9",
   "metadata": {},
   "outputs": [
    {
     "data": {
      "text/plain": [
       "[1, 10, 3, 4, 5, 6]"
      ]
     },
     "execution_count": 7,
     "metadata": {},
     "output_type": "execute_result"
    }
   ],
   "source": [
    "# Schreibt bitte eure Lösung hier\n",
    "\n",
    "liste.append(6)\n",
    "liste"
   ]
  },
  {
   "cell_type": "markdown",
   "id": "00b7e4d8-553f-405b-b32e-6dcb62a87b90",
   "metadata": {},
   "source": [
    "### Übung 5: Entfernen von Elementen\n",
    "\n",
    "**Aufgabe:** Entferne das Element `3` aus der Liste `[1, 2, 3, 4, 5]` und gib die Liste aus.\n"
   ]
  },
  {
   "cell_type": "code",
   "execution_count": 8,
   "id": "15a4f814-a51c-4dbd-bb2a-4c67f3792775",
   "metadata": {},
   "outputs": [
    {
     "data": {
      "text/plain": [
       "[1, 3, 4, 5, 6]"
      ]
     },
     "execution_count": 8,
     "metadata": {},
     "output_type": "execute_result"
    }
   ],
   "source": [
    "# Schreibt bitte eure Lösung hier\n",
    "\n",
    "liste.remove(10)\n",
    "liste"
   ]
  },
  {
   "cell_type": "markdown",
   "id": "06ca89bb-3991-42b8-80ae-af19f30eb9e3",
   "metadata": {},
   "source": [
    "### Übung 6: Liste in umgekehrter Reihenfolge\n",
    "\n",
    "**Aufgabe:** Kehre die Reihenfolge der Liste `[1, 2, 3, 4, 5]` um und gib die Liste aus.\n"
   ]
  },
  {
   "cell_type": "code",
   "execution_count": 9,
   "id": "cad5e2de-b6f6-48de-a9a5-6b17589f87c2",
   "metadata": {},
   "outputs": [
    {
     "data": {
      "text/plain": [
       "[6, 5, 4, 3, 1]"
      ]
     },
     "execution_count": 9,
     "metadata": {},
     "output_type": "execute_result"
    }
   ],
   "source": [
    "# Schreibt bitte eure Lösung hier\n",
    "liste.reverse()\n",
    "liste"
   ]
  },
  {
   "cell_type": "markdown",
   "id": "820ab115-5a10-4614-8c55-5bac41bf627a",
   "metadata": {},
   "source": [
    "### Übung 7: Erstellen einer Liste mit Wiederholung\n",
    "\n",
    "**Aufgabe:** Erstelle eine Liste, die den Wert `0` fünfmal enthält.\n"
   ]
  },
  {
   "cell_type": "code",
   "execution_count": 10,
   "id": "911c73e8-f021-4b9c-8a5f-cab49e44cd18",
   "metadata": {},
   "outputs": [
    {
     "data": {
      "text/plain": [
       "[0, 0, 0, 0, 0]"
      ]
     },
     "execution_count": 10,
     "metadata": {},
     "output_type": "execute_result"
    }
   ],
   "source": [
    "# Schreibt bitte eure Lösung hier\n",
    "\n",
    "liste_2 = [0,0,0,0,0]\n",
    "liste_2"
   ]
  },
  {
   "cell_type": "markdown",
   "id": "a32f950f-2320-4c42-b2cc-ce4ac6012c70",
   "metadata": {},
   "source": [
    "### Übung 8: Kombinieren von Listen\n",
    "\n",
    "**Aufgabe:** Kombiniere die Listen `[1, 2, 3]` und `[4, 5, 6]` zu einer neuen Liste und gib sie aus.\n"
   ]
  },
  {
   "cell_type": "code",
   "execution_count": 16,
   "id": "8e10b158-c6f2-4cd6-8108-0458d88ed9ed",
   "metadata": {},
   "outputs": [
    {
     "data": {
      "text/plain": [
       "[1, 2, 3, 4, 5, 6]"
      ]
     },
     "execution_count": 16,
     "metadata": {},
     "output_type": "execute_result"
    }
   ],
   "source": [
    "# Schreibt bitte eure Lösung hier\n",
    "\n",
    "erst = [1,2,3]\n",
    "zweite = [4,5,6]\n",
    "\n",
    "neu = []\n",
    "\n",
    "neu.extend(erst)\n",
    "neu.extend(zweite)\n",
    "neu"
   ]
  },
  {
   "cell_type": "markdown",
   "id": "bb57f5f0-98e7-49de-b877-f21e93067e2b",
   "metadata": {},
   "source": [
    "### Übung 9: Listenlänge\n",
    "\n",
    "**Aufgabe:** Bestimme die Länge der Liste `[10, 20, 30, 40]` und gib sie aus.\n"
   ]
  },
  {
   "cell_type": "code",
   "execution_count": 19,
   "id": "ec6a5103-cccc-48e9-a62c-57fec73f7071",
   "metadata": {},
   "outputs": [
    {
     "data": {
      "text/plain": [
       "4"
      ]
     },
     "execution_count": 19,
     "metadata": {},
     "output_type": "execute_result"
    }
   ],
   "source": [
    "# Schreibt bitte eure Lösung hier\n",
    "\n",
    "liste_3 = [10, 20, 30, 40]\n",
    "len(liste_3)"
   ]
  },
  {
   "cell_type": "markdown",
   "id": "0a5c84da-d765-4350-b7da-fc6cf98d9bd9",
   "metadata": {},
   "source": [
    "### Übung 10: Listenslicing\n",
    "\n",
    "**Aufgabe:** Schneide die Liste `[1, 2, 3, 4, 5]` von Index 1 bis Index 3 und gib das Ergebnis aus.\n"
   ]
  },
  {
   "cell_type": "code",
   "execution_count": 20,
   "id": "d6f55f78-1099-4dce-8a35-96527170b744",
   "metadata": {},
   "outputs": [
    {
     "data": {
      "text/plain": [
       "[5, 4]"
      ]
     },
     "execution_count": 20,
     "metadata": {},
     "output_type": "execute_result"
    }
   ],
   "source": [
    "# Schreibt bitte eure Lösung hier\n",
    "liste[1:3]\n"
   ]
  },
  {
   "cell_type": "code",
   "execution_count": null,
   "id": "c6c924d3-262c-4290-afba-9e4032377c87",
   "metadata": {},
   "outputs": [],
   "source": []
  }
 ],
 "metadata": {
  "kernelspec": {
   "display_name": "Python 3 (ipykernel)",
   "language": "python",
   "name": "python3"
  },
  "language_info": {
   "codemirror_mode": {
    "name": "ipython",
    "version": 3
   },
   "file_extension": ".py",
   "mimetype": "text/x-python",
   "name": "python",
   "nbconvert_exporter": "python",
   "pygments_lexer": "ipython3",
   "version": "3.12.7"
  }
 },
 "nbformat": 4,
 "nbformat_minor": 5
}
