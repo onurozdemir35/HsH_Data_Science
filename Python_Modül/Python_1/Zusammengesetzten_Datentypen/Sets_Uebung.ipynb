{
 "cells": [
  {
   "cell_type": "markdown",
   "id": "dd733411-59ec-4422-b199-aa8fab8f81df",
   "metadata": {},
   "source": [
    "# Übungen zu Sets in Python\n",
    "\n",
    "## Übung 1: Set erstellen und Elemente hinzufügen\n",
    "**Aufgabe:**  \n",
    "Erstelle ein Set mit den Zahlen 1 bis 5. Füge dann die Zahl 6 zum Set hinzu und gebe das Set aus.\n",
    "\n"
   ]
  },
  {
   "cell_type": "code",
   "execution_count": 2,
   "id": "f8af5734-7fd3-452f-a137-2eb14f1b5dff",
   "metadata": {},
   "outputs": [
    {
     "data": {
      "text/plain": [
       "{1, 2, 3, 4, 5, 6}"
      ]
     },
     "execution_count": 2,
     "metadata": {},
     "output_type": "execute_result"
    }
   ],
   "source": [
    "# Schreibt bitte eure Lösung hier\n",
    "set1 = {1,2,3,4,5}\n",
    "set1.add(6)\n",
    "set1"
   ]
  },
  {
   "cell_type": "markdown",
   "id": "aa1be35c-e755-4822-a938-3a8e22a57a5c",
   "metadata": {},
   "source": [
    "## Übung 2: Set-Operationen (Vereinigung und Schnittmenge)\n",
    "\n",
    "**Aufgabe:**  \n",
    "Erstelle zwei Sets: `set_a` mit den Zahlen {1, 2, 3, 4} und `set_b` mit den Zahlen {3, 4, 5, 6}. Berechne die Vereinigung und die Schnittmenge der beiden Sets.\n"
   ]
  },
  {
   "cell_type": "code",
   "execution_count": 4,
   "id": "9d463f72-2e9d-4eb1-8c33-3b8cc8ebb91b",
   "metadata": {},
   "outputs": [
    {
     "name": "stdout",
     "output_type": "stream",
     "text": [
      "{1, 2, 3, 4, 5, 6}\n",
      "{3, 4}\n"
     ]
    }
   ],
   "source": [
    "# Schreibt bitte eure Lösung hier\n",
    "set_a = {1,2,3,4} \n",
    "set_b = {3,4,5,6}\n",
    "print(set_a.union(set_b))\n",
    "print(set_a.intersection(set_b))\n"
   ]
  },
  {
   "cell_type": "markdown",
   "id": "c67a1ccc-e3a5-4170-ac14-a788fa63d064",
   "metadata": {},
   "source": [
    "## Übung 3: Set ohne Duplikate\n",
    "\n",
    "**Aufgabe:**  \n",
    "Erstelle ein List mit den folgenden Zahlen, wobei einige Zahlen mehrfach erscheinen: [1, 2, 2, 3, 3, 3, 4, 5]. Gib das Set aus, um die Duplikate zu entfernen."
   ]
  },
  {
   "cell_type": "code",
   "execution_count": 2,
   "id": "3f4164d6-3087-4db1-8071-639a8f823ad7",
   "metadata": {},
   "outputs": [
    {
     "data": {
      "text/plain": [
       "{1, 2, 3, 4, 5}"
      ]
     },
     "execution_count": 2,
     "metadata": {},
     "output_type": "execute_result"
    }
   ],
   "source": [
    "# Schreibt bitte eure Lösung hier\n",
    "zahlen = [1,2,2,3,3,3,4,5]\n",
    "set(zahlen)"
   ]
  },
  {
   "cell_type": "markdown",
   "id": "16aef88d-e40c-4382-a503-e9942ee37882",
   "metadata": {},
   "source": [
    "## Übung 4: Überprüfen, ob ein Element in einem Set enthalten ist\n",
    "\n",
    "**Aufgabe:**  \n",
    "Erstelle ein Set mit den Zahlen {10, 20, 30, 40}. Überprüfe, ob die Zahl 20 im Set enthalten ist, und gib das Ergebnis aus.\n"
   ]
  },
  {
   "cell_type": "code",
   "execution_count": 9,
   "id": "9cd84bf7-ae5b-4aea-a2d7-47da5e4a183e",
   "metadata": {},
   "outputs": [
    {
     "name": "stdout",
     "output_type": "stream",
     "text": [
      "Es gibt 20 in set4\n"
     ]
    }
   ],
   "source": [
    "# Schreibt bitte eure Lösung hier\n",
    "set4 =  {10, 20, 30, 40}\n",
    "if 20 in set4:\n",
    "    print(\"Es gibt 20 in set4\")\n",
    "else: \n",
    "    print(\"Es gibt kein 20 in set4 tuple\")"
   ]
  },
  {
   "cell_type": "code",
   "execution_count": null,
   "id": "1a12825b-4085-4a19-af6d-b6e6dadef0ab",
   "metadata": {},
   "outputs": [],
   "source": []
  }
 ],
 "metadata": {
  "kernelspec": {
   "display_name": "Python 3 (ipykernel)",
   "language": "python",
   "name": "python3"
  },
  "language_info": {
   "codemirror_mode": {
    "name": "ipython",
    "version": 3
   },
   "file_extension": ".py",
   "mimetype": "text/x-python",
   "name": "python",
   "nbconvert_exporter": "python",
   "pygments_lexer": "ipython3",
   "version": "3.12.4"
  }
 },
 "nbformat": 4,
 "nbformat_minor": 5
}
