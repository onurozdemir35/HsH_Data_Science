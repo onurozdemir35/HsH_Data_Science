{
 "cells": [
  {
   "cell_type": "markdown",
   "id": "5cf9b464-f93c-439e-981f-d0f1c0e58751",
   "metadata": {},
   "source": [
    "# Übungen zu Tuples in Python\n",
    "\n",
    "## Übung 1: Tuple erstellen und zugreifen\n",
    "Erstelle ein Tuple mit den folgenden Werten: `10`, `20`, `30`, `40`, `50`. Greife dann auf das erste, dritte und letzte Element des Tuples zu.\n",
    "\n"
   ]
  },
  {
   "cell_type": "code",
   "execution_count": 1,
   "id": "50eab0af-cbcf-4e58-81c9-2b022b748dd6",
   "metadata": {},
   "outputs": [
    {
     "data": {
      "text/plain": [
       "(10, 20, 30, 40, 50)"
      ]
     },
     "execution_count": 1,
     "metadata": {},
     "output_type": "execute_result"
    }
   ],
   "source": [
    "# Schreibt bitte eure Lösung hier\n",
    "tuple = (10, 20, 30, 40, 50)\n",
    "tuple"
   ]
  },
  {
   "cell_type": "markdown",
   "id": "4ece423c-0ee2-4f5a-a3a3-c0af75be9820",
   "metadata": {},
   "source": [
    "## Übung 2: Tuple mit verschiedenen Datentypen\n",
    "\n",
    "Erstelle ein Tuple, das einen String, eine Zahl und eine Liste enthält. Greife dann auf die Liste im Tuple zu und ändere ein Element der Liste.\n",
    "\n"
   ]
  },
  {
   "cell_type": "code",
   "execution_count": 5,
   "id": "b9490ec2-7961-433b-b782-9b41104dac5c",
   "metadata": {},
   "outputs": [
    {
     "data": {
      "text/plain": [
       "['Onur', 2, (1, 2, 3)]"
      ]
     },
     "execution_count": 5,
     "metadata": {},
     "output_type": "execute_result"
    }
   ],
   "source": [
    "# Schreibt bitte eure Lösung hier\n",
    "tuple_1 = (\"Onur\" , 2, [1,2,3])\n",
    "tuple_12 = list(tuple_1)\n",
    "tuple_12[2] = (1,2,3)\n",
    "tuple_12"
   ]
  },
  {
   "cell_type": "markdown",
   "id": "7b1b2bf1-a68d-4b8a-aa72-4fd159cf6583",
   "metadata": {},
   "source": [
    "## Übung 3: Tuple mit Wiederholungen\n",
    "\n",
    "Erstelle ein Tuple mit den Zahlen 1, 2, 3 und wiederhole dieses Tuple 3-mal. Zeige das Ergebnis an."
   ]
  },
  {
   "cell_type": "code",
   "execution_count": 11,
   "id": "9dd9faa0-ede3-478e-b497-c8270c04c6f9",
   "metadata": {},
   "outputs": [
    {
     "data": {
      "text/plain": [
       "(1, 2, 3, 1, 2, 3, 1, 2, 3)"
      ]
     },
     "execution_count": 11,
     "metadata": {},
     "output_type": "execute_result"
    }
   ],
   "source": [
    "# Schreibt bitte eure Lösung hier\n",
    "tuple_2 = (1,2,3)\n",
    "tuple_2  * 3 "
   ]
  },
  {
   "cell_type": "markdown",
   "id": "4bddb956-6771-4297-8f5d-e0f55a8a460a",
   "metadata": {},
   "source": [
    "## Übung 4: Tuple entpacken\n",
    "\n",
    "Erstelle ein Tuple mit den Werten 1, 2 und 3. Entpacke das Tuple in drei Variablen und gebe die Variablen aus.\n",
    "\n"
   ]
  },
  {
   "cell_type": "code",
   "execution_count": 8,
   "id": "dc17070d-115d-41c2-b233-ce953da916c5",
   "metadata": {},
   "outputs": [
    {
     "name": "stdout",
     "output_type": "stream",
     "text": [
      "Beta\n",
      "30\n",
      "True\n"
     ]
    }
   ],
   "source": [
    "# Schreibt bitte eure Lösung hier\n",
    "tuple_3 = (\"Beta\", 30, True)\n",
    "name, age, is_true = tuple_3\n",
    "print(name)\n",
    "print(age)\n",
    "print(is_true)"
   ]
  },
  {
   "cell_type": "markdown",
   "id": "dff93107-04fe-49fe-9fb5-8e6f3f5b2336",
   "metadata": {},
   "source": [
    "## Übung 5: Tuple zusammenfügen\n",
    "\n",
    "Erstelle zwei Tuples, `tuple1 = (1, 2, 3)` und `tuple2 = (4, 5, 6)`, und füge sie zusammen.\n"
   ]
  },
  {
   "cell_type": "code",
   "execution_count": 9,
   "id": "f4ff9ce7-1d78-4558-b47a-91cbc43b77dd",
   "metadata": {},
   "outputs": [
    {
     "data": {
      "text/plain": [
       "(1, 2, 3, 4, 5, 6)"
      ]
     },
     "execution_count": 9,
     "metadata": {},
     "output_type": "execute_result"
    }
   ],
   "source": [
    "# Schreibt bitte eure Lösung hier\n",
    "tuple1 = (1, 2, 3)\n",
    "tuple2 = (4, 5, 6)\n",
    "tuple1 + tuple2"
   ]
  },
  {
   "cell_type": "markdown",
   "id": "a216f1bd-1b89-40a4-a986-e98a94b39c1b",
   "metadata": {},
   "source": [
    "## Übung 6: Tuple durchsuchen\n",
    "\n",
    "Erstelle ein Tuple mit den Zahlen 1, 2, 3, 4, 5. Überprüfe, ob die Zahl 3 im Tuple vorhanden ist.\n",
    " "
   ]
  },
  {
   "cell_type": "code",
   "execution_count": 3,
   "id": "b4decff4-9cfa-44c8-b742-3cfc1b24063b",
   "metadata": {},
   "outputs": [
    {
     "data": {
      "text/plain": [
       "1"
      ]
     },
     "execution_count": 3,
     "metadata": {},
     "output_type": "execute_result"
    }
   ],
   "source": [
    "# Schreibt bitte eure Lösung hier\n",
    "tuple4 = (1,2,3,4,5)\n",
    "tuple4.count(3)"
   ]
  },
  {
   "cell_type": "markdown",
   "id": "97c2012c-b4e5-4b61-9486-ccac06a4ae53",
   "metadata": {},
   "source": [
    "## Übung 7: Tuple Länge\n",
    "\n",
    "Erstelle ein Tuple mit den Werten \"apple\", \"banana\", \"cherry\". Bestimme die Länge des Tuples.\n"
   ]
  },
  {
   "cell_type": "code",
   "execution_count": 14,
   "id": "cbafc2c5-290f-4c45-8891-d6a92c5a33af",
   "metadata": {},
   "outputs": [
    {
     "data": {
      "text/plain": [
       "3"
      ]
     },
     "execution_count": 14,
     "metadata": {},
     "output_type": "execute_result"
    }
   ],
   "source": [
    "# Schreibt bitte eure Lösung hier\n",
    "tuple5 = (\"apple\", \"banana\", \"cherry\")\n",
    "len(tuple5)"
   ]
  },
  {
   "cell_type": "markdown",
   "id": "f3d4094a-d9f3-462d-bb67-8c06ba4c8f25",
   "metadata": {},
   "source": [
    "## Übung 8: Tuple im Tuple\n",
    "\n",
    "Erstelle ein Tuple, das ein weiteres Tuple enthält. Greife auf das innere Tuple zu und gib es aus.\n"
   ]
  },
  {
   "cell_type": "code",
   "execution_count": 15,
   "id": "92ed231a-9181-41db-9ad6-93c48999c1fc",
   "metadata": {},
   "outputs": [
    {
     "data": {
      "text/plain": [
       "(2, 3, 4)"
      ]
     },
     "execution_count": 15,
     "metadata": {},
     "output_type": "execute_result"
    }
   ],
   "source": [
    "# Schreibt bitte eure Lösung hier\n",
    "tuple6 = (1,2, \"Maria\", True, (2,3,4))\n",
    "tuple6[4]"
   ]
  },
  {
   "cell_type": "code",
   "execution_count": null,
   "id": "f154d7c4-8be0-4488-99cd-70ca5128b103",
   "metadata": {},
   "outputs": [],
   "source": []
  }
 ],
 "metadata": {
  "kernelspec": {
   "display_name": "Python 3 (ipykernel)",
   "language": "python",
   "name": "python3"
  },
  "language_info": {
   "codemirror_mode": {
    "name": "ipython",
    "version": 3
   },
   "file_extension": ".py",
   "mimetype": "text/x-python",
   "name": "python",
   "nbconvert_exporter": "python",
   "pygments_lexer": "ipython3",
   "version": "3.12.4"
  }
 },
 "nbformat": 4,
 "nbformat_minor": 5
}
