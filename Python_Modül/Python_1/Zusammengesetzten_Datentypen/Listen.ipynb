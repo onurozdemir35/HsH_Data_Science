{
 "cells": [
  {
   "cell_type": "markdown",
   "id": "281d73b3-c378-4e9d-8be5-ef2b9a335b7e",
   "metadata": {},
   "source": [
    "# Zusammengesetzte Datentypen ( englisch Composite Data Types in Python)\n",
    "\n",
    "Composite Data Types ermöglichen es, mehrere Werte in einer Struktur zu speichern und zu organisieren. Dazu gehören **Listen**, **Tuples**, **Sets** und **Dictionaries**.\n",
    "\n",
    "## Eigenschaften der zusammengesetzten Datentypen\n",
    "\n",
    "| Typ             | Geordnet?           | Veränderbar? | Duplikate erlaubt? |\n",
    "|-----------------|---------------------|--------------|--------------------|\n",
    "| **Liste**       | Ja                  | Ja           | Ja                 |\n",
    "| **Tuple**       | Ja                  | Nein         | Ja                 |\n",
    "| **Set**         | Nein                | kann Elemente hinzufügen/entfernen, aber nicht direkt ändern           | Nein               |\n",
    "| **Dictionary**  <span style=\"padding-left: 40px;\">  |    </span>  Ab Python 3.7:  Ja<span style=\"padding-left: 40px;\">  | Ja  </span>               | Nein (bei Keys)         |\n",
    "\n",
    "---\n",
    "\n",
    "## 1. Liste (`list`)\n",
    "- **Beschreibung**: Eine geordnete, veränderbare Sammlung von Elementen.\n",
    "- **Syntax**: `[]`\n",
    "- **Beispiel**:\n",
    "  ```python\n",
    "  zahlen = [1, 2, 3, 4]\n",
    "  zahlen.append(5)  # Hinzufügen eines Elements\n",
    "  print(zahlen)  # [1, 2, 3, 4, 5]\n"
   ]
  },
  {
   "cell_type": "markdown",
   "id": "3e3db9fe-618e-4ac8-bc3a-8982906e6a9e",
   "metadata": {},
   "source": [
    "### Zugriff auf Listenelemente"
   ]
  },
  {
   "cell_type": "markdown",
   "id": "d57bc075-2a62-415b-9f5d-44b4452a573c",
   "metadata": {},
   "source": [
    "<div style=\"font-family: monospace; white-space: pre; line-height: 1.5;\">\n",
    "  <span style=\"color: blue;\">Index:</span>    <span style=\"color: green;\">0</span>    <span style=\"color: green;\">1</span>    <span style=\"color: green;\">2</span>    <span style=\"color: green;\">3</span>    <span style=\"color: green;\">4</span><br>\n",
    "  <span style=\"color: blue;\">Element:</span> <span style=\"color: red;\">'a'</span>&nbsp; <span style=\"color: red;\">'b'</span> &nbsp;<span style=\"color: red;\">'c'</span>&nbsp; <span style=\"color: red;\">'d'</span>&nbsp; <span style=\"color: red;\">'e'</span><br>\n",
    "  &nbsp;&nbsp;&nbsp;&nbsp;&nbsp;&nbsp;&nbsp;&nbsp;&nbsp;&nbsp;&nbsp;&nbsp;&nbsp;&nbsp;&nbsp;&nbsp;&nbsp;&nbsp;&nbsp;&nbsp;↑ \n",
    "  &nbsp;&nbsp;&nbsp;&nbsp;&nbsp;&nbsp;&nbsp;&nbsp;&nbsp;&nbsp;&nbsp;&nbsp;&nbsp;&nbsp;&nbsp;&nbsp;&nbsp;&nbsp;&nbsp;&nbsp;|<br>\n",
    "  <span style=\"font-weight: bold; color: purple;\">Zugriff auf das Element mit Index 2</span>\n",
    "</div>\n"
   ]
  },
  {
   "cell_type": "code",
   "execution_count": 41,
   "id": "31b8b41d-4f50-4c43-8472-1ed396522fa3",
   "metadata": {},
   "outputs": [
    {
     "name": "stdout",
     "output_type": "stream",
     "text": [
      "c\n",
      "1\n"
     ]
    }
   ],
   "source": [
    "Buchstaben = ['a', 'b', 'c', 'd', 'e', [1, 2, 3,2]]\n",
    "print(Buchstaben[2])\n",
    "print(Buchstaben[5][0])"
   ]
  },
  {
   "cell_type": "code",
   "execution_count": null,
   "id": "a8682eff-1c1d-472d-8d05-2e52706c5a1c",
   "metadata": {},
   "outputs": [],
   "source": []
  },
  {
   "cell_type": "markdown",
   "id": "d545ac3b-c349-40d0-b13a-7957199286da",
   "metadata": {},
   "source": [
    "### Beispiele Listenmethoden"
   ]
  },
  {
   "cell_type": "code",
   "execution_count": 2,
   "id": "5ab31cb8-d0d1-46bd-bba2-badd380c7c90",
   "metadata": {},
   "outputs": [
    {
     "name": "stdout",
     "output_type": "stream",
     "text": [
      "[1, 2, 3, 4]\n"
     ]
    }
   ],
   "source": [
    "meine_liste = [1, 2, 3]\n",
    "meine_liste.append(4)\n",
    "print(meine_liste)"
   ]
  },
  {
   "cell_type": "code",
   "execution_count": 1,
   "id": "be89fc22-833b-4b19-9659-c71ce17ca959",
   "metadata": {},
   "outputs": [
    {
     "name": "stdout",
     "output_type": "stream",
     "text": [
      "[2, 2, 3]\n"
     ]
    }
   ],
   "source": [
    "meine_liste = [1, 2, 3]\n",
    "meine_liste[0] = 2\n",
    "print(meine_liste)"
   ]
  },
  {
   "cell_type": "code",
   "execution_count": 4,
   "id": "a47b36bc-076e-4da3-abe2-fcdb47d470db",
   "metadata": {},
   "outputs": [
    {
     "name": "stdout",
     "output_type": "stream",
     "text": [
      "[1, 2, 3, 5, 6]\n"
     ]
    }
   ],
   "source": [
    "meine_liste = [1, 2, 3]\n",
    "meine_liste.extend([5, 6])\n",
    "print(meine_liste)"
   ]
  },
  {
   "cell_type": "code",
   "execution_count": 5,
   "id": "11fb03e4-1802-4f15-884d-4b7b095d4094",
   "metadata": {},
   "outputs": [
    {
     "data": {
      "text/plain": [
       "1"
      ]
     },
     "execution_count": 5,
     "metadata": {},
     "output_type": "execute_result"
    }
   ],
   "source": [
    "meine_liste.count(3)"
   ]
  },
  {
   "cell_type": "code",
   "execution_count": 7,
   "id": "08117ba4-14a6-4bf9-9942-d32fe066ae0c",
   "metadata": {},
   "outputs": [
    {
     "name": "stdout",
     "output_type": "stream",
     "text": [
      "[1, 2, 3, 5, 6]\n"
     ]
    }
   ],
   "source": [
    "meine_liste.sort()\n",
    "print(meine_liste)"
   ]
  },
  {
   "cell_type": "markdown",
   "id": "ff787e95-cd45-435c-be28-5e34489e1801",
   "metadata": {},
   "source": [
    "### Python - Listenmethoden\n",
    "\n",
    "\n",
    "```python\n",
    "meine_liste = [1, 2, 3]\n",
    "```\n",
    "\n",
    "| **Funktion**    | **Beschreibung**                                               | **Beispiel**                                               |\n",
    "|-----------------|-----------------------------------------------------------------|------------------------------------------------------------|\n",
    "| `append()`      | Fügt ein Element am Ende der Liste hinzu.                       | `meine_liste.append(4)` -> `[1, 2, 3, 4]`                  |\n",
    "| `extend()`      | Fügt alle Elemente einer anderen Liste hinzu.                   | `meine_liste.extend([5, 6])` -> `[1, 2, 3, 4, 5, 6]`       |\n",
    "| `insert()`      | Fügt ein Element an einer bestimmten Position ein.              | `meine_liste.insert(1, 10)` -> `[1, 10, 2, 3, 4]`           |\n",
    "| `remove()`      | Entfernt das erste Vorkommen eines bestimmten Elements.         | `meine_liste.remove(3)` -> `[1, 2, 4]`                      |\n",
    "| `pop()`         | Entfernt und gibt das Element an einem bestimmten Index zurück.| `meine_liste.pop(2)` -> `3`, `[1, 2, 4]`                    |\n",
    "| `index()`       | Gibt den Index des ersten Vorkommens eines Elements zurück.    | `meine_liste.index(2)` -> `1`                               |\n",
    "| `count()`       | Gibt die Anzahl der Vorkommen eines bestimmten Elements zurück.| `meine_liste.count(3)` -> `2`                               |\n",
    "| `sort()`        | Sortiert die Liste in aufsteigender Reihenfolge.                | `meine_liste.sort()` -> `[1, 2, 3, 4]`                       |\n",
    "| `reverse()`     | Kehrt die Reihenfolge der Elemente in der Liste um.             | `meine_liste.reverse()` -> `[4, 3, 2, 1]`                   |\n",
    "| `clear()`       | Entfernt alle Elemente aus der Liste.                           | `meine_liste.clear()` -> `[]`                               |\n",
    "| `copy()`        | Gibt eine flache Kopie der Liste zurück.                        | `meine_liste.copy()` -> `[1, 2, 3]`                         |\n",
    "\n"
   ]
  },
  {
   "cell_type": "markdown",
   "id": "062ab3e6-104a-41bf-b4c3-77c709b2b819",
   "metadata": {},
   "source": [
    "## 2. Tuple (`tuple`)\n",
    "\n",
    "- **Beschreibung**: Eine geordnete, unveränderbare Sammlung von Elementen.\n",
    "- **Syntax**: `()`\n",
    "- **Beispiel**:\n",
    "  ```python\n",
    "  koordinaten = (10, 20)\n",
    "  print(koordinaten[0])  # 10\n"
   ]
  },
  {
   "cell_type": "code",
   "execution_count": null,
   "id": "a9da30fc-6d3f-4862-849a-b2a444b47781",
   "metadata": {},
   "outputs": [],
   "source": []
  },
  {
   "cell_type": "markdown",
   "id": "a7cda3de-4b21-43ad-b4f2-91788e3b2b3b",
   "metadata": {},
   "source": [
    "### Beispiele Tupelmethoden"
   ]
  },
  {
   "cell_type": "code",
   "execution_count": 8,
   "id": "84db47f2-94a6-47aa-af77-6af3111ee8b3",
   "metadata": {},
   "outputs": [
    {
     "name": "stdout",
     "output_type": "stream",
     "text": [
      "2\n"
     ]
    }
   ],
   "source": [
    "mein_tuple = (1, 2, 3, 3, 4)\n",
    "print(mein_tuple.count(3))  # 2"
   ]
  },
  {
   "cell_type": "code",
   "execution_count": 9,
   "id": "83471167-4810-465b-a1ec-137cf94c80e6",
   "metadata": {},
   "outputs": [
    {
     "name": "stdout",
     "output_type": "stream",
     "text": [
      "1\n"
     ]
    }
   ],
   "source": [
    "mein_tuple = (1, 2, 3, 4)\n",
    "print(mein_tuple.index(2))  # 1\n"
   ]
  },
  {
   "cell_type": "code",
   "execution_count": 4,
   "id": "b9f92186-c7c1-471c-ab05-d8db3df3c887",
   "metadata": {},
   "outputs": [
    {
     "ename": "TypeError",
     "evalue": "'tuple' object does not support item assignment",
     "output_type": "error",
     "traceback": [
      "\u001b[1;31m---------------------------------------------------------------------------\u001b[0m",
      "\u001b[1;31mTypeError\u001b[0m                                 Traceback (most recent call last)",
      "Cell \u001b[1;32mIn[4], line 2\u001b[0m\n\u001b[0;32m      1\u001b[0m mein_tuple \u001b[38;5;241m=\u001b[39m (\u001b[38;5;241m1\u001b[39m, \u001b[38;5;241m2\u001b[39m, \u001b[38;5;241m3\u001b[39m, \u001b[38;5;241m4\u001b[39m)\n\u001b[1;32m----> 2\u001b[0m \u001b[43mmein_tuple\u001b[49m\u001b[43m[\u001b[49m\u001b[38;5;241;43m0\u001b[39;49m\u001b[43m]\u001b[49m \u001b[38;5;241m=\u001b[39m \u001b[38;5;241m2\u001b[39m\n\u001b[0;32m      3\u001b[0m \u001b[38;5;28mprint\u001b[39m(meine_liste)\n",
      "\u001b[1;31mTypeError\u001b[0m: 'tuple' object does not support item assignment"
     ]
    }
   ],
   "source": [
    "mein_tuple = (1, 2, 3, 4)\n",
    "mein_tuple[0] = 2\n",
    "print(meine_liste)"
   ]
  },
  {
   "cell_type": "markdown",
   "id": "f548676b-a715-40c3-9738-8dbcf34ac622",
   "metadata": {},
   "source": [
    "### Python - Tupelmethoden\n",
    "| **Methode**    | **Beschreibung**                                               | **Beispiel**                                               |\n",
    "|----------------|-----------------------------------------------------------------|------------------------------------------------------------|\n",
    "| `count()`      | Gibt die Anzahl der Vorkommen eines bestimmten Elements zurück. | `mein_tuple.count(3)` -> `2`                               |\n",
    "| `index()`      | Gibt den Index des ersten Vorkommens eines Elements zurück.    | `mein_tuple.index(2)` -> `1`                               |\n"
   ]
  },
  {
   "cell_type": "code",
   "execution_count": 6,
   "id": "adb9a844-3cf8-42b3-8d1c-5f0dacde7b5f",
   "metadata": {},
   "outputs": [],
   "source": [
    " "
   ]
  },
  {
   "cell_type": "code",
   "execution_count": null,
   "id": "33b26944-0f92-402c-9a01-bb19df808fe1",
   "metadata": {},
   "outputs": [],
   "source": []
  },
  {
   "cell_type": "markdown",
   "id": "7fcca35b-f0dc-4587-81fe-86de7e5032f7",
   "metadata": {},
   "source": [
    "## 3. Set (`set`)\n",
    "\n",
    "- **Beschreibung**: Eine ungeordnete Sammlung von eindeutigen Elementen (keine Duplikate).\n",
    "- **Syntax**: `{}`\n",
    "- **Beispiel**:\n",
    "  ```python\n",
    "  zahlen_set = {1, 2, 3, 3, 4}\n",
    "  print(zahlen_set)  # {1, 2, 3, 4}\n",
    "  zahlen_set.add(5)\n",
    "  print(zahlen_set)  # {1, 2, 3, 4, 5}\n",
    "* Ein **Set** ist eine **ungeordnete Sammlung** von **eindeutigen Werten**.\n",
    "* Ein Set darf **nur unveränderliche Objekte** enthalten, wie **Strings**, `ints`, `floats` und **Tupel**, die nur unveränderliche Elemente enthalten.\n",
    "* **Sets unterstützen weder Indizierung noch Slicing**, da sie **ungeordnet** sind.\n",
    "\n"
   ]
  },
  {
   "cell_type": "code",
   "execution_count": null,
   "id": "f138340f-9d8f-483d-b322-94d4f0e15a19",
   "metadata": {},
   "outputs": [],
   "source": []
  },
  {
   "cell_type": "markdown",
   "id": "b527f3d5-b7c9-45de-be72-44fac654cd10",
   "metadata": {},
   "source": [
    "### Beispiele Set-Methoden"
   ]
  },
  {
   "cell_type": "code",
   "execution_count": 7,
   "id": "4131cd52-922b-4ef9-adf6-a47a76bff379",
   "metadata": {},
   "outputs": [
    {
     "ename": "TypeError",
     "evalue": "unhashable type: 'list'",
     "output_type": "error",
     "traceback": [
      "\u001b[1;31m---------------------------------------------------------------------------\u001b[0m",
      "\u001b[1;31mTypeError\u001b[0m                                 Traceback (most recent call last)",
      "Cell \u001b[1;32mIn[7], line 1\u001b[0m\n\u001b[1;32m----> 1\u001b[0m mein_set \u001b[38;5;241m=\u001b[39m {\u001b[38;5;241m1\u001b[39m, \u001b[38;5;241m2\u001b[39m, \u001b[38;5;241m3\u001b[39m, [\u001b[38;5;241m1\u001b[39m,\u001b[38;5;241m2\u001b[39m]}\n",
      "\u001b[1;31mTypeError\u001b[0m: unhashable type: 'list'"
     ]
    }
   ],
   "source": [
    "mein_set = {1, 2, 3, [1,2]}"
   ]
  },
  {
   "cell_type": "code",
   "execution_count": 10,
   "id": "1d936a8e-c5e9-4d13-beb6-b3f0d167dc68",
   "metadata": {},
   "outputs": [],
   "source": [
    "mein_set = {1, 2, 3, 4}"
   ]
  },
  {
   "cell_type": "code",
   "execution_count": 11,
   "id": "db57a8c1-de27-43de-84ae-74d872438888",
   "metadata": {},
   "outputs": [
    {
     "name": "stdout",
     "output_type": "stream",
     "text": [
      "{1, 2, 3, 4, 5}\n"
     ]
    }
   ],
   "source": [
    "# add()\n",
    "mein_set.add(5)\n",
    "print(mein_set)  # {1, 2, 3, 4, 5}"
   ]
  },
  {
   "cell_type": "code",
   "execution_count": 12,
   "id": "03022449-b028-4f5f-b63a-fe747b81c5cc",
   "metadata": {},
   "outputs": [
    {
     "name": "stdout",
     "output_type": "stream",
     "text": [
      "{1, 2, 4, 5}\n"
     ]
    }
   ],
   "source": [
    "# remove()\n",
    "mein_set.remove(3)\n",
    "print(mein_set)  # {1, 2, 4, 5}"
   ]
  },
  {
   "cell_type": "code",
   "execution_count": 13,
   "id": "c8769053-f521-4f45-b863-d6bd4793769e",
   "metadata": {},
   "outputs": [
    {
     "name": "stdout",
     "output_type": "stream",
     "text": [
      "{1, 2, 4, 5}\n"
     ]
    }
   ],
   "source": [
    "# discard()\n",
    "mein_set.discard(10)  # Kein Fehler, auch wenn 10 nicht vorhanden ist\n",
    "print(mein_set)  # {1, 2, 4, 5}"
   ]
  },
  {
   "cell_type": "code",
   "execution_count": 14,
   "id": "8e2d2254-6fb3-4518-bc5f-fa4e4694db49",
   "metadata": {},
   "outputs": [
    {
     "name": "stdout",
     "output_type": "stream",
     "text": [
      "1\n",
      "{2, 4, 5}\n"
     ]
    }
   ],
   "source": [
    "# pop()\n",
    "print(mein_set.pop())  # Gibt ein zufällig entferntes Element zurück\n",
    "print(mein_set)  # Set ohne das entfernte Element"
   ]
  },
  {
   "cell_type": "code",
   "execution_count": 15,
   "id": "4ddb5423-611d-42e4-9df4-176601592cdc",
   "metadata": {},
   "outputs": [
    {
     "name": "stdout",
     "output_type": "stream",
     "text": [
      "{2, 4, 5, 6}\n"
     ]
    }
   ],
   "source": [
    "# union()\n",
    "set2 = {4, 5, 6}\n",
    "print(mein_set.union(set2))  # {1, 2, 4, 5, 6}"
   ]
  },
  {
   "cell_type": "code",
   "execution_count": 16,
   "id": "f8b32da2-b9ef-4e42-ac94-970dcafe9c75",
   "metadata": {},
   "outputs": [
    {
     "name": "stdout",
     "output_type": "stream",
     "text": [
      "{4, 5}\n"
     ]
    }
   ],
   "source": [
    "# intersection()\n",
    "print(mein_set.intersection(set2))  # {4, 5}"
   ]
  },
  {
   "cell_type": "markdown",
   "id": "90e3b423-cd5f-4371-abcc-1a22b090910b",
   "metadata": {},
   "source": [
    "### Python - Set-Methoden\n",
    "\n",
    "| **Methode**       | **Beschreibung**                                               | **Beispiel**                                              |\n",
    "|-------------------|-----------------------------------------------------------------|-----------------------------------------------------------|\n",
    "| `add()`           | Fügt ein Element zum Set hinzu.                                 | `mein_set.add(5)` -> `{1, 2, 3, 4, 5}`                    |\n",
    "| `remove()`        | Entfernt ein Element aus dem Set. Löst einen Fehler aus, wenn das Element nicht existiert. | `mein_set.remove(3)` -> `{1, 2, 4, 5}`                    |\n",
    "| `discard()`       | Entfernt ein Element aus dem Set, ohne einen Fehler zu werfen, falls das Element nicht existiert. | `mein_set.discard(3)` -> `{1, 2, 4, 5}`                   |\n",
    "| `pop()`           | Entfernt und gibt ein zufällig ausgewähltes Element zurück.     | `mein_set.pop()` -> `1`, `{2, 3, 4, 5}`                   |\n",
    "| `clear()`         | Entfernt alle Elemente aus dem Set.                             | `mein_set.clear()` -> `set()`                             |\n",
    "| `copy()`          | Gibt eine flache Kopie des Sets zurück.                         | `mein_set.copy()` -> `{1, 2, 3, 4, 5}`                    |\n",
    "| `union()`         | Gibt die Vereinigung von zwei Sets zurück (alle einzigartigen Elemente beider Sets). | `mein_set.union({4, 5, 6})` -> `{1, 2, 3, 4, 5, 6}`       |\n",
    "| `intersection()`  | Gibt die Schnittmenge von zwei Sets zurück (gemeinsame Elemente). | `mein_set.intersection({2, 3, 4})` -> `{2, 3, 4}`          |\n",
    "| `difference()`    | Gibt die Differenz von zwei Sets zurück (Elemente im ersten Set, die nicht im zweiten Set sind). | `mein_set.difference({3, 4, 5})` -> `{1, 2}`               |\n",
    "| `symmetric_difference()` | Gibt die symmetrische Differenz der Sets zurück (Elemente, die in einem der beiden Sets, aber nicht in beiden vorhanden sind). | `mein_set.symmetric_difference({4, 5, 6})` -> `{1, 2, 3, 6}` |\n",
    "| `issubset()`      | Prüft, ob ein Set ein Teilmenge eines anderen Sets ist.         | `mein_set.issubset({1, 2, 3, 4, 5})` -> `True`             |\n",
    "| `issuperset()`    | Prüft, ob ein Set ein Obermenge eines anderen Sets ist.        | `mein_set.issuperset({1, 2})` -> `True`                    |\n",
    "| `isdisjoint()`    | Prüft, ob zwei Sets keine gemeinsamen Elemente haben.          | `mein_set.isdisjoint({6, 7})` -> `True`                    |\n"
   ]
  },
  {
   "cell_type": "markdown",
   "id": "2cae32c8-19cf-456f-8b59-0dda4620f21f",
   "metadata": {},
   "source": [
    "## 4. Dictionary (`dict`)\n",
    "\n",
    "- **Beschreibung**: Eine geordnet* Sammlung von Schlüssel-Wert-Paaren.\n",
    "- **Syntax**: `{key: value}`\n",
    "- **Beispiel**:\n",
    "  ```python\n",
    "  student = {\"name\": \"Max\", \"alter\": 25}\n",
    "  print(student[\"name\"])  # Max\n",
    "  student[\"studiengang\"] = \"Informatik\"\n",
    "  print(student)  # {\"name\": \"Max\", \"alter\": 25, \"studiengang\": \"Informatik\"}\n",
    "- `Wörterbücher` ordnen Schlüssel zu Werten.\n",
    "- Schlüssel müssen unveränderlich und eindeutig sein.\n",
    "- Wenn wir sagen, dass Wörterbücher geordnet sind, bedeutet das, dass die Elemente eine **festgelegte Reihenfolge** haben und sich diese Reihenfolge nicht ändert.\n",
    "\n",
    "\n"
   ]
  },
  {
   "cell_type": "markdown",
   "id": "f5d0e8aa-e4a1-40d2-adcd-f5495f4774b3",
   "metadata": {},
   "source": [
    "### Eindeutige Schlüssel\n",
    "* **Schlüssel in einem Dictionary müssen unveränderlich** (immutable) und **eindeutig** sein.\n",
    "* **Mehrere Schlüssel können denselben Wert** haben.\n"
   ]
  },
  {
   "cell_type": "code",
   "execution_count": null,
   "id": "27ed7069-ebd0-4d68-8e96-0c48dd6eb823",
   "metadata": {},
   "outputs": [],
   "source": []
  },
  {
   "cell_type": "markdown",
   "id": "373513eb-e2eb-42f8-8c71-05d36f8028cd",
   "metadata": {},
   "source": [
    "### Beispiele Dictionary-Methoden"
   ]
  },
  {
   "cell_type": "code",
   "execution_count": 17,
   "id": "87793290-df6b-40f9-b3bc-2a4d7cd0cd6a",
   "metadata": {},
   "outputs": [
    {
     "name": "stdout",
     "output_type": "stream",
     "text": [
      "{'a': 1, 'b': 2, 'c': 3}\n"
     ]
    }
   ],
   "source": [
    "mein_dict = {'a': 1, 'b': 2, 'c':3, 'h':3}\n",
    "print(mein_dict)"
   ]
  },
  {
   "cell_type": "code",
   "execution_count": 18,
   "id": "4a98e3f4-6c26-40c1-aaee-aa4e54e19bd1",
   "metadata": {},
   "outputs": [
    {
     "name": "stdout",
     "output_type": "stream",
     "text": [
      "{'a': 1, 'b': 2, 'c': 3}\n"
     ]
    }
   ],
   "source": [
    "mein_dict = {'a': 1, 'b': 2, 'c':3, 'c':3}\n",
    "print(mein_dict)"
   ]
  },
  {
   "cell_type": "code",
   "execution_count": 19,
   "id": "89547767-c55b-4022-89e8-798f057c2973",
   "metadata": {},
   "outputs": [
    {
     "name": "stdout",
     "output_type": "stream",
     "text": [
      "1\n",
      "None\n"
     ]
    }
   ],
   "source": [
    "# get()\n",
    "print(mein_dict.get('a'))  # 1\n",
    "print(mein_dict.get('c'))  # None"
   ]
  },
  {
   "cell_type": "code",
   "execution_count": 20,
   "id": "1ef8a8f4-d9ec-4965-adf4-fc426e53503e",
   "metadata": {},
   "outputs": [
    {
     "name": "stdout",
     "output_type": "stream",
     "text": [
      "3\n",
      "{'a': 1, 'b': 2, 'c': 3}\n"
     ]
    }
   ],
   "source": [
    "# setdefault()\n",
    "print(mein_dict.setdefault('c', 3))  # 3\n",
    "print(mein_dict)  # {'a': 1, 'b': 2, 'c': 3}"
   ]
  },
  {
   "cell_type": "code",
   "execution_count": 21,
   "id": "bcf948d4-ed39-4a4b-a8d6-d91be26b5504",
   "metadata": {},
   "outputs": [
    {
     "name": "stdout",
     "output_type": "stream",
     "text": [
      "dict_keys(['a', 'b', 'c'])\n"
     ]
    }
   ],
   "source": [
    "# keys()\n",
    "print(mein_dict.keys())  # dict_keys(['a', 'b', 'c'])"
   ]
  },
  {
   "cell_type": "code",
   "execution_count": 22,
   "id": "55cfe493-3ed7-435c-a499-6f709d9d30f7",
   "metadata": {},
   "outputs": [
    {
     "name": "stdout",
     "output_type": "stream",
     "text": [
      "dict_values([1, 2, 3])\n"
     ]
    }
   ],
   "source": [
    "# values()\n",
    "print(mein_dict.values())  # dict_values([1, 2, 3])"
   ]
  },
  {
   "cell_type": "code",
   "execution_count": 23,
   "id": "3b133c7d-0295-45bc-a909-66c06aeaaad2",
   "metadata": {},
   "outputs": [
    {
     "name": "stdout",
     "output_type": "stream",
     "text": [
      "dict_items([('a', 1), ('b', 2), ('c', 3)])\n"
     ]
    }
   ],
   "source": [
    "# items()\n",
    "print(mein_dict.items())  # dict_items([('a', 1), ('b', 2), ('c', 3)])"
   ]
  },
  {
   "cell_type": "code",
   "execution_count": 24,
   "id": "998e5d61-6533-4da9-96e7-94c60592a4d3",
   "metadata": {},
   "outputs": [
    {
     "name": "stdout",
     "output_type": "stream",
     "text": [
      "{'a': 1, 'b': 2, 'c': 3, 'd': 4}\n"
     ]
    }
   ],
   "source": [
    "# update()\n",
    "mein_dict.update({'d': 4})\n",
    "print(mein_dict)  # {'a': 1, 'b': 2, 'c': 3, 'd': 4}"
   ]
  },
  {
   "cell_type": "code",
   "execution_count": 25,
   "id": "d19f648e-f9d7-4a48-aafa-281f92363ea6",
   "metadata": {},
   "outputs": [
    {
     "name": "stdout",
     "output_type": "stream",
     "text": [
      "2\n",
      "{'a': 1, 'c': 3, 'd': 4}\n"
     ]
    }
   ],
   "source": [
    "# pop()\n",
    "print(mein_dict.pop('b'))  # 2\n",
    "print(mein_dict)  # {'a': 1, 'c': 3, 'd': 4}"
   ]
  },
  {
   "cell_type": "code",
   "execution_count": 26,
   "id": "1c57e606-25b9-4577-8924-7666c36aa3c0",
   "metadata": {},
   "outputs": [
    {
     "name": "stdout",
     "output_type": "stream",
     "text": [
      "('d', 4)\n",
      "{'a': 1, 'c': 3}\n"
     ]
    }
   ],
   "source": [
    "# popitem()\n",
    "print(mein_dict.popitem())  # ('d', 4)\n",
    "print(mein_dict)  # {'a': 1, 'c': 3}"
   ]
  },
  {
   "cell_type": "code",
   "execution_count": 27,
   "id": "07810449-9438-4132-9e47-135e7b27f512",
   "metadata": {},
   "outputs": [
    {
     "name": "stdout",
     "output_type": "stream",
     "text": [
      "{}\n"
     ]
    }
   ],
   "source": [
    "# clear()\n",
    "mein_dict.clear()\n",
    "print(mein_dict)  # {}"
   ]
  },
  {
   "cell_type": "code",
   "execution_count": 28,
   "id": "7d40a6d2-24ea-4efb-8f1f-fcd109a81cf4",
   "metadata": {},
   "outputs": [
    {
     "name": "stdout",
     "output_type": "stream",
     "text": [
      "{'a': 1, 'b': 2}\n"
     ]
    }
   ],
   "source": [
    "# copy()\n",
    "mein_dict = {'a': 1, 'b': 2}\n",
    "dict_copy = mein_dict.copy()\n",
    "print(dict_copy)  # {'a': 1, 'b': 2}"
   ]
  },
  {
   "cell_type": "code",
   "execution_count": 29,
   "id": "c4a7c942-2b20-4ae6-863c-5963ac8d43c7",
   "metadata": {},
   "outputs": [
    {
     "name": "stdout",
     "output_type": "stream",
     "text": [
      "{'a': 0, 'b': 0, 'c': 0}\n"
     ]
    }
   ],
   "source": [
    "# fromkeys()\n",
    "new_dict = dict.fromkeys(['a', 'b', 'c'], 0)\n",
    "print(new_dict)  # {'a': 0, 'b': 0, 'c': 0}"
   ]
  },
  {
   "cell_type": "code",
   "execution_count": 30,
   "id": "0b4f456d-34ab-4354-8f80-bcfb6f421d7a",
   "metadata": {},
   "outputs": [
    {
     "name": "stdout",
     "output_type": "stream",
     "text": [
      "{'b': 2}\n"
     ]
    }
   ],
   "source": [
    "# del\n",
    "del mein_dict['a']\n",
    "print(mein_dict)  # {'b': 2}\n"
   ]
  },
  {
   "cell_type": "markdown",
   "id": "7832ae33-ad85-476b-ac42-ac0d2eed2c3e",
   "metadata": {},
   "source": [
    "### Python - Dictionary-Methoden\n",
    "\n",
    "| **Methode**           | **Beschreibung**                                               | **Beispiel**                                               |\n",
    "|-----------------------|-----------------------------------------------------------------|------------------------------------------------------------|\n",
    "| `get()`               | Gibt den Wert eines Schlüssels zurück. Gibt `None` zurück, wenn der Schlüssel nicht vorhanden ist (optional auch ein Standardwert). | `mein_dict.get('a')` -> `1`                                |\n",
    "| `setdefault()`        | Gibt den Wert eines Schlüssels zurück und fügt ihn hinzu, wenn der Schlüssel nicht existiert. | `mein_dict.setdefault('b', 2)` -> `2`                      |\n",
    "| `keys()`              | Gibt alle Schlüssel des Dictionaries zurück.                   | `mein_dict.keys()` -> `dict_keys(['a', 'b'])`               |\n",
    "| `values()`            | Gibt alle Werte des Dictionaries zurück.                       | `mein_dict.values()` -> `dict_values([1, 2])`               |\n",
    "| `items()`             | Gibt alle Schlüssel-Wert-Paare als Tupel zurück.               | `mein_dict.items()` -> `dict_items([('a', 1), ('b', 2)])`   |\n",
    "| `update()`            | Fügt ein anderes Dictionary oder Schlüssel-Wert-Paare hinzu.    | `mein_dict.update({'c': 3})` -> `{'a': 1, 'b': 2, 'c': 3}`   |\n",
    "| `pop()`               | Entfernt den angegebenen Schlüssel und gibt den Wert zurück.   | `mein_dict.pop('a')` -> `1`, `mein_dict` -> `{'b': 2}`      |\n",
    "| `popitem()`           | Entfernt und gibt das letzte eingefügte Schlüssel-Wert-Paar zurück. | `mein_dict.popitem()` -> `('b', 2)`, `mein_dict` -> `{}`     |\n",
    "| `clear()`             | Entfernt alle Elemente aus dem Dictionary.                     | `mein_dict.clear()` -> `{}`                                 |\n",
    "| `copy()`              | Gibt eine flache Kopie des Dictionaries zurück.                | `mein_dict.copy()` -> `{'a': 1, 'b': 2}`                    |\n",
    "| `fromkeys()`          | Erstellt ein Dictionary mit angegebenen Schlüsseln und einem Standardwert. | `dict.fromkeys(['a', 'b'], 0)` -> `{'a': 0, 'b': 0}`        |\n"
   ]
  },
  {
   "cell_type": "markdown",
   "id": "7e23d9e5-284c-44f8-8e07-db763e2f7413",
   "metadata": {},
   "source": [
    "## Eigenschaften der zusammengesetzten Datentypen\n",
    "\n",
    "| Typ             | Geordnet?           | Veränderbar? | Duplikate erlaubt? |\n",
    "|-----------------|---------------------|--------------|--------------------|\n",
    "| **Liste**       | Ja                  | Ja           | Ja                 |\n",
    "| **Tuple**       | Ja                  | Nein         | Ja                 |\n",
    "| **Set**         | Nein                | kann Elemente hinzufügen/entfernen, aber nicht direkt ändern           | Nein               |\n",
    "| **Dictionary**  <span style=\"padding-left: 40px;\">  |    </span>  Ab Python 3.7:  Ja<span style=\"padding-left: 40px;\">  | Ja  </span>               | Nein (bei Keys)         |\n",
    "\n"
   ]
  },
  {
   "cell_type": "code",
   "execution_count": 34,
   "id": "c0905084-b671-4fdd-97f6-0bd8384c904f",
   "metadata": {},
   "outputs": [],
   "source": [
    "meine_liste = [1, 2, 3]\n",
    "# IndexError, weil es keinen Index 5 gibt:\n",
    "# print(meine_liste[5])\n"
   ]
  },
  {
   "cell_type": "code",
   "execution_count": 35,
   "id": "93337b39-5674-4082-af09-3f0dddea5da7",
   "metadata": {},
   "outputs": [
    {
     "ename": "TypeError",
     "evalue": "'tuple' object does not support item assignment",
     "output_type": "error",
     "traceback": [
      "\u001b[1;31m---------------------------------------------------------------------------\u001b[0m",
      "\u001b[1;31mTypeError\u001b[0m                                 Traceback (most recent call last)",
      "Cell \u001b[1;32mIn[35], line 3\u001b[0m\n\u001b[0;32m      1\u001b[0m mein_tuple \u001b[38;5;241m=\u001b[39m (\u001b[38;5;241m1\u001b[39m, \u001b[38;5;241m2\u001b[39m, \u001b[38;5;241m3\u001b[39m)\n\u001b[0;32m      2\u001b[0m \u001b[38;5;66;03m# TypeError, weil Tuples unveränderbar sind:\u001b[39;00m\n\u001b[1;32m----> 3\u001b[0m \u001b[43mmein_tuple\u001b[49m\u001b[43m[\u001b[49m\u001b[38;5;241;43m1\u001b[39;49m\u001b[43m]\u001b[49m \u001b[38;5;241m=\u001b[39m \u001b[38;5;241m4\u001b[39m  \u001b[38;5;66;03m# Fehler!\u001b[39;00m\n",
      "\u001b[1;31mTypeError\u001b[0m: 'tuple' object does not support item assignment"
     ]
    }
   ],
   "source": [
    "mein_tuple = (1, 2, 3)\n",
    "# TypeError, weil Tuples unveränderbar sind:\n",
    "mein_tuple[1] = 4  # Fehler!\n"
   ]
  },
  {
   "cell_type": "code",
   "execution_count": 36,
   "id": "7bc27450-28bf-456d-904e-d62fc00e9163",
   "metadata": {},
   "outputs": [
    {
     "name": "stdout",
     "output_type": "stream",
     "text": [
      "{1, 2, 3}\n"
     ]
    },
    {
     "ename": "TypeError",
     "evalue": "unhashable type: 'list'",
     "output_type": "error",
     "traceback": [
      "\u001b[1;31m---------------------------------------------------------------------------\u001b[0m",
      "\u001b[1;31mTypeError\u001b[0m                                 Traceback (most recent call last)",
      "Cell \u001b[1;32mIn[36], line 5\u001b[0m\n\u001b[0;32m      2\u001b[0m \u001b[38;5;28mprint\u001b[39m(mein_set)  \u001b[38;5;66;03m# {1, 2, 3}\u001b[39;00m\n\u001b[0;32m      4\u001b[0m \u001b[38;5;66;03m# TypeError, weil Listen nicht als Set-Elemente erlaubt sind:\u001b[39;00m\n\u001b[1;32m----> 5\u001b[0m \u001b[43mmein_set\u001b[49m\u001b[38;5;241;43m.\u001b[39;49m\u001b[43madd\u001b[49m\u001b[43m(\u001b[49m\u001b[43m[\u001b[49m\u001b[38;5;241;43m4\u001b[39;49m\u001b[43m,\u001b[49m\u001b[43m \u001b[49m\u001b[38;5;241;43m5\u001b[39;49m\u001b[43m]\u001b[49m\u001b[43m)\u001b[49m  \u001b[38;5;66;03m# Fehler!\u001b[39;00m\n",
      "\u001b[1;31mTypeError\u001b[0m: unhashable type: 'list'"
     ]
    }
   ],
   "source": [
    "mein_set = {1, 2, 3, 3}  # Duplikate werden entfernt\n",
    "print(mein_set)  # {1, 2, 3}\n",
    "\n",
    "# TypeError, weil Listen nicht als Set-Elemente erlaubt sind:\n",
    "mein_set.add([4, 5])  # Fehler!\n"
   ]
  },
  {
   "cell_type": "code",
   "execution_count": 38,
   "id": "78651bd6-fa29-42bc-af63-55fa1ddf213e",
   "metadata": {},
   "outputs": [
    {
     "ename": "TypeError",
     "evalue": "unhashable type: 'list'",
     "output_type": "error",
     "traceback": [
      "\u001b[1;31m---------------------------------------------------------------------------\u001b[0m",
      "\u001b[1;31mTypeError\u001b[0m                                 Traceback (most recent call last)",
      "Cell \u001b[1;32mIn[38], line 6\u001b[0m\n\u001b[0;32m      3\u001b[0m mein_dict[\u001b[38;5;124m'\u001b[39m\u001b[38;5;124ma\u001b[39m\u001b[38;5;124m'\u001b[39m] \u001b[38;5;241m=\u001b[39m \u001b[38;5;241m10\u001b[39m  \u001b[38;5;66;03m# Überschreibt den alten Wert von 'a'\u001b[39;00m\n\u001b[0;32m      5\u001b[0m \u001b[38;5;66;03m# TypeError, weil Listen als Schlüssel nicht erlaubt sind:\u001b[39;00m\n\u001b[1;32m----> 6\u001b[0m \u001b[43mmein_dict\u001b[49m\u001b[43m[\u001b[49m\u001b[43m[\u001b[49m\u001b[38;5;241;43m1\u001b[39;49m\u001b[43m,\u001b[49m\u001b[43m \u001b[49m\u001b[38;5;241;43m2\u001b[39;49m\u001b[43m]\u001b[49m\u001b[43m]\u001b[49m \u001b[38;5;241m=\u001b[39m \u001b[38;5;241m5\u001b[39m  \u001b[38;5;66;03m# Fehler!\u001b[39;00m\n",
      "\u001b[1;31mTypeError\u001b[0m: unhashable type: 'list'"
     ]
    }
   ],
   "source": [
    "mein_dict = {'a': 1, 'b': 2}\n",
    "# Wenn du versuchst, denselben Schlüssel erneut hinzuzufügen:\n",
    "mein_dict['a'] = 10  # Überschreibt den alten Wert von 'a'\n",
    "\n",
    "# TypeError, weil Listen als Schlüssel nicht erlaubt sind:\n",
    "mein_dict[[1, 2]] = 5  # Fehler!\n"
   ]
  },
  {
   "cell_type": "markdown",
   "id": "36987656-c95a-4c7f-805e-d199d806bad3",
   "metadata": {},
   "source": [
    "## Quellen\n",
    "\n",
    "1. https://www.w3schools.com/python/\n",
    "2. https://www.python.org/\n",
    "3. https://www.py4e.com/book"
   ]
  },
  {
   "cell_type": "code",
   "execution_count": null,
   "id": "6212f87b-09c8-4d31-979d-ddb707abe2b3",
   "metadata": {},
   "outputs": [],
   "source": []
  }
 ],
 "metadata": {
  "kernelspec": {
   "display_name": "Python 3 (ipykernel)",
   "language": "python",
   "name": "python3"
  },
  "language_info": {
   "codemirror_mode": {
    "name": "ipython",
    "version": 3
   },
   "file_extension": ".py",
   "mimetype": "text/x-python",
   "name": "python",
   "nbconvert_exporter": "python",
   "pygments_lexer": "ipython3",
   "version": "3.12.7"
  }
 },
 "nbformat": 4,
 "nbformat_minor": 5
}
