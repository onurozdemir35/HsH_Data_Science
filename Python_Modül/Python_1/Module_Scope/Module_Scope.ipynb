{
 "cells": [
  {
   "cell_type": "markdown",
   "id": "f533e589-8438-44c5-8ff5-4ae29584fc3c",
   "metadata": {},
   "source": [
    "# Verschachtelte Schleifen in Python"
   ]
  },
  {
   "cell_type": "code",
   "execution_count": 1,
   "id": "bf3865a9-d622-4685-9975-ffb82e2ac5ed",
   "metadata": {},
   "outputs": [
    {
     "name": "stdout",
     "output_type": "stream",
     "text": [
      "1 2 3 \n",
      "4 5 6 \n",
      "7 8 9 \n"
     ]
    }
   ],
   "source": [
    " matrix = [\n",
    "    [1, 2, 3],\n",
    "    [4, 5, 6],\n",
    "    [7, 8, 9]\n",
    "]\n",
    "\n",
    "for zeile in matrix:  # Äußere Schleife über die Zeilen\n",
    "    for element in zeile:  # Innere Schleife über die Elemente der Zeile\n",
    "        print(element, end=\" \")\n",
    "    print()  # Zeilenumbruch nach jeder Zeile\n"
   ]
  },
  {
   "cell_type": "code",
   "execution_count": 2,
   "id": "7c2194ab-9da0-42ce-ad0b-e42560f3e95a",
   "metadata": {},
   "outputs": [
    {
     "name": "stdout",
     "output_type": "stream",
     "text": [
      "1 2 3 \n",
      "4 5 6 \n",
      "7 8 9 \n"
     ]
    }
   ],
   "source": [
    " matrix = [\n",
    "    [1, 2, 3],\n",
    "    [4, 5, 6],\n",
    "    [7, 8, 9]\n",
    "]\n",
    "\n",
    "i = 0\n",
    "while i < len(matrix):  # Äußere Schleife über die Zeilen\n",
    "    j = 0\n",
    "    while j < len(matrix[i]):  # Innere Schleife über die Elemente der Zeile\n",
    "        print(matrix[i][j], end=\" \")\n",
    "        j += 1\n",
    "    print()  # Zeilenumbruch nach jeder Zeile\n",
    "    i += 1\n"
   ]
  },
  {
   "cell_type": "code",
   "execution_count": 3,
   "id": "182732d3-22bd-4980-b122-e0ad02a9fa0d",
   "metadata": {},
   "outputs": [
    {
     "name": "stdout",
     "output_type": "stream",
     "text": [
      "I:\n",
      " 1\n",
      " 2\n",
      " 3\n",
      " 4\n",
      " 5\n",
      " 6\n",
      " 7\n",
      " 8\n",
      " 9\n",
      " 10\n",
      "II:\n",
      " 1\n",
      " 2\n",
      " 3\n",
      " 4\n",
      " 5\n",
      " 6\n",
      " 7\n",
      " 8\n",
      " 9\n",
      " 10\n",
      "III:\n",
      " 1\n",
      " 2\n",
      " 3\n",
      " 4\n",
      " 5\n",
      " 6\n",
      " 7\n",
      " 8\n",
      " 9\n",
      " 10\n"
     ]
    }
   ],
   "source": [
    "for i in range(1,4):\n",
    "    print(i * \"I\"  + \":\")\n",
    "    for x in range(1, 11):\n",
    "        print(\" \" + str(x))"
   ]
  },
  {
   "cell_type": "markdown",
   "id": "cd27e447-06d2-46ac-81c9-3a5f2398ce5f",
   "metadata": {},
   "source": [
    "# Was ist ein Modul?\n"
   ]
  },
  {
   "cell_type": "markdown",
   "id": "6b336317-338d-4c88-b571-fee29b728077",
   "metadata": {},
   "source": [
    "- Ein Modul in Python ist eine **Datei mit der Endung `.py`**, die Python-Code enthält.  \n",
    "- Es definiert **Funktionen** und/oder **Variablen**.  \n",
    "- Module dienen dazu, **Code zu strukturieren**, **organisieren** und **wiederverwendbar** zu machen.  \n",
    "- **Import** ermöglicht die Nutzung von Modulen in anderen Python-Programmen.  \n",
    "- Python bietet sowohl **eingebaute Module** (z. B. `math`, `os`) als auch die Möglichkeit, **eigene Module** zu erstellen.  \n",
    "## Beispiele:"
   ]
  },
  {
   "cell_type": "code",
   "execution_count": null,
   "id": "522c8f66-0019-4c0c-91a7-03c1b8ec0bd2",
   "metadata": {},
   "outputs": [],
   "source": []
  },
  {
   "cell_type": "code",
   "execution_count": 21,
   "id": "78fd946d-d731-4fe1-9c4c-917bbe469355",
   "metadata": {},
   "outputs": [
    {
     "name": "stdout",
     "output_type": "stream",
     "text": [
      "C:\\Users\\onurr\\Desktop\\Python_Modül\\Module_Scope\\my_module.py\n",
      "['PI', '__builtins__', '__cached__', '__doc__', '__file__', '__loader__', '__name__', '__package__', '__spec__', 'begrueße', 'begrüße', 'pi']\n"
     ]
    }
   ],
   "source": [
    "# my_module.py\n",
    "\n",
    "def begrueße(name):\n",
    "    return f\"Hallo, {name}!\"\n",
    "\n",
    "PI = 3.14159\n",
    "\n",
    "import importlib\n",
    "import my_module\n",
    "print(my_module.__file__)\n",
    "print(dir(my_module))"
   ]
  },
  {
   "cell_type": "code",
   "execution_count": 19,
   "id": "e9eb5396-ba76-492b-aaf4-eec2e6ec1e98",
   "metadata": {},
   "outputs": [
    {
     "name": "stdout",
     "output_type": "stream",
     "text": [
      "Hello, Anna\n",
      "3.14159\n"
     ]
    }
   ],
   "source": [
    "import my_module\n",
    "\n",
    "print(my_module.begrüße(\"Anna\"))  # Ausgabe: Hallo, Anna!\n",
    "print(my_module.PI)               # Ausgabe: 3.14159\n"
   ]
  },
  {
   "cell_type": "code",
   "execution_count": 13,
   "id": "f87034f0-f39a-42fa-bda7-fd55e20e925b",
   "metadata": {},
   "outputs": [
    {
     "name": "stdout",
     "output_type": "stream",
     "text": [
      "Hello, Max\n"
     ]
    }
   ],
   "source": [
    "from my_module import begrüße\n",
    "\n",
    "print(begrüße(\"Max\"))  # Ausgabe: Hallo, Max!\n"
   ]
  },
  {
   "cell_type": "code",
   "execution_count": 14,
   "id": "4a33d70f-e4ab-48ef-943c-3e532b95c644",
   "metadata": {},
   "outputs": [
    {
     "name": "stdout",
     "output_type": "stream",
     "text": [
      "4.0\n"
     ]
    }
   ],
   "source": [
    "import math\n",
    "\n",
    "print(math.sqrt(16))  # Ausgabe: 4.0\n"
   ]
  },
  {
   "cell_type": "code",
   "execution_count": null,
   "id": "fc32a3ef-9f73-41b0-9f75-a5669ebadb52",
   "metadata": {},
   "outputs": [],
   "source": []
  },
  {
   "cell_type": "markdown",
   "id": "814abbc6-9875-47f0-bb45-fc13a8e5d50d",
   "metadata": {},
   "source": [
    "## Umbenennen eines Moduls"
   ]
  },
  {
   "cell_type": "code",
   "execution_count": 15,
   "id": "db270cb3-be95-465f-ab0a-2763facf99a7",
   "metadata": {},
   "outputs": [
    {
     "name": "stdout",
     "output_type": "stream",
     "text": [
      "4.0\n"
     ]
    }
   ],
   "source": [
    "import math as m  # Alias für das Modul math\n",
    "\n",
    "print(m.sqrt(16))  # Ausgabe: 4.0"
   ]
  },
  {
   "cell_type": "markdown",
   "id": "802ca776-74e3-4632-afc5-3d35b6116c3b",
   "metadata": {},
   "source": [
    "## Verwendung von ``dir()`` mit Modulen\n",
    "- Importiere ein Modul.\n",
    "- Verwende ``dir()``, um die verfügbaren Inhalte des Moduls aufzulisten."
   ]
  },
  {
   "cell_type": "code",
   "execution_count": 16,
   "id": "99b2e85c-9ae4-49d4-99ab-b9ac0262b787",
   "metadata": {},
   "outputs": [
    {
     "name": "stdout",
     "output_type": "stream",
     "text": [
      "['__doc__', '__loader__', '__name__', '__package__', '__spec__', 'acos', 'acosh', 'asin', 'asinh', 'atan', 'atan2', 'atanh', 'cbrt', 'ceil', 'comb', 'copysign', 'cos', 'cosh', 'degrees', 'dist', 'e', 'erf', 'erfc', 'exp', 'exp2', 'expm1', 'fabs', 'factorial', 'floor', 'fmod', 'frexp', 'fsum', 'gamma', 'gcd', 'hypot', 'inf', 'isclose', 'isfinite', 'isinf', 'isnan', 'isqrt', 'lcm', 'ldexp', 'lgamma', 'log', 'log10', 'log1p', 'log2', 'modf', 'nan', 'nextafter', 'perm', 'pi', 'pow', 'prod', 'radians', 'remainder', 'sin', 'sinh', 'sqrt', 'sumprod', 'tan', 'tanh', 'tau', 'trunc', 'ulp']\n"
     ]
    }
   ],
   "source": [
    "import math\n",
    "\n",
    "# Liste aller Attribute und Methoden des Moduls math\n",
    "print(dir(math))\n"
   ]
  },
  {
   "cell_type": "code",
   "execution_count": 16,
   "id": "d2859586-fa03-4013-a368-0ca59972e821",
   "metadata": {},
   "outputs": [
    {
     "name": "stdout",
     "output_type": "stream",
     "text": [
      "Der Floor von 5.7 ist 5.\n"
     ]
    }
   ],
   "source": [
    "import math\n",
    "\n",
    "# Zahl\n",
    "zahl = 5.7\n",
    "\n",
    "# Floor der Zahl\n",
    "gerundet = math.floor(zahl)\n",
    "\n",
    "print(f\"Der Floor von {zahl} ist {gerundet}.\")\n"
   ]
  },
  {
   "cell_type": "code",
   "execution_count": 11,
   "id": "bffb5635-c66e-497d-8d66-7aa6072ccfde",
   "metadata": {},
   "outputs": [
    {
     "name": "stdout",
     "output_type": "stream",
     "text": [
      "Sinus von 90 Grad: 1.0\n"
     ]
    }
   ],
   "source": [
    "# Winkel in Grad\n",
    "winkel = 90\n",
    "\n",
    "# Umrechnung in Bogenmaß\n",
    "rad = math.radians(winkel)\n",
    "\n",
    "# Sinuswert berechnen\n",
    "sinuswert = math.sin(rad)\n",
    "\n",
    "print(f\"Sinus von {winkel} Grad: {sinuswert}\")\n"
   ]
  },
  {
   "cell_type": "code",
   "execution_count": 22,
   "id": "4250d4cd-17bd-46c0-a9d3-b10ab112ff7d",
   "metadata": {},
   "outputs": [
    {
     "name": "stdout",
     "output_type": "stream",
     "text": [
      "['PI', '__builtins__', '__cached__', '__doc__', '__file__', '__loader__', '__name__', '__package__', '__spec__', 'begrueße', 'begrüße', 'pi']\n"
     ]
    }
   ],
   "source": [
    "# Beispielmodul: my_module.py\n",
    "def begrüße(name):\n",
    "    return f\"Hallo, {name}!\"\n",
    "\n",
    "zahl = 42\n",
    "\n",
    "# Hauptskript\n",
    "import my_module\n",
    "\n",
    "print(dir(my_module))\n"
   ]
  },
  {
   "cell_type": "markdown",
   "id": "52d05221-888c-4389-8e91-49c0fb2ff5e2",
   "metadata": {},
   "source": [
    "## Import einer Funktion aus einem Modul"
   ]
  },
  {
   "cell_type": "code",
   "execution_count": 17,
   "id": "8ec8c008-bb96-4653-aa64-84527fbc3ebc",
   "metadata": {},
   "outputs": [
    {
     "name": "stdout",
     "output_type": "stream",
     "text": [
      "Der Floor von 5.7 ist 5\n"
     ]
    }
   ],
   "source": [
    "from math import floor\n",
    "\n",
    "# Zahl\n",
    "zahl = 5.7\n",
    "# Floor der Zahl\n",
    "gerundet = floor(zahl)\n",
    "\n",
    "print(f\"Der Floor von {zahl} ist {gerundet}\")\n"
   ]
  },
  {
   "cell_type": "code",
   "execution_count": 19,
   "id": "45c94b65-da6c-417c-9953-cc82c6da83ee",
   "metadata": {},
   "outputs": [
    {
     "name": "stdout",
     "output_type": "stream",
     "text": [
      "Der Floor von 5.7 ist 5\n"
     ]
    }
   ],
   "source": [
    "import math\n",
    "\n",
    "# Zahl\n",
    "zahl = 5.7\n",
    "# Floor der Zahl\n",
    "gerundet = math.floor(zahl)\n",
    "\n",
    "print(f\"Der Floor von {zahl} ist {gerundet}\")\n"
   ]
  },
  {
   "cell_type": "markdown",
   "id": "ec2941b1-b05e-4e66-96f9-598083ef9aca",
   "metadata": {},
   "source": [
    "## 2. Import mehrerer Elemente aus einem Modul\n",
    " \n"
   ]
  },
  {
   "cell_type": "code",
   "execution_count": 21,
   "id": "46921909-8c06-46fc-a122-2f2127084a6e",
   "metadata": {},
   "outputs": [
    {
     "name": "stdout",
     "output_type": "stream",
     "text": [
      "Der Ceil von 5.3 ist 6.\n"
     ]
    }
   ],
   "source": [
    "from math import floor, ceil\n",
    "\n",
    "# Zahl\n",
    "zahl = 5.3\n",
    "\n",
    "# Ceil der Zahl\n",
    "gerundet = ceil(zahl)\n",
    "\n",
    "print(f\"Der Ceil von {zahl} ist {gerundet}.\")\n",
    "\n"
   ]
  },
  {
   "cell_type": "markdown",
   "id": "d714b09d-cde6-4c89-abb6-0f7c56bc64a7",
   "metadata": {},
   "source": [
    "## Verwendung eines Alias (Aliasname vergeben)"
   ]
  },
  {
   "cell_type": "code",
   "execution_count": 22,
   "id": "a69fc29b-6178-459e-a24b-24494846eacb",
   "metadata": {},
   "outputs": [
    {
     "name": "stdout",
     "output_type": "stream",
     "text": [
      "Der Ceil von 5.3 ist 5.\n"
     ]
    }
   ],
   "source": [
    "from math import floor as fl, ceil\n",
    "\n",
    "# Zahl\n",
    "zahl = 5.3\n",
    "\n",
    "# Ceil der Zahl\n",
    "gerundet = fl(zahl)\n",
    "\n",
    "print(f\"Der Floor von {zahl} ist {gerundet}.\")\n"
   ]
  },
  {
   "cell_type": "markdown",
   "id": "21cb9d93-507f-4419-b4f6-208c289f7643",
   "metadata": {},
   "source": [
    "# Bereich (Scope) \n",
    "\n",
    "## Arten von Scopes in Python\n",
    "\n",
    "### Local Scope (lokaler Bereich)\n",
    "\n",
    "- Der lokale Bereich bezieht sich auf den Codeblock, in dem eine Variable innerhalb einer Funktion oder eines Blocks definiert ist.  \n",
    "- Eine Variable, die innerhalb einer Funktion definiert wird, ist nur in dieser Funktion sichtbar.\n"
   ]
  },
  {
   "cell_type": "code",
   "execution_count": 24,
   "id": "2ccfd378-2bbe-491a-9afc-047f55564260",
   "metadata": {},
   "outputs": [
    {
     "name": "stdout",
     "output_type": "stream",
     "text": [
      "10\n"
     ]
    }
   ],
   "source": [
    "def meine_funktion():\n",
    "    x = 10  # x ist lokal in der Funktion\n",
    "    print(x)\n",
    "\n",
    "meine_funktion()  # Ausgabe: 10\n",
    "# print(x)  # Fehler: x ist im globalen Bereich nicht definiert\n"
   ]
  },
  {
   "cell_type": "code",
   "execution_count": 25,
   "id": "ccf7fea3-b4d0-4ce2-9a64-200f8a4eab5b",
   "metadata": {},
   "outputs": [
    {
     "name": "stdout",
     "output_type": "stream",
     "text": [
      "20\n"
     ]
    }
   ],
   "source": [
    "def äußere_funktion():\n",
    "    x = 20  # x ist im Umgebungsbereich\n",
    "    def innere_funktion():\n",
    "        print(x)  # Zugriff auf x aus dem Umgebungsbereich\n",
    "    innere_funktion()\n",
    "\n",
    "äußere_funktion()  # Ausgabe: 20\n"
   ]
  },
  {
   "cell_type": "markdown",
   "id": "034ce176-a108-4cc3-9d81-d169f583d5d4",
   "metadata": {},
   "source": [
    "### Global Scope (globaler Bereich)"
   ]
  },
  {
   "cell_type": "code",
   "execution_count": 26,
   "id": "8053f560-98e2-44f9-bae1-aa2bcdfab3c2",
   "metadata": {},
   "outputs": [
    {
     "name": "stdout",
     "output_type": "stream",
     "text": [
      "30\n"
     ]
    }
   ],
   "source": [
    "x = 30  # x ist global\n",
    "\n",
    "def meine_funktion():\n",
    "    print(x)  # Zugriff auf globale Variable x\n",
    "\n",
    "meine_funktion()  # Ausgabe: 30\n"
   ]
  },
  {
   "cell_type": "code",
   "execution_count": 27,
   "id": "0f650839-13cb-4599-ac36-358daab15952",
   "metadata": {},
   "outputs": [
    {
     "name": "stdout",
     "output_type": "stream",
     "text": [
      "200\n",
      "30\n"
     ]
    }
   ],
   "source": [
    "x = 30  # x ist global\n",
    "\n",
    "def meine_funktion():\n",
    "    x = 200\n",
    "    print(x)  # Zugriff auf globale Variable x\n",
    "\n",
    "meine_funktion()  # Ausgabe: 30\n",
    "\n",
    "print(x)"
   ]
  },
  {
   "cell_type": "markdown",
   "id": "4f489638-8884-4e21-b241-633edbf67666",
   "metadata": {},
   "source": [
    "### ``global``-Schlüsselwort "
   ]
  },
  {
   "cell_type": "code",
   "execution_count": 28,
   "id": "d461aab7-2985-45d4-9385-d29de0c3313c",
   "metadata": {},
   "outputs": [
    {
     "name": "stdout",
     "output_type": "stream",
     "text": [
      "Innerhalb der Funktion: 20\n",
      "Außerhalb der Funktion: 10\n"
     ]
    }
   ],
   "source": [
    "x = 10  # Globale Variable\n",
    "\n",
    "def meine_funktion():\n",
    "    x = 20  # Lokale Variable\n",
    "    print(\"Innerhalb der Funktion:\", x)\n",
    "\n",
    "meine_funktion()\n",
    "print(\"Außerhalb der Funktion:\", x)  # x bleibt unverändert\n"
   ]
  },
  {
   "cell_type": "code",
   "execution_count": 31,
   "id": "a17bd072-2513-4d34-8152-0ede99334282",
   "metadata": {},
   "outputs": [
    {
     "name": "stdout",
     "output_type": "stream",
     "text": [
      "Innerhalb der Funktion: 20\n"
     ]
    },
    {
     "ename": "NameError",
     "evalue": "name 'x_2' is not defined",
     "output_type": "error",
     "traceback": [
      "\u001b[1;31m---------------------------------------------------------------------------\u001b[0m",
      "\u001b[1;31mNameError\u001b[0m                                 Traceback (most recent call last)",
      "Cell \u001b[1;32mIn[31], line 6\u001b[0m\n\u001b[0;32m      3\u001b[0m     \u001b[38;5;28mprint\u001b[39m(\u001b[38;5;124m\"\u001b[39m\u001b[38;5;124mInnerhalb der Funktion:\u001b[39m\u001b[38;5;124m\"\u001b[39m, x_2)\n\u001b[0;32m      5\u001b[0m meine_funktion()\n\u001b[1;32m----> 6\u001b[0m \u001b[38;5;28mprint\u001b[39m(\u001b[38;5;124m\"\u001b[39m\u001b[38;5;124mAußerhalb der Funktion:\u001b[39m\u001b[38;5;124m\"\u001b[39m, \u001b[43mx_2\u001b[49m)  \u001b[38;5;66;03m# x bleibt unverändert\u001b[39;00m\n",
      "\u001b[1;31mNameError\u001b[0m: name 'x_2' is not defined"
     ]
    }
   ],
   "source": [
    "def meine_funktion():\n",
    "    x_2 = 20  # Lokale Variable\n",
    "    print(\"Innerhalb der Funktion:\", x_2)\n",
    "\n",
    "meine_funktion()\n",
    "print(\"Außerhalb der Funktion:\", x_2)  # x bleibt unverändert"
   ]
  },
  {
   "cell_type": "code",
   "execution_count": 34,
   "id": "467ca86c-3475-4e47-b2ad-2bafc2ebb0e6",
   "metadata": {},
   "outputs": [
    {
     "name": "stdout",
     "output_type": "stream",
     "text": [
      "Außerhalb der Funktion: 20\n"
     ]
    }
   ],
   "source": [
    "def meine_funktion():\n",
    "    global x_2\n",
    "    x_2 = 20  # Lokale Variable\n",
    "    print(\"Innerhalb der Funktion:\", x_2)\n",
    "\n",
    "print(\"Außerhalb der Funktion:\", x_2)  # x bleibt unverändert"
   ]
  },
  {
   "cell_type": "code",
   "execution_count": 35,
   "id": "a3cce3f5-ec9f-4543-8247-87f507f742a1",
   "metadata": {},
   "outputs": [
    {
     "name": "stdout",
     "output_type": "stream",
     "text": [
      "Innerhalb der Funktion: 20\n",
      "Außerhalb der Funktion: 20\n"
     ]
    }
   ],
   "source": [
    "x = 10  # Globale Variable\n",
    "\n",
    "def meine_funktion():\n",
    "    global x  # Verweist auf die globale Variable x\n",
    "    x = 20  # Ändert die globale Variable\n",
    "    print(\"Innerhalb der Funktion:\", x)\n",
    "\n",
    "meine_funktion()\n",
    "print(\"Außerhalb der Funktion:\", x)  # x wurde geändert\n"
   ]
  },
  {
   "cell_type": "markdown",
   "id": "211bc89d-a736-47e3-be1e-11c2174effa4",
   "metadata": {},
   "source": [
    "### ``nonlocal``-Schlüsselwort "
   ]
  },
  {
   "cell_type": "code",
   "execution_count": 36,
   "id": "68d821fc-c51f-44fc-aed7-91e1cca08e52",
   "metadata": {},
   "outputs": [
    {
     "name": "stdout",
     "output_type": "stream",
     "text": [
      "Wert von x nach innerer Funktion: 15\n"
     ]
    }
   ],
   "source": [
    "def äußere_funktion():\n",
    "    x = 10  # Variable im Umgebungsbereich\n",
    "    \n",
    "    def innere_funktion():\n",
    "        nonlocal x  # Verweist auf die x-Variable aus der äußeren Funktion\n",
    "        x += 5  # Ändert die x-Variable in der äußeren Funktion\n",
    "    \n",
    "    innere_funktion()\n",
    "    print(\"Wert von x nach innerer Funktion:\", x)\n",
    "\n",
    "äußere_funktion()  # Ausgabe: Wert von x nach innerer Funktion: 15\n"
   ]
  },
  {
   "cell_type": "code",
   "execution_count": 42,
   "id": "c3192921-cd90-44e0-afb7-ccdb51b24d17",
   "metadata": {},
   "outputs": [
    {
     "name": "stdout",
     "output_type": "stream",
     "text": [
      "Wert von x nach innerer Funktion: 5\n"
     ]
    }
   ],
   "source": [
    "def äußere_funktion():\n",
    "    x = 10  # Variable im Umgebungsbereich\n",
    "    \n",
    "    def innere_funktion():\n",
    "        # nonlocal x  # Verweist auf die x-Variable aus der äußeren Funktion\n",
    "        x = 5  # Ändert die x-Variable in der äußeren Funktion\n",
    "    \n",
    "    innere_funktion()\n",
    "    print(\"Wert von x nach innerer Funktion:\", x)\n",
    "\n",
    "äußere_funktion()  # Ausgabe: Wert von x nach innerer Funktion: 15"
   ]
  },
  {
   "cell_type": "code",
   "execution_count": null,
   "id": "91339d67-65a1-4e60-bda1-7f671b9edda7",
   "metadata": {},
   "outputs": [],
   "source": []
  }
 ],
 "metadata": {
  "kernelspec": {
   "display_name": "Python 3 (ipykernel)",
   "language": "python",
   "name": "python3"
  },
  "language_info": {
   "codemirror_mode": {
    "name": "ipython",
    "version": 3
   },
   "file_extension": ".py",
   "mimetype": "text/x-python",
   "name": "python",
   "nbconvert_exporter": "python",
   "pygments_lexer": "ipython3",
   "version": "3.12.7"
  }
 },
 "nbformat": 4,
 "nbformat_minor": 5
}
