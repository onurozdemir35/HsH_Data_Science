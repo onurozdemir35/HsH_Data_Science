{
 "cells": [
  {
   "cell_type": "markdown",
   "id": "d8b97e3f-e8b8-4112-880a-ea6eb178ce3f",
   "metadata": {},
   "source": [
    "# Übungen: Verschachtelte Schleifen in Python"
   ]
  },
  {
   "cell_type": "markdown",
   "id": "64d1264f-1188-42b5-a1eb-60da5c7dedc0",
   "metadata": {},
   "source": [
    "## Übung 1: Multiplikationstabelle erstellen (10 Min.)\n",
    "**Aufgabe**: Schreibe ein Python-Programm, das die Multiplikationstabelle von 1 bis 10 erstellt. Verwende dazu verschachtelte Schleifen, wobei die äußere Schleife die Zahlen von 1 bis 10 durchläuft und die innere Schleife die Multiplikationen durchführt."
   ]
  },
  {
   "cell_type": "code",
   "execution_count": 1,
   "id": "54f09f32-7a28-4037-8a52-b16496d3f077",
   "metadata": {},
   "outputs": [],
   "source": [
    "# Lösung\n"
   ]
  },
  {
   "cell_type": "markdown",
   "id": "bb1b3409-0bd7-44bd-b70c-96cb70940943",
   "metadata": {},
   "source": [
    "## Übung 2: Dreiecksmuster aus Sternen drucken (10 Min.)\n",
    "**Aufgabe**: Schreibe ein Python-Programm, das ein Dreiecksmuster aus Sternen (*) druckt. Die Anzahl der Zeilen soll 5 betragen, und in jeder Zeile soll die Anzahl der Sterne gleich der Zeilennummer sein."
   ]
  },
  {
   "cell_type": "code",
   "execution_count": 2,
   "id": "f96fb486-735d-4648-b410-f00eb8469fd8",
   "metadata": {},
   "outputs": [],
   "source": [
    "# Lösung\n"
   ]
  },
  {
   "cell_type": "markdown",
   "id": "90286d48-1bed-4bb8-bc54-9b78b0c4f72a",
   "metadata": {},
   "source": [
    "# Übungen zu Modulen in Python"
   ]
  },
  {
   "cell_type": "markdown",
   "id": "92151acd-d1d6-42e3-abcb-d703bfe861aa",
   "metadata": {},
   "source": [
    "## Übung 1: Erstelle ein Modul zur Berechnung der Umfänge von Geometrieformen (10 Min.)\n",
    "\n",
    "### Aufgabe:\n",
    "Erstelle ein Modul namens `geometrie.py`, das zwei Funktionen enthält:\n",
    "\n",
    "1. `kreis_umfang(radius)`: Berechnet den Umfang eines Kreises basierend auf dem gegebenen Radius.\n",
    "   - Formel: **U=2πr**\n",
    "3. `rechteck_umfang(length, width)`: Berechnet den Umfang eines Rechtecks basierend auf der Länge und Breite.\n",
    "\n",
    "Erstelle ein anderes Skript und importiere das Modul\n"
   ]
  },
  {
   "cell_type": "code",
   "execution_count": 3,
   "id": "6bed8ceb-e4cd-4d74-a306-f55ed36e1b61",
   "metadata": {},
   "outputs": [],
   "source": [
    "# Lösung\n"
   ]
  },
  {
   "cell_type": "markdown",
   "id": "03255e82-bfce-4dda-ac0f-948a1e448cda",
   "metadata": {},
   "source": [
    "## Übung 2: Erstelle ein Modul zur Umrechnung von Temperaturen (10 Min.)\n",
    "\n",
    "### Aufgabe:\n",
    "Erstelle ein Modul namens `umrechnung.py`, das folgende Funktionen enthält:\n",
    "\n",
    "1. `celsius_zu_fahrenheit(celsius)`: Konvertiert eine Temperatur von Celsius in Fahrenheit.  \n",
    "   Formel:  \n",
    "   **F = (9/5) * C + 32**  \n",
    "   wobei **C** die Temperatur in Celsius und **F** die Temperatur in Fahrenheit ist.\n",
    "\n",
    "2. `fahrenheit_zu_celsius(fahrenheit)`: Konvertiert eine Temperatur von Fahrenheit in Celsius.  \n",
    "   Formel:  \n",
    "   **C = (5/9) * (F - 32)**  \n",
    "   wobei **F** die Temperatur in Fahrenheit und **C** die Temperatur in Celsius ist.\n",
    "\n",
    "Erstelle anschließend ein anderes Skript und importiere das Modul, um die Funktionen zu nutzen.\n"
   ]
  },
  {
   "cell_type": "code",
   "execution_count": 5,
   "id": "e1fc552d-f27b-421f-9152-1c01ba467e04",
   "metadata": {},
   "outputs": [],
   "source": [
    "# Lösung\n"
   ]
  },
  {
   "cell_type": "markdown",
   "id": "99a3bc23-c0c5-4d68-8d42-41cb24520609",
   "metadata": {},
   "source": [
    "## Übung 3: Verwende `as` zum Importieren eines Moduls unter einem Alias (10 Min.)\n",
    "\n",
    "### Aufgabe:\n",
    "Erstelle ein Modul namens `math_utils.py`, das folgende Funktionen enthält:\n",
    "\n",
    "1. `addiere(a, b)`: Addiert zwei Zahlen.\n",
    "2. `subtrahiere(a, b)`: Subtrahiert zwei Zahlen.\n",
    "\n",
    "Importiere das `math_utils`-Modul in ein anderes Python-Skript, aber verwende das Schlüsselwort `as`, um das Modul unter dem Alias `mu` zu importieren. Verwende dann die Funktionen `addiere()` und `subtrahiere()` über den Alias.\n"
   ]
  },
  {
   "cell_type": "code",
   "execution_count": 4,
   "id": "b646c96c-54a1-4c29-bed4-5f57babb81fb",
   "metadata": {},
   "outputs": [],
   "source": [
    "# math_utils.py\n",
    "\n",
    "def addiere(a, b):\n",
    "    return a + b\n",
    "\n",
    "def subtrahiere(a, b):\n",
    "    return a - b\n",
    "\n",
    "\n"
   ]
  },
  {
   "cell_type": "code",
   "execution_count": 7,
   "id": "fa59c1b6-1fc4-4c8d-9fe5-de5528f51f8d",
   "metadata": {},
   "outputs": [
    {
     "ename": "ModuleNotFoundError",
     "evalue": "No module named 'mathutils'",
     "output_type": "error",
     "traceback": [
      "\u001b[1;31m---------------------------------------------------------------------------\u001b[0m",
      "\u001b[1;31mModuleNotFoundError\u001b[0m                       Traceback (most recent call last)",
      "Cell \u001b[1;32mIn[7], line 1\u001b[0m\n\u001b[1;32m----> 1\u001b[0m \u001b[38;5;28;01mimport\u001b[39;00m \u001b[38;5;21;01mmathutils\u001b[39;00m \u001b[38;5;28;01mas\u001b[39;00m \u001b[38;5;21;01mmu\u001b[39;00m\n\u001b[0;32m      2\u001b[0m zahl1 \u001b[38;5;241m=\u001b[39m \u001b[38;5;241m10\u001b[39m\n\u001b[0;32m      3\u001b[0m zahl2 \u001b[38;5;241m=\u001b[39m \u001b[38;5;241m5\u001b[39m\n",
      "\u001b[1;31mModuleNotFoundError\u001b[0m: No module named 'mathutils'"
     ]
    }
   ],
   "source": [
    "import mathutils as mu\n",
    "zahl1 = 10\n",
    "zahl2 = 5\n",
    "\n",
    "summe = mu.addiere(zahl1, zahl2)\n",
    "unterschied = mu.subtrahiere(zahl1, zahl2)\n",
    "\n",
    "print(f\"Summe ist zahl1 und zahl2 {summe} und unterschied ist {unterschied}\") "
   ]
  },
  {
   "cell_type": "markdown",
   "id": "954cb734-bfe6-41e0-92ea-ac75159e0316",
   "metadata": {},
   "source": [
    "# Übungen: Bereich (Scope)"
   ]
  },
  {
   "cell_type": "markdown",
   "id": "f4991e55-0fd9-4d49-94df-427f04f82940",
   "metadata": {},
   "source": [
    "## Übung 1: Lokaler Bereich (10 Min.)\n",
    "\n",
    "### Aufgabe:\n",
    "Schreibe eine Funktion `check_scope()`, die eine lokale Variable deklariert und ihren Wert zurückgibt. Versuche außerhalb der Funktion auf die Variable zuzugreifen und überprüfe, ob dies funktioniert.\n"
   ]
  },
  {
   "cell_type": "code",
   "execution_count": 15,
   "id": "7ff0134d-b224-4366-9d0f-db94e71865fd",
   "metadata": {},
   "outputs": [
    {
     "ename": "SyntaxError",
     "evalue": "invalid syntax (2146412862.py, line 3)",
     "output_type": "error",
     "traceback": [
      "\u001b[1;36m  Cell \u001b[1;32mIn[15], line 3\u001b[1;36m\u001b[0m\n\u001b[1;33m    global\u001b[0m\n\u001b[1;37m          ^\u001b[0m\n\u001b[1;31mSyntaxError\u001b[0m\u001b[1;31m:\u001b[0m invalid syntax\n"
     ]
    }
   ],
   "source": [
    "# Lösung\n",
    "def check_scope():\n",
    "    global\n",
    "    u = 10\n",
    "\n"
   ]
  },
  {
   "cell_type": "markdown",
   "id": "63f45606-95aa-4d9f-b545-9c2bbfcb9d05",
   "metadata": {},
   "source": [
    "## Übung 2: Globaler Bereich (10 Min.)\n",
    "\n",
    "### Aufgabe:\n",
    "Erstelle eine globale Variable und greife sowohl in einer Funktion als auch außerhalb darauf zu. Ändere den Wert innerhalb der Funktion mit dem `global`-Schlüsselwort.\n"
   ]
  },
  {
   "cell_type": "code",
   "execution_count": 21,
   "id": "9b4fb84a-fae2-430f-8f29-e206c532b9d3",
   "metadata": {},
   "outputs": [
    {
     "name": "stdout",
     "output_type": "stream",
     "text": [
      "5\n",
      "10\n",
      "10\n"
     ]
    }
   ],
   "source": [
    "# Lösung\n",
    "global_var = 5\n",
    "\n",
    "def modify_global():\n",
    "    global global_var\n",
    "    global_var = 10\n",
    "    return global_var\n",
    "\n",
    "print(global_var)\n",
    "print(modify_global())\n",
    "print(global_var)"
   ]
  },
  {
   "cell_type": "markdown",
   "id": "80969993-c05d-432d-b5e6-05af4b147726",
   "metadata": {},
   "source": [
    "## Übung 3: `nonlocal`-Schlüsselwort (10 Min.)\n",
    "\n",
    "### Aufgabe:\n",
    "Schreibe eine Funktion `outer()`, die eine Variable in einem äußeren Funktionsbereich deklariert. Innerhalb einer inneren Funktion `inner()` änderst du diese Variable mit dem `nonlocal`-Schlüsselwort.\n"
   ]
  },
  {
   "cell_type": "code",
   "execution_count": 9,
   "id": "fe6f3399-67c0-4a88-be68-5b6174496776",
   "metadata": {},
   "outputs": [],
   "source": [
    "# Lösung\n",
    "def outer():\n",
    "    a = 10\n",
    "    def inner():\n",
    "        "
   ]
  },
  {
   "cell_type": "markdown",
   "id": "d85ad21d-4b44-49d0-8b5b-b77eeb515718",
   "metadata": {},
   "source": [
    "## Übung 4: Verschachtelte Bereiche und Zugriff auf globale und lokale Variablen (10 Min.)\n",
    "\n",
    "### Aufgabe:\n",
    "Schreibe eine Funktion, die sowohl globale als auch lokale Variablen verwendet. Zeige, wie die unterschiedlichen Bereiche miteinander interagieren.\n"
   ]
  },
  {
   "cell_type": "code",
   "execution_count": 10,
   "id": "9928e31e-dca3-4699-b9f3-ccf431eeff91",
   "metadata": {},
   "outputs": [],
   "source": [
    "# Lösung\n",
    "\n"
   ]
  },
  {
   "cell_type": "code",
   "execution_count": null,
   "id": "3a79b951-db04-4dcd-bc7f-ed4cb7117468",
   "metadata": {},
   "outputs": [],
   "source": []
  }
 ],
 "metadata": {
  "kernelspec": {
   "display_name": "Python 3 (ipykernel)",
   "language": "python",
   "name": "python3"
  },
  "language_info": {
   "codemirror_mode": {
    "name": "ipython",
    "version": 3
   },
   "file_extension": ".py",
   "mimetype": "text/x-python",
   "name": "python",
   "nbconvert_exporter": "python",
   "pygments_lexer": "ipython3",
   "version": "3.12.7"
  }
 },
 "nbformat": 4,
 "nbformat_minor": 5
}
