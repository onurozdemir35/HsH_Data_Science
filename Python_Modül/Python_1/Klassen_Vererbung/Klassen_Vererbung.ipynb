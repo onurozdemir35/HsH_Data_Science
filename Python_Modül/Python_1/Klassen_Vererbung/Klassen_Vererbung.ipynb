{
 "cells": [
  {
   "cell_type": "markdown",
   "id": "1d06a71e-b078-496f-8b72-6188cfcf74f5",
   "metadata": {},
   "source": [
    "# Python Vererbung\n",
    "\n",
    "Vererbung ist ein Konzept der objektorientierten Programmierung (OOP), bei dem eine Klasse (die **Unterklasse**) Eigenschaften und Methoden von einer anderen Klasse (der **Oberklasse**) erbt. Dies ermöglicht wiederverwendbaren, modularen und erweiterbaren Code.\n",
    "\n",
    "## Oberklasse und Unterklasse\n",
    "- **Oberklasse (Base Class)**: Eine Klasse, die allgemeine Eigenschaften und Methoden definiert, die von anderen Klassen vererbt werden.\n",
    "- **Unterklasse (Derived Class)**: Eine Klasse, die von einer Oberklasse erbt und deren Eigenschaften und Methoden weiterverwendet oder überschreibt.\n",
    "\n",
    "## Syntax der Vererbung\n",
    "Um eine Unterklasse zu erstellen, die von einer Oberklasse erbt, verwenden wir die folgende Syntax:\n",
    "\n",
    "```python\n",
    "class Unterklasse(Oberklasse):\n",
    "    # zusätzliche Eigenschaften und Methoden\n"
   ]
  },
  {
   "cell_type": "markdown",
   "id": "1ce48a29-46e4-40b5-aa43-0519a9aa8cfa",
   "metadata": {},
   "source": [
    "## Vererbung von Attributen\n",
    "\n",
    "Die Unterklasse erbt nicht nur Methoden, sondern auch Attribute der Oberklasse.\n"
   ]
  },
  {
   "cell_type": "code",
   "execution_count": 24,
   "id": "73bfd0b4-56c0-4ff1-8d01-a920e47fea35",
   "metadata": {},
   "outputs": [
    {
     "name": "stdout",
     "output_type": "stream",
     "text": [
      "Hallo, ich bin Alice und 30 Jahre alt.\n"
     ]
    }
   ],
   "source": [
    "class Person:\n",
    "    def __init__(self, name, alter):\n",
    "        self.name = name\n",
    "        self.alter = alter\n",
    "\n",
    "    def vorstellen(self):\n",
    "        print(f\"Hallo, ich bin {self.name} und {self.alter} Jahre alt.\")\n",
    "\n",
    "person_1 = Person(\"Alice\", 30)\n",
    "person_1.vorstellen()"
   ]
  },
  {
   "cell_type": "code",
   "execution_count": 25,
   "id": "9d2507de-85a6-42dc-a096-50c322777b9b",
   "metadata": {},
   "outputs": [],
   "source": [
    "class Mitarbeiter(Person):\n",
    "  pass"
   ]
  },
  {
   "cell_type": "code",
   "execution_count": 26,
   "id": "6b425ef8-9649-44a4-8756-cbf504afa6cf",
   "metadata": {},
   "outputs": [
    {
     "name": "stdout",
     "output_type": "stream",
     "text": [
      "Hallo, ich bin Mike und Olsen Jahre alt.\n"
     ]
    }
   ],
   "source": [
    "student_1 = Mitarbeiter(\"Mike\", \"Olsen\")\n",
    "student_1.vorstellen()"
   ]
  },
  {
   "cell_type": "markdown",
   "id": "4a1d5541-6a27-4bc7-8d93-50374829e84b",
   "metadata": {},
   "source": [
    "## Überschreibung der __init__()-Funktion  der Oberklasse"
   ]
  },
  {
   "cell_type": "code",
   "execution_count": 27,
   "id": "9d5fbafc-f935-4e1d-9684-8b119a738e08",
   "metadata": {},
   "outputs": [
    {
     "name": "stdout",
     "output_type": "stream",
     "text": [
      "Initialisierung der Unterklasse\n"
     ]
    }
   ],
   "source": [
    "class Oberklasse:\n",
    "    def __init__(self):\n",
    "        print(\"Initialisierung der Oberklasse\")\n",
    "\n",
    "class Unterklasse(Oberklasse):\n",
    "    def __init__(self):\n",
    "        print(\"Initialisierung der Unterklasse\")\n",
    "\n",
    "# Erzeugt ein Objekt der Unterklasse\n",
    "obj = Unterklasse()\n"
   ]
  },
  {
   "cell_type": "code",
   "execution_count": 1,
   "id": "adf9b99f-8750-4452-9b59-5a6e4b9a63b8",
   "metadata": {},
   "outputs": [
    {
     "name": "stdout",
     "output_type": "stream",
     "text": [
      "Initialisierung der Oberklasse\n"
     ]
    }
   ],
   "source": [
    "class Oberklasse:\n",
    "    def __init__(self):\n",
    "        print(\"Initialisierung der Oberklasse\")\n",
    "\n",
    "class Unterklasse(Oberklasse):\n",
    "    pass\n",
    "\n",
    "# Erzeugt ein Objekt der Unterklasse\n",
    "obj = Unterklasse()\n"
   ]
  },
  {
   "cell_type": "code",
   "execution_count": 29,
   "id": "81d704e7-20b1-4962-8323-b9b41de4a444",
   "metadata": {},
   "outputs": [
    {
     "name": "stdout",
     "output_type": "stream",
     "text": [
      "Initialisierung der Oberklasse\n",
      "Initialisierung der Unterklasse\n"
     ]
    }
   ],
   "source": [
    "class Oberklasse:\n",
    "    def __init__(self):\n",
    "        print(\"Initialisierung der Oberklasse\")\n",
    "\n",
    "class Unterklasse(Oberklasse):\n",
    "    def __init__(self):\n",
    "        Oberklasse.__init__(self) # Direkter Aufruf der __init__() der Oberklasse\n",
    "        print(\"Initialisierung der Unterklasse\")\n",
    "\n",
    "obj = Unterklasse()\n"
   ]
  },
  {
   "cell_type": "markdown",
   "id": "c43304ee-38e4-4a6b-9185-1f46eb7f7fd7",
   "metadata": {},
   "source": [
    "## Verwendung von `super()`\n",
    "\n",
    "- Python bietet die `super()`-Funktion, die sicherstellt, dass:\n",
    "  - Die Unterklasse alle Methoden und Eigenschaften von der Oberklasse erbt.\n"
   ]
  },
  {
   "cell_type": "code",
   "execution_count": 40,
   "id": "aefcaa53-09bb-462c-b347-42b441b7a6af",
   "metadata": {},
   "outputs": [
    {
     "data": {
      "text/plain": [
       "'Alice'"
      ]
     },
     "execution_count": 40,
     "metadata": {},
     "output_type": "execute_result"
    }
   ],
   "source": [
    "class Person:\n",
    "    def __init__(self, name, alter):\n",
    "        self.name = name\n",
    "        self.alter = alter\n",
    "    \n",
    "    def vorstellen(self):\n",
    "        print(f\"Hallo, ich bin {self.name} und {self.alter} Jahre alt.\")\n",
    "\n",
    "class Mitarbeiter(Person):\n",
    "  def __init__(self, name, alter, gehalt):\n",
    "    super().__init__(name, alter)\n",
    "    self.gehalt = gehalt\n",
    "\n",
    "\n",
    "person_1 = Mitarbeiter(\"Alice\", 31, 40000)\n",
    "person_1.name"
   ]
  },
  {
   "cell_type": "markdown",
   "id": "a0c9f0d0-e54e-46e5-8b42-34b2d5438a0f",
   "metadata": {},
   "source": [
    "## Methodenüberschreibung und Methoden hinzufügen\n",
    "\n",
    "Eine Unterklasse kann die Methoden ihrer Oberklasse überschreiben, um ihr eigenes Verhalten zu implementieren.\n"
   ]
  },
  {
   "cell_type": "code",
   "execution_count": 43,
   "id": "c4b2656c-1d93-4fec-83db-aac163867906",
   "metadata": {},
   "outputs": [
    {
     "name": "stdout",
     "output_type": "stream",
     "text": [
      "Hallo, ich bin Alice und 31 Jahre alt. und ich bekomme 40000 jährlich\n"
     ]
    }
   ],
   "source": [
    "class Person:\n",
    "    def __init__(self, name, alter):\n",
    "        self.name = name\n",
    "        self.alter = alter\n",
    "    \n",
    "    def vorstellen(self):\n",
    "        print(f\"Hallo, ich bin {self.name} und {self.alter} Jahre alt.\")\n",
    "\n",
    "class Mitarbeiter(Person):\n",
    "    def __init__(self, name, alter, gehalt):\n",
    "        super().__init__(name, alter)\n",
    "        self.gehalt = gehalt\n",
    "\n",
    "    def vorstellen(self):\n",
    "        print(f\"Hallo, ich bin {self.name} und {self.alter} Jahre alt. und ich bekomme {self.gehalt } jährlich\")\n",
    "\n",
    "person_1 = Mitarbeiter(\"Alice\", 31, 40000)\n",
    "person_1.vorstellen()"
   ]
  },
  {
   "cell_type": "code",
   "execution_count": 46,
   "id": "8d5063c5-a0a6-4bdb-b9a7-501e57106d68",
   "metadata": {},
   "outputs": [
    {
     "name": "stdout",
     "output_type": "stream",
     "text": [
      "Hallo, ich bin Alice und 31 Jahre alt.\n",
      "Hallo, ich bin Alice und 31 Jahre alt. und ich bekomme 40000 jährlich\n"
     ]
    }
   ],
   "source": [
    "class Person:\n",
    "    def __init__(self, name, alter):\n",
    "        self.name = name\n",
    "        self.alter = alter\n",
    "    \n",
    "    def vorstellen(self):\n",
    "        print(f\"Hallo, ich bin {self.name} und {self.alter} Jahre alt.\")\n",
    "\n",
    "class Mitarbeiter(Person):\n",
    "    def __init__(self, name, alter, gehalt):\n",
    "        super().__init__(name, alter)\n",
    "        self.gehalt = gehalt\n",
    "\n",
    "    def info(self):\n",
    "        print(f\"Hallo, ich bin {self.name} und {self.alter} Jahre alt. und ich bekomme {self.gehalt } jährlich\")\n",
    "\n",
    "person_1 = Mitarbeiter(\"Alice\", 31, 40000)\n",
    "person_1.vorstellen()\n",
    "person_1.info()"
   ]
  },
  {
   "cell_type": "code",
   "execution_count": null,
   "id": "97bbda60-44c9-42c6-9319-444168a11957",
   "metadata": {},
   "outputs": [],
   "source": []
  },
  {
   "cell_type": "code",
   "execution_count": null,
   "id": "2f5e6589-7f82-496e-8701-3b15b72a4ae3",
   "metadata": {},
   "outputs": [],
   "source": []
  }
 ],
 "metadata": {
  "kernelspec": {
   "display_name": "Python 3 (ipykernel)",
   "language": "python",
   "name": "python3"
  },
  "language_info": {
   "codemirror_mode": {
    "name": "ipython",
    "version": 3
   },
   "file_extension": ".py",
   "mimetype": "text/x-python",
   "name": "python",
   "nbconvert_exporter": "python",
   "pygments_lexer": "ipython3",
   "version": "3.12.7"
  }
 },
 "nbformat": 4,
 "nbformat_minor": 5
}
