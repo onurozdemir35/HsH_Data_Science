{
 "cells": [
  {
   "cell_type": "markdown",
   "id": "8b35b778-8fd3-49af-8859-5a8fadecdeb0",
   "metadata": {},
   "source": [
    "# Übungen zu Klassen und Vererbung in Python\n"
   ]
  },
  {
   "cell_type": "markdown",
   "id": "395bc51d-e14b-4b47-8a0b-2a64bb9fdcd1",
   "metadata": {},
   "source": [
    "## Übung 1: Grundlagen der Vererbung (20 Min.)\n",
    "\n",
    "Erstelle eine Basisklasse `Tier`, die die Attribute `name` und `alter` hat. Definiere eine Methode `essen()`, die ausgibt, dass das Tier isst. Erstelle dann eine abgeleitete Klasse `Hund`, die die Methode `bellen()` hat.\n",
    "\n",
    " \n"
   ]
  },
  {
   "cell_type": "code",
   "execution_count": 10,
   "id": "faf0dabc-6fc1-44d5-bfa4-0f58cab796be",
   "metadata": {},
   "outputs": [],
   "source": [
    "# Schreibt bitte eure Lösung hier\n",
    "class Tier:\n",
    "    def __init__(self, name, alter):\n",
    "        self.name = name\n",
    "        self.alter = alter\n",
    "\n",
    "    def essen(self):\n",
    "        print(f\"{self.name} isst.\")\n",
    "\n",
    "class Hund(Tier):\n",
    "    def bellen(self):\n",
    "        print(\"Wouff!!!\")"
   ]
  },
  {
   "cell_type": "code",
   "execution_count": 11,
   "id": "63284824-6e63-4055-a84e-6c2c41f0269e",
   "metadata": {},
   "outputs": [
    {
     "name": "stdout",
     "output_type": "stream",
     "text": [
      "Hund isst.\n"
     ]
    }
   ],
   "source": [
    "tier = Tier(\"Hund\", 4)\n",
    "tier.essen()"
   ]
  },
  {
   "cell_type": "code",
   "execution_count": 12,
   "id": "9358f05e-7a3a-407c-b455-e0041020db3f",
   "metadata": {},
   "outputs": [
    {
     "name": "stdout",
     "output_type": "stream",
     "text": [
      "Karabas isst.\n",
      "Wouff!!!\n"
     ]
    }
   ],
   "source": [
    "hund = Hund(\"Karabas\", 3)\n",
    "hund.essen()\n",
    "hund.bellen()"
   ]
  },
  {
   "cell_type": "markdown",
   "id": "b5cf15ac-2ccf-4f03-9c35-6fd15ca4d783",
   "metadata": {},
   "source": [
    "\n",
    "## Übung 2: Erstellen einer Basisklasse `Fahrzeug` und einer abgeleiteten Klasse `Auto` (15 Min.)\n",
    "\n",
    "**Aufgabe:**\n",
    "- Erstelle eine Basisklasse `Fahrzeug` mit den Attributen `marke` und `modell`, und einer Methode `info()`, die die Marke und das Modell ausgibt.\n",
    "- Erstelle eine abgeleitete Klasse `Auto`, die die Basisklasse `Fahrzeug` erweitert und zusätzlich das Attribut `türen` enthält. \n",
    "- Überschreibe die Methode `info()`, sodass sie auch die Anzahl der Türen anzeigt."
   ]
  },
  {
   "cell_type": "code",
   "execution_count": 17,
   "id": "55371731-fa3b-4833-8ecf-0e4e0d725b0b",
   "metadata": {},
   "outputs": [],
   "source": [
    "# Schreibt bitte eure Lösung hier\n",
    "class Fahrzeug:\n",
    "    def __init__(self, marke, modell):\n",
    "        self.marke = marke\n",
    "        self.modell = modell\n",
    "\n",
    "    def info(self):\n",
    "        print(f\"Die marke ist {self.marke} und das Modell {self.modell}\")\n",
    "\n",
    "class Auto(Fahrzeug):\n",
    "    def __init__(self, marke, modell, tuere):\n",
    "        super().__init__(marke, modell)\n",
    "        self.tuere = tuere\n",
    "    \n",
    "    def info(self):\n",
    "        print(f\"Die Anzahl der Türe ist {self.tuere}\")"
   ]
  },
  {
   "cell_type": "code",
   "execution_count": 18,
   "id": "1c149eef-9ede-4cf8-84ff-019fdadbca37",
   "metadata": {},
   "outputs": [
    {
     "name": "stdout",
     "output_type": "stream",
     "text": [
      "Die marke ist BMW und das Modell X3\n",
      "Die Anzahl der Türe ist 4\n"
     ]
    }
   ],
   "source": [
    "fahrzeug = Fahrzeug(\"BMW\", \"X3\")\n",
    "auto = Auto(\"Audi\", \"A4\", 4)\n",
    "\n",
    "fahrzeug.info()\n",
    "auto.info()"
   ]
  },
  {
   "cell_type": "markdown",
   "id": "a592d931-7445-436f-ba1d-8bbc70ca6af2",
   "metadata": {},
   "source": [
    "## Übung 3: Methode überschreiben (15 Min.)\n",
    "\n",
    "Erstelle eine Klasse `Tier` mit einer Methode `laut_machen`, die `\"Unbekannter Laut\"` zurückgibt. Erstelle eine Unterklasse `Hund`, die diese Methode überschreibt und `\"Wuff\"` zurückgibt.\n",
    " \n"
   ]
  },
  {
   "cell_type": "code",
   "execution_count": 44,
   "id": "bd9abd82-f93d-4a22-9996-86f294963d2c",
   "metadata": {},
   "outputs": [],
   "source": [
    "# Schreibt bitte eure Lösung hier\n",
    "class Tier:\n",
    "    def laut_machen(self):\n",
    "        print(\"Unbekannter Laut\")\n",
    "\n",
    "class Hund(Tier):\n",
    "    def laut_machen(self):\n",
    "        print(\"Wuff\")"
   ]
  },
  {
   "cell_type": "code",
   "execution_count": 45,
   "id": "ac7f394b-5d71-45a9-8e4b-a96f29669812",
   "metadata": {},
   "outputs": [],
   "source": [
    "tier_1 = Tier()\n",
    "hund_1 = Hund()"
   ]
  },
  {
   "cell_type": "code",
   "execution_count": 46,
   "id": "75626a46-aabc-4b6f-8609-a21800f3c2a0",
   "metadata": {},
   "outputs": [
    {
     "name": "stdout",
     "output_type": "stream",
     "text": [
      "Unbekannter Laut\n",
      "Wuff\n"
     ]
    }
   ],
   "source": [
    "tier_1.laut_machen()\n",
    "hund_1.laut_machen()"
   ]
  },
  {
   "cell_type": "markdown",
   "id": "094a0628-2195-4e92-9adc-55ad54dfcc7f",
   "metadata": {},
   "source": [
    "## Übung 4: Verwendung von `super()` (20 Min.)\n",
    "\n",
    "Erstelle eine Klasse `Person` mit den Attributen `name` und `alter`. Erstelle eine Unterklasse `Student`, die zusätzlich das Attribut `matrikelnummer` hat. Nutze `super()`, um den Konstruktor der Basisklasse aufzurufen."
   ]
  },
  {
   "cell_type": "code",
   "execution_count": 34,
   "id": "e9a286d3-ed56-40f1-aa63-6a43f89214db",
   "metadata": {},
   "outputs": [],
   "source": [
    "# Schreibt bitte eure Lösung hier\n",
    "class Person:\n",
    "    def __init__(self, name, alter):\n",
    "        self.name = name\n",
    "        self.alter = alter\n",
    "\n",
    "    def vorstellen(self):\n",
    "        print(f\"Mein name ist {self.name} und ich bin {self.alter} Jahre alt.\")\n",
    "        \n",
    "class Student(Person):\n",
    "    def __init__(self, name, alter, matrikelnummer):\n",
    "        super().__init__(name, alter)\n",
    "        self.matrikelnummer = matrikelnummer\n",
    "\n",
    "    def vorstellen(self):\n",
    "        print(f\"Mein name ist {self.name} und ich bin {self.alter} und meine matrikelnummer ist {self.matrikelnummer}.\")        "
   ]
  },
  {
   "cell_type": "code",
   "execution_count": 35,
   "id": "06bb0ee8-45b1-4772-9d11-752b1b559ade",
   "metadata": {},
   "outputs": [
    {
     "data": {
      "text/plain": [
       "'Onur'"
      ]
     },
     "execution_count": 35,
     "metadata": {},
     "output_type": "execute_result"
    }
   ],
   "source": [
    "person_1 = Person(\"Onur\", 31)\n",
    "person_1.name"
   ]
  },
  {
   "cell_type": "code",
   "execution_count": 36,
   "id": "fa3e7ddf-7068-4b32-a5de-984cbeb5ecf4",
   "metadata": {},
   "outputs": [],
   "source": [
    "student_1 = Student(\"Onur\", 31, 1263)"
   ]
  },
  {
   "cell_type": "code",
   "execution_count": 37,
   "id": "d495f239-7bb5-4f2b-9aac-1f5ec72e6bb2",
   "metadata": {},
   "outputs": [
    {
     "name": "stdout",
     "output_type": "stream",
     "text": [
      "Mein name ist Onur und ich bin 31\n"
     ]
    }
   ],
   "source": [
    "person_1.vorstellen()"
   ]
  },
  {
   "cell_type": "code",
   "execution_count": 38,
   "id": "89d6be67-795e-471a-9208-654915713522",
   "metadata": {},
   "outputs": [
    {
     "name": "stdout",
     "output_type": "stream",
     "text": [
      "Mein name ist Onur und ich bin 31 und meine matrikelnummer ist 1263\n"
     ]
    }
   ],
   "source": [
    "student_1.vorstellen()"
   ]
  },
  {
   "cell_type": "code",
   "execution_count": null,
   "id": "6ede15ed-5035-4f7a-a364-7a1595c80d8b",
   "metadata": {},
   "outputs": [],
   "source": []
  },
  {
   "cell_type": "markdown",
   "id": "b531ab97-7e9c-4f8e-a3fd-624e59e0637e",
   "metadata": {},
   "source": [
    "## Übung 5: Geometrische Formen (20 Min.)\n",
    "\n",
    "Erstelle ein Programm, das eine Hierarchie von geometrischen Formen modelliert. Es gibt eine Basisklasse `Form`, von der die Klassen `Kreis` und `Rechteck` erben. Jede Form hat eine Methode `flaeche()`, die die Fläche der jeweiligen Form berechnet. Der Kreis hat zusätzlich das Attribut `radius`, während das Rechteck die Attribute `breite` und `hoehe` hat.\n",
    "\n",
    "### Anforderungen:\n",
    "- Die Klasse `Form` hat eine Methode `flaeche()`, die in den abgeleiteten Klassen implementiert wird, um die Fläche zu berechnen.\n",
    "- Die Klasse `Kreis` erbt von `Form` und hat das Attribut `radius` sowie eine Methode `flaeche()`, die die Fläche eines Kreises berechnet.\n",
    "- Die Klasse `Rechteck` erbt ebenfalls von `Form` und hat die Attribute `breite` und `hoehe` sowie eine Methode `flaeche()`, die die Fläche eines Rechtecks berechnet.\n",
    "\n"
   ]
  },
  {
   "cell_type": "code",
   "execution_count": 24,
   "id": "aa8af28a-c1d6-46cd-9314-a8c7d5530cdc",
   "metadata": {},
   "outputs": [],
   "source": [
    "# Schreibt bitte eure Lösung hier\n"
   ]
  },
  {
   "cell_type": "markdown",
   "id": "7f412452-b4f0-4e53-b085-655efe4d7bdb",
   "metadata": {},
   "source": [
    "## Übung 6: Hierarchie von Mitarbeitern (20 Min.)\n",
    "\n",
    "Erstelle ein Programm, das eine Hierarchie von Mitarbeitern in einer Firma modelliert. Es gibt eine Basisklasse `Mitarbeiter` und zwei abgeleitete Klassen `Manager` und `Entwickler`. Jeder Mitarbeiter hat ein Attribut `name` und `gehalt` und eine Methode `infos()`, die die Informationen des Mitarbeiters anzeigt. Die Klasse `Manager` hat zusätzlich ein Attribut `abteilung`, während die Klasse `Entwickler` das Attribut `programmiersprache` hat.\n",
    "\n",
    "### Anforderungen:\n",
    "- Die Klasse `Mitarbeiter` hat die Attribute `name` und `gehalt` und eine Methode `infos()`, die die allgemeinen Informationen eines Mitarbeiters anzeigt.\n",
    "- Die Klasse `Manager` erbt von `Mitarbeiter` und hat zusätzlich das Attribut `abteilung` und eine Methode `infos()`, die die Informationen des Managers anzeigt.\n",
    "- Die Klasse `Entwickler` erbt ebenfalls von `Mitarbeiter` und hat das Attribut `programmiersprache` und eine Methode `infos()`, die die Informationen des Entwicklers anzeigt.\n",
    " \n"
   ]
  },
  {
   "cell_type": "code",
   "execution_count": 42,
   "id": "cb849535-c8ce-453d-988f-cc033ef90b90",
   "metadata": {},
   "outputs": [],
   "source": [
    "# Schreibt bitte eure Lösung hier\n",
    "class Mitarbeitern:\n",
    "    def __init__(self, name, gehalt):\n",
    "        self.name = name\n",
    "        self.gehalt = gehalt\n",
    "\n",
    "    def infos(self):\n",
    "        print(f\"{self.name} verdient jährlich {self.gehalt} EUR\")\n",
    "\n",
    "class Manager(Mitarbeitern):\n",
    "     def __init__(self, name, gehalt, abteilung):\n",
    "         super().__init__(name, gehalt)\n",
    "         self.abteilung = abteilung\n",
    "     \n",
    "     def infos(self):\n",
    "         print(f\"{self.name} arbeitet in der Abteilung {self.abteilung}.\")\n",
    "\n",
    "class Entwickler(Mitarbeitern):\n",
    "     def __init__(self, name, gehalt, programmiersprache):\n",
    "         super().__init__(name, alter)\n",
    "         self.programmiersprache = programmiersprache\n",
    "     \n",
    "     def infos(self):\n",
    "         print(f\"{self.name} benutz programiersprache {self.programiersprache}.\")"
   ]
  },
  {
   "cell_type": "code",
   "execution_count": null,
   "id": "9b005580-9e70-4924-af13-e3f16550e55a",
   "metadata": {},
   "outputs": [],
   "source": []
  },
  {
   "cell_type": "markdown",
   "id": "30f7327a-fea1-4d3c-9735-84e0edd0b49e",
   "metadata": {},
   "source": [
    "# Übung 7: Bibliothekssystem (30 Min.)\n",
    "\n",
    "Erstelle ein Programm zur Modellierung eines Bibliothekssystems. Es gibt eine Basisklasse `Medien`, die allgemeine Eigenschaften und Methoden für alle Medien in der Bibliothek definiert. Es gibt zwei abgeleitete Klassen `Buch` und `Zeitschrift`, die spezifische Eigenschaften und Methoden für diese Medienarten haben. Jede Instanz eines Mediums hat ein Attribut `titel` und `verlag`, und es gibt Methoden zur Anzeige von Informationen. Zusätzlich gibt es eine Methode zur Ausleihe, die überprüft, ob das Medium verfügbar ist.\n",
    "\n",
    "## Anforderungen:\n",
    "- Die Klasse `Medien` hat die Attribute `titel`, `verlag` und `verfuegbar` (boolescher Wert, der angibt, ob das Medium verfügbar ist) sowie eine Methode `info()`, die allgemeine Informationen über das Medium ausgibt.\n",
    "- Die Klasse `Buch` erbt von `Medien` und hat zusätzlich die Attribute `autor` und `seitenzahl`. Es gibt eine Methode `info()`, die die Informationen für Bücher ausgibt.\n",
    "- Die Klasse `Zeitschrift` erbt ebenfalls von `Medien` und hat das Attribut `ausgabe` (z. B. Monat und Jahr). Die Methode `info()` gibt die Zeitschriften-spezifischen Informationen aus.\n",
    "- Alle Medien haben eine Methode `ausleihen()`, die überprüft, ob das Medium verfügbar ist. Ist es verfügbar, wird es ausgeliehen (d. h. der Status von `verfuegbar` auf `False` gesetzt). Ist es bereits ausgeliehen, wird eine Nachricht ausgegeben.\n"
   ]
  },
  {
   "cell_type": "code",
   "execution_count": 43,
   "id": "a2e891cc-250e-4711-a291-330227b2c463",
   "metadata": {},
   "outputs": [
    {
     "name": "stdout",
     "output_type": "stream",
     "text": [
      "Titel: Der Alchimist, Verlag: Diogenes, Verfügbar: True\n",
      "Autor: Paulo Coelho, Seitenzahl: 208\n",
      "\n",
      "Titel: National Geographic, Verlag: NatGeo, Verfügbar: True\n",
      "Ausgabe: Januar 2023\n",
      "\n",
      "Das Medium 'Der Alchimist' wurde erfolgreich ausgeliehen.\n",
      "Das Medium 'Der Alchimist' ist bereits ausgeliehen.\n",
      "\n",
      "Das Medium 'National Geographic' wurde erfolgreich ausgeliehen.\n",
      "Das Medium 'National Geographic' ist bereits ausgeliehen.\n"
     ]
    }
   ],
   "source": [
    "# Basisklasse Medien\n",
    "class Medien:\n",
    "    def __init__(self, titel, verlag, verfuegbar=True):\n",
    "        self.titel = titel\n",
    "        self.verlag = verlag\n",
    "        self.verfuegbar = verfuegbar\n",
    "\n",
    "    def info(self):\n",
    "        print(f\"Titel: {self.titel}, Verlag: {self.verlag}, Verfügbar: {self.verfuegbar}\")\n",
    "\n",
    "    def ausleihen(self):\n",
    "        if self.verfuegbar:\n",
    "            self.verfuegbar = False\n",
    "            print(f\"Das Medium '{self.titel}' wurde erfolgreich ausgeliehen.\")\n",
    "        else:\n",
    "            print(f\"Das Medium '{self.titel}' ist bereits ausgeliehen.\")\n",
    "\n",
    "# Abgeleitete Klasse Buch\n",
    "class Buch(Medien):\n",
    "    def __init__(self, titel, verlag, autor, seitenzahl, verfuegbar=True):\n",
    "        super().__init__(titel, verlag, verfuegbar)\n",
    "        self.autor = autor\n",
    "        self.seitenzahl = seitenzahl\n",
    "\n",
    "    def info(self):\n",
    "        super().info()\n",
    "        print(f\"Autor: {self.autor}, Seitenzahl: {self.seitenzahl}\")\n",
    "\n",
    "# Abgeleitete Klasse Zeitschrift\n",
    "class Zeitschrift(Medien):\n",
    "    def __init__(self, titel, verlag, ausgabe, verfuegbar=True):\n",
    "        super().__init__(titel, verlag, verfuegbar)\n",
    "        self.ausgabe = ausgabe\n",
    "\n",
    "    def info(self):\n",
    "        super().info()\n",
    "        print(f\"Ausgabe: {self.ausgabe}\")\n",
    "\n",
    "# Beispielverwendung\n",
    "# Erstellen von Objekten\n",
    "buch = Buch(\"Der Alchimist\", \"Diogenes\", \"Paulo Coelho\", 208)\n",
    "zeitschrift = Zeitschrift(\"National Geographic\", \"NatGeo\", \"Januar 2023\")\n",
    "\n",
    "# Informationen anzeigen\n",
    "buch.info()\n",
    "print()\n",
    "zeitschrift.info()\n",
    "print()\n",
    "\n",
    "# Ausleihen\n",
    "buch.ausleihen()\n",
    "buch.ausleihen()  # Versuch, es erneut auszuleihen\n",
    "print()\n",
    "\n",
    "zeitschrift.ausleihen()\n",
    "zeitschrift.ausleihen()  # Versuch, es erneut auszuleihen\n"
   ]
  },
  {
   "cell_type": "code",
   "execution_count": null,
   "id": "16e83a3d-15fc-4a5c-a70e-197847a09fdd",
   "metadata": {},
   "outputs": [],
   "source": []
  }
 ],
 "metadata": {
  "kernelspec": {
   "display_name": "Python 3 (ipykernel)",
   "language": "python",
   "name": "python3"
  },
  "language_info": {
   "codemirror_mode": {
    "name": "ipython",
    "version": 3
   },
   "file_extension": ".py",
   "mimetype": "text/x-python",
   "name": "python",
   "nbconvert_exporter": "python",
   "pygments_lexer": "ipython3",
   "version": "3.12.7"
  }
 },
 "nbformat": 4,
 "nbformat_minor": 5
}
