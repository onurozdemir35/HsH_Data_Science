{
 "cells": [
  {
   "cell_type": "markdown",
   "id": "81d02f2c-887f-4511-9765-ac1ddfcc02e4",
   "metadata": {},
   "source": [
    "# Mini-Projekt I: Rock-Paper-Scissors-Lizard-Spock\n",
    "\n",
    "- Das Spiel wird mit den folgenden Optionen gespielt: Rock, Paper, Scissors, Lizard, Spock.\n",
    "- Regeln:\n",
    "  - Rock schlägt Scissors und Lizard.\n",
    "  - Paper schlägt Rock und Spock.\n",
    "  - Scissors schlägt Paper und Lizard.\n",
    "  - Lizard schlägt Paper und Spock.\n",
    "  - Spock schlägt Rock und Scissors.\n",
    "\n"
   ]
  },
  {
   "cell_type": "markdown",
   "id": "4ccd44e5-94d8-4d70-9b93-f588fb524ba6",
   "metadata": {},
   "source": [
    "## Aufgabe 1: Funktion `number_to_name`\n",
    "**Ziel:** Schreibe eine Funktion, die eine Zahl (0 bis 4) in den entsprechenden Namen der Wahl (rock, spock, paper, lizard, scissors) umwandelt.\n",
    "\n",
    "### Aufgabe:\n",
    "Erstelle eine Funktion `number_to_name`, die eine Zahl zwischen 0 und 4 entgegennimmt und den entsprechenden Namen zurückgibt. Wenn die Zahl außerhalb dieses Bereichs liegt, soll die Funktion `\"nicht uebereinstimmen\"` zurückgeben.\n",
    "\n",
    "- 0: rock\n",
    "- 1: spock\n",
    "- 2: paper\n",
    "- 3: lizard\n",
    "- 4: scissors\n",
    "\n",
    "\n",
    "#### Beispiel:\n",
    "- Eingabe: `0`\n",
    "- Ausgabe: `\"rock\"`\n",
    "\n",
    " \n",
    " \n"
   ]
  },
  {
   "cell_type": "code",
   "execution_count": 12,
   "id": "95aeace7-1b45-45e1-9254-53d328785ba7",
   "metadata": {},
   "outputs": [
    {
     "name": "stdin",
     "output_type": "stream",
     "text": [
      "Geben Sie einen Zahl:  2\n"
     ]
    }
   ],
   "source": [
    "# Schreibt bitte eure Lösung hier\n",
    "\n",
    "def number_to_name(number):\n",
    "    if number == 0:\n",
    "        return \"rock\"\n",
    "    elif number == 1:\n",
    "        return \"spock\"\n",
    "    elif number == 2:\n",
    "        return \"paper\"\n",
    "    elif number == 3:\n",
    "        return \"lizard\"\n",
    "    elif number == 4:\n",
    "        return \"scissor\"\n",
    "    else:\n",
    "        return \"nicht uebereinstimmen\""
   ]
  },
  {
   "cell_type": "code",
   "execution_count": 13,
   "id": "25e841f9-465a-462a-a300-38a280b942bb",
   "metadata": {},
   "outputs": [
    {
     "name": "stdin",
     "output_type": "stream",
     "text": [
      "Geben Sie einen Zahl:  2\n"
     ]
    },
    {
     "data": {
      "text/plain": [
       "'paper'"
      ]
     },
     "execution_count": 13,
     "metadata": {},
     "output_type": "execute_result"
    }
   ],
   "source": [
    "number = int(input(\"Geben Sie einen Zahl: \"))\n",
    "\n",
    "number_to_name(number)"
   ]
  },
  {
   "cell_type": "markdown",
   "id": "a6e3609a-0639-4aa3-9c29-3ddc4aa36e5f",
   "metadata": {},
   "source": [
    "## Aufgabe 2: Funktion `name_to_number`\n",
    "\n",
    "**Ziel**:  \n",
    "Schreibe eine Funktion, die einen Namen (rock, spock, paper, lizard, scissors) in die entsprechende Zahl (0 bis 4) umwandelt.\n",
    "\n",
    "**Aufgabe**:  \n",
    "Erstelle eine Funktion `name_to_number`, die einen Namen als Eingabe nimmt und die entsprechende Zahl zurückgibt. Wenn der Name nicht übereinstimmt, soll die Funktion \"nicht uebereinstimmen\" zurückgeben.\n",
    "\n",
    "**Beispiel**:\n",
    "\n",
    "- **Eingabe**: \"rock\"\n",
    "- **Ausgabe**: 0\n"
   ]
  },
  {
   "cell_type": "code",
   "execution_count": 16,
   "id": "509e197a-702b-46f2-bdac-cc3cc234f0b6",
   "metadata": {},
   "outputs": [],
   "source": [
    "# Schreibt bitte eure Lösung hier\n",
    "\n",
    "def name_to_number(name):\n",
    "    if name == \"rock\" :\n",
    "        return 0\n",
    "    elif name == \"spock\":\n",
    "        return 1\n",
    "    elif name == \"paper\":\n",
    "        return 2\n",
    "    elif name == \"lizard\":\n",
    "        return 3\n",
    "    elif name == \"scissors\":\n",
    "        return 4\n",
    "    else:\n",
    "        return \"nicht uebereinstimmen\"\n",
    "  "
   ]
  },
  {
   "cell_type": "code",
   "execution_count": 18,
   "id": "503cc5e1-4816-4071-8f74-ed3d2523caec",
   "metadata": {},
   "outputs": [
    {
     "name": "stdin",
     "output_type": "stream",
     "text": [
      "Geben Sie einen Name:  scissors\n"
     ]
    },
    {
     "data": {
      "text/plain": [
       "4"
      ]
     },
     "execution_count": 18,
     "metadata": {},
     "output_type": "execute_result"
    }
   ],
   "source": [
    "name = input(\"Geben Sie einen Name: \")\n",
    "\n",
    "name_to_number(name)"
   ]
  },
  {
   "cell_type": "markdown",
   "id": "e1c3918a-cacf-437e-8a1c-73384048fce9",
   "metadata": {},
   "source": [
    " \n",
    " \n"
   ]
  },
  {
   "cell_type": "markdown",
   "id": "e7169b22-ca3d-4eac-b16b-dddfd13bb1c2",
   "metadata": {},
   "source": [
    "## Aufgaben 3: Spielereingabe und Ausgabe\n",
    "\n",
    "Erstelle die Funktion `rpsls`, die die Wahl des Spielers entgegennimmt (z. B. „rock“, „paper“, „spock“, „lizard“, „scissors“) und diese dem Benutzer ausgibt.\n",
    "\n",
    "**Beispiel**:\n",
    "- **Eingabe**: `\"rock\"`\n",
    "- **Ausgabe**: `\"player chooses rock\"`\n",
    "\n",
    "Nutze die Funktion `name_to_number`, um die Eingabe des Spielers in eine Zahl umzuwandeln. Diese Zahl wird dann weiter verwendet, um den Spielverlauf zu bestimmen.\n",
    "\n",
    "**Beispiel**:\n",
    "\n",
    "- **Eingabe**: \"rock\"\n",
    "- **Ausgabe**: 0\n",
    "\n",
    "Nutze die Funktion `random.randrange(0, 5)`, um eine zufällige Zahl zu generieren, die die Wahl des Computers darstellt. Verwende die Funktion `number_to_name`, um diese Zahl in den entsprechenden Namen umzuwandeln.\n",
    "\n",
    "**Beispiel**:\n",
    "\n",
    "- **Zufällige Zahl**: 3  \n",
    "- **Ausgabe**: \"Computer chooses lizard\"\n",
    "\n",
    "Berechne die Differenz zwischen der Wahl des Spielers und der des Computers unter Verwendung der Modulo-Operation (`% 5`). Bestimme das Ergebnis basierend auf dieser Differenz.\n",
    "\n",
    "**Hinweis**: differenz = ((player_choice - computer_number) % 5):\n",
    "- Wenn die Differenz 1 oder 2 beträgt, gewinnt der Spieler. Wenn die Differenz 3 oder 4 beträgt, gewinnt der Computer. Ist die Differenz 0, endet das Spiel unentschieden.\n",
    "\n",
    "**Beispiel**:\n",
    "\n",
    "- **Spieler wählt** \"rock\" (Wert: 0), **Computer wählt** \"paper\" (Wert: 2)  \n",
    "- **Differenz**: `(0 - 2) % 5 = 3`  \n",
    "- **Ergebnis**: \"Computer wins!\""
   ]
  },
  {
   "cell_type": "code",
   "execution_count": 6,
   "id": "b95695ce-b4a7-4c10-bf01-4ec9e3b0af7a",
   "metadata": {},
   "outputs": [
    {
     "name": "stdout",
     "output_type": "stream",
     "text": [
      "Player chooses 4\n",
      "Computer chooses lizard\n"
     ]
    },
    {
     "data": {
      "text/plain": [
       "'Spieler hat gewonnen'"
      ]
     },
     "execution_count": 6,
     "metadata": {},
     "output_type": "execute_result"
    }
   ],
   "source": [
    "# Schreibt bitte eure Lösung hier\n",
    "import random\n",
    "\n",
    "def rpsls(eingabe_spieler):\n",
    "    player_choice = name_to_number(eingabe_spieler)\n",
    "    print(\"Player chooses\" , player_choice)\n",
    "\n",
    "    \n",
    "    computer_number = random.randrange(0, 5)\n",
    "\n",
    "    computer_choice = number_to_name(computer_number)\n",
    "    print(\"Computer chooses\" + \" \" + computer_choice)\n",
    "\n",
    "    differnz = (player_choice - computer_number) % 5\n",
    "           \n",
    "    if differnz == 1 or  differnz == 2:\n",
    "        return \"Spieler hat gewonnen\" \n",
    "    elif differnz == 3 or differnz == 4:\n",
    "        return \"Computer hat gewonnen\"\n",
    "    else:\n",
    "        return \"nicht uebereinstimmen\"\n",
    "\n",
    "rpsls(\"scissors\")\n"
   ]
  },
  {
   "cell_type": "markdown",
   "id": "558248ff-d096-4afd-a162-e80469e0ce82",
   "metadata": {},
   "source": [
    "## Aufgabe 4: Testen der `rpsls`-Funktion\n",
    "\n",
    "**Ziel:** Teste die Funktion `rpsls`, indem du verschiedene Eingaben (Spielerwahlen) verwendest, um zu sehen, wie das Programm reagiert.\n",
    "\n",
    "### Aufgabe:\n",
    "Verwende die `rpsls`-Funktion, um das Spiel mit verschiedenen Eingaben zu testen. Gib die Ergebnisse für die Eingaben \"rock\", \"paper\", \"spock\", \"lizard\" und \"scissors\" aus.\n",
    "\n"
   ]
  },
  {
   "cell_type": "code",
   "execution_count": 4,
   "id": "70e5c40c-26f5-44bf-b20c-ca9edc61cc7f",
   "metadata": {},
   "outputs": [],
   "source": [
    "# Schreibt bitte eure Lösung hier\n"
   ]
  },
  {
   "cell_type": "code",
   "execution_count": null,
   "id": "463d5c08-9154-4d1d-9bd5-db16b501fb38",
   "metadata": {},
   "outputs": [],
   "source": []
  },
  {
   "cell_type": "code",
   "execution_count": null,
   "id": "c5cd10ed-b4b3-4b18-aee1-d915953ee596",
   "metadata": {},
   "outputs": [],
   "source": []
  },
  {
   "cell_type": "markdown",
   "id": "287278fc-3ce8-4bb7-8167-a2c8e59e27cb",
   "metadata": {},
   "source": [
    "## Gesamte Lösung"
   ]
  },
  {
   "cell_type": "code",
   "execution_count": 5,
   "id": "59804153-096a-40b4-bdf6-f122fa13331d",
   "metadata": {},
   "outputs": [
    {
     "name": "stdout",
     "output_type": "stream",
     "text": [
      "Player chooses 0\n",
      "Computer chooses scissor\n"
     ]
    },
    {
     "data": {
      "text/plain": [
       "'Spieler hat gewonnen'"
      ]
     },
     "execution_count": 5,
     "metadata": {},
     "output_type": "execute_result"
    }
   ],
   "source": [
    "# Schreibt bitte eure Lösung hier\n",
    "\n",
    "def number_to_name(number):\n",
    "    if number == 0:\n",
    "        return \"rock\"\n",
    "    elif number == 1:\n",
    "        return \"spock\"\n",
    "    elif number == 2:\n",
    "        return \"paper\"\n",
    "    elif number == 3:\n",
    "        return \"lizard\"\n",
    "    elif number == 4:\n",
    "        return \"scissors\"\n",
    "    else:\n",
    "        return \"ungültig\"\n",
    "\n",
    "\n",
    "#------------------------------------------------------------\n",
    "def name_to_number(name):\n",
    "    name = name.lower()\n",
    "    if name == \"rock\" :\n",
    "        return 0\n",
    "    elif name == \"spock\":\n",
    "        return 1\n",
    "    elif name == \"paper\":\n",
    "        return 2\n",
    "    elif name == \"lizard\":\n",
    "        return 3\n",
    "    elif name == \"scissors\":\n",
    "        return 4\n",
    "    else:\n",
    "        return -1\n",
    "\n",
    "\n",
    "\n",
    "#-----------------------------------------------------------------------\n",
    "\n",
    "import random\n",
    "\n",
    "def rpsls(eingabe_spieler):\n",
    "    player_choice = name_to_number(eingabe_spieler)\n",
    "    if player_choice == -1:\n",
    "        print(\"Ungültige Eingabe! Bitte wählen Sie aus rock, spock, paper, lizard oder scissors\")\n",
    "        return\n",
    "        \n",
    "    print(\"Player chooses\" , eingabe_spieler)\n",
    "\n",
    "    \n",
    "    computer_number = random.randrange(0, 5)\n",
    "\n",
    "    computer_choice = number_to_name(computer_number)\n",
    "    print(\"Computer chooses\" + \" \" + computer_choice)\n",
    "\n",
    "    differnz = (player_choice - computer_number) % 5\n",
    "           \n",
    "    if differenz == 1 or  differenz == 2:\n",
    "        return \"Spieler hat gewonnen\" \n",
    "    elif differenz == 3 or differenz == 4:\n",
    "        return \"Computer hat gewonnen\"\n",
    "    else:\n",
    "        return \"Unentschieden\"\n",
    "\n",
    "\n",
    "#----------------------------------------------------------------\n",
    "\n",
    "\n",
    "rpsls(\"rock\")"
   ]
  },
  {
   "cell_type": "markdown",
   "id": "8c967ff9-d89d-4a97-95d3-4b78acb653fa",
   "metadata": {},
   "source": []
  }
 ],
 "metadata": {
  "kernelspec": {
   "display_name": "Python 3 (ipykernel)",
   "language": "python",
   "name": "python3"
  },
  "language_info": {
   "codemirror_mode": {
    "name": "ipython",
    "version": 3
   },
   "file_extension": ".py",
   "mimetype": "text/x-python",
   "name": "python",
   "nbconvert_exporter": "python",
   "pygments_lexer": "ipython3",
   "version": "3.12.7"
  }
 },
 "nbformat": 4,
 "nbformat_minor": 5
}
