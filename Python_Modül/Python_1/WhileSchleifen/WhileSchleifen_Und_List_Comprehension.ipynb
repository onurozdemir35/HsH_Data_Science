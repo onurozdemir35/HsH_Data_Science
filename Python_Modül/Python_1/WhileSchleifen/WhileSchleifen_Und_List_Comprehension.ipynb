{
 "cells": [
  {
   "cell_type": "markdown",
   "id": "90c5724f-bcb8-4e0f-adcd-83f772376e63",
   "metadata": {},
   "source": [
    "# List Comprehension in Python\n",
    "\n",
    "List Comprehension ist eine prägnante und effiziente Möglichkeit, eine neue Liste zu erstellen, indem du eine bestehende Sammlung durchläufst und Bedingungen oder Transformationen anwendest.\n",
    "\n",
    "## Syntax:\n",
    "```python\n",
    "[Ausdruck for Element in iterierbarem Objekt if Bedingung]\n",
    "```\n",
    "\n",
    "## Erklärung der Teile der List Comprehension\n",
    "\n",
    "- **Ausdruck**: Das, was für jedes Element in der neuen Liste enthalten sein soll.\n",
    "- **Element**: Das aktuelle Element aus dem iterierbaren Objekt.\n",
    "- **iterierbares Objekt**: Eine Sammlung wie eine Liste, ein Tuple oder ein String, die durchlaufen wird.\n",
    "- **Bedingung** (optional): Ein Filter, der bestimmt, welche Elemente in die neue Liste aufgenommen werden.\n",
    "\n",
    "\n",
    " - **Dictionary Comprehension** ist eine kompakte Möglichkeit, ein Dictionary in einer einzigen Zeile zu erstellen, indem man eine bestehende Iteration oder Bedingung verwendet.\n",
    "    - **Syntax:**\n",
    "      ```python\n",
    "      {key_expression: value_expression for item in iterable}"
   ]
  },
  {
   "cell_type": "markdown",
   "id": "80481786-cfe1-4006-9496-0cfaa793f990",
   "metadata": {},
   "source": [
    "## Beispiel 1: Liste mit Quadraten der Zahlen"
   ]
  },
  {
   "cell_type": "code",
   "execution_count": 6,
   "id": "b6e39da4-d46b-4bdc-b2e5-5755da6a571e",
   "metadata": {},
   "outputs": [
    {
     "name": "stdout",
     "output_type": "stream",
     "text": [
      "[1, 4, 9, 16, 25]\n"
     ]
    }
   ],
   "source": [
    "numbers = [1, 2, 3, 4, 5]\n",
    "squares = [x**2 for x in numbers]\n",
    "print(squares)\n"
   ]
  },
  {
   "cell_type": "markdown",
   "id": "82919f28-ce27-405e-8149-18d76877c243",
   "metadata": {},
   "source": [
    "## Beispiel 2: Nur gerade Zahlen auswählen\n"
   ]
  },
  {
   "cell_type": "code",
   "execution_count": 7,
   "id": "5a26858c-d5f7-4ebb-8f0b-4c6dbee308a3",
   "metadata": {},
   "outputs": [
    {
     "name": "stdout",
     "output_type": "stream",
     "text": [
      "[2, 4, 6]\n"
     ]
    }
   ],
   "source": [
    "numbers = [1, 2, 3, 4, 5, 6]\n",
    "even_numbers = [x for x in numbers if x % 2 == 0]\n",
    "print(even_numbers)"
   ]
  },
  {
   "cell_type": "markdown",
   "id": "1841f41c-8000-4588-9da8-8be56f5eb070",
   "metadata": {},
   "source": [
    "## Beispiel 3: Ein Dictionary aus einer Liste erstellen:"
   ]
  },
  {
   "cell_type": "code",
   "execution_count": 8,
   "id": "367800c6-1bdd-41cd-af12-dcda4713ea2b",
   "metadata": {},
   "outputs": [
    {
     "name": "stdout",
     "output_type": "stream",
     "text": [
      "{1: 1, 2: 4, 3: 9, 4: 16}\n"
     ]
    }
   ],
   "source": [
    "zahlen = [1, 2, 3, 4]\n",
    "quadrate = {x: x**2 for x in zahlen}\n",
    "print(quadrate)\n",
    "# Ausgabe: {1: 1, 2: 4, 3: 9, 4: 16}"
   ]
  },
  {
   "cell_type": "markdown",
   "id": "1f9a4c14-ae88-44cc-8b2c-cd7e585f048d",
   "metadata": {},
   "source": [
    "## Beispiel 4: Dictionary mit einer Umkehrung (Schlüssel und Werte vertauschen):\n"
   ]
  },
  {
   "cell_type": "code",
   "execution_count": 9,
   "id": "b08b028f-0d07-4371-84ad-59191c60e528",
   "metadata": {},
   "outputs": [
    {
     "name": "stdout",
     "output_type": "stream",
     "text": [
      "{1: 'a', 2: 'b', 3: 'c'}\n"
     ]
    }
   ],
   "source": [
    "dict_original = {'a': 1, 'b': 2, 'c': 3}\n",
    "umgekehrt = {v: k for k, v in dict_original.items()}\n",
    "print(umgekehrt)\n",
    "# Ausgabe: {1: 'a', 2: 'b', 3: 'c'}\n"
   ]
  },
  {
   "cell_type": "markdown",
   "id": "d638cbb0-d9a5-459a-84e1-6e898a567343",
   "metadata": {},
   "source": [
    " ## Beispiel 5. Ein Dictionary aus zwei Listen erstellen:"
   ]
  },
  {
   "cell_type": "code",
   "execution_count": 10,
   "id": "9704a330-1e17-41bf-9e94-f5d3b7d40ec4",
   "metadata": {},
   "outputs": [
    {
     "name": "stdout",
     "output_type": "stream",
     "text": [
      "{'a': 1, 'b': 2, 'c': 3}\n"
     ]
    }
   ],
   "source": [
    "schlüssel = ['a', 'b', 'c']\n",
    "werte = [1, 2, 3]\n",
    "dict_comprehension = {schlüssel[i]: werte[i] for i in range(len(schlüssel))}\n",
    "print(dict_comprehension)\n",
    "# Ausgabe: {'a': 1, 'b': 2, 'c': 3}"
   ]
  },
  {
   "cell_type": "markdown",
   "id": "d3687250-d582-483a-ae31-70e36ddaad4a",
   "metadata": {},
   "source": [
    "# Schleifen (Loops)"
   ]
  },
  {
   "cell_type": "markdown",
   "id": "eaa192f4-69b0-440c-85bc-54df34cdb2e6",
   "metadata": {},
   "source": [
    "## In Python stehen zwei grundlegende Schleifenbefehle zur Verfügung:\n",
    "\n",
    "1. `for`-Schleife\n",
    "2. `while`-Schleife\n",
    " \n"
   ]
  },
  {
   "cell_type": "markdown",
   "id": "7a83fb6f-29cc-4e0d-8bef-d1c0e0751c7e",
   "metadata": {},
   "source": [
    "## Erklärung: `while`-Schleife in Python\n",
    "\n",
    "### Allgemeines\n",
    "- Die `while`-Schleife wird verwendet, um einen Codeblock auszuführen, solange eine Bedingung erfüllt ist.\n",
    "- Sie wird oft genutzt, wenn die Anzahl der Iterationen nicht im Voraus bekannt ist.\n",
    "\n",
    "### Syntax\n",
    "```python\n",
    "while Bedingung:\n",
    "    # Codeblock, der wiederholt ausgeführt wird\n",
    "    pass\n"
   ]
  },
  {
   "cell_type": "markdown",
   "id": "67d547d6-90be-429a-9dc7-c32bf67c4de3",
   "metadata": {},
   "source": [
    "### Funktionsweise\n",
    "- Die Bedingung wird vor jedem Schleifendurchlauf geprüft.\n",
    "- Solange die Bedingung `True` ist, wird der Codeblock ausgeführt.\n",
    "- Wenn die Bedingung `False` wird, endet die Schleife."
   ]
  },
  {
   "cell_type": "markdown",
   "id": "f933b686-4920-4935-a527-f39805d31483",
   "metadata": {},
   "source": [
    "## Beispiel"
   ]
  },
  {
   "cell_type": "code",
   "execution_count": 8,
   "id": "5cabb337-6d1b-41b2-a74e-7ae64c8b6e91",
   "metadata": {},
   "outputs": [
    {
     "name": "stdout",
     "output_type": "stream",
     "text": [
      "0\n",
      "1\n",
      "2\n",
      "3\n",
      "4\n"
     ]
    }
   ],
   "source": [
    "# Initialisierung des Zählers\n",
    "counter = 0\n",
    "\n",
    "# Solange der Zähler kleiner als 5 ist, wird die Schleife ausgeführt\n",
    "while counter < 5:\n",
    "    print(counter)  # Gibt den aktuellen Wert des Zählers aus\n",
    "    \n",
    "    counter += 1  # Erhöht den Zähler um 1\n"
   ]
  },
  {
   "cell_type": "code",
   "execution_count": 4,
   "id": "284ef6d4-9750-42ec-b09e-97f38e0f26a3",
   "metadata": {},
   "outputs": [
    {
     "name": "stdout",
     "output_type": "stream",
     "text": [
      "0\n",
      "1\n",
      "2\n",
      "3\n",
      "4\n"
     ]
    }
   ],
   "source": [
    "# Für Schleife mit einem Bereich von 0 bis 4 (einschließlich)\n",
    "for counter in range(5):\n",
    "    print(counter)  # Gibt den aktuellen Wert des Zählers aus\n"
   ]
  },
  {
   "cell_type": "markdown",
   "id": "45bf5376-30fc-48cd-8405-e60d36fac9c8",
   "metadata": {},
   "source": [
    "### Endlosschleife (Vorsicht!)\n"
   ]
  },
  {
   "cell_type": "code",
   "execution_count": 1,
   "id": "46b1554f-470c-4752-97a2-c6118180ed69",
   "metadata": {},
   "outputs": [],
   "source": [
    "#while True:\n",
    "#    print(\"Endlos!\")"
   ]
  },
  {
   "cell_type": "markdown",
   "id": "f13b628f-564b-4e9b-9e89-9785f0333f9b",
   "metadata": {},
   "source": [
    "- Läuft unendlich, es sei denn, sie wird mit break unterbrochen.\n"
   ]
  },
  {
   "cell_type": "markdown",
   "id": "61765fab-e5c6-4d06-ad44-fd8b2b2ad6b3",
   "metadata": {},
   "source": [
    "### `break` und `continue`\n",
    "\n",
    "#### `break`\n",
    "- **Funktion**: Beendet die Schleife sofort.\n",
    "- Wird verwendet, um die Schleife vorzeitig zu verlassen, wenn eine bestimmte Bedingung erfüllt ist.\n",
    "\n",
    "#### `continue`\n",
    "- **Funktion**: Überspringt den Rest des aktuellen Durchlaufs und fährt mit dem nächsten fort.\n",
    "- Wird verwendet, um die aktuelle Iteration zu überspringen und mit der nächsten fortzufahren, ohne den restlichen Code im Schleifenblock auszuführen.\n"
   ]
  },
  {
   "cell_type": "markdown",
   "id": "1fd8e669-c683-4de2-8021-6ce9d29af336",
   "metadata": {},
   "source": [
    "#### Beispiel mit break\n",
    " \n"
   ]
  },
  {
   "cell_type": "code",
   "execution_count": 1,
   "id": "e96c5ecc-e9e6-4d0f-a366-2a1fe06e7ef1",
   "metadata": {},
   "outputs": [
    {
     "name": "stdin",
     "output_type": "stream",
     "text": [
      "Gib 'stop' ein, um zu beenden:  d\n",
      "Gib 'stop' ein, um zu beenden:  stop\n"
     ]
    }
   ],
   "source": [
    "while True:\n",
    "    user_input = input(\"Gib 'stop' ein, um zu beenden: \")\n",
    "    if user_input == \"stop\":\n",
    "        break\n"
   ]
  },
  {
   "cell_type": "markdown",
   "id": "b6305188-b877-4a4c-9ebd-a2b3e94c0bdb",
   "metadata": {},
   "source": [
    "#### Beispiel mit continue\n",
    " "
   ]
  },
  {
   "cell_type": "code",
   "execution_count": 2,
   "id": "9a06581b-117f-49cf-96bc-4f9c123e4587",
   "metadata": {},
   "outputs": [
    {
     "name": "stdout",
     "output_type": "stream",
     "text": [
      "1\n",
      "2\n",
      "4\n",
      "5\n"
     ]
    }
   ],
   "source": [
    "num = 0\n",
    "while num < 5:\n",
    "    num += 1\n",
    "    if num == 3:\n",
    "        continue  # Springt direkt zum nächsten Durchlauf\n",
    "    print(num)\n"
   ]
  },
  {
   "cell_type": "markdown",
   "id": "38f6f394-5893-4432-87da-ea53c205245f",
   "metadata": {},
   "source": [
    "### Typische Fehlerquellen\n",
    "\n",
    "- **Endlosschleifen**: Keine Änderung der Bedingung im Schleifenblock.\n",
    "- **Unklare Bedingungen**: Falsche Logik führt zu unerwünschtem Verhalten.\n",
    "\n",
    "### Einsatzgebiete\n",
    "\n",
    "- Wiederholte Benutzereingaben verarbeiten.\n",
    "- Iterationen basierend auf dynamischen Bedingungen.\n",
    "....\n"
   ]
  },
  {
   "cell_type": "markdown",
   "id": "3279161c-71ef-436d-83f0-ec3b1f52a6d8",
   "metadata": {},
   "source": [
    "### Beispiel für eine while-Schleife mit einem else-Block:"
   ]
  },
  {
   "cell_type": "code",
   "execution_count": 3,
   "id": "00147626-0c6e-43ab-8bb2-e48829eeb401",
   "metadata": {},
   "outputs": [
    {
     "name": "stdout",
     "output_type": "stream",
     "text": [
      "Die aktuelle Zahl ist: 10\n",
      "Die aktuelle Zahl ist: 8\n",
      "Die aktuelle Zahl ist: 6\n",
      "Die aktuelle Zahl ist: 4\n",
      "Die aktuelle Zahl ist: 2\n",
      "Die Schleife ist beendet, n ist jetzt nicht mehr größer als 0\n"
     ]
    }
   ],
   "source": [
    "n = 10\n",
    "while n > 0:\n",
    "    print(f\"Die aktuelle Zahl ist: {n}\")\n",
    "    n -= 2  # Verringert n um 2 in jedem Schleifendurchlauf\n",
    "else:\n",
    "    print(\"Die Schleife ist beendet, n ist jetzt nicht mehr größer als 0\")\n"
   ]
  },
  {
   "cell_type": "markdown",
   "id": "a815a961-e66d-4a94-a079-6656949518b8",
   "metadata": {},
   "source": [
    "## Beispiele:"
   ]
  },
  {
   "cell_type": "code",
   "execution_count": 1,
   "id": "55626956-3a1e-401e-b6c9-f87609a05ef6",
   "metadata": {},
   "outputs": [
    {
     "name": "stdout",
     "output_type": "stream",
     "text": [
      "Die Zahl ist 10\n",
      "Die Zahl ist 8\n",
      "Die Zahl ist 6\n",
      "Die Zahl ist 4\n",
      "Die Zahl ist 2\n"
     ]
    }
   ],
   "source": [
    "number = 10\n",
    "while number > 0:\n",
    "    print(f\"Die Zahl ist {number}\")\n",
    "    number -= 2  # Subtrahiert 2 von der Zahl\n"
   ]
  },
  {
   "cell_type": "code",
   "execution_count": 2,
   "id": "71b2ec4a-79d0-48e4-9f45-1096cacc70bf",
   "metadata": {},
   "outputs": [
    {
     "name": "stdin",
     "output_type": "stream",
     "text": [
      "Gib 'stop' ein, um die Schleife zu beenden:  d\n",
      "Gib 'stop' ein, um die Schleife zu beenden:  stop\n"
     ]
    },
    {
     "name": "stdout",
     "output_type": "stream",
     "text": [
      "Schleife beendet.\n"
     ]
    }
   ],
   "source": [
    "while True:\n",
    "    user_input = input(\"Gib 'stop' ein, um die Schleife zu beenden: \")\n",
    "    if user_input == \"stop\":\n",
    "        print(\"Schleife beendet.\")\n",
    "        break\n"
   ]
  },
  {
   "cell_type": "code",
   "execution_count": 3,
   "id": "5325bad8-22b3-47c3-b0a9-00914de21764",
   "metadata": {},
   "outputs": [
    {
     "name": "stdout",
     "output_type": "stream",
     "text": [
      "Apfel\n",
      "Banane\n",
      "Kirsche\n",
      "Dattel\n"
     ]
    }
   ],
   "source": [
    "items = [\"Apfel\", \"Banane\", \"Kirsche\", \"Dattel\"]\n",
    "index = 0\n",
    "while index < len(items):\n",
    "    print(items[index])\n",
    "    index += 1\n"
   ]
  },
  {
   "cell_type": "code",
   "execution_count": null,
   "id": "944b6873-abe4-470a-af7b-012964ab0000",
   "metadata": {},
   "outputs": [],
   "source": []
  },
  {
   "cell_type": "markdown",
   "id": "42d2e1ae-d443-4257-8a8d-ec9dcc37cf69",
   "metadata": {},
   "source": [
    "### Python Tutor: Visualize Code and Get AI Help for Python, JavaScript, C, C++, and Java\n",
    "https://pythontutor.com/visualize.html#mode=edit"
   ]
  },
  {
   "cell_type": "markdown",
   "id": "d3df61d0-f494-4e59-b1e7-7a21c8a894ef",
   "metadata": {},
   "source": [
    "# Python `random`-Modul Übersicht\n",
    "\n",
    "| Funktion                     | Beschreibung                                          | Beispiel                          |\n",
    "|------------------------------|------------------------------------------------------|-----------------------------------|\n",
    "| **`random.random()`**        | Zufällige Zahl zwischen 0 (inkl.) und 1 (exkl.).     | `random.random()` → `0.374447`   |\n",
    "| **`random.randint(a, b)`**   | Ganzzahl zwischen `a` und `b` (inkl.).               | `random.randint(1, 10)` → `7`    |\n",
    "| **`random.uniform(a, b)`**   | Gleitkommazahl zwischen `a` und `b`.                 | `random.uniform(1.5, 10.5)` → `3.748` |\n",
    "| **`random.choice(sequence)`**| Zufälliges Element aus einer Sequenz.                | `random.choice(['A', 'B', 'C'])` → `'B'` |\n",
    "| **`random.choices(population, k)`** | Liste mit `k` zufälligen Elementen (mit Zurücklegen). | `random.choices([1, 2, 3], k=2)` → `[2, 3]` |\n",
    "| **`random.sample(population, k)`**  | Liste mit `k` zufälligen Elementen (ohne Zurücklegen). | `random.sample([1, 2, 3, 4], k=2)` → `[3, 1]` |\n",
    "| **`random.shuffle(sequence)`** | Mischt eine Liste in zufälliger Reihenfolge.       | `random.shuffle([1, 2, 3])` → `[3, 1, 2]` |\n",
    "| **`random.seed(a)`**         | Setzt Zufallsgenerator für reproduzierbare Ergebnisse. | `random.seed(42); random.random()` → `0.639426` |\n",
    "\n",
    "> **Hinweis**: Import erforderlich: `import random`\n"
   ]
  },
  {
   "cell_type": "markdown",
   "id": "efe02c34-d2ea-4c8c-8f32-a55a098a5ea5",
   "metadata": {},
   "source": [
    "## Beispiele:"
   ]
  },
  {
   "cell_type": "code",
   "execution_count": 1,
   "id": "a09cfbeb-d42d-4656-96ae-f7e01a63bdd4",
   "metadata": {},
   "outputs": [
    {
     "name": "stdout",
     "output_type": "stream",
     "text": [
      "random.random(): 0.5524612423601373\n"
     ]
    }
   ],
   "source": [
    "import random\n",
    "\n",
    "# Beispiele für Funktionen aus dem random-Modul\n",
    "\n",
    "# 1. random.random(): Zufällige Zahl zwischen 0 (inkl.) und 1 (exkl.)\n",
    "print(\"random.random():\", random.random())"
   ]
  },
  {
   "cell_type": "code",
   "execution_count": 2,
   "id": "e8824f28-1ab1-4347-b19f-242cb1305616",
   "metadata": {},
   "outputs": [
    {
     "name": "stdout",
     "output_type": "stream",
     "text": [
      "random.randint(1, 10): 5\n"
     ]
    }
   ],
   "source": [
    "# 2. random.randint(a, b): Ganzzahl zwischen a und b (inkl.)\n",
    "print(\"random.randint(1, 10):\", random.randint(1, 10))"
   ]
  },
  {
   "cell_type": "code",
   "execution_count": 3,
   "id": "fa0f396f-2df1-415d-b7e9-8d0e4a9de900",
   "metadata": {},
   "outputs": [
    {
     "name": "stdout",
     "output_type": "stream",
     "text": [
      "random.uniform(1.5, 5.5): 3.6016505725288552\n"
     ]
    }
   ],
   "source": [
    "# 3. random.uniform(a, b): Gleitkommazahl zwischen a und b\n",
    "print(\"random.uniform(1.5, 5.5):\", random.uniform(1.5, 5.5))"
   ]
  },
  {
   "cell_type": "code",
   "execution_count": 4,
   "id": "83410d2a-1d21-4e23-a5d6-5b2bbd418cf2",
   "metadata": {},
   "outputs": [
    {
     "name": "stdout",
     "output_type": "stream",
     "text": [
      "random.choice(fruits): Apfel\n"
     ]
    }
   ],
   "source": [
    "# 4. random.choice(sequence): Zufälliges Element aus einer Sequenz\n",
    "fruits = [\"Apfel\", \"Banane\", \"Kirsche\"]\n",
    "print(\"random.choice(fruits):\", random.choice(fruits))"
   ]
  },
  {
   "cell_type": "code",
   "execution_count": 6,
   "id": "85cecf92-cd44-49fd-9597-64182201e31a",
   "metadata": {},
   "outputs": [
    {
     "name": "stdout",
     "output_type": "stream",
     "text": [
      "random.choices(numbers, k=3): [2, 1, 2]\n"
     ]
    }
   ],
   "source": [
    "# 5. random.choices(population, k): Liste mit k zufälligen Elementen (mit Zurücklegen)\n",
    "numbers = [1, 2, 3, 4, 5]\n",
    "print(\"random.choices(numbers, k=3):\", random.choices(numbers, k=3))"
   ]
  },
  {
   "cell_type": "code",
   "execution_count": 7,
   "id": "5d2bcdc4-b2f3-4bee-82c4-67f53a4c396a",
   "metadata": {},
   "outputs": [
    {
     "name": "stdout",
     "output_type": "stream",
     "text": [
      "random.sample(numbers, k=3): [3, 5, 2]\n"
     ]
    }
   ],
   "source": [
    "# 6. random.sample(population, k): Liste mit k zufälligen Elementen (ohne Zurücklegen)\n",
    "print(\"random.sample(numbers, k=3):\", random.sample(numbers, k=3))"
   ]
  },
  {
   "cell_type": "code",
   "execution_count": 10,
   "id": "39ed6c9f-5843-46fe-b4a6-ec90cca1354b",
   "metadata": {},
   "outputs": [
    {
     "name": "stdout",
     "output_type": "stream",
     "text": [
      "random.shuffle(numbers): [1, 2, 3, 4, 5]\n"
     ]
    }
   ],
   "source": [
    "# 7. random.shuffle(sequence): Mischt eine Liste in zufälliger Reihenfolge (in-place)\n",
    "numbers = [1, 2, 3, 4, 5]\n",
    "random.shuffle(numbers)\n",
    "print(\"random.shuffle(numbers):\", numbers)"
   ]
  },
  {
   "cell_type": "markdown",
   "id": "87a45da1-0f8a-4aac-8267-f3613d91390a",
   "metadata": {},
   "source": [
    "## Quellen\n",
    "\n",
    "1. https://www.w3schools.com/python/\n",
    "2. https://www.python.org/\n",
    "3. https://www.py4e.com/book"
   ]
  },
  {
   "cell_type": "code",
   "execution_count": null,
   "id": "d3f3325a-d0bd-44d6-a751-9e9f907768d9",
   "metadata": {},
   "outputs": [],
   "source": []
  }
 ],
 "metadata": {
  "kernelspec": {
   "display_name": "Python 3 (ipykernel)",
   "language": "python",
   "name": "python3"
  },
  "language_info": {
   "codemirror_mode": {
    "name": "ipython",
    "version": 3
   },
   "file_extension": ".py",
   "mimetype": "text/x-python",
   "name": "python",
   "nbconvert_exporter": "python",
   "pygments_lexer": "ipython3",
   "version": "3.12.7"
  }
 },
 "nbformat": 4,
 "nbformat_minor": 5
}
