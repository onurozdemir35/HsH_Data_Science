{
 "cells": [
  {
   "cell_type": "markdown",
   "id": "fd63cfc4-834a-4b60-b4b6-f7660fa8aefc",
   "metadata": {},
   "source": [
    "# Übungen: List Comprehension. in Python\n"
   ]
  },
  {
   "cell_type": "markdown",
   "id": "e4937af6-c16f-4dea-9400-4515cd1d544e",
   "metadata": {},
   "source": [
    "## Übung 1: Filtern von geraden Zahlen (7 Min.)\n",
    "Gegeben ist eine Liste von Zahlen. Erstelle eine neue Liste, die nur die geraden Zahlen aus der ursprünglichen Liste enthält. Verwende List Comprehension.\n",
    "\n",
    "**Beispiel**:  \n",
    "Eingabe: `[1, 2, 3, 4, 5, 6, 7, 8, 9, 10]`  \n",
    "Ausgabe: `[2, 4, 6, 8, 10]`"
   ]
  },
  {
   "cell_type": "code",
   "execution_count": 12,
   "id": "cef26557-d2bb-439c-bd28-ab6f7585e360",
   "metadata": {},
   "outputs": [],
   "source": [
    "# Schreibt bitte eure Lösung hier\n",
    "\n"
   ]
  },
  {
   "cell_type": "markdown",
   "id": "8a71a162-ea2d-423c-a0e1-d63c8e6a5cca",
   "metadata": {},
   "source": [
    "## Übung 2: Wörter filtern (7 Min.)\n",
    "Gegeben ist eine Liste von Wörtern. Erstelle eine neue Liste, die nur die Wörter enthält, die länger als 4 Zeichen sind. Verwende List Comprehension.\n",
    "\n",
    "**Beispiel**:  \n",
    "Eingabe: `[\"Apfel\", \"Ei\", \"Banane\", \"Hund\", \"Katze\"]`  \n",
    "Ausgabe: `[\"Apfel\", \"Banane\", \"Katze\"]`\n"
   ]
  },
  {
   "cell_type": "code",
   "execution_count": 2,
   "id": "939e69b9-d069-4443-9085-265ec9bb6f38",
   "metadata": {},
   "outputs": [],
   "source": [
    "# Schreibt bitte eure Lösung hier\n"
   ]
  },
  {
   "cell_type": "markdown",
   "id": "9ac443ea-0c31-43fc-aa42-aa5dfa581aac",
   "metadata": {},
   "source": [
    "# Übungen: `while`-Schleifen in Python (10 Min.)\n",
    "\n",
    "## Übung 1: Zähler von 1 bis 10\n",
    "Schreibe eine `while`-Schleife, die die Zahlen von 1 bis 10 ausgibt.\n",
    "\n",
    "### Hinweise:\n",
    "- Verwende eine Variable, um die Zahl zu zählen.\n",
    "- Die Schleife sollte stoppen, wenn die Zahl 11 erreicht.\n",
    "\n",
    " "
   ]
  },
  {
   "cell_type": "code",
   "execution_count": 3,
   "id": "128ce0dc-60ad-46f5-99f4-b0ef4e90eaf1",
   "metadata": {},
   "outputs": [],
   "source": [
    "# Schreibt bitte eure Lösung hier\n"
   ]
  },
  {
   "cell_type": "markdown",
   "id": "5bf89425-9b03-4bca-b834-f1532a48422b",
   "metadata": {},
   "source": [
    "## Übung 2: Berechnung der Summe von Zahlen (10 Min.)\n",
    "Erstelle eine `while`-Schleife, die die Summe der Zahlen von 1 bis 100 berechnet und ausgibt.\n",
    "\n",
    "### Hinweise:\n",
    "- Beginne mit einer Summe von 0 und addieren Sie in jedem Schleifendurchlauf eine Zahl dazu.\n",
    "- Die Schleife endet, wenn der Wert 101 erreicht oder überschreitet."
   ]
  },
  {
   "cell_type": "code",
   "execution_count": 4,
   "id": "e440f1e6-2da3-406d-806b-e2fc95984cac",
   "metadata": {},
   "outputs": [],
   "source": [
    "# Schreibt bitte eure Lösung hier\n"
   ]
  },
  {
   "cell_type": "markdown",
   "id": "8a731a6b-84f9-45b1-a09a-e0866909c8db",
   "metadata": {},
   "source": [
    "## Übung 3: Benutzerabfrage (10 Min.)\n",
    "Schreibe ein Programm, das den Benutzer in einer Schleife nach einem Passwort fragt. Wenn das Passwort korrekt ist, soll das Programm mit einer Erfolgsmeldung abbrechen. Andernfalls fragt es erneut.\n",
    "\n",
    "### Hinweise:\n",
    "- Verwende eine `while`-Schleife, die solange läuft, bis das Passwort korrekt eingegeben wird.\n",
    "- Setzen Sie ein Beispielpasswort."
   ]
  },
  {
   "cell_type": "code",
   "execution_count": 5,
   "id": "336ab6e2-8de1-44d7-81a3-84026033a2da",
   "metadata": {},
   "outputs": [],
   "source": [
    "# Schreibt bitte eure Lösung hier\n"
   ]
  },
  {
   "cell_type": "markdown",
   "id": "85c6366c-e0fe-4282-8839-4c3320469050",
   "metadata": {},
   "source": [
    "## Übung 4: Endlosschleife mit `break` (5 Min.)\n",
    "Erstelle eine `while`-Schleife, die in einer Endlosschleife läuft und den Benutzer nach einem Kommando fragt. Wenn der Benutzer \"exit\" eingibt, soll die Schleife mit `break` beendet werden.\n",
    "\n",
    "### Hinweise:\n",
    "- Verwende die Eingabeaufforderung `input()`, um den Benutzer zu fragen.\n",
    "- Die Schleife soll nur mit dem Kommando \"exit\" beendet werden."
   ]
  },
  {
   "cell_type": "code",
   "execution_count": 6,
   "id": "662acb82-cf84-40a4-845d-4c5d7485bb6e",
   "metadata": {},
   "outputs": [],
   "source": [
    "# Schreibt bitte eure Lösung hier\n"
   ]
  },
  {
   "cell_type": "markdown",
   "id": "177be93e-5392-451d-b630-aad56e5ecf70",
   "metadata": {},
   "source": [
    "\n",
    "## Übung 5: Verdoppeln einer Zahl (5 Min.)\n",
    "Schreibe eine `while`-Schleife, die mit der Zahl 1 beginnt und diese in jedem Durchlauf verdoppelt. Die Schleife soll enden, wenn die Zahl 1000 erreicht oder überschreitet.\n",
    "\n",
    "### Hinweise:\n",
    "- Starte mit der Zahl 1 und verdoppeln Sie sie bei jedem Schritt.\n",
    "- Die Schleife endet, wenn die Zahl mindestens 1000 erreicht."
   ]
  },
  {
   "cell_type": "code",
   "execution_count": 7,
   "id": "9a68fca0-1b01-41a3-b10b-25d21c409a8b",
   "metadata": {},
   "outputs": [],
   "source": [
    "# Schreibt bitte eure Lösung hier\n"
   ]
  },
  {
   "cell_type": "markdown",
   "id": "d719b3e4-1c36-4218-ad06-38c3f46af008",
   "metadata": {},
   "source": [
    "## Übung 6: Ermittlung der Quersumme einer Zahl (10 Min.)\n",
    "Ermittle die Quersumme einer Zahl, indem die Ziffern der Zahl addiert werden."
   ]
  },
  {
   "cell_type": "code",
   "execution_count": 8,
   "id": "c18653df-b0ec-4147-8de5-c90fa668c1e1",
   "metadata": {},
   "outputs": [],
   "source": [
    "# Schreibt bitte eure Lösung hier\n"
   ]
  },
  {
   "cell_type": "markdown",
   "id": "46cb282a-643e-4092-a165-ea1399107cd7",
   "metadata": {},
   "source": [
    "## Übung 7: Berechnung einer konvergenten Reihe (10 Min.)\n",
    "\n",
    "Die gegebene Reihe lautet:\n",
    "\n",
    " $$1+ 1/2 + 1/4 + 1/8 + ... + 1/2^n$$ \n",
    "\n",
    "Die Aufgabe besteht darin, die Summe dieser Reihe bis \\( n = 10 \\) zu berechnen.\n",
    " "
   ]
  },
  {
   "cell_type": "code",
   "execution_count": 9,
   "id": "34081480-c47c-4b6f-8aca-3aa80eb27f16",
   "metadata": {},
   "outputs": [],
   "source": [
    "# Schreibt bitte eure Lösung hier\n"
   ]
  },
  {
   "cell_type": "markdown",
   "id": "a5c0a551-1846-49a6-8aaf-682f9991c2b6",
   "metadata": {},
   "source": [
    "## Übung 8: Berechnung der Reihe (10 Min.)\n",
    "\n",
    "Die gegebene Reihe lautet:\n",
    "\n",
    "$$1 + 1/1! + 1/2! + 1/3! ... + 1/n!$$\n",
    "\n",
    "- Die Aufgabe besteht darin, die Summe dieser Reihe bis \\( n = 10 \\) zu berechnen.\n",
    "- Verwende math.factorial zur Berechnung der Fakultät.\n",
    " \n"
   ]
  },
  {
   "cell_type": "code",
   "execution_count": 10,
   "id": "364afad6-7191-4b31-b459-635800618c48",
   "metadata": {},
   "outputs": [],
   "source": [
    "# Schreibt bitte eure Lösung hier\n"
   ]
  },
  {
   "cell_type": "markdown",
   "id": "323a6bbe-a920-4ad3-a9af-35f70047dc0a",
   "metadata": {},
   "source": [
    "## Übung 9: Berechnung der n-ten Fibonacci-Zahl mit einer while-Schleife (10 Min.)\n",
    "\n",
    "Die Fibonacci-Folge ist eine unendliche Zahlenreihe, bei der jede Zahl die Summe der beiden vorherigen ist, beginnend mit 0 und 1.\n",
    "\n",
    "Die ersten Zahlen der Folge lauten: 0, 1, 1, 2, 3, 5, 8, 13, 21, 34, ...\n",
    "\n",
    "### Aufgabenstellung:\n",
    "\n",
    "Schreiben Sie ein Python-Programm, das die n-te Zahl der Fibonacci-Folge berechnet, wobei n eine positive ganze Zahl ist, die vom Benutzer eingegeben wird.\n",
    " "
   ]
  },
  {
   "cell_type": "code",
   "execution_count": 11,
   "id": "d04b2c0c-7cf9-4fb8-960f-26beb689cfb5",
   "metadata": {},
   "outputs": [],
   "source": [
    "# Schreibt bitte eure Lösung hier\n"
   ]
  },
  {
   "cell_type": "markdown",
   "id": "d28bea48-4265-4336-8ce4-5974b20c911f",
   "metadata": {},
   "source": [
    "# Übungen: ``random``-Bibliothek  in Python"
   ]
  },
  {
   "cell_type": "markdown",
   "id": "f67d8aef-dbd7-4f11-9c02-a4a2ea213544",
   "metadata": {},
   "source": [
    "## Übung 1: Zufällige Zahl aus einer Liste auswählen\n",
    "\n",
    "**Aufgabe:**  \n",
    "Erstelle ein Programm, das ein zufälliges Element aus einer Liste von Wochentagen auswählt und es dem Benutzer anzeigt."
   ]
  },
  {
   "cell_type": "code",
   "execution_count": null,
   "id": "88072e92-7ab3-46d2-b25e-9d0cd4681181",
   "metadata": {},
   "outputs": [],
   "source": [
    "# Schreibt bitte eure Lösung hier\n"
   ]
  },
  {
   "cell_type": "markdown",
   "id": "72a3fad3-c50e-4b53-a23e-d0f7547d2806",
   "metadata": {},
   "source": [
    "## Übung 2: Zufällige Zahl innerhalb eines Bereichs\n",
    "\n",
    "**Aufgabe:**  \n",
    "Erstelle ein Programm, das eine zufällige Zahl zwischen 1 und 100 generiert und diese dem Benutzer anzeigt. Der Benutzer muss raten, welche Zahl das Programm gewählt hat, und das Programm gibt Hinweise, ob die Zahl höher oder niedriger ist."
   ]
  },
  {
   "cell_type": "code",
   "execution_count": null,
   "id": "1a5e8b68-1bd9-45c0-ac84-da8e74cd4912",
   "metadata": {},
   "outputs": [],
   "source": [
    "# Schreibt bitte eure Lösung hier\n"
   ]
  }
 ],
 "metadata": {
  "kernelspec": {
   "display_name": "Python 3 (ipykernel)",
   "language": "python",
   "name": "python3"
  },
  "language_info": {
   "codemirror_mode": {
    "name": "ipython",
    "version": 3
   },
   "file_extension": ".py",
   "mimetype": "text/x-python",
   "name": "python",
   "nbconvert_exporter": "python",
   "pygments_lexer": "ipython3",
   "version": "3.12.2"
  }
 },
 "nbformat": 4,
 "nbformat_minor": 5
}
