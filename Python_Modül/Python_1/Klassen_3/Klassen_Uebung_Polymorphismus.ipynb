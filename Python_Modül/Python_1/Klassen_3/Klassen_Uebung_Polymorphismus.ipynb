{
 "cells": [
  {
   "cell_type": "markdown",
   "id": "ec7f6c4c-9995-4cbc-ae47-d8c7108cd6e3",
   "metadata": {},
   "source": [
    "## Übung 1: Polymorphismus mit verschiedenen Bewegungsarten (20 Min.)\n",
    "\n",
    "### Aufgabe:\n",
    "Erstelle eine Basisklasse `Tier`, die eine Methode `bewege()` definiert. Erstelle dann zwei Klassen, `Vogel` und `Fisch`, die von der Klasse `Tier` erben und die Methode `bewege()` überschreiben.\n",
    "\n",
    "#### Anforderungen:\n",
    "1. Der Vogel soll in der Methode `bewege()` den Text `\"Der Vogel fliegt.\"` ausgeben.\n",
    "2. Der Fisch soll in der Methode `bewege()` den Text `\"Der Fisch schwimmt.\"` ausgeben.\n",
    "\n",
    "#### Polymorphismus testen:\n",
    "Erstelle eine Methode, die ein `Tier` entgegennimmt und die Methode `bewege()` aufruft.\n"
   ]
  },
  {
   "cell_type": "code",
   "execution_count": 2,
   "id": "78e51fe1-fb6e-43f9-952b-dad5bde2465c",
   "metadata": {},
   "outputs": [
    {
     "name": "stdout",
     "output_type": "stream",
     "text": [
      "Der Vogel fliegt\n",
      "Der Fisch schwimmt\n"
     ]
    }
   ],
   "source": [
    "# Schreibt bitte eure Lösung hier\n",
    "class Tier:\n",
    "    def bewege(self):\n",
    "        print(f\"Das Tier bewegen.\")\n",
    "\n",
    "class Vogel(Tier):\n",
    "    def bewege(self):\n",
    "        print(f\"Der Vogel fliegt.\")\n",
    "\n",
    "class Fisch(Tier):\n",
    "    def bewege(self):\n",
    "        print(f\"Der Fisch schwimmt.\")\n",
    "\n",
    "def tier_bewegung(tier):\n",
    "    tier.bewege()\n",
    "\n",
    "tier_bewegung(Vogel())\n",
    "tier_bewegung(Fisch())"
   ]
  },
  {
   "cell_type": "code",
   "execution_count": 5,
   "id": "5cb327cb-1832-4b21-b6c4-7e708584369b",
   "metadata": {},
   "outputs": [],
   "source": [
    "tier_1 = Tier()\n",
    "vogel_1 = Vogel()\n",
    "fisch_1 = Fisch()"
   ]
  },
  {
   "cell_type": "code",
   "execution_count": 6,
   "id": "f12a6c73-568b-495e-91f0-978a722fd520",
   "metadata": {},
   "outputs": [
    {
     "name": "stdout",
     "output_type": "stream",
     "text": [
      "Das Tier bewegen\n",
      "Der Vogel fliegt\n",
      "Der Fisch schwimmt\n"
     ]
    }
   ],
   "source": [
    "for x in (tier_1, vogel_1, fisch_1):\n",
    "    x.bewege()"
   ]
  },
  {
   "cell_type": "markdown",
   "id": "3e2b1b0f-854b-4c8c-a751-841c75d11b21",
   "metadata": {},
   "source": [
    "## Übung 2: Arbeiten mit privaten Attributen (20 Min.)\n",
    "\n",
    "### Aufgabe:\n",
    "Erstelle eine Klasse `Auto`, die private Attribute für den `km_stand` (Kilometerstand) und den `tankinhalt` hat. Die Klasse soll folgende Methoden enthalten:\n",
    "\n",
    "1. **Konstruktor**: \n",
    "   - Setzt den `km_stand` und `tankinhalt` bei der Instanziierung des Objekts.\n",
    "\n",
    "2. **Methode `fahre(km)`**: \n",
    "   - Erhöht den `km_stand` um die übergebene Kilometerzahl und verringert den `tankinhalt`. \n",
    "   - Der `tankinhalt` soll nach jeder Fahrt um 0.1 Liter pro gefahrenem Kilometer reduziert werden.\n",
    "\n",
    "3. **Methode `zeig_daten()`**: \n",
    "   - Gibt den aktuellen `km_stand` und `tankinhalt` aus.\n",
    "\n",
    "#### Test:\n",
    "- Versuche, von außerhalb der Klasse auf die privaten Attribute zuzugreifen und zeige, wie dies fehlschlägt (oder wie du darauf zugreifen könntest, wenn es nötig ist).\n"
   ]
  },
  {
   "cell_type": "code",
   "execution_count": 15,
   "id": "2915b530-0acb-49e5-941e-99e93b1f2dab",
   "metadata": {},
   "outputs": [],
   "source": [
    "# Schreibt bitte eure Lösung hier\n",
    "class Auto:\n",
    "    def __init__(self, km_stand, tankinhalt):\n",
    "        self.__km_stand = km_stand\n",
    "        self.__tankinhalt = tankinhalt\n",
    "\n",
    "    def fahre(self, km):\n",
    "        self.__km_stand = self.__km_stand + km\n",
    "        self.__tankinhalt = self.__tankinhalt - (km * 0.1)\n",
    "\n",
    "    def zeig_daten(self):\n",
    "        print(self.__km_stand)\n",
    "        print(self.__tankinhalt)"
   ]
  },
  {
   "cell_type": "code",
   "execution_count": 16,
   "id": "db8fce0d-732e-47d1-8cc0-afff6c9d6820",
   "metadata": {},
   "outputs": [
    {
     "name": "stdout",
     "output_type": "stream",
     "text": [
      "0\n",
      "10\n"
     ]
    }
   ],
   "source": [
    "auto_1 = Auto(0, 10)\n",
    "\n",
    "auto_1.zeig_daten()"
   ]
  },
  {
   "cell_type": "code",
   "execution_count": 17,
   "id": "f672af5d-8c50-477d-b847-e8f691c4cb90",
   "metadata": {},
   "outputs": [
    {
     "name": "stdout",
     "output_type": "stream",
     "text": [
      "10\n",
      "9.0\n"
     ]
    }
   ],
   "source": [
    "auto_1.fahre(10)\n",
    "auto_1.zeig_daten()"
   ]
  },
  {
   "cell_type": "code",
   "execution_count": 20,
   "id": "142c1942-3988-4c64-9e3a-c5dc46aa39d6",
   "metadata": {},
   "outputs": [
    {
     "data": {
      "text/plain": [
       "10"
      ]
     },
     "execution_count": 20,
     "metadata": {},
     "output_type": "execute_result"
    }
   ],
   "source": [
    "#auto_1.__km_stand gibt Fehler aus.\n",
    "auto_1._Auto__km_stand"
   ]
  },
  {
   "cell_type": "markdown",
   "id": "2921f18a-1f6c-4187-b50e-9b0033440ca6",
   "metadata": {},
   "source": [
    "## Übung 3: Getter und Setter für ein Produkt (20 Min.)\n",
    "\n",
    "### Aufgabe:\n",
    "Erstelle eine Klasse `Produkt`, die private Attribute für den `name` und den `preis` eines Produkts hat. Die Klasse soll folgende Methoden enthalten:\n",
    "\n",
    "1. **Getter- und Setter-Methoden** für `name` und `preis`:\n",
    "   - Der **Getter** für `name` gibt den Namen des Produkts zurück.\n",
    "   - Der **Setter** für `name` ändert den Namen des Produkts, aber überprüft, ob der Name nicht leer ist.\n",
    "   - Der **Getter** für `preis` gibt den Preis des Produkts zurück.\n",
    "   - Der **Setter** für `preis` ändert den Preis des Produkts, aber überprüft, ob der Preis eine positive Zahl ist.\n",
    "\n",
    "2. **Methode `zeige_daten()`**:\n",
    "   - Gibt den Namen und den Preis des Produkts aus.\n",
    "\n",
    "#### Test:\n",
    "- Teste die Getter- und Setter-Methoden, indem du ein Produkt-Objekt erstellst und die Attribute über die Methoden änderst.\n"
   ]
  },
  {
   "cell_type": "code",
   "execution_count": null,
   "id": "8ad10a8b-afba-4dd2-bb50-641cb2929c40",
   "metadata": {},
   "outputs": [],
   "source": []
  },
  {
   "cell_type": "code",
   "execution_count": 5,
   "id": "5a719707-b2dd-494b-9adf-109d94ce7148",
   "metadata": {},
   "outputs": [],
   "source": [
    "# Schreibt bitte eure Lösung hier\n",
    "class Produkt:\n",
    "    def __init__(self, name, preis):\n",
    "        self.__name = name\n",
    "        self.__preis = preis\n",
    "\n",
    "    def get_name(self):\n",
    "        return self.__name\n",
    "\n",
    "    def set_name(self, neuname):\n",
    "        if not neuname.strip():\n",
    "            print(\"Der Name ist Leer!!!\")\n",
    "        else:\n",
    "            self.__name = neuname\n",
    "            print(f\"Der Name wurde auf {neuname} geändert\")\n",
    "    \n",
    "    def get_preis(self):\n",
    "        return self.__preis\n",
    "\n",
    "    def set_preis(self, neupreis):\n",
    "        if neupreis <= 0:\n",
    "            print(\"Der Preis muss eine Positive Zahl sein.\")\n",
    "        else:\n",
    "             self.__preis = neupreis\n",
    "             print(f\"Der Preis wurde auf {neupreis} EUR geändert\")\n",
    "\n",
    "    def zeig_daten(self):\n",
    "        return f\"Das Produkt ist {self.__name} und Der Preis ist {self.__preis} EUR.\""
   ]
  },
  {
   "cell_type": "code",
   "execution_count": 6,
   "id": "f20d16a8-63fc-450b-acf7-f543f2e8bf90",
   "metadata": {},
   "outputs": [
    {
     "data": {
      "text/plain": [
       "'Das Produkt ist Haselnuss und Der Preis ist 2 EUR.'"
      ]
     },
     "execution_count": 6,
     "metadata": {},
     "output_type": "execute_result"
    }
   ],
   "source": [
    "produkt_1 = Produkt(\"Haselnuss\", 2)\n",
    "produkt_2 = Produkt(\"Cream\", 3)\n",
    "produkt_1.zeig_daten()"
   ]
  },
  {
   "cell_type": "code",
   "execution_count": 7,
   "id": "56b4afe0-6c4f-47e9-866f-2628a460b808",
   "metadata": {},
   "outputs": [
    {
     "name": "stdout",
     "output_type": "stream",
     "text": [
      "Der Name wurde auf Schokolade geändert\n",
      "Der Preis wurde auf 1.5 EUR geändert\n"
     ]
    },
    {
     "data": {
      "text/plain": [
       "'Das Produkt ist Schokolade und Der Preis ist 1.5 EUR.'"
      ]
     },
     "execution_count": 7,
     "metadata": {},
     "output_type": "execute_result"
    }
   ],
   "source": [
    "produkt_1.set_name(\"Schokolade\")\n",
    "produkt_1.set_preis(1.50)\n",
    "\n",
    "produkt_1.zeig_daten()"
   ]
  },
  {
   "cell_type": "code",
   "execution_count": 8,
   "id": "ff4644c0-02af-43d5-8b2b-a92f9caa0029",
   "metadata": {},
   "outputs": [
    {
     "name": "stdout",
     "output_type": "stream",
     "text": [
      "Der Name ist Leer!!!\n",
      "Der Preis muss eine Positive Zahl sein.\n"
     ]
    },
    {
     "data": {
      "text/plain": [
       "'Das Produkt ist Cream und Der Preis ist 3 EUR.'"
      ]
     },
     "execution_count": 8,
     "metadata": {},
     "output_type": "execute_result"
    }
   ],
   "source": [
    "produkt_2.set_name(\"\")\n",
    "produkt_2.set_preis(-10)\n",
    "\n",
    "produkt_2.zeig_daten()"
   ]
  },
  {
   "cell_type": "markdown",
   "id": "cdc6adaa-bac6-4a8a-9bae-2f2901b5dc88",
   "metadata": {},
   "source": [
    "## Übung 4: Adressbuch-Klasse erstellen (30 Min.)\n",
    "\n",
    "### Anforderungen:\n",
    "Erstelle eine Klasse `Adressbuch`, die folgende Funktionen unterstützt:\n",
    "\n",
    "1. **Kontakt hinzufügen**  \n",
    "   - Füge einen Kontakt mit einem Namen, einer Telefonnummer und einer E-Mail-Adresse hinzu.\n",
    "\n",
    "2. **Kontakt entfernen**  \n",
    "   - Entferne einen Kontakt aus dem Adressbuch anhand des Namens.\n",
    "\n",
    "3. **Alle Kontakte anzeigen**  \n",
    "   - Zeige alle gespeicherten Kontakte mit Name, Telefonnummer und E-Mail-Adresse an.\n",
    "\n",
    "4. **Kontakt suchen**  \n",
    "   - Suche nach einem Kontakt anhand des Namens und gib die Details aus.\n"
   ]
  },
  {
   "cell_type": "code",
   "execution_count": 1,
   "id": "c898994c-21ae-446e-b59c-4a76e42fe5b4",
   "metadata": {},
   "outputs": [
    {
     "name": "stdout",
     "output_type": "stream",
     "text": [
      "Kontakt 'Max Mustermann' wurde hinzugefügt.\n",
      "Kontakt 'Erika Musterfrau' wurde hinzugefügt.\n",
      "Alle Kontakte:\n",
      "Name: Max Mustermann, Telefonnummer: 123456789, E-Mail: max@gmail.com.\n",
      "Name: Erika Musterfrau, Telefonnummer: 987654321, E-Mail: erik@gmail.com.\n",
      "Kontakt gefunden:\n",
      "Name: Max Mustermann, Telefonnummer: 123456789, E-Mail: max@gmail.com.\n",
      "Kontakt 'Alex De Souza' wurde nicht gefunden.\n",
      "Artikel 'Erika Musterfrau' wurde entfernt.\n",
      "Kontakt 'Erika Musterfrau' wurde nicht gefunden.\n",
      "Alle Kontakte:\n",
      "Name: Max Mustermann, Telefonnummer: 123456789, E-Mail: max@gmail.com.\n"
     ]
    }
   ],
   "source": [
    "# Schreibt bitte eure Lösung hier\n",
    "class Kontakt:\n",
    "    def __init__(self, name, telefonnummer, email):\n",
    "        self.name = name\n",
    "        self.telefonnummer = telefonnummer\n",
    "        self.email = email\n",
    "\n",
    "    def __str__(self):\n",
    "        return f\"Name: {self.name}, Telefonnummer: {self.telefonnummer}, E-Mail: {self.email}.\"\n",
    "        \n",
    "class Adressbuch:\n",
    "    def __init__(self):\n",
    "        self.kontakte = []\n",
    "\n",
    "    def kontakt_hinzufuegen(self, name, telefonnummer, email):\n",
    "        neuer_kontakt = Kontakt(name, telefonnummer, email)\n",
    "        self.kontakte.append(neuer_kontakt)\n",
    "        print(f\"Kontakt '{name}' wurde hinzugefügt.\")\n",
    "\n",
    "    def kontakt_entfernen(self, name):\n",
    "        for kontakt in self.kontakte:\n",
    "            if kontakt.name == name:\n",
    "                self.kontakte.remove(kontakt)\n",
    "                print(f\"Artikel '{name}' wurde entfernt.\")\n",
    "        print(f\"Kontakt '{name}' wurde nicht gefunden.\")\n",
    "\n",
    "    def kontakte_anzeigen(self):\n",
    "        if not self.kontakte:\n",
    "            print(\"Keine Kontakte im Adressbuch.\")\n",
    "        else:\n",
    "            print(\"Alle Kontakte:\")\n",
    "            for kontakt in self.kontakte:\n",
    "                print(kontakt)\n",
    "\n",
    "    def kontakt_suchen(self, name):\n",
    "        for kontakt in self.kontakte:\n",
    "            if kontakt.name == name:\n",
    "                print(\"Kontakt gefunden:\")\n",
    "                print(kontakt)\n",
    "                return\n",
    "        print(f\"Kontakt '{name}' wurde nicht gefunden.\")\n",
    "\n",
    "if __name__ == \"__main__\":\n",
    "    adressbuch = Adressbuch()\n",
    "\n",
    "    adressbuch.kontakt_hinzufuegen(\"Max Mustermann\", \"123456789\", \"max@gmail.com\")\n",
    "    adressbuch.kontakt_hinzufuegen(\"Erika Musterfrau\", \"987654321\", \"erik@gmail.com\")\n",
    "\n",
    "    adressbuch.kontakte_anzeigen()\n",
    "\n",
    "    adressbuch.kontakt_suchen(\"Max Mustermann\")\n",
    "    adressbuch.kontakt_suchen(\"Alex De Souza\")\n",
    "\n",
    "    adressbuch.kontakt_entfernen(\"Erika Musterfrau\")\n",
    "\n",
    "    adressbuch.kontakte_anzeigen()"
   ]
  },
  {
   "cell_type": "markdown",
   "id": "85710dd3-7785-4986-8ee6-7f94e54e9697",
   "metadata": {},
   "source": [
    "# Aufgaben von INTOCODE: Python II 2023 von Allan Christmas Maheri"
   ]
  },
  {
   "cell_type": "markdown",
   "id": "340d5f55-55e0-4c67-bd8b-b4273b1e2db2",
   "metadata": {},
   "source": [
    "## Übung 5:\n",
    "- Schreibt eine Klasse Person mit den Attributen name, gewicht und groesse\n",
    "- Außerdem soll eine Funktion getBMI in der Klasse implementiert werden,\n",
    "welche den BMI der Person zurückgibt.\n",
    "- Schreibe eine Methode innerhalb der Klasse Person, die das Gewicht der\n",
    "Person um einen bestimmten Wert erhöht\n",
    "- Der BMI wird berechnet mit der Formel $$BMI = \\frac{kg}{m^2}$$\n",
    " \n",
    "\n"
   ]
  },
  {
   "cell_type": "code",
   "execution_count": 29,
   "id": "673fabab-0b84-4e79-98be-707ad829b3dc",
   "metadata": {},
   "outputs": [],
   "source": [
    "# Schreibt bitte eure Lösung hier\n",
    "class Person:\n",
    "    def __init__(self, name, gewicht, groesse):\n",
    "        self.name = name\n",
    "        self.gewicht = gewicht\n",
    "        self.groesse = groesse\n",
    "\n",
    "    def getBMI(self):\n",
    "        if self.groesse > 0:\n",
    "            BMI = (self.gewicht / (self.groesse ** 2))\n",
    "            if BMI <= 18.5:\n",
    "                print(\"Untergewicht\")\n",
    "            if 24.9 >= BMI > 18.5:\n",
    "                print(\"Normal\")\n",
    "            if 29.9 >= BMI >= 25:\n",
    "                print(\"Übergewicht\")\n",
    "            if 34.9 >= BMI >= 30:\n",
    "                print(\"Adipositas Grad 1\")\n",
    "            if 39.9 >= BMI >= 35:\n",
    "                print(\"Adipositas Grad 2\")\n",
    "            if BMI >= 40:\n",
    "                print(\"Adipositas Grad 3\")\n",
    "            return round(BMI, 2)\n",
    "        else:\n",
    "            raise ValueError(\"'groesse' muss mindestens 0 sein\")\n",
    "\n",
    "    def gewicht_erhoehen(self, wert):\n",
    "        if wert >= 0:\n",
    "            self.gewicht += wert\n",
    "            print(f\"Gewicht wurde zu {self.gewicht} erhöht\")\n",
    "        else:\n",
    "            raise ValueError(f\"Das Wert muss mindestens 0 sein!\")\n",
    "\n"
   ]
  },
  {
   "cell_type": "code",
   "execution_count": 30,
   "id": "59d2c868-a1e9-473f-8b52-4ac72e0d857e",
   "metadata": {},
   "outputs": [
    {
     "name": "stdout",
     "output_type": "stream",
     "text": [
      "Normal\n",
      "BMI von Onur Özdemir: 23.88\n",
      "Gewicht wurde zu 74 erhöht\n",
      "Übergewicht\n",
      "Neuer BMI von Onur Özdemir: 25.61\n"
     ]
    }
   ],
   "source": [
    "if __name__ == \"__main__\":\n",
    "    person = Person(\"Onur Özdemir\", 69, 1.70)\n",
    "    print(f\"BMI von {person.name}: {person.getBMI()}\")\n",
    "\n",
    "    person.gewicht_erhoehen(5)\n",
    "    print(f\"Neuer BMI von {person.name}: {person.getBMI()}\")"
   ]
  },
  {
   "cell_type": "code",
   "execution_count": 31,
   "id": "1bde1c95-ce7e-46be-82da-764682b33f73",
   "metadata": {},
   "outputs": [
    {
     "name": "stdout",
     "output_type": "stream",
     "text": [
      "Normal\n",
      "BMI von Max Mustermann: 22.86\n",
      "Gewicht wurde zu 85 erhöht\n",
      "Übergewicht\n",
      "Neuer BMI von Max Mustermann: 27.76\n"
     ]
    }
   ],
   "source": [
    "person = Person(\"Max Mustermann\", 70, 1.75)\n",
    "print(f\"BMI von {person.name}: {person.getBMI()}\")  # Normal BMI\n",
    "\n",
    "person.gewicht_erhoehen(15)  # Kilo artır\n",
    "print(f\"Neuer BMI von {person.name}: {person.getBMI()}\")  # Kilolu BMI"
   ]
  },
  {
   "cell_type": "code",
   "execution_count": null,
   "id": "2c104a91-edb6-4b07-980e-bd929d37aebf",
   "metadata": {},
   "outputs": [],
   "source": []
  },
  {
   "cell_type": "markdown",
   "id": "fdd7e7d3-0a32-4257-8c98-f0c40578705e",
   "metadata": {},
   "source": [
    "## Übung 6:\n",
    "\n",
    "Erstelle eine Funktion außerhalb der Klasse `Person`, die zwei `Person`-Objekte als Parameter akzeptiert und vergleicht, welche Person einen höheren BMI hat.\n",
    "\n",
    "- Die Funktion soll den Namen der Person zurückgeben, die den höheren BMI hat.\n",
    "- Falls beide Personen den gleichen BMI haben, soll die Funktion `Beide haben den gleichen BMI` zurückgeben.\n"
   ]
  },
  {
   "cell_type": "code",
   "execution_count": 35,
   "id": "9fa62f8f-2430-43e3-b895-3bde273a72e5",
   "metadata": {},
   "outputs": [
    {
     "data": {
      "text/plain": [
       "'BMI von Bob ist größer.'"
      ]
     },
     "execution_count": 35,
     "metadata": {},
     "output_type": "execute_result"
    }
   ],
   "source": [
    "# Schreibt bitte eure Lösung hier\n",
    "class Person:\n",
    "    def __init__(self,name,gewicht, groesse):\n",
    "        self.name = name\n",
    "        self.gewicht = gewicht\n",
    "        self.groesse = groesse\n",
    "\n",
    "    def rechne_bmi(self):\n",
    "        return self.gewicht / (self.groesse ** 2)\n",
    "\n",
    "def vergleich_bmi(person1, person2):\n",
    "    bmi1 = person1.rechne_bmi()\n",
    "    bmi2 = person2.rechne_bmi()\n",
    "    \n",
    "    if bmi1 > bmi2:\n",
    "        return f\"BMI von {person1.name} ist größer.\"\n",
    "    elif bmi1 < bmi2:\n",
    "        return f\"BMI von {person2.name} ist größer.\"\n",
    "    else:\n",
    "        return \"Beide haben den gleichen BMI\"\n",
    "\n",
    "person1 = Person(\"Onur\", 69, 1.70)\n",
    "person2 = Person(\"Bob\", 80, 1.80)\n",
    "\n",
    "vergleich_bmi(person1, person2)"
   ]
  },
  {
   "cell_type": "markdown",
   "id": "9f6007d1-e4f6-4c91-8598-eb056542c884",
   "metadata": {},
   "source": [
    "## Übung 7:\n",
    "\n",
    "Schreibt die Klasse `Auto` mit den Attributen `marke`, `preis`, `modell` und `baujahr`. Implementiert für alle Attribute die entsprechenden Getter- und Setter-Methoden (z.B. `setMarke` oder `getMarke`).\n",
    "\n",
    "- Erstellt verschiedene Instanzen dieser `Auto`-Klasse mit Autos verschiedener Automarken, Preise, Modelle und Baujahre.\n",
    "- Probiert anschließend die Getter- und Setter-Methoden aus, um die Werte der Attribute abzurufen und zu aktualisieren.\n",
    "\n"
   ]
  },
  {
   "cell_type": "code",
   "execution_count": 36,
   "id": "406ec6d2-fbfb-4ead-b298-12fee49b6f75",
   "metadata": {},
   "outputs": [],
   "source": [
    "# Schreibt bitte eure Lösung hier\n",
    "class Auto:\n",
    "    def __init__(self, marke, preis, modell, baujahr):\n",
    "        self.__marke = marke\n",
    "        self.__preis = preis\n",
    "        self.__modell = modell\n",
    "        self.__baujahr = baujahr\n",
    "\n",
    "    def get_marke(self):\n",
    "        return self.__marke\n",
    "    \n",
    "    def get_preis(self):\n",
    "        return self.__preis\n",
    "   \n",
    "    def get_model(self):\n",
    "        return self.__modell\n",
    "    \n",
    "    def get_baujahr(self):\n",
    "        return self.__baujahr\n",
    "   \n",
    "    \n",
    "    def set_marke(self, neumarke):\n",
    "        if not neumarke.strip():\n",
    "            print(\"Die Marke darf nicht leer sein\")\n",
    "        else:\n",
    "            self.__marke = neumarke\n",
    "            print(f\"Der Marke wurde als {neumarke} geändert.\")\n",
    "    \n",
    "    def set_preis(self, neupreis):\n",
    "        if neupreis <= 0:\n",
    "            print(\"Der Neupreis muss pisitive Zahl sein\")\n",
    "        else:\n",
    "            self.__preis = neupreis\n",
    "            print(f\"Der Preis wurde als {neupreis} geändert\")\n",
    "   \n",
    "    def set_modell(self, neumodell):\n",
    "        if not neumodell.strip():\n",
    "            print(\"Das Modell darf nicht leer sein\")\n",
    "        else:\n",
    "            self.__modell = neumodell\n",
    "            print(f\"Das Modell wurde als {neumodell} geändert\")\n",
    "    \n",
    "    def set_baujahr(self, aktuelbaujahr):\n",
    "        if aktuelbaujahr < 1990 or aktuelbaujahr > 2025:\n",
    "            print(\"Das Baujahr ist ungültig!\")\n",
    "        else:        \n",
    "            self.__baujahr = aktuelbaujahr\n",
    "            print(f\"Das Baujahr wurde als {aktuelbaujahr} geändert.\")\n",
    "\n",
    "    def zeige_daten(self):\n",
    "        return f\"Auto: {self.__marke}, Modell: {self.__modell}, Preis: {self.__preis}, Baujahr: {self.__baujahr}\""
   ]
  },
  {
   "cell_type": "code",
   "execution_count": 37,
   "id": "25338d12-614d-41cc-b143-80141f40394a",
   "metadata": {},
   "outputs": [
    {
     "name": "stdout",
     "output_type": "stream",
     "text": [
      "Auto: BMW, Modell: X5, Preis: 20000, Baujahr: 2020\n",
      "Auto: Mercedes, Modell: Benz, Preis: 25000, Baujahr: 2019\n",
      "Auto: Audi, Modell: A5, Preis: 15000, Baujahr: 2018\n"
     ]
    }
   ],
   "source": [
    "auto1 = Auto(\"BMW\", 20000, \"X5\", 2020)\n",
    "auto2 = Auto(\"Mercedes\", 25000, \"Benz\", 2019)\n",
    "auto3 = Auto(\"Audi\", 15000, \"A5\", 2018)\n",
    "\n",
    "print(auto1.zeige_daten())\n",
    "print(auto2.zeige_daten())\n",
    "print(auto3.zeige_daten())"
   ]
  },
  {
   "cell_type": "code",
   "execution_count": 38,
   "id": "a47ca7d9-c271-4300-996e-018bc2f4c71d",
   "metadata": {},
   "outputs": [
    {
     "name": "stdout",
     "output_type": "stream",
     "text": [
      "Marke von Auto1: BMW\n",
      "Preis von Auto1: 20000\n"
     ]
    }
   ],
   "source": [
    "print(\"Marke von Auto1:\", auto1.get_marke())\n",
    "print(f\"Preis von Auto1: {auto1.get_preis()}\")"
   ]
  },
  {
   "cell_type": "code",
   "execution_count": 39,
   "id": "47ea1dfc-9963-4ee6-adfc-0828e50c97ff",
   "metadata": {},
   "outputs": [
    {
     "name": "stdout",
     "output_type": "stream",
     "text": [
      "Der Marke wurde als Volkswagen geändert.\n",
      "Der Preis wurde als 28000 geändert\n",
      "Das Modell wurde als A6 geändert\n",
      "Das Baujahr wurde als 2021 geändert.\n",
      "Auto: Volkswagen, Modell: X5, Preis: 20000, Baujahr: 2020\n",
      "Auto: Mercedes, Modell: Benz, Preis: 28000, Baujahr: 2019\n",
      "Auto: Audi, Modell: A6, Preis: 15000, Baujahr: 2021\n"
     ]
    }
   ],
   "source": [
    "auto1.set_marke(\"Volkswagen\")\n",
    "auto2.set_preis(28000)\n",
    "auto3.set_modell(\"A6\")\n",
    "auto3.set_baujahr(2021)\n",
    "\n",
    "print(auto1.zeige_daten())\n",
    "print(auto2.zeige_daten())\n",
    "print(auto3.zeige_daten())"
   ]
  },
  {
   "cell_type": "code",
   "execution_count": null,
   "id": "c1643391-c395-490b-88af-29c6a38200f0",
   "metadata": {},
   "outputs": [],
   "source": []
  }
 ],
 "metadata": {
  "kernelspec": {
   "display_name": "Python 3 (ipykernel)",
   "language": "python",
   "name": "python3"
  },
  "language_info": {
   "codemirror_mode": {
    "name": "ipython",
    "version": 3
   },
   "file_extension": ".py",
   "mimetype": "text/x-python",
   "name": "python",
   "nbconvert_exporter": "python",
   "pygments_lexer": "ipython3",
   "version": "3.12.7"
  }
 },
 "nbformat": 4,
 "nbformat_minor": 5
}
