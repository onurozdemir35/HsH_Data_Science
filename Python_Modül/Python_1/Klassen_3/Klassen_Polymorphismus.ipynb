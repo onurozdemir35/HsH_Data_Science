{
 "cells": [
  {
   "cell_type": "markdown",
   "id": "d3900af1-8ac0-44c1-8536-c32be78d11fb",
   "metadata": {},
   "source": [
    "# Polymorphismus in Python\n",
    "\n",
    "- **Polymorphismus** bedeutet „viele Formen“.\n",
    "- Beschreibt das Konzept von Methoden, Funktionen oder Operatoren mit demselben Namen.\n",
    "- Diese können je nach Objekt oder Klasse unterschiedlich ausgeführt werden."
   ]
  },
  {
   "cell_type": "code",
   "execution_count": 1,
   "id": "79507d6c-28bf-41d8-b939-bf0447087968",
   "metadata": {},
   "outputs": [
    {
     "name": "stdout",
     "output_type": "stream",
     "text": [
      "Der Hund bellt\n",
      "Die Katze miaut\n"
     ]
    }
   ],
   "source": [
    "class Tier:\n",
    "    def sprech(self):\n",
    "        print(\"Das Tier macht ein Geräusch\")\n",
    "\n",
    "class Hund(Tier):\n",
    "    def sprech(self):\n",
    "        print(\"Der Hund bellt\")\n",
    "\n",
    "class Katze(Tier):\n",
    "    def sprech(self):\n",
    "        print(\"Die Katze miaut\")\n",
    "\n",
    "def tier_sprache(x):\n",
    "    x.sprech()\n",
    "\n",
    "# Verwendung\n",
    "tier_sprache(Hund())  # Ausgabe: Der Hund bellt\n",
    "tier_sprache(Katze()) # Ausgabe: Die Katze miaut\n"
   ]
  },
  {
   "cell_type": "code",
   "execution_count": 2,
   "id": "86eb1fdc-9c93-43de-816c-fde453835762",
   "metadata": {},
   "outputs": [],
   "source": [
    "tier_1 = Tier()\n",
    "hund_1 = Hund() \n",
    "katze_1 = Katze()   "
   ]
  },
  {
   "cell_type": "code",
   "execution_count": 3,
   "id": "9fc988ea-5156-481a-aaa2-847bce81714c",
   "metadata": {},
   "outputs": [
    {
     "name": "stdout",
     "output_type": "stream",
     "text": [
      "Das Tier macht ein Geräusch\n",
      "Der Hund bellt\n",
      "Die Katze miaut\n"
     ]
    }
   ],
   "source": [
    "for x in (tier_1, hund_1, katze_1):\n",
    "  x.sprech()"
   ]
  },
  {
   "cell_type": "markdown",
   "id": "fa764b81-95d1-4fd5-b485-4b2a3cf6c09f",
   "metadata": {},
   "source": [
    "## Können Attribute privat sein?\n",
    "• Schützt Variablen vor ungewollter Veränderung\n",
    " "
   ]
  },
  {
   "cell_type": "code",
   "execution_count": 4,
   "id": "17ccfa01-fa43-42c7-9de1-36f4bd9f5f12",
   "metadata": {},
   "outputs": [
    {
     "name": "stdout",
     "output_type": "stream",
     "text": [
      "Alex\n"
     ]
    }
   ],
   "source": [
    "class Benutzer:\n",
    "    def __init__(self, name, password):\n",
    "        self._name = name\n",
    "        \n",
    "        self._password = password\n",
    "benutzer_1 = Benutzer(\"Alex\", \"Test123\")\n",
    "print(benutzer_1._name) # AttributeError"
   ]
  },
  {
   "cell_type": "code",
   "execution_count": 5,
   "id": "f8215d48-0b14-4e2d-b7b7-50e049fc99b9",
   "metadata": {},
   "outputs": [
    {
     "ename": "AttributeError",
     "evalue": "'Benutzer' object has no attribute '__name'",
     "output_type": "error",
     "traceback": [
      "\u001b[1;31m---------------------------------------------------------------------------\u001b[0m",
      "\u001b[1;31mAttributeError\u001b[0m                            Traceback (most recent call last)",
      "Cell \u001b[1;32mIn[5], line 6\u001b[0m\n\u001b[0;32m      4\u001b[0m         \u001b[38;5;28mself\u001b[39m\u001b[38;5;241m.\u001b[39m__password \u001b[38;5;241m=\u001b[39m password\n\u001b[0;32m      5\u001b[0m benutzer_1 \u001b[38;5;241m=\u001b[39m Benutzer(\u001b[38;5;124m\"\u001b[39m\u001b[38;5;124mAlex\u001b[39m\u001b[38;5;124m\"\u001b[39m, \u001b[38;5;124m\"\u001b[39m\u001b[38;5;124mTest123\u001b[39m\u001b[38;5;124m\"\u001b[39m)\n\u001b[1;32m----> 6\u001b[0m \u001b[38;5;28mprint\u001b[39m(benutzer_1\u001b[38;5;241m.\u001b[39m__name)\n",
      "\u001b[1;31mAttributeError\u001b[0m: 'Benutzer' object has no attribute '__name'"
     ]
    }
   ],
   "source": [
    "class Benutzer:\n",
    "    def __init__(self, name, password):\n",
    "        self.__name = name\n",
    "        self.__password = password\n",
    "benutzer_1 = Benutzer(\"Alex\", \"Test123\")\n",
    "print(benutzer_1.__name) # AttributeError"
   ]
  },
  {
   "cell_type": "code",
   "execution_count": 6,
   "id": "69925a20-a133-4246-bb17-5f09f9d34f80",
   "metadata": {},
   "outputs": [
    {
     "name": "stdout",
     "output_type": "stream",
     "text": [
      "Alex\n"
     ]
    }
   ],
   "source": [
    "print(benutzer_1._Benutzer__name)  # Richtig: Zugriff auf das mangelte Attribut\n"
   ]
  },
  {
   "cell_type": "code",
   "execution_count": 7,
   "id": "78903272-a74d-433b-9afe-0b376da62069",
   "metadata": {},
   "outputs": [
    {
     "name": "stdout",
     "output_type": "stream",
     "text": [
      "Alex\n"
     ]
    }
   ],
   "source": [
    "class Benutzer:\n",
    "    def __init__(self, name, password):\n",
    "        self.__name = name\n",
    "        self.__password = password\n",
    "    \n",
    "    def get_name(self):\n",
    "        return self.__name\n",
    "\n",
    "benutzer_1 = Benutzer(\"Alex\", \"Test123\")\n",
    "print(benutzer_1.get_name())  # Zugriff über eine Methode\n"
   ]
  },
  {
   "cell_type": "code",
   "execution_count": 7,
   "id": "b855a12b-f8d4-475b-a72a-ead46d834c15",
   "metadata": {},
   "outputs": [
    {
     "name": "stdout",
     "output_type": "stream",
     "text": [
      "Alex\n"
     ]
    }
   ],
   "source": [
    "class Benutzer:\n",
    "    def __init__(self, name, password):\n",
    "        self.__name = name\n",
    "        self.__password = password\n",
    "    \n",
    "    def get_name(self):\n",
    "        return self.__name\n",
    "\n",
    "    # Setter für __name\n",
    "    def set_name(self, name):\n",
    "        self.__name = name\n",
    "\n",
    "benutzer_1 = Benutzer(\"Alex\", \"Test123\")\n",
    "print(benutzer_1.get_name())  # Zugriff über eine Methode\n"
   ]
  },
  {
   "cell_type": "code",
   "execution_count": 8,
   "id": "80f96d21-f992-4601-9da2-e65a14248f27",
   "metadata": {},
   "outputs": [
    {
     "name": "stdout",
     "output_type": "stream",
     "text": [
      "Max\n"
     ]
    }
   ],
   "source": [
    "# Ändern des Namens über Setter\n",
    "benutzer_1.set_name(\"Max\")\n",
    "print(benutzer_1.get_name())  # Ausgabe: Max"
   ]
  },
  {
   "cell_type": "code",
   "execution_count": 9,
   "id": "b15c5744-c342-4285-b491-e38f162f4a61",
   "metadata": {},
   "outputs": [
    {
     "name": "stdout",
     "output_type": "stream",
     "text": [
      "Alex\n",
      "Der Name muss mindestens 4 Zeichen lang sein.\n",
      "Alex\n",
      "Der Name muss mindestens 4 Zeichen lang sein.\n"
     ]
    }
   ],
   "source": [
    "class Benutzer:\n",
    "    def __init__(self, name, password):\n",
    "        self.__name = name\n",
    "        self.__password = password\n",
    "    \n",
    "    def get_name(self):\n",
    "        return self.__name\n",
    "\n",
    "    def set_name(self, name):\n",
    "        if len(name) > 3:  # Beispiel: Name muss länger als 3 Zeichen sein\n",
    "            self.__name = name\n",
    "        else:\n",
    "            print(\"Der Name muss mindestens 4 Zeichen lang sein.\")\n",
    "\n",
    "# Beispiel\n",
    "benutzer_1 = Benutzer(\"Alex\", \"Test123\")\n",
    "print(benutzer_1.get_name())  # Ausgabe: Alex\n",
    "\n",
    "benutzer_1.set_name(\"Max\")  # Gültig, Name wird geändert\n",
    "print(benutzer_1.get_name())  # Ausgabe: Max\n",
    "\n",
    "benutzer_1.set_name(\"Jo\")  # Ungültig, Name zu kurz\n",
    "# Ausgabe: Der Name muss mindestens 4 Zeichen lang sein.\n"
   ]
  },
  {
   "cell_type": "code",
   "execution_count": 10,
   "id": "294490fd-0a1e-4c5b-a15d-9846a2e0e950",
   "metadata": {},
   "outputs": [
    {
     "name": "stdout",
     "output_type": "stream",
     "text": [
      "Dies ist eine private Methode.\n",
      "Dies ist eine private Methode.\n"
     ]
    }
   ],
   "source": [
    "class Beispiel:\n",
    "    def __init__(self):\n",
    "        self.__privat = \"Das ist privat\"\n",
    "\n",
    "    # Private Methode\n",
    "    def __private_methode(self):\n",
    "        print(\"Dies ist eine private Methode.\")\n",
    "\n",
    "    # Öffentliche Methode, die die private Methode aufruft\n",
    "    def public_methode(self):\n",
    "        self.__private_methode()\n",
    "\n",
    "# Instanz der Klasse\n",
    "objekt = Beispiel()\n",
    "\n",
    "# Aufruf der öffentlichen Methode, die die private Methode aufruft\n",
    "objekt.public_methode()  # Ausgabe: Dies ist eine private Methode.\n",
    "\n",
    "# Direkter Versuch, auf die private Methode zuzugreifen\n",
    "# Dies führt zu einem Fehler\n",
    "#objekt.__private_methode()  # AttributeError: 'Beispiel' object has no attribute '__private_methode'\n",
    "\n",
    "# Stattdessen kannst du auf die intern geänderte Methode zugreifen:\n",
    "# Dies funktioniert, aber ist nicht empfohlen!\n",
    "objekt._Beispiel__private_methode()  # Ausgabe: Dies ist eine private Methode.\n"
   ]
  },
  {
   "cell_type": "code",
   "execution_count": null,
   "id": "f3467123-1715-483c-b947-bc7b2cba8449",
   "metadata": {},
   "outputs": [],
   "source": []
  },
  {
   "cell_type": "markdown",
   "id": "f7f4c727-2155-4783-a79c-613a875658ae",
   "metadata": {},
   "source": [
    "## Quellen\n",
    "\n",
    "1. https://www.w3schools.com/python/\n",
    "2. https://www.python.org/\n",
    "3. https://www.py4e.com/book"
   ]
  },
  {
   "cell_type": "code",
   "execution_count": null,
   "id": "530e53fc-087a-4076-9f4b-f9ad71acf8ae",
   "metadata": {},
   "outputs": [],
   "source": []
  },
  {
   "cell_type": "code",
   "execution_count": null,
   "id": "8cfc7eb0-359d-4275-b31a-f1d76fcd0db1",
   "metadata": {},
   "outputs": [],
   "source": []
  }
 ],
 "metadata": {
  "kernelspec": {
   "display_name": "Python 3 (ipykernel)",
   "language": "python",
   "name": "python3"
  },
  "language_info": {
   "codemirror_mode": {
    "name": "ipython",
    "version": 3
   },
   "file_extension": ".py",
   "mimetype": "text/x-python",
   "name": "python",
   "nbconvert_exporter": "python",
   "pygments_lexer": "ipython3",
   "version": "3.12.7"
  }
 },
 "nbformat": 4,
 "nbformat_minor": 5
}
