{
 "cells": [
  {
   "cell_type": "markdown",
   "id": "c52ae75f-7336-49e3-9f08-7ec61eec23a0",
   "metadata": {},
   "source": [
    "# Python Strings"
   ]
  },
  {
   "cell_type": "markdown",
   "id": "7fb64391-66dd-4c00-9b68-593ae90cfe73",
   "metadata": {},
   "source": [
    "## Definition:\n",
    "- Ein String ist eine Sequenz von Zeichen (z. B. Buchstaben, Zahlen, Symbole), die in Anführungszeichen (`' '` oder `\" \"`) eingeschlossen ist.\n",
    "- **Erstellung**: \n",
    "  - Einfach: `s = \"Hallo\"`\n",
    "  - Mit einfachen Anführungszeichen: `s = 'Hallo'`\n",
    "  - Mehrzeilig: `s = \"\"\"Dies ist ein\\nmehrzeiliger String.\"\"\"`\n",
    " \n",
    "\n"
   ]
  },
  {
   "cell_type": "code",
   "execution_count": 4,
   "id": "a8e27502-dc45-4550-9640-368b3ac436ad",
   "metadata": {},
   "outputs": [
    {
     "name": "stdout",
     "output_type": "stream",
     "text": [
      "Hallo\n"
     ]
    }
   ],
   "source": [
    "s = \"Hallo\"\n",
    "print(s)"
   ]
  },
  {
   "cell_type": "code",
   "execution_count": 5,
   "id": "d13582d6-b1f3-480a-9817-0f69d2ae4014",
   "metadata": {},
   "outputs": [
    {
     "name": "stdout",
     "output_type": "stream",
     "text": [
      "Hallo\n"
     ]
    }
   ],
   "source": [
    "s = 'Hallo'\n",
    "print(s)"
   ]
  },
  {
   "cell_type": "code",
   "execution_count": 9,
   "id": "d2117c78-8ab4-42b1-adf8-45191b35a33b",
   "metadata": {},
   "outputs": [
    {
     "name": "stdout",
     "output_type": "stream",
     "text": [
      "Dies ist ein\n",
      "mehrzeiliger String.\n"
     ]
    }
   ],
   "source": [
    "s = \"\"\"Dies ist ein\\nmehrzeiliger String.\"\"\"\n",
    "print(s)"
   ]
  },
  {
   "cell_type": "markdown",
   "id": "cb666eea-ac00-4024-a454-57311290fb46",
   "metadata": {},
   "source": [
    "## Indexierung: \n",
    "- Zeichen in einem String können durch ihren Index angesprochen werden, beginnend bei `0`.\n",
    "- Beispiel: `s[0]` gibt `H` zurück.\n",
    "\n",
    "<img src=\"images/Indizes_im_String.png\" alt=\"Indizes im String\" title=\"Indizes im String\" width=\"600\" height=\"200\"/>\n",
    "<p>Bildquelle: <a href=\"https://www.py4e.com/book\">https://www.py4e.com/book</a></p>\n",
    "\n"
   ]
  },
  {
   "cell_type": "code",
   "execution_count": 1,
   "id": "aa81ac4b-6c55-4705-b607-7d572859e4ee",
   "metadata": {},
   "outputs": [
    {
     "name": "stdout",
     "output_type": "stream",
     "text": [
      "B\n"
     ]
    }
   ],
   "source": [
    "s = 'Banane'\n",
    "print(s[0])"
   ]
  },
  {
   "cell_type": "markdown",
   "id": "194ce6fa-f4ce-4cac-b5d2-9add5b148741",
   "metadata": {},
   "source": [
    "## Slicing:\n",
    "- Mit Slicing kann man Teilstrings extrahieren.\n",
    "- Beispiel: `s[1:4]` gibt `all` zurück.\n"
   ]
  },
  {
   "cell_type": "code",
   "execution_count": 20,
   "id": "49800525-85d1-490c-a163-7de3ce8e23bc",
   "metadata": {},
   "outputs": [
    {
     "name": "stdout",
     "output_type": "stream",
     "text": [
      "all\n",
      "Hall\n",
      "llo\n",
      "a\n"
     ]
    }
   ],
   "source": [
    "s = 'Hallo'\n",
    "print(s[1:4])\n",
    "print(s[:4])\n",
    "print(s[2:])\n",
    "print(s[-4:-3])"
   ]
  },
  {
   "cell_type": "markdown",
   "id": "c3a2f7fa-aa6b-447a-8247-abc1d933d572",
   "metadata": {},
   "source": [
    "## Unveränderlichkeit von Zeichenketten in Python\n",
    "\n",
    "- **Unveränderlichkeit von Zeichenketten**: \n",
    "  - Zeichenketten (Strings) in Python sind **unveränderlich** (immutable).\n",
    "  - Einmal erstellte Zeichenketten können **nicht direkt geändert** werden.\n",
    "\n",
    "- **Fehler bei direkter Modifikation**:\n",
    "  - Versucht man, ein Zeichen einer Zeichenkette zu ändern (z.B. `text[0] = \"h\"`), wird ein **Fehler** erzeugt: `TypeError: 'str' object does not support item assignment`.\n",
    "\n",
    "- **Lösung**:\n",
    "  - Stattdessen muss eine **neue Zeichenkette** erstellt werden, um Änderungen vorzunehmen.\n",
    "  - Beispiel: `text = \"h\" + text[1:]` erstellt eine neue Zeichenkette, wobei der Anfang geändert wird.\n",
    "\n",
    "- **Beispiel**:\n",
    "  ```python\n",
    "  text = \"Hallo\"\n",
    "  text = \"h\" + text[1:]  # Ausgabe: \"hallo\"\n"
   ]
  },
  {
   "cell_type": "code",
   "execution_count": 3,
   "id": "02d3ab0e-16b9-4d8f-8f26-02019b089332",
   "metadata": {},
   "outputs": [
    {
     "ename": "TypeError",
     "evalue": "'str' object does not support item assignment",
     "output_type": "error",
     "traceback": [
      "\u001b[1;31m---------------------------------------------------------------------------\u001b[0m",
      "\u001b[1;31mTypeError\u001b[0m                                 Traceback (most recent call last)",
      "Cell \u001b[1;32mIn[3], line 2\u001b[0m\n\u001b[0;32m      1\u001b[0m text \u001b[38;5;241m=\u001b[39m \u001b[38;5;124m\"\u001b[39m\u001b[38;5;124mHallo\u001b[39m\u001b[38;5;124m\"\u001b[39m\n\u001b[1;32m----> 2\u001b[0m \u001b[43mtext\u001b[49m\u001b[43m[\u001b[49m\u001b[38;5;241;43m0\u001b[39;49m\u001b[43m]\u001b[49m \u001b[38;5;241m=\u001b[39m \u001b[38;5;124m\"\u001b[39m\u001b[38;5;124mh\u001b[39m\u001b[38;5;124m\"\u001b[39m\n\u001b[0;32m      3\u001b[0m text \u001b[38;5;241m=\u001b[39m \u001b[38;5;124m\"\u001b[39m\u001b[38;5;124mh\u001b[39m\u001b[38;5;124m\"\u001b[39m \u001b[38;5;241m+\u001b[39m text[\u001b[38;5;241m1\u001b[39m:]  \u001b[38;5;66;03m# Ausgabe: \"hallo\"\u001b[39;00m\n",
      "\u001b[1;31mTypeError\u001b[0m: 'str' object does not support item assignment"
     ]
    }
   ],
   "source": [
    "text = \"Hallo\"\n",
    "text[0] = \"h\"\n",
    "\n"
   ]
  },
  {
   "cell_type": "code",
   "execution_count": 5,
   "id": "5a28221d-04df-41b1-ba30-ce788baf7820",
   "metadata": {},
   "outputs": [
    {
     "name": "stdout",
     "output_type": "stream",
     "text": [
      "hallo\n"
     ]
    }
   ],
   "source": [
    "text = \"Hallo\"\n",
    "text = \"h\" + text[1:]  # Ausgabe: \"hallo\"\n",
    "print(text)"
   ]
  },
  {
   "cell_type": "markdown",
   "id": "102a54a1-0da6-4c88-b394-9f167e00bf84",
   "metadata": {},
   "source": [
    "## String-Verkettung:\n",
    "- Strings können mit dem Plus-Zeichen (`+`) zusammengefügt werden.\n",
    "- Beispiel: `s1 + s2` fügt `s1` und `s2` zusammen."
   ]
  },
  {
   "cell_type": "code",
   "execution_count": 27,
   "id": "42bd91f9-035b-445c-83d8-267df1a08300",
   "metadata": {},
   "outputs": [
    {
     "name": "stdout",
     "output_type": "stream",
     "text": [
      "Hallo Welt\n"
     ]
    }
   ],
   "source": [
    "s1 = \"Hallo\" \n",
    "s2 = \"Welt\" \n",
    "print(s1 + \" \" + s2)"
   ]
  },
  {
   "cell_type": "markdown",
   "id": "6714cf32-5deb-42bf-a759-087b45c59d31",
   "metadata": {},
   "source": [
    "## Wiederholung: \n",
    "- Strings können mit dem Multiplikationsoperator (`*`) wiederholt werden.\n",
    "- Beispiel: `\"Hi\" * 3` ergibt `\"HiHiHi\"`."
   ]
  },
  {
   "cell_type": "code",
   "execution_count": 28,
   "id": "cfe24452-0151-4ddf-8775-0dab4f22d491",
   "metadata": {},
   "outputs": [
    {
     "name": "stdout",
     "output_type": "stream",
     "text": [
      "HiHiHi\n"
     ]
    }
   ],
   "source": [
    "print(\"Hi\" * 3)"
   ]
  },
  {
   "cell_type": "markdown",
   "id": "22e8e442-8790-4f3d-ac09-23e737c40473",
   "metadata": {},
   "source": [
    "## Python-String-Methoden: \n",
    "- Python bietet eine Vielzahl von integrierten Methoden, die auf Strings angewendet werden können."
   ]
  },
  {
   "cell_type": "markdown",
   "id": "b9cb5ed4-3a29-4998-aa5a-2c0c951365fe",
   "metadata": {},
   "source": [
    "### Wichtige String-Methoden in Python\n",
    "\n",
    "1. **`lower()`**: Wandelt alle Zeichen in einem String in Kleinbuchstaben um.\n",
    "2. **`upper()`**: Wandelt alle Zeichen in Großbuchstaben um.\n",
    "3. **`capitalize()`**: Wandelt den ersten Buchstaben in Großbuchstaben und den Rest in Kleinbuchstaben um.\n",
    "4. **`title()`**: Wandelt jedes Wort im String in Großbuchstaben um.\n",
    "5. **`strip()`**: Entfernt führende und nachfolgende Leerzeichen (oder andere Zeichen).\n",
    "6. **`replace(old, new)`**: Ersetzt alle Vorkommen von old durch new.\n",
    "7. **`split(separator)`**: Teilt den String in eine Liste von Substrings, basierend auf einem Trennzeichen.\n",
    "8. **`find(substring)`**: Gibt den Index des ersten Vorkommens von substring zurück oder -1, wenn nicht gefunden.\n",
    "9. **`count(separator)`**: Zählt, wie oft substring im String vorkommt.\n",
    "10. **`len()`**: Gibt die Anzahl der Zeichen in einem String zurück.\n"
   ]
  },
  {
   "cell_type": "code",
   "execution_count": 36,
   "id": "25f4b467-4ab0-4fe8-8d33-da6b1b72005a",
   "metadata": {},
   "outputs": [
    {
     "name": "stdout",
     "output_type": "stream",
     "text": [
      "hallo  welt\n",
      "HALLO  WELT\n",
      "['Hallo', 'Welt']\n",
      "7\n",
      "1\n",
      "11\n"
     ]
    }
   ],
   "source": [
    "s = \"Hallo Welt\"\n",
    "print(s.lower())  # Gibt \"HALLO WELT\" zurück\n",
    "\n",
    "print(s.upper())  # Gibt \"HALLO WELT\" zurück\n",
    "\n",
    "print(s.split())  # Gibt ['Hallo', 'Welt'] zurück\n",
    "\n",
    "print(s.find(\"Welt\"))  # Gibt 6 zurück\n",
    "\n",
    "print(s.count(\"Hallo\"))  # Gibt 2 zurück\n",
    "\n",
    "print(len(s))  # Gibt 13 zurück (einschließlich des Kommas und des Leerzeichens)"
   ]
  },
  {
   "cell_type": "markdown",
   "id": "ce32fe07-2020-4b01-a888-be276a70d305",
   "metadata": {},
   "source": [
    "## Python String-Formatierung\n",
    "\n",
    "In Python gibt es verschiedene Möglichkeiten, um Strings zu formatieren, d. h. Variablen in einen String einzufügen. Hier sind die gängigsten Methoden zur String-Formatierung:\n",
    "\n",
    "### 1. F-Strings\n",
    "F-Strings bieten eine einfache und lesbare Möglichkeit, Zeichenfolge zu formatieren.\n",
    "\n",
    "#### Syntax:\n",
    "```python\n",
    "f\"Text {variable} Text\"\n"
   ]
  },
  {
   "cell_type": "code",
   "execution_count": 1,
   "id": "64a2dbaf-642b-49f3-b68a-5623c2b3b9d3",
   "metadata": {},
   "outputs": [
    {
     "name": "stdout",
     "output_type": "stream",
     "text": [
      "Mein Name ist Alice und ich bin 30 Jahre alt.\n"
     ]
    }
   ],
   "source": [
    "name = \"Alice\"\n",
    "age = 30\n",
    "formatted_string = f\"Mein Name ist {name} und ich bin {age} Jahre alt.\"\n",
    "print(formatted_string)  # Ausgabe: Mein Name ist Alice und ich bin 30 Jahre alt.\n"
   ]
  },
  {
   "cell_type": "markdown",
   "id": "0f93c7f3-f2eb-4660-91ba-c873f4649768",
   "metadata": {},
   "source": [
    "### 2. `str.format()` Methode\n",
    "Die `format()`-Methode ermöglicht es, Platzhalter im String durch Variablen zu ersetzen. Diese Methode ist älter als F-Strings, aber immer noch weit verbreitet.\n",
    "\n",
    "#### Syntax:\n",
    "```python\n",
    "\"Text {} Text\".format(variable)\n",
    "```\n",
    "### Beispiel:"
   ]
  },
  {
   "cell_type": "code",
   "execution_count": 3,
   "id": "f0f03c5f-d85d-4c15-8de4-eae5c6fb96ec",
   "metadata": {},
   "outputs": [
    {
     "name": "stdout",
     "output_type": "stream",
     "text": [
      "Mein Name ist Bob und ich bin 25 Jahre alt.\n"
     ]
    }
   ],
   "source": [
    "name = \"Bob\"\n",
    "age = 25\n",
    "formatted_string = \"Mein Name ist {} und ich bin {} Jahre alt.\".format(name, age)\n",
    "print(formatted_string)  # Ausgabe: Mein Name ist Bob und ich bin 25 Jahre alt.\n"
   ]
  },
  {
   "cell_type": "markdown",
   "id": "7a2df54c-bc35-49ec-8cb4-a93b7a8f1abf",
   "metadata": {},
   "source": [
    "#### Mit benannten Platzhaltern:\n",
    " \n"
   ]
  },
  {
   "cell_type": "code",
   "execution_count": 4,
   "id": "d3343766-ad97-4c1c-b20e-d1b6a676d9fa",
   "metadata": {},
   "outputs": [
    {
     "name": "stdout",
     "output_type": "stream",
     "text": [
      "Mein Name ist Charlie und ich bin 40 Jahre alt.\n"
     ]
    }
   ],
   "source": [
    "formatted_string = \"Mein Name ist {name} und ich bin {age} Jahre alt.\".format(name=\"Charlie\", age=40)\n",
    "print(formatted_string)  # Ausgabe: Mein Name ist Charlie und ich bin 40 Jahre alt.\n"
   ]
  },
  {
   "cell_type": "markdown",
   "id": "3b677c54-5a69-494d-89fe-5caaf9bac098",
   "metadata": {},
   "source": [
    "## Quellen\n",
    "\n",
    "1. https://www.w3schools.com/python/\n",
    "2. https://www.python.org/\n",
    "3. https://www.py4e.com/book"
   ]
  },
  {
   "cell_type": "code",
   "execution_count": null,
   "id": "8b4978d8-bf88-4ab9-807f-a7091786ec0e",
   "metadata": {},
   "outputs": [],
   "source": []
  }
 ],
 "metadata": {
  "kernelspec": {
   "display_name": "Python 3 (ipykernel)",
   "language": "python",
   "name": "python3"
  },
  "language_info": {
   "codemirror_mode": {
    "name": "ipython",
    "version": 3
   },
   "file_extension": ".py",
   "mimetype": "text/x-python",
   "name": "python",
   "nbconvert_exporter": "python",
   "pygments_lexer": "ipython3",
   "version": "3.12.4"
  }
 },
 "nbformat": 4,
 "nbformat_minor": 5
}
