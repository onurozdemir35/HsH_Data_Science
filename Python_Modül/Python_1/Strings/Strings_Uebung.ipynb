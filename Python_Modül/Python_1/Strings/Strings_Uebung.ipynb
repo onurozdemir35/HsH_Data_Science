{
 "cells": [
  {
   "cell_type": "markdown",
   "id": "3cb0c956-ab18-49cf-8bcf-481c4d995d26",
   "metadata": {},
   "source": [
    "# Aufgaben zu Strings\n",
    "\n",
    "### Aufgabe 1: Definiere einen String mit deinem Namen und gib ihn aus\n",
    "Erstelle einen String, der deinen vollständigen Namen enthält, und gib ihn aus.\n",
    "\n",
    "**Beispiel:**\n",
    "```python\n",
    "# Output: \"Max Mustermann\"\n"
   ]
  },
  {
   "cell_type": "code",
   "execution_count": 1,
   "id": "5355cea9-b525-4e3c-a834-c398fbe9003e",
   "metadata": {},
   "outputs": [
    {
     "name": "stdout",
     "output_type": "stream",
     "text": [
      "Max Mustermann\n"
     ]
    }
   ],
   "source": [
    "# Schreibt bitte eure Lösung hier\n",
    "Vorname = \"Max\"\n",
    "Nachname = \"Mustermann\"\n",
    "\n",
    "print(Vorname, Nachname)"
   ]
  },
  {
   "cell_type": "markdown",
   "id": "b668a75d-0df2-457e-b09e-389d7669a812",
   "metadata": {},
   "source": [
    "### Aufgabe 2: Definiere einen String mit einer Nachricht und ersetze ein Wort\n",
    "Erstelle einen String mit der Nachricht „Heute ist ein schöner Tag“ und ersetze das Wort „schöner“ durch „regnerischer“.\n",
    "\n",
    "**Beispiel:**\n",
    "```python\n",
    "# Output: \"Heute ist ein regnerischer Tag\""
   ]
  },
  {
   "cell_type": "code",
   "execution_count": 4,
   "id": "4b5d1106-6ac1-4e2e-939b-d0778f35ee6b",
   "metadata": {},
   "outputs": [
    {
     "name": "stdout",
     "output_type": "stream",
     "text": [
      "Heute ist ein regrerischer Tag\n"
     ]
    }
   ],
   "source": [
    "# Schreibt bitte eure Lösung hier\n",
    "Nachricht = \"Heute ist ein schöner Tag\"\n",
    "print(Nachricht.replace(\"schöner\", \"regnerischer\"))"
   ]
  },
  {
   "cell_type": "markdown",
   "id": "b7dadecd-eaff-4b44-9984-9305c5828606",
   "metadata": {},
   "source": [
    "### Aufgabe 3: Definiere einen String mit deinem Lieblingssatz und gib die Länge des Strings aus\n",
    "Erstelle einen String mit deinem Lieblingssatz und gib die Anzahl der Zeichen im String aus (einschließlich Leerzeichen).\n",
    "\n",
    "**Beispiel:**\n",
    "```python\n",
    "# Output: 25\n"
   ]
  },
  {
   "cell_type": "code",
   "execution_count": 5,
   "id": "e9124924-054a-44c5-be78-46fec321d2c2",
   "metadata": {},
   "outputs": [
    {
     "name": "stdout",
     "output_type": "stream",
     "text": [
      "22\n"
     ]
    }
   ],
   "source": [
    "# Schreibt bitte eure Lösung hier\n",
    "text = \"Heute ist Wetter schön\"\n",
    "print(len(text))"
   ]
  },
  {
   "cell_type": "markdown",
   "id": "d326e2e1-9e0a-42b5-af4d-ff013eb3d180",
   "metadata": {},
   "source": [
    "### Aufgabe 4: Definiere einen String und finde das erste Vorkommen eines bestimmten Zeichens\n",
    "Erstelle einen String und finde die Position des ersten Vorkommens des Buchstabens „e“.\n",
    "\n",
    "**Beispiel:**\n",
    "```python\n"
   ]
  },
  {
   "cell_type": "code",
   "execution_count": 9,
   "id": "60937710-16e5-48ac-9df7-bb2637db66f1",
   "metadata": {},
   "outputs": [
    {
     "data": {
      "text/plain": [
       "1"
      ]
     },
     "execution_count": 9,
     "metadata": {},
     "output_type": "execute_result"
    }
   ],
   "source": [
    "# Schreibt bitte eure Lösung hier\n",
    "text = \"Heute ist Wetter schön\"\n",
    "text.index(\"e\")"
   ]
  },
  {
   "cell_type": "markdown",
   "id": "21277731-855f-4bee-90fc-3daea6cf0963",
   "metadata": {},
   "source": [
    "### Aufgabe 5: Definiere einen String und extrahiere einen Teilstring\n",
    "Erstelle einen String mit deinem Lieblingswort und extrahiere die ersten 3 Buchstaben."
   ]
  },
  {
   "cell_type": "code",
   "execution_count": 14,
   "id": "01f06369-6db8-4a7d-8f01-16f497fd2ab1",
   "metadata": {},
   "outputs": [
    {
     "name": "stdout",
     "output_type": "stream",
     "text": [
      "baba\n"
     ]
    }
   ],
   "source": [
    "# Schreibt bitte eure Lösung hier\n",
    "wort = \"dembaba\"\n",
    "print(wort[3:])"
   ]
  },
  {
   "cell_type": "markdown",
   "id": "228ab536-c5d4-499e-b9a1-e3946c27dc68",
   "metadata": {},
   "source": [
    "### Aufgabe 6: Definiere einen String und überprüfe, ob er nur aus Buchstaben besteht\n",
    "Erstelle einen String und prüfe, ob er nur aus alphabetischen Zeichen (keine Zahlen oder Sonderzeichen) besteht.\n",
    "\n",
    "**Beispiel:**\n",
    "```python\n",
    "# Output: True\n"
   ]
  },
  {
   "cell_type": "code",
   "execution_count": 13,
   "id": "935d02cb-dc34-4f64-8085-1f2cee93638e",
   "metadata": {},
   "outputs": [
    {
     "name": "stdout",
     "output_type": "stream",
     "text": [
      "True False\n"
     ]
    }
   ],
   "source": [
    "# Schreibt bitte eure Lösung hier\n",
    "text = \"HeuteistWetterschön\"\n",
    "text2 =\"Heute ist 'Wetter' schön\"\n",
    "\n",
    "print(text.isalpha(), text2.isalpha())"
   ]
  },
  {
   "cell_type": "markdown",
   "id": "48b1f2db-c5ad-49e9-89b3-36360a2f4987",
   "metadata": {},
   "source": [
    "### Aufgabe 7: Umkehrung eines Strings\n",
    "Definiere einen String und kehre ihn um.\n",
    "\n",
    "**Beispiel:**\n",
    "```python\n",
    "# Output: \"olleH\"\n"
   ]
  },
  {
   "cell_type": "code",
   "execution_count": 11,
   "id": "d57c0500-22eb-42da-a1e8-5b6d7e800e26",
   "metadata": {},
   "outputs": [
    {
     "name": "stdout",
     "output_type": "stream",
     "text": [
      "olleH\n"
     ]
    }
   ],
   "source": [
    "# Schreibt bitte eure Lösung hier\n",
    "wort = \"Hello\"\n",
    "print(wort[::-1])"
   ]
  },
  {
   "cell_type": "code",
   "execution_count": null,
   "id": "24e35b9f-ff64-451c-9fc3-80646d46d53d",
   "metadata": {},
   "outputs": [],
   "source": []
  }
 ],
 "metadata": {
  "kernelspec": {
   "display_name": "Python 3 (ipykernel)",
   "language": "python",
   "name": "python3"
  },
  "language_info": {
   "codemirror_mode": {
    "name": "ipython",
    "version": 3
   },
   "file_extension": ".py",
   "mimetype": "text/x-python",
   "name": "python",
   "nbconvert_exporter": "python",
   "pygments_lexer": "ipython3",
   "version": "3.12.4"
  }
 },
 "nbformat": 4,
 "nbformat_minor": 5
}
