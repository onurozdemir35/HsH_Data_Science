{
 "cells": [
  {
   "cell_type": "markdown",
   "id": "96847947-82ca-49a6-9369-ae008fc83f44",
   "metadata": {},
   "source": [
    "# Escape Characters in Python\n",
    "\n",
    "Escape-Sequenzen in Python sind spezielle Zeichenfolgen, die durch einen Backslash (`\\`) gefolgt von einem oder mehreren Zeichen dargestellt werden. Sie ermöglichen es, bestimmte unsichtbare oder spezielle Zeichen in Zeichenketten zu verwenden.\n",
    "\n",
    "## Häufige Escape Characters:\n",
    "\n",
    "| Escape-Zeichen | Beschreibung                                      | Beispiel                                    |\n",
    "|----------------|---------------------------------------------------|---------------------------------------------|\n",
    "| `\\n`           | Neue Zeile (Zeilenumbruch)                        | `\"Hallo\\nWelt\"` ➔ `Hallo`<br>`Welt`        |\n",
    "| `\\t`           | Tabulator (horizontaler Tab)                     | `\"Hallo\\tWelt\"` ➔ `Hallo    Welt`          |\n",
    "| `\\\\`           | Backslash (für einen einzelnen Backslash)        | `\"C:\\\\Benutzer\\\\Name\"` ➔ `C:\\Benutzer\\Name` |\n",
    "| `\\'`           | Einfaches Anführungszeichen                       | `'Ich sagte: \\'Hallo!\\'` ➔ `Ich sagte: 'Hallo!'` |\n",
    "| `\\\"`           | Doppelte Anführungszeichen                        | `\"Er sagte: \\\"Hallo!\\\"\"` ➔ `Er sagte: \"Hallo!\"` |\n",
    " \n"
   ]
  },
  {
   "cell_type": "markdown",
   "id": "ab27190b-d5cd-4013-acd1-c97cd6681267",
   "metadata": {},
   "source": [
    "## Beispiele:\n",
    "\n",
    "### 1. Zeilenumbruch (`\\n`):"
   ]
  },
  {
   "cell_type": "code",
   "execution_count": 2,
   "id": "21bf2951-b729-49a8-bdda-70b61d6ba84a",
   "metadata": {},
   "outputs": [
    {
     "name": "stdout",
     "output_type": "stream",
     "text": [
      "Hallo\n",
      "Welt\n"
     ]
    }
   ],
   "source": [
    "print(\"Hallo\\nWelt\")"
   ]
  },
  {
   "cell_type": "markdown",
   "id": "562904cf-65bf-4700-b4d3-152b1e9469c0",
   "metadata": {},
   "source": [
    "### 2. Tabulator (`\\t`):"
   ]
  },
  {
   "cell_type": "code",
   "execution_count": 18,
   "id": "1998c171-413e-4cf9-a25c-c819c54dcd1c",
   "metadata": {},
   "outputs": [
    {
     "name": "stdout",
     "output_type": "stream",
     "text": [
      "Name\tAlter\n",
      "Max\t25\n",
      "Anna\t30\n"
     ]
    }
   ],
   "source": [
    "print(\"Name\\tAlter\")\n",
    "print(\"Max\\t25\")\n",
    "print(\"Anna\\t30\")\n"
   ]
  },
  {
   "cell_type": "markdown",
   "id": "07156fd2-ee31-46e1-9557-af56ab0470a3",
   "metadata": {},
   "source": [
    "### 3. Backslash  (`\\\\`):"
   ]
  },
  {
   "cell_type": "code",
   "execution_count": 2,
   "id": "9f7022dd-6c9f-4dd3-ac1d-cd5bdce5ae34",
   "metadata": {},
   "outputs": [
    {
     "name": "stdout",
     "output_type": "stream",
     "text": [
      "C:\\Programme\\Python\n"
     ]
    }
   ],
   "source": [
    "print(\"C:\\\\Programme\\\\Python\")\n"
   ]
  },
  {
   "cell_type": "markdown",
   "id": "defbf00a-3d01-40ab-b390-aa9cb44aa9ea",
   "metadata": {},
   "source": [
    "### 4. Escape von Anführungszeichen (`\\'` und `\\\"`):\n",
    "\n",
    "In Python kannst du sowohl einfache (`'`) als auch doppelte (`\"`) Anführungszeichen in Zeichenketten einfügen, indem du sie mit einem Backslash (`\\`) maskierst.\n",
    "\n",
    "- **Einfaches Anführungszeichen**: `\\'`\n",
    "- **Doppelte Anführungszeichen**: `\\\"`\n"
   ]
  },
  {
   "cell_type": "code",
   "execution_count": 20,
   "id": "f628384f-3e66-486d-aa81-6bea8b066397",
   "metadata": {},
   "outputs": [
    {
     "name": "stdout",
     "output_type": "stream",
     "text": [
      "Ich sagte: 'Hallo!'\n",
      "Er sagte: \"Wie geht's?\"\n"
     ]
    }
   ],
   "source": [
    "print('Ich sagte: \\'Hallo!\\'')\n",
    "print(\"Er sagte: \\\"Wie geht's?\\\"\")"
   ]
  },
  {
   "cell_type": "markdown",
   "id": "9dfe826c-2f46-45fc-8687-6e84adc950e7",
   "metadata": {},
   "source": [
    "# Funktion `ord()` in Python\n",
    "\n",
    "Die Funktion `ord()` in Python wird verwendet, um den **Unicode-Codepunkt** eines einzelnen Zeichens zu ermitteln. Der Unicode-Codepunkt ist eine Ganzzahl, die ein bestimmtes Zeichen in der Unicode-Zeichenkodierung repräsentiert.\n",
    "\n",
    "## Syntax:\n",
    "```python\n",
    "ord(char)\n"
   ]
  },
  {
   "cell_type": "code",
   "execution_count": 26,
   "id": "93df0bb3-aa81-41fb-916e-fac91555e8eb",
   "metadata": {},
   "outputs": [
    {
     "name": "stdout",
     "output_type": "stream",
     "text": [
      "['1babane', 'Apfel', 'Babane', 'Tomaten', 'apfel', 'babane']\n"
     ]
    }
   ],
   "source": [
    "liste = [\"Apfel\", \"apfel\", \"Tomaten\", \"Babane\", \"babane\", \"1babane\"]\n",
    "liste.sort()\n",
    "print(liste)\n",
    "\n",
    "# https://www.ssec.wisc.edu/~tomw/java/unicode.html"
   ]
  },
  {
   "cell_type": "markdown",
   "id": "e74e6a49-45c6-4eee-bc4f-def06eac529b",
   "metadata": {},
   "source": [
    "## Beispiele:"
   ]
  },
  {
   "cell_type": "code",
   "execution_count": 59,
   "id": "343485e2-bb1a-4c43-986f-adbf42dcc00b",
   "metadata": {},
   "outputs": [
    {
     "name": "stdout",
     "output_type": "stream",
     "text": [
      "A: 65\n",
      "B: 66\n",
      "T: 84\n",
      "a: 97\n",
      "b: 98\n"
     ]
    }
   ],
   "source": [
    "print('A:', ord('A'))  # Gibt 65 aus\n",
    "print('B:', ord('B'))  # Gibt 66 aus\n",
    "print('T:', ord('T'))  # Gibt 84 aus\n",
    "print('a:', ord('a'))  # Gibt 97 aus\n",
    "print('b:', ord('b'))  # Gibt 98 aus\n"
   ]
  },
  {
   "cell_type": "markdown",
   "id": "900aa114-a7ae-4c28-9db4-a54da1669e75",
   "metadata": {},
   "source": [
    "### Verwendung von `ord()`:\n",
    "\n",
    "#### 1. Vergleich von Zeichen:\n",
    "Du kannst `ord()` verwenden, um Zeichen auf der Basis ihrer numerischen Werte zu vergleichen.\n",
    "\n",
    "```python\n",
    "if ord('a') > ord('A'):\n",
    "    print(\"'a' kommt nach 'A' im Unicode-Zeichenraum\")\n"
   ]
  },
  {
   "cell_type": "code",
   "execution_count": 23,
   "id": "50b9ff8a-0c50-449b-936c-b561144b2912",
   "metadata": {},
   "outputs": [
    {
     "name": "stdout",
     "output_type": "stream",
     "text": [
      "'a' kommt nach 'A' im Unicode-Zeichenraum\n"
     ]
    }
   ],
   "source": [
    "if ord('a') > ord('A'):\n",
    "    print(\"'a' kommt nach 'A' im Unicode-Zeichenraum\")"
   ]
  },
  {
   "cell_type": "code",
   "execution_count": 36,
   "id": "021967d4-3b19-469b-b393-55c92f9b9de9",
   "metadata": {},
   "outputs": [
    {
     "name": "stdout",
     "output_type": "stream",
     "text": [
      "['A', 'C', 'a', 'css']\n"
     ]
    }
   ],
   "source": [
    "liste = [\"A\", \"a\", \"c\", \"C\"]\n",
    "liste.sort()\n",
    "print(liste)"
   ]
  },
  {
   "cell_type": "code",
   "execution_count": 35,
   "id": "a55236a9-7fc7-4bd7-9a59-baff1c1d3421",
   "metadata": {},
   "outputs": [
    {
     "name": "stdout",
     "output_type": "stream",
     "text": [
      "65\n",
      "97\n",
      "99\n",
      "67\n"
     ]
    }
   ],
   "source": [
    "print(ord('A'))  # Gibt 65 aus\n",
    "print(ord('a'))  # Gibt 97 aus\n",
    "print(ord('c'))  # Gibt 99 aus\n",
    "print(ord('C'))  # Gibt 67 aus\n",
    "\n",
    "\n",
    " "
   ]
  },
  {
   "cell_type": "markdown",
   "id": "24d6d9b9-2779-483d-a65e-21560705dc38",
   "metadata": {},
   "source": [
    "# Pseudocode "
   ]
  },
  {
   "cell_type": "markdown",
   "id": "70f3a2a3-ea55-42dd-96e5-866cb25d3fbd",
   "metadata": {},
   "source": [
    "\n",
    "- **Vereinfachter Programmcode** zur besseren Beschreibung des Algorithmus\n",
    "- Mischung aus höheren Programmiersprachen (z. B. Python, Java), natürlicher Sprache und mathematischer Notation\n",
    "- Kompakt, um leichter verständlich zu sein als realer Programmcode\n",
    "- Klarer und unmissverständlicher als natürliche Sprache\n",
    "- **Lesbar und verständlich** für Menschen, auch ohne Programmierkenntnisse.\n",
    "- **Fokus auf Logik und Ablauf** des Algorithmus, nicht auf Syntax oder Implementierung.\n",
    "- **Ideal für das Planen und Kommunizieren von Ideen** innerhalb eines Teams.\n",
    "\n",
    " "
   ]
  },
  {
   "cell_type": "markdown",
   "id": "9ecf3027-c9d3-44ff-b597-4289ef433a9a",
   "metadata": {},
   "source": [
    "## Beispiel\n",
    "```python\n",
    "1. Eingabe: Nimm eine Zahl als Eingabe\n",
    "2. Überprüfe, ob die Zahl durch 2 teilbar ist\n",
    "    a. Wenn ja, gib \"gerade\" aus\n",
    "    b. Wenn nein, gib \"ungerade\" aus\n",
    "3. Ende\n",
    "```"
   ]
  },
  {
   "cell_type": "markdown",
   "id": "919678a0-2310-42f1-8a18-be67187d17c5",
   "metadata": {},
   "source": [
    "## Python-Implementierung des Pseudocodes"
   ]
  },
  {
   "cell_type": "code",
   "execution_count": 60,
   "id": "5bcbad6e-a709-45a7-8031-fe0585fd28b9",
   "metadata": {},
   "outputs": [
    {
     "name": "stdout",
     "output_type": "stream",
     "text": [
      "Die Zahl 2 ist gerade.\n"
     ]
    }
   ],
   "source": [
    "def check_parity(number):\n",
    "    if number % 2 == 0:\n",
    "        return \"gerade\"\n",
    "    else:\n",
    "        return \"ungerade\"\n",
    "\n",
    "# Beispielaufruf\n",
    "zahl = 2\n",
    "resultat = check_parity(zahl)\n",
    "print(f\"Die Zahl {zahl} ist {resultat}.\")\n"
   ]
  },
  {
   "cell_type": "markdown",
   "id": "c6694dca-e750-4eb1-8f17-f3cf337328ab",
   "metadata": {},
   "source": [
    "# `enumerate()`-Funktion in Python\n",
    "\n",
    "- **Funktion**: `enumerate()` fügt einer Sammlung einen Zähler (Index) hinzu.\n",
    "- **Rückgabewert**: Ein Enumerate-Objekt, das Paare aus **Index** und **Wert** der Elemente der Sammlung enthält.\n",
    "- **Standardstart**: Der Zähler beginnt standardmäßig bei 0.\n",
    "- **Anpassung des Startwerts**: Der Startwert des Zählers kann durch den Parameter `start` angepasst werden.\n",
    "\n",
    "## Syntax:\n",
    "\n",
    "```python\n",
    "enumerate(iterable, start=0)\n",
    "```\n",
    "\n",
    "- **iterable**: Das iterierbare Objekt, das du durchlaufen möchtest (z. B. eine Liste oder ein Tuple).\n",
    "- **start**: Ein optionaler Parameter, der den Startwert des Indexes festlegt. Der Standardwert ist 0.\n",
    "  \n",
    "## Beispiel:\n",
    "```python\n",
    "fruits = ['Apfel', 'Banane', 'Kirsche']\n",
    "for index, fruit in enumerate(fruits):\n",
    "    print(index, fruit)\n",
    "```\n",
    "## Anwendung:\n",
    "\n",
    "- `enumerate()` ist besonders nützlich, wenn sowohl der **Index** als auch der **Wert** eines Elements in einer Sammlung benötigt werden.\n",
    "- Häufig verwendet in Schleifen, in denen der **Index** benötigt wird.\n",
    " "
   ]
  },
  {
   "cell_type": "code",
   "execution_count": 47,
   "id": "cf435953-112a-4880-b05d-4de9377893f5",
   "metadata": {},
   "outputs": [
    {
     "name": "stdout",
     "output_type": "stream",
     "text": [
      "0 Apfel\n",
      "1 Banane\n",
      "2 Kirsche\n"
     ]
    }
   ],
   "source": [
    "fruits = ['Apfel', 'Banane', 'Kirsche']\n",
    "for index, fruit in enumerate(fruits):\n",
    "    print(index, fruit)"
   ]
  },
  {
   "cell_type": "code",
   "execution_count": 48,
   "id": "74fb9cdb-a111-494e-b6ed-57bfad3b1377",
   "metadata": {},
   "outputs": [
    {
     "name": "stdout",
     "output_type": "stream",
     "text": [
      "2 Apfel\n",
      "3 Banane\n",
      "4 Kirsche\n"
     ]
    }
   ],
   "source": [
    "fruits = ['Apfel', 'Banane', 'Kirsche']\n",
    "for index, fruit in enumerate(fruits, start=2):\n",
    "    print(index, fruit)\n"
   ]
  },
  {
   "cell_type": "code",
   "execution_count": 61,
   "id": "71bf5dde-9365-499e-a51a-ad26e4640b1e",
   "metadata": {},
   "outputs": [
    {
     "name": "stdout",
     "output_type": "stream",
     "text": [
      "[(0, 'Apfel'), (1, 'Banane'), (2, 'Kirsche')]\n"
     ]
    }
   ],
   "source": [
    "fruits = ['Apfel', 'Banane', 'Kirsche']\n",
    "\n",
    "# enumerate gibt eine Liste von Tupeln zurück\n",
    "enumerated_fruits = list(enumerate(fruits))\n",
    "\n",
    "print(enumerated_fruits)\n"
   ]
  },
  {
   "cell_type": "markdown",
   "id": "02640497-4a6d-4a49-99c3-f5a2c97afd2b",
   "metadata": {},
   "source": [
    "# Built-In Funktionen: `any()` und `all()`\n",
    "\n",
    "## 1. any()\n",
    "- **Definition**: Die `any()`-Funktion gibt `True` zurück, wenn **mindestens ein** Element in einem iterierbaren Objekt (z. B. einer Liste, einem Tuple) als `True` bewertet wird. Andernfalls gibt sie `False` zurück.\n",
    "- **Syntax**: \n",
    "  ```python\n",
    "  any(iterable)\n",
    "  ```\n",
    "## Parameter:\n",
    "\n",
    "- **iterable**: Ein iterierbares Objekt (z. B. Liste, Set, Tuple), das überprüft wird.\n",
    "\n",
    "## Beispiele:\n",
    " \n"
   ]
  },
  {
   "cell_type": "code",
   "execution_count": 1,
   "id": "95e95de5-b32e-4c94-ad8e-28d4394ab943",
   "metadata": {},
   "outputs": [
    {
     "name": "stdout",
     "output_type": "stream",
     "text": [
      "True\n"
     ]
    }
   ],
   "source": [
    "values = [True, False, True]\n",
    "result = any(values)\n",
    "print(result)  # Gibt False zurück, weil False im List enthalten ist\n"
   ]
  },
  {
   "cell_type": "code",
   "execution_count": 3,
   "id": "9e18bdbd-81d2-4d3b-acb2-9c7514f9f5dc",
   "metadata": {},
   "outputs": [
    {
     "name": "stdout",
     "output_type": "stream",
     "text": [
      "False\n"
     ]
    }
   ],
   "source": [
    "# Beispiel, bei dem any() False zurückgibt\n",
    "numbers = [0, 0, 0, 0]\n",
    "result = any(numbers)\n",
    "print(result)  # Gibt False zurück, da alle Elemente als False bewertet werden\n"
   ]
  },
  {
   "cell_type": "code",
   "execution_count": 4,
   "id": "08f36846-1b56-4fcc-a505-7d8a312b1cbb",
   "metadata": {},
   "outputs": [
    {
     "name": "stdout",
     "output_type": "stream",
     "text": [
      "True\n"
     ]
    }
   ],
   "source": [
    "numbers = [0, 1, 2, 3]\n",
    "print(any(numbers))  # Gibt True zurück, weil es mindestens eine Zahl ungleich 0 gibt.\n"
   ]
  },
  {
   "cell_type": "code",
   "execution_count": 5,
   "id": "a488b18f-664a-499a-af5d-999cf0985000",
   "metadata": {},
   "outputs": [
    {
     "name": "stdout",
     "output_type": "stream",
     "text": [
      "False\n"
     ]
    }
   ],
   "source": [
    "values = []\n",
    "result = any(values)\n",
    "print(result)  # Gibt False zurück, weil False im List enthalten ist\n"
   ]
  },
  {
   "cell_type": "code",
   "execution_count": 64,
   "id": "296d5c5d-d645-4d34-8e84-946cc49dcdf1",
   "metadata": {},
   "outputs": [
    {
     "name": "stdout",
     "output_type": "stream",
     "text": [
      "False\n"
     ]
    }
   ],
   "source": [
    "values = [None]\n",
    "result = any(values)\n",
    "print(result)  # Gibt False zurück, weil False im List enthalten ist\n"
   ]
  },
  {
   "cell_type": "markdown",
   "id": "dfccecc3-f2fe-4f85-9ad2-dde2f23b6912",
   "metadata": {},
   "source": [
    "## 2. all()\n",
    "\n",
    "**Definition**: Die `all()`-Funktion gibt `True` zurück, wenn alle Elemente in einem iterierbaren Objekt als `True` bewertet werden. Andernfalls gibt sie `False` zurück.\n",
    "\n",
    "**Syntax**:\n",
    "```python\n",
    "all(iterable)\n",
    "```\n",
    "## Parameter:\n",
    " \n",
    "- **iterable**: Ein iterierbares Objekt (z. B. Liste, Set, Tuple), das überprüft wird.\n",
    "## Beispiele:"
   ]
  },
  {
   "cell_type": "code",
   "execution_count": 65,
   "id": "d0351eb0-6d7b-4162-bb5b-52711a673429",
   "metadata": {},
   "outputs": [
    {
     "name": "stdout",
     "output_type": "stream",
     "text": [
      "False\n"
     ]
    }
   ],
   "source": [
    "values = [True, False, True]\n",
    "result = all(values)\n",
    "print(result)  # Gibt False zurück, weil False im List enthalten ist"
   ]
  },
  {
   "cell_type": "code",
   "execution_count": 66,
   "id": "98efa242-b463-43e6-91d5-3e2c8b0cb6aa",
   "metadata": {},
   "outputs": [
    {
     "name": "stdout",
     "output_type": "stream",
     "text": [
      "True\n"
     ]
    }
   ],
   "source": [
    "values = [True, True, True]\n",
    "result = all(values)\n",
    "print(result)  # Gibt False zurück, weil False im List enthalten ist"
   ]
  },
  {
   "cell_type": "code",
   "execution_count": 54,
   "id": "0236b4f1-1783-47e5-a22c-c06c7546a11d",
   "metadata": {},
   "outputs": [
    {
     "name": "stdout",
     "output_type": "stream",
     "text": [
      "True\n"
     ]
    }
   ],
   "source": [
    "numbers = [1, 2, 3]\n",
    "print(all(numbers))  # Gibt True zurück, weil alle Zahlen als True gelten.\n"
   ]
  },
  {
   "cell_type": "code",
   "execution_count": 55,
   "id": "bab479f3-23a0-4801-b6cc-9124f0365bf5",
   "metadata": {},
   "outputs": [
    {
     "name": "stdout",
     "output_type": "stream",
     "text": [
      "False\n"
     ]
    }
   ],
   "source": [
    "# Beispiel, bei dem all() False zurückgibt\n",
    "numbers = [1, 2, 0, 4]\n",
    "result = all(numbers)\n",
    "print(result)  # Gibt False zurück, da 0 als False bewertet wird\n"
   ]
  },
  {
   "cell_type": "markdown",
   "id": "235bc362-205f-4745-9cc0-56c11c535201",
   "metadata": {},
   "source": [
    "# Filter, Map und Reduce in Python\n",
    "\n",
    "---\n",
    "\n",
    "## 1. `filter()`\n",
    "- **Definition**: Filtert Elemente aus einem iterierbaren Objekt basierend auf einer Bedingung.\n",
    "- **Syntax**: `filter(function, iterable)`\n",
    "- **Parameter**:\n",
    "  - `function`: Funktion, die eine Bedingung prüft (`True` oder `False`).\n",
    "  - `iterable`: Iterierbares Objekt (z.B. Liste, Tuple).\n",
    "- **Rückgabewert**: Filter-Objekt (nur die Elemente, bei denen die Funktion `True` zurückgibt).\n",
    "\n",
    "### Beispiel\n",
    " \n",
    " \n"
   ]
  },
  {
   "cell_type": "code",
   "execution_count": 33,
   "id": "2e6b1679-094e-4e0e-ba67-943c3e4cb0dc",
   "metadata": {},
   "outputs": [
    {
     "name": "stdout",
     "output_type": "stream",
     "text": [
      "[2, 4, 6, 8, 10]\n"
     ]
    }
   ],
   "source": [
    "# Funktion, die überprüft, ob eine Zahl gerade ist\n",
    "def is_even(number):\n",
    "    return number % 2 == 0\n",
    "\n",
    "# Liste von Zahlen\n",
    "numbers = [1, 2, 3, 4, 5, 6, 7, 8, 9, 10]\n",
    "\n",
    "# Verwenden von filter() um nur gerade Zahlen zu erhalten\n",
    "even_numbers = filter(is_even, numbers)\n",
    "\n",
    "# Das Ergebnis ist ein filter-Objekt, daher müssen wir es in eine Liste umwandeln, um es anzuzeigen\n",
    "print(list(even_numbers))\n"
   ]
  },
  {
   "cell_type": "code",
   "execution_count": 36,
   "id": "5c9113b5-5a22-496e-9937-5e1feda4daf8",
   "metadata": {},
   "outputs": [
    {
     "name": "stdout",
     "output_type": "stream",
     "text": [
      "[False, True, False, True, True]\n"
     ]
    }
   ],
   "source": [
    "# Funktion, die überprüft, ob ein Wort länger als 3 Zeichen ist\n",
    "def long_word(word):\n",
    "    return len(word) > 3\n",
    "\n",
    "# Liste von Wörtern\n",
    "words = ['cat', 'elephant', 'dog', 'bird', 'tiger']\n",
    "\n",
    "# Verwenden von filter(), um nur Wörter mit mehr als 3 Zeichen zu erhalten\n",
    "long_words = filter(long_word, words)\n",
    "\n",
    "# Ausgabe der gefilterten Liste\n",
    "print(list(long_words))\n"
   ]
  },
  {
   "cell_type": "markdown",
   "id": "f9330827-bad8-4ed6-ac69-434019332501",
   "metadata": {},
   "source": [
    "## 2. map()\n",
    "\n",
    "- **Definition**: Wendet eine Funktion auf jedes Element eines iterierbaren Objekts an und gibt eine neue Sammlung zurück.\n",
    "- **Syntax**: `map(function, iterable)`\n",
    "- **Parameter**:\n",
    "  - `function`: Funktion, die auf jedes Element angewendet wird.\n",
    "  - `iterable`: Iterierbares Objekt (z.B. Liste, Tuple).\n",
    "- **Rückgabewert**: Map-Objekt (iterierbare Sammlung mit den Ergebnissen der Funktion).\n",
    "\n",
    "### Beispiel:\n",
    " \n",
    " "
   ]
  },
  {
   "cell_type": "code",
   "execution_count": 39,
   "id": "5a1ab616-6934-4245-8886-c0543fc49070",
   "metadata": {},
   "outputs": [
    {
     "name": "stdout",
     "output_type": "stream",
     "text": [
      "[2, 4, 6, 8, 10]\n"
     ]
    }
   ],
   "source": [
    "# Funktion, die eine Zahl verdoppelt\n",
    "def double(x):\n",
    "    return x * 2\n",
    "\n",
    "# Liste von Zahlen\n",
    "numbers = [1, 2, 3, 4, 5]\n",
    "\n",
    "# Verwenden von map(), um jedes Element der Liste zu verdoppeln\n",
    "doubled_numbers = map(double, numbers)\n",
    "\n",
    "# Das Ergebnis ist ein map-Objekt, daher müssen wir es in eine Liste umwandeln, um es anzuzeigen\n",
    "print(list(doubled_numbers))\n"
   ]
  },
  {
   "cell_type": "code",
   "execution_count": 40,
   "id": "b96539de-cc99-45e8-a97e-6890a9a66d3a",
   "metadata": {},
   "outputs": [
    {
     "name": "stdout",
     "output_type": "stream",
     "text": [
      "[5, 7, 9]\n"
     ]
    }
   ],
   "source": [
    "# Funktion, die zwei Zahlen addiert\n",
    "def add(x, y):\n",
    "    return x + y\n",
    "\n",
    "# Zwei Listen\n",
    "numbers1 = [1, 2, 3]\n",
    "numbers2 = [4, 5, 6]\n",
    "\n",
    "# Verwenden von map(), um die Elemente paarweise zu addieren\n",
    "sums = map(add, numbers1, numbers2)\n",
    "\n",
    "# Ausgabe der Summen\n",
    "print(list(sums))\n"
   ]
  },
  {
   "cell_type": "markdown",
   "id": "f499994b-fe87-4e38-8969-eba5279f101a",
   "metadata": {},
   "source": [
    "## 3. reduce()\n",
    "\n",
    "- **Definition**: Führt eine sequenzielle Reduktion von Werten durch, bis nur noch ein Wert übrig bleibt.\n",
    "- **Syntax**: `reduce(function, iterable[, initial])`\n",
    "- **Parameter**:\n",
    "  - `function`: Funktion, die zwei Argumente nimmt und einen Wert zurückgibt.\n",
    "  - `iterable`: Iterierbares Objekt (z.B. Liste, Tuple).\n",
    "  - `initial` (optional): Startwert für die Reduktion.\n",
    "- **Rückgabewert**: Ein einzelner Wert (z.B. Summe, Produkt).\n",
    "\n",
    "### Beispiel:\n",
    " \n",
    " \n"
   ]
  },
  {
   "cell_type": "code",
   "execution_count": 6,
   "id": "9c1fe5d9-2ee1-4189-99ec-83d3f5f7f7c4",
   "metadata": {},
   "outputs": [
    {
     "name": "stdout",
     "output_type": "stream",
     "text": [
      "15\n"
     ]
    }
   ],
   "source": [
    "from functools import reduce\n",
    "\n",
    "# Funktion, die zwei Zahlen addiert\n",
    "def add(x, y):\n",
    "    return x + y\n",
    "\n",
    "# Liste von Zahlen\n",
    "numbers = [1, 2, 3, 4, 5]\n",
    "\n",
    "# Verwenden von reduce(), um die Summe zu berechnen\n",
    "result = reduce(add, numbers)\n",
    "\n",
    "# Ausgabe des Ergebnisses\n",
    "print(result)\n"
   ]
  },
  {
   "cell_type": "code",
   "execution_count": 7,
   "id": "a159920f-78d1-4fb3-91c1-e0e0fc7382b6",
   "metadata": {},
   "outputs": [
    {
     "name": "stdout",
     "output_type": "stream",
     "text": [
      "25\n"
     ]
    }
   ],
   "source": [
    "from functools import reduce\n",
    "\n",
    "# Funktion, die zwei Zahlen addiert\n",
    "def add(x, y):\n",
    "    return x + y\n",
    "\n",
    "# Liste von Zahlen\n",
    "numbers = [1, 2, 3, 4, 5]\n",
    "\n",
    "# Verwenden von reduce(), um die Summe zu berechnen\n",
    "result = reduce(add, numbers, 10)\n",
    "\n",
    "# Ausgabe des Ergebnisses\n",
    "print(result)"
   ]
  },
  {
   "cell_type": "markdown",
   "id": "6a1971af-8324-4775-8298-8ffc51c5216a",
   "metadata": {},
   "source": [
    "## 4. Unterschiede:\n",
    "\n",
    "| Funktion | Beschreibung | Rückgabewert |\n",
    "|----------|--------------|--------------|\n",
    "| **filter()** | Filtert Elemente basierend auf einer Bedingung | Filter-Objekt |\n",
    "| **map()**    | Wendet eine Funktion auf jedes Element an | Map-Objekt |\n",
    "| **reduce()** | Reduziert ein iterierbares Objekt zu einem einzelnen Wert | Ein einzelner Wert |\n"
   ]
  },
  {
   "cell_type": "markdown",
   "id": "44234b19-9c2a-4725-a8a5-9ae33d4f5dd1",
   "metadata": {},
   "source": [
    "## Methode: `split()`\n",
    "- **Zweck:** Trennt eine Zeichenkette in eine Liste von Teilzeichenketten.\n",
    "- **Syntax:** `string.split([separator[, maxsplit]])`\n",
    "  - **separator:** Trenner, standardmäßig ein Leerzeichen.\n",
    "  - **maxsplit:** Maximale Anzahl der Aufteilungen (optional).\n",
    "- **Standardverhalten:** Trennt an Leerzeichen, mehrere aufeinanderfolgende Leerzeichen zählen als ein Trenner.\n",
    "- **Beispiel ohne Trenner:**\n",
    "  ```python\n",
    "  \"Python ist cool\".split()  # Ausgabe: ['Python', 'ist', 'cool']\n"
   ]
  },
  {
   "cell_type": "code",
   "execution_count": 44,
   "id": "27063e68-f40d-43c3-8f31-159e07a84f05",
   "metadata": {},
   "outputs": [
    {
     "name": "stdout",
     "output_type": "stream",
     "text": [
      "['Python', 'ist', 'cool']\n"
     ]
    }
   ],
   "source": [
    "text = \"Python ist cool\"\n",
    "result = text.split()\n",
    "print(result)\n",
    "# Ausgabe: ['Python', 'ist', 'cool']"
   ]
  },
  {
   "cell_type": "code",
   "execution_count": 47,
   "id": "c16f6d93-9b22-4108-ab75-9bbdf95215ac",
   "metadata": {},
   "outputs": [
    {
     "data": {
      "text/plain": [
       "['2025', 'januar', 'bericht']"
      ]
     },
     "execution_count": 47,
     "metadata": {},
     "output_type": "execute_result"
    }
   ],
   "source": [
    "\"2025_januar_bericht\".split('_')  # Ausgabe: ['2025', 'januar', 'bericht']\n"
   ]
  },
  {
   "cell_type": "code",
   "execution_count": 48,
   "id": "c8637452-f77c-4980-9a4f-559e36653304",
   "metadata": {},
   "outputs": [
    {
     "data": {
      "text/plain": [
       "['eins', 'zwei', 'drei vier']"
      ]
     },
     "execution_count": 48,
     "metadata": {},
     "output_type": "execute_result"
    }
   ],
   "source": [
    "\"eins zwei drei vier\".split(' ', 2)  # Ausgabe: ['eins', 'zwei', 'drei vier']\n"
   ]
  },
  {
   "cell_type": "markdown",
   "id": "0b41d749-fdcf-42cc-b478-637b24b3a2e3",
   "metadata": {},
   "source": [
    "# `Counter` \n",
    "\n",
    "- **Import:** Um `Counter` zu verwenden, musst du es aus dem `collections`-Modul importieren:\n",
    "  ```python\n",
    "  from collections import Counter\n",
    "- **Verwendung:** `Counter(iterable)` zählt, wie oft jedes Element im `iterable` vorkommt.\n",
    "- **Methoden:**\n",
    "  - **`most_common([n])`**: Gibt eine Liste der n häufigsten Elemente und deren Häufigkeiten zurück.\n",
    "  - **`elements()`**: Gibt einen Iterator zurück, der alle Elemente in der Reihenfolge ihrer Häufigkeit liefert.\n",
    "  - **`subtract()`**: Subtrahiert die Häufigkeiten der Elemente eines anderen `Counter` oder iterierbaren Objekts von den eigenen Häufigkeiten.\n",
    "  - Weitere Methoden: `update()`, `clear()`, etc.\n",
    "## Beispiele:"
   ]
  },
  {
   "cell_type": "markdown",
   "id": "e467fec5-47a5-40e2-b21d-85a6d7446a36",
   "metadata": {},
   "source": [
    "### 1. Zählen von Elementen in einer Liste:\n"
   ]
  },
  {
   "cell_type": "code",
   "execution_count": 9,
   "id": "92ba6c69-372e-4d8b-bb69-cd5403b70b51",
   "metadata": {},
   "outputs": [
    {
     "name": "stdout",
     "output_type": "stream",
     "text": [
      "Counter({'a': 3, 'b': 2, 'c': 1})\n"
     ]
    }
   ],
   "source": [
    "from collections import Counter\n",
    "data = ['a', 'b', 'c', 'a', 'b', 'a']\n",
    "counter = Counter(data)\n",
    "print(counter)\n",
    "# Ausgabe: Counter({'a': 3, 'b': 2, 'c': 1})\n"
   ]
  },
  {
   "cell_type": "markdown",
   "id": "ff902506-964f-4546-bf53-eed7db2acbcb",
   "metadata": {},
   "source": [
    "### 2. Verwenden von ``most_common()`` zum Abrufen der häufigsten Elemente:"
   ]
  },
  {
   "cell_type": "code",
   "execution_count": 73,
   "id": "42ccb07b-7032-4ab6-8001-4dbb05d53c00",
   "metadata": {},
   "outputs": [
    {
     "name": "stdout",
     "output_type": "stream",
     "text": [
      "[('a', 3), ('b', 3)]\n"
     ]
    }
   ],
   "source": [
    "from collections import Counter\n",
    "data = ['a', 'b', 'a', 'a', 'c', 'b', 'b']\n",
    "counter = Counter(data)\n",
    "print(counter.most_common(2))\n",
    "# Ausgabe: [('a', 3), ('b', 3)] (zeigt die 2 häufigsten Elemente)\n"
   ]
  },
  {
   "cell_type": "markdown",
   "id": "931ff84d-f076-441c-8d2a-2cd3e5b36025",
   "metadata": {},
   "source": [
    "### 3. Erstellen eines ``Counter`` aus einem String:"
   ]
  },
  {
   "cell_type": "code",
   "execution_count": 74,
   "id": "5a1d1d66-e1da-4919-9977-4543c0deafc0",
   "metadata": {},
   "outputs": [
    {
     "name": "stdout",
     "output_type": "stream",
     "text": [
      "Counter({'a': 5, 'b': 2, 'r': 2, 'c': 1, 'd': 1})\n",
      "<class 'collections.Counter'>\n"
     ]
    }
   ],
   "source": [
    "from collections import Counter\n",
    "text = \"abracadabra\"\n",
    "counter = Counter(text)\n",
    "print(counter)\n",
    "print(type(counter))\n",
    "# Ausgabe: Counter({'a': 5, 'b': 2, 'r': 2, 'c': 1, 'd': 1})\n"
   ]
  },
  {
   "cell_type": "markdown",
   "id": "587931ad-7d3e-413f-a6f3-4c10cd9e1cc9",
   "metadata": {},
   "source": [
    "### 4. Subtrahieren von Häufigkeiten:"
   ]
  },
  {
   "cell_type": "code",
   "execution_count": 75,
   "id": "66a273f9-30f4-4cb8-ba1c-9f2a6c1159ec",
   "metadata": {},
   "outputs": [
    {
     "name": "stdout",
     "output_type": "stream",
     "text": [
      "Counter({'b': 4, 'a': 2})\n",
      "<class 'collections.Counter'>\n"
     ]
    }
   ],
   "source": [
    "from collections import Counter\n",
    "counter1 = Counter({'a': 3, 'b': 5})\n",
    "counter2 = Counter({'a': 1, 'b': 1})\n",
    "counter1.subtract(counter2)\n",
    "print(counter1)\n",
    "print(type(counter1))\n",
    "# Ausgabe: Counter({'a': 2, 'b': 1})\n"
   ]
  },
  {
   "cell_type": "markdown",
   "id": "58e4f03f-822c-4358-858a-fea245c1443f",
   "metadata": {},
   "source": [
    "## `get()`-Methode für Dictionaries in Python\n",
    "\n",
    "Die Methode **`get()`** für Dictionaries in Python wird verwendet, um den Wert für einen bestimmten Schlüssel abzurufen. Sie ist nützlich, wenn ein Standardwert zurückgegeben werden soll, falls der Schlüssel nicht im Dictionary vorhanden ist.\n",
    "\n",
    "### **Syntax**\n",
    "```python\n",
    "dictionary.get(key, default)\n"
   ]
  },
  {
   "cell_type": "code",
   "execution_count": 77,
   "id": "06555539-e9c4-47c3-8cc1-042613147a21",
   "metadata": {},
   "outputs": [
    {
     "name": "stdout",
     "output_type": "stream",
     "text": [
      "1\n",
      "<class 'int'>\n",
      "None\n"
     ]
    }
   ],
   "source": [
    "mapping = {\"a\": 1, \"b\": 2, \"c\": 3}\n",
    "\n",
    "# Schlüssel existiert\n",
    "print(mapping.get(\"a\"))  # Ausgabe: 1\n",
    "print(type(mapping.get(\"a\")))\n",
    "\n",
    "# Schlüssel existiert nicht\n",
    "print(mapping.get(\"d\"))  # Ausgabe: None\n",
    " "
   ]
  },
  {
   "cell_type": "code",
   "execution_count": 17,
   "id": "e96aaa2e-79ca-425e-a9bb-8d5d6673ed4c",
   "metadata": {},
   "outputs": [
    {
     "name": "stdout",
     "output_type": "stream",
     "text": [
      "1.5\n",
      "Frucht nicht verfügbar\n"
     ]
    }
   ],
   "source": [
    "def get_fruit_price(fruit):\n",
    "    prices = {\"apple\": 1.5, \"banana\": 0.5, \"orange\": 1.0}\n",
    "    return prices.get(fruit, \"Frucht nicht verfügbar\")\n",
    "\n",
    "print(get_fruit_price(\"apple\"))  # Ausgabe: 1.5\n",
    "print(get_fruit_price(\"kiwi\"))   # Ausgabe: Frucht nicht verfügbar"
   ]
  },
  {
   "cell_type": "markdown",
   "id": "85aaec72-e8a1-4bec-b628-5b173c4e81fa",
   "metadata": {},
   "source": [
    "# Teillösung des Mini-Projekts"
   ]
  },
  {
   "cell_type": "code",
   "execution_count": 18,
   "id": "5560e8f1-5551-4131-bfdd-b1fa567fa820",
   "metadata": {},
   "outputs": [],
   "source": [
    "# Schreibt bitte eure Lösung hier\n",
    "\n",
    "def number_to_name(number):\n",
    "    if number == 0:\n",
    "        return \"rock\"\n",
    "    elif number == 1:\n",
    "        return \"spock\"\n",
    "    elif number == 2:\n",
    "        return \"paper\"\n",
    "    elif number == 3:\n",
    "        return \"lizard\"\n",
    "    elif number == 4:\n",
    "        return \"scissors\"\n",
    "    else:\n",
    "        return \"nicht uebereinstimmen\""
   ]
  },
  {
   "cell_type": "code",
   "execution_count": 9,
   "id": "743b6f66-82ec-4373-99ae-d4c392685e1c",
   "metadata": {},
   "outputs": [
    {
     "name": "stdout",
     "output_type": "stream",
     "text": [
      "paper\n",
      "nicht uebereinstimmen\n"
     ]
    }
   ],
   "source": [
    "def number_to_name(number):\n",
    "    mapping = {\n",
    "        0: \"rock\",\n",
    "        1: \"spock\",\n",
    "        2: \"paper\",\n",
    "        3: \"lizard\",\n",
    "        4: \"scissors\"\n",
    "    }\n",
    "    return mapping.get(number, \"nicht uebereinstimmen\")  # Standardwert für unbekannte Zahlen\n",
    "\n",
    "# Beispiele\n",
    "print(number_to_name(2))  # paper\n",
    "print(number_to_name(5))  # nicht uebereinstimmen\n"
   ]
  },
  {
   "cell_type": "code",
   "execution_count": 10,
   "id": "81017d14-21a7-4825-9a16-67dd436af451",
   "metadata": {},
   "outputs": [
    {
     "name": "stdout",
     "output_type": "stream",
     "text": [
      "lizard\n",
      "nicht uebereinstimmen\n"
     ]
    }
   ],
   "source": [
    "def number_to_name(number):\n",
    "    match number:\n",
    "        case 0:\n",
    "            return \"rock\"\n",
    "        case 1:\n",
    "            return \"spock\"\n",
    "        case 2:\n",
    "            return \"paper\"\n",
    "        case 3:\n",
    "            return \"lizard\"\n",
    "        case 4:\n",
    "            return \"scissors\"\n",
    "        case _:\n",
    "            return \"nicht uebereinstimmen\"\n",
    "\n",
    "# Beispiele\n",
    "print(number_to_name(3))  # lizard\n",
    "print(number_to_name(7))  # nicht uebereinstimmen\n"
   ]
  },
  {
   "cell_type": "code",
   "execution_count": 49,
   "id": "b5721f6b-8f26-47f9-be45-e907251b81e2",
   "metadata": {},
   "outputs": [
    {
     "name": "stdout",
     "output_type": "stream",
     "text": [
      "\n",
      "player chooses rock\n",
      "Computer chooses rock\n",
      "Player and computer tie\n",
      "\n",
      "player chooses paper\n",
      "Computer chooses spock\n",
      "Player wins\n",
      "\n",
      "player chooses spock\n",
      "Computer chooses rock\n",
      "Player wins\n",
      "\n",
      "player chooses lizard\n",
      "Computer chooses rock\n",
      "Computer wins!\n",
      "\n",
      "player chooses scissors\n",
      "Computer chooses paper\n",
      "Player wins\n"
     ]
    }
   ],
   "source": [
    "import random \n",
    "\n",
    "\n",
    "def number_to_name(number):\n",
    "    if number==0:\n",
    "        return \"rock\"\n",
    "    elif number ==1:\n",
    "        return \"spock\"\n",
    "    elif number == 2:\n",
    "         return \"paper\"\n",
    "    elif number == 3:\n",
    "        return \"lizard\"\n",
    "    elif number == 4:\n",
    "        return \"scissors\"\n",
    "    else:\n",
    "        \"nicht uebereinstimmen\"\n",
    "\n",
    "\n",
    "\n",
    "def name_to_number(name):\n",
    "    if name == \"rock\":\n",
    "        return 0\n",
    "    elif name==\"spock\":\n",
    "        return 1\n",
    "    elif name == \"paper\":\n",
    "        return 2\n",
    "    elif name==\"lizard\":\n",
    "        return 3\n",
    "    elif name==\"scissors\":\n",
    "        return 4\n",
    "    else:\n",
    "        return \"nicht uebereinstimmen\"\n",
    "\n",
    "def rpsls (player_choice):\n",
    "    \n",
    "    print( \"\")\n",
    "    \n",
    "    print (\"player chooses \" + player_choice)\n",
    "    player_choice = name_to_number(player_choice)\n",
    "    \n",
    "     \n",
    "    computer_number = random.randrange(0, 5)\n",
    "    computer_choice = number_to_name(computer_number)\n",
    "    print (\"Computer chooses \" + computer_choice)\n",
    "\n",
    "           \n",
    "           \n",
    "    differenz  = ((player_choice - computer_number)%5)    \n",
    "    if differenz == 1 or differenz == 2:\n",
    "         return \"Player wins\"\n",
    "    elif differenz == 3 or differenz == 4:\n",
    "         return \"Computer wins!\"\n",
    "    elif differenz == 0 :\n",
    "         return \"Player and computer tie\"\n",
    "    else:\n",
    "        return \"nochmal\"\n",
    "\n",
    "print (rpsls (\"rock\"))\n",
    "print (rpsls (\"paper\"))\n",
    "print (rpsls (\"spock\"))\n",
    "print (rpsls (\"lizard\"))\n",
    "print (rpsls (\"scissors\"))\n",
    "\n"
   ]
  },
  {
   "cell_type": "code",
   "execution_count": null,
   "id": "3c3418e6-5cd7-4ef4-b832-82dd3e3a7583",
   "metadata": {},
   "outputs": [],
   "source": []
  }
 ],
 "metadata": {
  "kernelspec": {
   "display_name": "Python 3 (ipykernel)",
   "language": "python",
   "name": "python3"
  },
  "language_info": {
   "codemirror_mode": {
    "name": "ipython",
    "version": 3
   },
   "file_extension": ".py",
   "mimetype": "text/x-python",
   "name": "python",
   "nbconvert_exporter": "python",
   "pygments_lexer": "ipython3",
   "version": "3.12.7"
  }
 },
 "nbformat": 4,
 "nbformat_minor": 5
}
