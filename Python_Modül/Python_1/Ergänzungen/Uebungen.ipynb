{
 "cells": [
  {
   "cell_type": "markdown",
   "id": "a7da5bc4-7932-4e6e-9153-30718d5900e0",
   "metadata": {},
   "source": [
    "# Übungen "
   ]
  },
  {
   "cell_type": "markdown",
   "id": "6d42f203-d4e3-4e94-9d9b-ea1f5dabfb54",
   "metadata": {},
   "source": [
    "## Übung 1: Einfache Escape-Zeichen verwenden (5 Min.)\n",
    "\n",
    "**Aufgabe:** Schreibe einen Python-Code, der die folgende Ausgabe erzeugt:\n",
    "\n",
    "```python\n",
    "He said, \"Hello!\"\n"
   ]
  },
  {
   "cell_type": "code",
   "execution_count": 5,
   "id": "1562f1a1-e499-4167-8d69-e27578786f80",
   "metadata": {},
   "outputs": [
    {
     "name": "stdout",
     "output_type": "stream",
     "text": [
      "He said, \"Hello!\"\n"
     ]
    }
   ],
   "source": [
    "# lösung\n",
    "print(\"He said, \\\"Hello!\\\"\")"
   ]
  },
  {
   "cell_type": "markdown",
   "id": "5000633e-2160-4f29-8346-713204530e31",
   "metadata": {},
   "source": [
    "## Übung 2: Mehrzeilige Ausgabe mit Escape-Zeichen (5 Min.)\n",
    "\n",
    "**Aufgabe:** Schreibe einen Python-Code, der folgenden mehrzeiligen Text ausgibt, ohne eine `for`-Schleife zu verwenden:\n",
    "\n",
    "```python\n",
    "Line 1\n",
    "Line 2\n",
    "Line 3\n"
   ]
  },
  {
   "cell_type": "code",
   "execution_count": 7,
   "id": "8c1c9db2-156f-46c6-a8ef-7f5af509886d",
   "metadata": {},
   "outputs": [
    {
     "name": "stdout",
     "output_type": "stream",
     "text": [
      "Line 1\n",
      "Line 2\n",
      "Line 3\n"
     ]
    }
   ],
   "source": [
    "# lösung\n",
    "print(\"Line 1\\nLine 2\\nLine 3\") "
   ]
  },
  {
   "cell_type": "markdown",
   "id": "8a6eb972-5c1b-47e2-a19c-689299a90326",
   "metadata": {},
   "source": [
    "## Übung 3: Tabulatoren verwenden (5 Min.)\n",
    "\n",
    "**Aufgabe:** Schreibe einen Python-Code, der folgende Ausgabe erzeugt:\n",
    "\n",
    "```python\n",
    "Name    Age\n",
    "John    25\n",
    "Alice    30\n"
   ]
  },
  {
   "cell_type": "code",
   "execution_count": 9,
   "id": "7953d2d4-b01b-4690-ad30-6d66d3489f2b",
   "metadata": {},
   "outputs": [
    {
     "name": "stdout",
     "output_type": "stream",
     "text": [
      "Name\tAge\n",
      "John\t25\n",
      "Alice\t30\n"
     ]
    }
   ],
   "source": [
    "# lösung\n",
    "print(\"Name\\tAge\\nJohn\\t25\\nAlice\\t30\")"
   ]
  },
  {
   "cell_type": "markdown",
   "id": "c18fa254-59f8-48f8-987d-eba56553f31b",
   "metadata": {},
   "source": [
    "## Übung 4: ASCII-Werte von zwei Zeichen ermitteln und sortieren (10 Min.)\n",
    "\n",
    "**Aufgabe:** Erstelle eine Liste mit zwei Zeichen. Verwende die Funktion `ord()`, um die ASCII-Werte der Zeichen zu ermitteln. Sortiere die Liste mit der `sort()`-Methode und gib die sortierte Liste zusammen mit den ASCII-Werten der Zeichen aus.\n",
    " \n"
   ]
  },
  {
   "cell_type": "code",
   "execution_count": 19,
   "id": "abe8630b-fc34-452c-975a-aa04be27f03b",
   "metadata": {},
   "outputs": [
    {
     "name": "stdout",
     "output_type": "stream",
     "text": [
      "a : 97\n",
      "b : 98\n",
      "3 : 51\n",
      "! : 33\n",
      "['!', '3', 'a', 'b']\n"
     ]
    }
   ],
   "source": [
    "# lösung\n",
    "liste = [\"a\", \"b\", \"3\", \"!\"]\n",
    "print(\"a :\", ord(\"a\"))\n",
    "print(\"b :\", ord(\"b\"))\n",
    "print(\"3 :\", ord(\"3\"))\n",
    "print(\"! :\", ord(\"!\"))\n",
    "\n",
    "liste.sort()\n",
    "print(liste)"
   ]
  },
  {
   "cell_type": "markdown",
   "id": "329440c3-a2fd-47bb-a859-915a8344fa83",
   "metadata": {},
   "source": [
    "## Übung 5: Indizes und Elemente mit `enumerate()` durchlaufen (10 Min.)\n",
    "\n",
    "Erstelle eine Liste von Farben und verwende die Funktion `enumerate()`, um sowohl den Index als auch das Element der Liste auszugeben.\n",
    "\n",
    " \n"
   ]
  },
  {
   "cell_type": "code",
   "execution_count": 23,
   "id": "e991fdb4-a4f4-4525-b837-0be16f831574",
   "metadata": {},
   "outputs": [
    {
     "name": "stdout",
     "output_type": "stream",
     "text": [
      "1 grün\n",
      "2 rot\n",
      "3 weiß\n",
      "4 schwarz\n"
     ]
    }
   ],
   "source": [
    "# lösung\n",
    "farben = [\"grün\", \"rot\", \"weiß\", \"schwarz\"]\n",
    "\n",
    "for index, farbe in enumerate(farben, start=1):\n",
    "    print(index, farbe)"
   ]
  },
  {
   "cell_type": "markdown",
   "id": "a13fdff1-caf0-449b-9f8f-d7ccdb3c78c8",
   "metadata": {},
   "source": [
    "## Übung 6: Überprüfen, ob mindestens ein Element in einer Liste wahr ist (mit `any()`)\n",
    "\n",
    "Erstelle eine Liste von Wahrheitswerten und verwende die Funktion `any()`, um zu überprüfen, ob mindestens eines der Elemente `True` ist. Gib das Ergebnis aus.\n",
    " \n",
    "\n"
   ]
  },
  {
   "cell_type": "code",
   "execution_count": 25,
   "id": "46331acb-9497-4637-a50b-02b168afe797",
   "metadata": {},
   "outputs": [
    {
     "name": "stdout",
     "output_type": "stream",
     "text": [
      "True und False\n"
     ]
    }
   ],
   "source": [
    "# lösung\n",
    "liste = [1, 2, 3, True, False] # False, None oder 0\n",
    "liste_2 = [0, None, False]\n",
    "\n",
    "print(any(liste), \"und\", any(liste_2))"
   ]
  },
  {
   "cell_type": "markdown",
   "id": "20fadef0-0942-4404-be89-4962de8f02d2",
   "metadata": {},
   "source": [
    "## Übung 7: Überprüfen, ob alle Elemente in einer Liste wahr sind (mit `all()`)\n",
    "\n",
    "Erstelle eine Liste von Wahrheitswerten und verwende die Funktion `all()`, um zu überprüfen, ob alle Elemente der Liste `True` sind. Gib das Ergebnis aus.\n",
    " \n"
   ]
  },
  {
   "cell_type": "code",
   "execution_count": 28,
   "id": "134fee4d-c022-4ffc-b570-465ef33ea36c",
   "metadata": {},
   "outputs": [
    {
     "name": "stdout",
     "output_type": "stream",
     "text": [
      "True und False\n"
     ]
    }
   ],
   "source": [
    "# lösung\n",
    "liste_3 = [1, 2 , True]\n",
    "liste_4 = [0, None, False, True]\n",
    "\n",
    "print(all(liste_3), \"und\", all(liste_4))"
   ]
  },
  {
   "cell_type": "markdown",
   "id": "93795e09-1d1f-4e10-8e86-4154b40a1d5f",
   "metadata": {},
   "source": [
    "## Übung 8: \n",
    "\n",
    "Gegeben ist eine Liste von Zahlen. Verwende die Funktionen `filter()`, `map()` und `reduce()`, um folgende Aufgaben zu lösen:\n",
    "\n",
    "1. Filtere alle ungeraden Zahlen heraus.\n",
    "2. Addiere 3 zu allen Zahlen in der gefilterten Liste.\n",
    "3. Berechne das Produkt der modifizierten Zahlen.\n",
    "\n",
    "\n",
    "\n"
   ]
  },
  {
   "cell_type": "code",
   "execution_count": 41,
   "id": "10e2f90a-7912-4c6e-9dc1-a884695e526a",
   "metadata": {},
   "outputs": [
    {
     "name": "stdout",
     "output_type": "stream",
     "text": [
      "Gerade zahlen: [2, 4]\n",
      "Zahlen + 3: [5, 7]\n",
      "Modifiziere zahlen:  35\n"
     ]
    }
   ],
   "source": [
    "# Lösung\n",
    "from functools import reduce\n",
    "\n",
    "def gerade(number):\n",
    "    return number % 2 == 0\n",
    "\n",
    "number = [1,2,3,4,5]\n",
    "\n",
    "ist_gerade =list(filter(gerade, number))\n",
    "print(\"Gerade zahlen:\",ist_gerade)\n",
    "\n",
    "#-------------------------------------------------------\n",
    "def addiere(number):\n",
    "    return number + 3\n",
    "    \n",
    "plus_drei = list(map(addiere, ist_gerade))\n",
    "print(\"Zahlen + 3:\", list(plus_drei))\n",
    "\n",
    "#-------------------------------------------------------\n",
    "def modif(x, y):\n",
    "    return x * y\n",
    "\n",
    "modifiziere = reduce(modif, plus_drei)\n",
    "print(\"Modifiziere zahlen: \", modifiziere)"
   ]
  },
  {
   "cell_type": "markdown",
   "id": "9747441f-7321-4651-aaa9-46a90d456187",
   "metadata": {},
   "source": [
    "## Übung 9: Häufigkeit von Elementen mit `Counter` zählen (10 Min.)\n",
    "\n",
    "Gegeben ist eine Liste von Wörtern. Verwende die Funktion `Counter` aus dem Modul `collections`, um die Häufigkeit jedes Wortes in der Liste zu zählen. Gib das Ergebnis aus.\n"
   ]
  },
  {
   "cell_type": "code",
   "execution_count": 44,
   "id": "3106689e-a986-4a6b-a5e2-0a14e865e4d1",
   "metadata": {},
   "outputs": [
    {
     "name": "stdout",
     "output_type": "stream",
     "text": [
      "Counter({'yellow': 3, 'purple': 2, 'red': 1, 'blue': 1})\n",
      "[('yellow', 3), ('purple', 2)]\n"
     ]
    }
   ],
   "source": [
    "# Lösung\n",
    "from collections import Counter\n",
    "colors = [\"red\", \"purple\", \"yellow\", \"purple\", \"yellow\", \"blue\", \"yellow\"]\n",
    "\n",
    "counter = Counter(colors)\n",
    "\n",
    "print(counter)\n",
    "\n",
    "print(counter.most_common(2))"
   ]
  },
  {
   "cell_type": "markdown",
   "id": "ee485947-f933-419e-bf4d-e748316f02a2",
   "metadata": {},
   "source": [
    "## Übung 10: Verwenden der Methode `get()` in einem Dictionary (10 Min.)\n",
    "\n",
    "Gegeben ist ein Dictionary mit Informationen zu Personen und deren Alter. Verwende die Methode `get()`, um das Alter einer Person zu ermitteln. Gib das Alter aus, wenn die Person im Dictionary vorhanden ist, und gib eine Standardmeldung (z. B. Person nicht gefunden) aus, wenn die Person nicht vorhanden ist.\n",
    " \n"
   ]
  },
  {
   "cell_type": "code",
   "execution_count": 46,
   "id": "2a114d94-f7be-4b86-9c61-b7ed6d9905b1",
   "metadata": {},
   "outputs": [
    {
     "name": "stdout",
     "output_type": "stream",
     "text": [
      "90\n",
      "<class 'int'>\n",
      "None\n"
     ]
    }
   ],
   "source": [
    "# Lösung\n",
    "my_dict = {\"onur\" : 90, \"hilal\" : 95, \"bobo\": 40}\n",
    "\n",
    "print(my_dict.get(\"onur\"))\n",
    "print(type(my_dict.get(\"hilal\")))\n",
    "\n",
    "#---------------------------------\n",
    "print(my_dict.get(\"ahmet\"))\n"
   ]
  },
  {
   "cell_type": "code",
   "execution_count": null,
   "id": "213a9946-e255-4ff8-8325-f485307cff38",
   "metadata": {},
   "outputs": [],
   "source": []
  }
 ],
 "metadata": {
  "kernelspec": {
   "display_name": "Python 3 (ipykernel)",
   "language": "python",
   "name": "python3"
  },
  "language_info": {
   "codemirror_mode": {
    "name": "ipython",
    "version": 3
   },
   "file_extension": ".py",
   "mimetype": "text/x-python",
   "name": "python",
   "nbconvert_exporter": "python",
   "pygments_lexer": "ipython3",
   "version": "3.12.7"
  }
 },
 "nbformat": 4,
 "nbformat_minor": 5
}
