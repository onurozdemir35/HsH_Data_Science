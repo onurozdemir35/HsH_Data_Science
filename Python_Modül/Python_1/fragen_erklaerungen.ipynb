{
 "cells": [
  {
   "cell_type": "markdown",
   "id": "c76c22ae-f76a-4f37-9c5d-71dbe1a6110d",
   "metadata": {},
   "source": [
    "# sort()\n",
    "**Beschreibung:**  \n",
    "Die Methode `sort()` wird auf Listen angewendet und sortiert die Liste in-place. Das bedeutet, dass die ursprüngliche Liste direkt verändert wird.\n",
    "\n",
    "**Rückgabe:**  \n",
    "`sort()` gibt `None` zurück, da die Methode die Liste direkt ändert und keine neue Liste zurückgibt."
   ]
  },
  {
   "cell_type": "code",
   "execution_count": 2,
   "id": "3dde64d1-ee46-4ad2-ba85-4c65e1929bef",
   "metadata": {},
   "outputs": [
    {
     "name": "stdout",
     "output_type": "stream",
     "text": [
      "2920439382144\n",
      "2920439382144\n",
      "[1, 2, 5, 9]\n"
     ]
    }
   ],
   "source": [
    "numbers = [5, 2, 9, 1]\n",
    "print(id(numbers))\n",
    "\n",
    "numbers.sort() # Die Liste wird direkt sortiert\n",
    "print(id(numbers))\n",
    "\n",
    "print(numbers)"
   ]
  },
  {
   "cell_type": "markdown",
   "id": "8f69033c-7118-4d23-8bac-0aa559c1ac30",
   "metadata": {},
   "source": [
    "## sorted()\n",
    "- **Beschreibung:** Diese Funktion erstellt eine neue sortierte Liste aus einem iterierbaren Objekt, ohne das Original zu verändern.\n",
    "- **Rückgabe:** Gibt die neue sortierte Liste zurück.\n"
   ]
  },
  {
   "cell_type": "code",
   "execution_count": 3,
   "id": "0b636aa5-af3e-4a4b-904c-ce28a8e1b8e1",
   "metadata": {},
   "outputs": [
    {
     "name": "stdout",
     "output_type": "stream",
     "text": [
      "2920439360704\n",
      "2920439364992\n",
      "[1, 2, 5, 9]\n",
      "[5, 2, 9, 1]\n"
     ]
    }
   ],
   "source": [
    "numbers = [5, 2, 9, 1]\n",
    "print(id(numbers))\n",
    "sorted_numbers = sorted(numbers)  # Erstellt eine neue sortierte Liste\n",
    "print(id(sorted_numbers))\n",
    "print(sorted_numbers)  # Ausgabe: [1, 2, 5, 9]\n",
    "print(numbers)  # Original bleibt unverändert: [5, 2, 9, 1]"
   ]
  },
  {
   "cell_type": "markdown",
   "id": "f9fe1423-9c08-4540-bf57-e46d9c159c68",
   "metadata": {},
   "source": [
    "## Dictionary "
   ]
  },
  {
   "cell_type": "code",
   "execution_count": 4,
   "id": "d0fcd60b-d056-49c1-8b56-ed40c37b4458",
   "metadata": {},
   "outputs": [
    {
     "name": "stdout",
     "output_type": "stream",
     "text": [
      "Value: Montag\n",
      "Value: Dienstag\n",
      "Value: Mittwoch\n",
      "Value: Donnerstag\n",
      "Value: Freitag\n"
     ]
    }
   ],
   "source": [
    "# Dictionary mit int-Schlüsseln\n",
    "wochentage = {\n",
    "    1: \"Montag\",\n",
    "    2: \"Dienstag\",\n",
    "    3: \"Mittwoch\",\n",
    "    4: \"Donnerstag\",\n",
    "    5: \"Freitag\"\n",
    "}\n",
    "\n",
    "for value in wochentage.values():\n",
    "    print(f\"Value: {value}\")\n"
   ]
  },
  {
   "cell_type": "code",
   "execution_count": 5,
   "id": "74afbee0-e235-4b23-8354-de7389e3fc22",
   "metadata": {},
   "outputs": [
    {
     "name": "stdout",
     "output_type": "stream",
     "text": [
      "Schlüssel: Name, Hash-Wert: -244377219201090863\n",
      "Schlüssel: Alter, Hash-Wert: -3115260418091888347\n"
     ]
    }
   ],
   "source": [
    "# Dictionary mit int-Schlüsseln\n",
    "wochentage = {\n",
    "    \"Name\": \"Alin\",\n",
    "    \"Alter\": 20\n",
    "}\n",
    "\n",
    "# Hash-Werte der Schlüssel ausgeben\n",
    "for key in wochentage.keys():\n",
    "    print(f\"Schlüssel: {key}, Hash-Wert: {hash(key)}\")\n"
   ]
  },
  {
   "cell_type": "code",
   "execution_count": null,
   "id": "c8429c2f-8e20-4428-8411-5a0ffaa07bba",
   "metadata": {},
   "outputs": [],
   "source": [
    " "
   ]
  },
  {
   "cell_type": "markdown",
   "id": "869c06c7-a52a-4c46-a38b-c4f046316382",
   "metadata": {},
   "source": [
    "## Tuple und Liste"
   ]
  },
  {
   "cell_type": "code",
   "execution_count": 10,
   "id": "7fa16ed5-efc8-42cc-86bb-daabbbf42fec",
   "metadata": {},
   "outputs": [
    {
     "name": "stdout",
     "output_type": "stream",
     "text": [
      "2920439365440\n",
      "140721144482296\n",
      "140721144482264\n"
     ]
    }
   ],
   "source": [
    "x = (1, 2, \"test\", [1, 2, 3, 7])\n",
    "\n",
    "# x_2 ist keine Kopie der Liste, \n",
    "# sondern eine Referenz auf dasselbe Objekt (die Liste) im Speicher,\n",
    "# das auch im Tuple x enthalten ist.\n",
    "x_2 = x[3]\n",
    "\n",
    "# Eine Kopie der Liste erstellen:\n",
    "x_2 = x[3][:]  # Dies erstellt eine flache Kopie der Liste.\n",
    "# Alternativ kann auch x_2 = x[3].copy() verwendet werden.\n",
    "\n",
    "# Änderung an x_2\n",
    "x_2[0] = 3\n",
    "print(id(x_2))  # Zeigt die ID (Speicheradresse) der kopierten Liste.\n",
    "print(id(x_2[0]))  # Zeigt die ID des ersten Elements der kopierten Liste.\n",
    "print(id(x_2[1]))  # Zeigt die ID des zweiten Elements der kopierten Liste.\n",
    "\n",
    "#print(x_2[2])  # Kann verwendet werden, um das dritte Element auszugeben.\n",
    "#print(\"x_2:\", x_2)  # Gibt den aktuellen Wert von x_2 aus.\n",
    "#print(\"x:\", x)  # Gibt das Original-Tuple aus.\n"
   ]
  },
  {
   "cell_type": "code",
   "execution_count": 11,
   "id": "8bbb03d7-fc57-4023-bc68-1e646edff74e",
   "metadata": {},
   "outputs": [
    {
     "name": "stdout",
     "output_type": "stream",
     "text": [
      "2920439440960\n",
      "2920439440960\n",
      "[4, 2, 3, 7]\n"
     ]
    }
   ],
   "source": [
    "liste = [1, 2, 3, 7]\n",
    "print(id(liste))  # Zeigt die ID (Speicheradresse) der Liste \"liste\".\n",
    "\n",
    "liste_2 = liste  # liste_2 wird eine Referenz auf dasselbe Objekt wie \"liste\".\n",
    "\n",
    "liste_2[0] = 4  # Die erste Zahl in der Liste wird geändert.\n",
    "print(id(liste_2))  # Zeigt die ID von \"liste_2\", die dieselbe wie die von \"liste\" ist.\n",
    "print(liste)  # Gibt die geänderte Liste aus.\n"
   ]
  },
  {
   "cell_type": "code",
   "execution_count": 12,
   "id": "adb28495-fafe-4661-ab2d-6ce698139f09",
   "metadata": {},
   "outputs": [
    {
     "name": "stdout",
     "output_type": "stream",
     "text": [
      "140721144482296\n",
      "140721144482328\n",
      "3\n"
     ]
    }
   ],
   "source": [
    "# Unveränderbarer Datentyp\n",
    "zahl = 3\n",
    "print(id(zahl))  # Zeigt die ID (Speicheradresse) des Objekts, das 3 repräsentiert.\n",
    "\n",
    "zahl_2 = zahl  # Zahl 2 bekommt den Wert von Zahl, aber es verweist auf dasselbe Objekt.\n",
    "\n",
    "# Python erstellt ein neues Objekt für die Zahl 4\n",
    "zahl_2 = 4\n",
    "print(id(zahl_2))  # Zeigt die ID des neuen Objekts, das 4 repräsentiert.\n",
    "print(zahl)  # Zahl bleibt unverändert und gibt 3 zurück.\n"
   ]
  },
  {
   "cell_type": "code",
   "execution_count": null,
   "id": "650eab2f-1b58-48af-a1fb-3a537b8c86c0",
   "metadata": {},
   "outputs": [],
   "source": []
  }
 ],
 "metadata": {
  "kernelspec": {
   "display_name": "Python 3 (ipykernel)",
   "language": "python",
   "name": "python3"
  },
  "language_info": {
   "codemirror_mode": {
    "name": "ipython",
    "version": 3
   },
   "file_extension": ".py",
   "mimetype": "text/x-python",
   "name": "python",
   "nbconvert_exporter": "python",
   "pygments_lexer": "ipython3",
   "version": "3.12.2"
  }
 },
 "nbformat": 4,
 "nbformat_minor": 5
}
