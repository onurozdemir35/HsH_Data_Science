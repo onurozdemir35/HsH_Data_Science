{
 "cells": [
  {
   "cell_type": "markdown",
   "id": "7d21f7b4-0006-4378-851a-20989359079f",
   "metadata": {},
   "source": [
    "# Dateiverwaltung in Python\n",
    "\n",
    "Python bietet einfache und leistungsfähige Funktionen für die Verwaltung von Dateien. Hier sind die grundlegenden Operationen:\n",
    "\n",
    "## 1. Öffnen und Schließen von Dateien\n",
    "- Dateien werden mit der `open()`-Funktion geöffnet.\n",
    "- **Modusparameter**:\n",
    "    - **\"r\" (Lesen)**: Öffnet eine Datei zum Lesen. Wenn die Datei nicht existiert, wird ein Fehler zurückgegeben.\n",
    "    - **\"a\" (Anhängen)**: Öffnet eine Datei zum Anhängen von Daten. Falls die Datei nicht existiert, wird sie erstellt.\n",
    "    - **\"w\" (Schreiben)**: Öffnet eine Datei zum Schreiben. Wenn die Datei nicht existiert, wird sie erstellt. Wenn die Datei schon existiert, wird sie überschrieben.\n",
    "    - **\"x\" (Erstellen)**: Erstellt eine neue Datei. Falls die Datei bereits existiert, wird ein Fehler ausgelöst.\n",
    " - Mit der `close()`-Methode wird die Datei geschlossen.\n",
    "\n",
    " \n",
    "\n",
    "\n",
    "\n",
    "### Beispiel:\n"
   ]
  },
  {
   "cell_type": "code",
   "execution_count": 1,
   "id": "6c72da72-6cdd-41d6-8176-203dc0aae468",
   "metadata": {},
   "outputs": [
    {
     "name": "stdout",
     "output_type": "stream",
     "text": [
      "Dies ist ein Beispieltext.\n",
      "Python macht Dateiverwaltung einfach.\n",
      "Zeilen kÃ¶nnen gelesen, geschrieben oder angehÃ¤ngt werden.\n",
      "Viel Erfolg beim Programmieren!\n",
      "\n"
     ]
    }
   ],
   "source": [
    "file = open(\"example.txt\", \"r\")  # Datei öffnen\n",
    "content = file.read()  # Inhalt lesen\n",
    "print(content)\n",
    "file.close()  # Datei schließen\n"
   ]
  },
  {
   "cell_type": "code",
   "execution_count": 5,
   "id": "e68316bb-cd29-4098-86ac-714b0d990ba1",
   "metadata": {},
   "outputs": [
    {
     "name": "stdout",
     "output_type": "stream",
     "text": [
      "Dies ist ein Beispie\n"
     ]
    }
   ],
   "source": [
    "file = open(\"example.txt\", \"r\")\n",
    "print(file.read(20))\n"
   ]
  },
  {
   "cell_type": "markdown",
   "id": "9eafb15f-6a07-496e-a974-aea9408b4f56",
   "metadata": {},
   "source": [
    "## 2. Kontextmanager verwenden (`with`-Anweisung)\n",
    "- Automatisches Schließen der Datei, auch wenn Fehler auftreten.\n",
    "- Die Datei wird nach dem Verlassen des `with`-Blocks automatisch geschlossen.\n",
    " "
   ]
  },
  {
   "cell_type": "code",
   "execution_count": 6,
   "id": "dab5d6ef-59ba-4f13-a2a1-405a9543748c",
   "metadata": {},
   "outputs": [
    {
     "name": "stdout",
     "output_type": "stream",
     "text": [
      "Dies ist ein Beispieltext.\n",
      "Python macht Dateiverwaltung einfach.\n",
      "Zeilen kÃ¶nnen gelesen, geschrieben oder angehÃ¤ngt werden.\n",
      "Viel Erfolg beim Programmieren!\n",
      "\n"
     ]
    }
   ],
   "source": [
    "with open(\"example.txt\", \"r\") as file:\n",
    "    content = file.read()\n",
    "    print(content)\n",
    "# Datei wird automatisch geschlossen\n"
   ]
  },
  {
   "cell_type": "markdown",
   "id": "feaecf15-e108-41e7-946a-736c8a098e11",
   "metadata": {},
   "source": [
    "## 3. Lesen von Dateien\n",
    "- **`read()`**: Liest den gesamten Inhalt der Datei als String.\n",
    "- **`readline()`**: Liest eine Zeile.\n",
    "- **`readlines()`**: Liest alle Zeilen und gibt sie als Liste zurück.\n",
    "\n",
    "### Beispiel:\n",
    " \n"
   ]
  },
  {
   "cell_type": "code",
   "execution_count": 14,
   "id": "60f44e0b-20ea-4ceb-926c-581386ecd1a9",
   "metadata": {},
   "outputs": [
    {
     "name": "stdout",
     "output_type": "stream",
     "text": [
      "Dies ist ein Beispieltext.\n",
      "Python macht Dateiverwaltung einfach.\n",
      "Zeilen kÃ¶nnen gelesen, geschrieben oder angehÃ¤ngt werden.\n",
      "Viel Erfolg beim Programmieren!\n",
      "\n"
     ]
    }
   ],
   "source": [
    "with open(\"example.txt\", \"r\") as file:\n",
    "    print(file.read())         # Gesamten Inhalt lesen\n"
   ]
  },
  {
   "cell_type": "code",
   "execution_count": 12,
   "id": "96cf688c-5b85-491d-825c-997b1e664f4d",
   "metadata": {},
   "outputs": [
    {
     "name": "stdout",
     "output_type": "stream",
     "text": [
      "Dies ist ein Beispieltext.\n",
      "\n"
     ]
    }
   ],
   "source": [
    "with open(\"example.txt\", \"r\") as file:\n",
    "    print(file.readline())     # Nur eine Zeile lesen\n"
   ]
  },
  {
   "cell_type": "code",
   "execution_count": 17,
   "id": "016a78b0-ab3f-47b2-ab8c-f50f44d411b6",
   "metadata": {},
   "outputs": [
    {
     "name": "stdout",
     "output_type": "stream",
     "text": [
      "['Dies ist ein Beispieltext.\\n', 'Python macht Dateiverwaltung einfach.\\n', 'Zeilen kÃ¶nnen gelesen, geschrieben oder angehÃ¤ngt werden.\\n', 'Viel Erfolg beim Programmieren!\\n']\n"
     ]
    }
   ],
   "source": [
    "with open(\"example.txt\", \"r\") as file:\n",
    "    print(file.readlines())    # Alle Zeilen als Liste"
   ]
  },
  {
   "cell_type": "code",
   "execution_count": 19,
   "id": "8debf483-0099-41b5-a5e8-4403dd8e7522",
   "metadata": {},
   "outputs": [
    {
     "name": "stdout",
     "output_type": "stream",
     "text": [
      "Python macht Dateiverwaltung einfach.\n",
      "\n"
     ]
    }
   ],
   "source": [
    "with open(\"example.txt\", \"r\") as file:\n",
    "    text = file.readlines()\n",
    "    print(text[1])    # Alle Zeilen als Liste"
   ]
  },
  {
   "cell_type": "markdown",
   "id": "cc3fcfed-49f0-4fbb-bb97-6e92dc7fe9e9",
   "metadata": {},
   "source": [
    "## 4. Schreiben in Dateien\n",
    "- **`write()`**: Fügt Text hinzu.\n",
    "- **`writelines()`**: Schreibt eine Liste von Strings.\n"
   ]
  },
  {
   "cell_type": "code",
   "execution_count": 21,
   "id": "6b9f15c2-ef57-444c-a302-eadbc59c2db0",
   "metadata": {},
   "outputs": [],
   "source": [
    "with open(\"example_2.txt\", \"w\") as file:\n",
    "    file.write(\"Das ist ein Test.\\n\")  # Fügt eine einzelne Zeile hinzu\n",
    "    file.writelines([\"Zeile 1\\n\", \"Zeile 2\\n\"])  # Fügt mehrere Zeilen hinzu"
   ]
  },
  {
   "cell_type": "code",
   "execution_count": 22,
   "id": "dda8e31f-73fe-4ad7-83ce-f01fb5392aee",
   "metadata": {},
   "outputs": [],
   "source": [
    "with open(\"example_2.txt\", \"w\") as file:\n",
    "    file.write(\"Das ist ein zweite Test.\\n\")  # Fügt eine einzelne Zeile hinzu\n"
   ]
  },
  {
   "cell_type": "markdown",
   "id": "7127d942-f5e5-4c86-9af3-10d42308b71a",
   "metadata": {},
   "source": [
    "## 5. Datei anhängen\n",
    "- Mit dem Modus `'a'` wird der bestehende Inhalt nicht überschrieben, sondern neuer Text wird ans Ende der Datei angehängt.\n",
    "\n",
    "### Beispiel:\n",
    "\n"
   ]
  },
  {
   "cell_type": "code",
   "execution_count": 23,
   "id": "0b544376-cc09-4aff-adaf-562f13ac9335",
   "metadata": {},
   "outputs": [],
   "source": [
    "with open(\"example_2.txt\", \"a\") as file:\n",
    "    file.write(\"Neue Zeile hinzufügen.\\n\")"
   ]
  },
  {
   "cell_type": "markdown",
   "id": "421371bb-99a2-43fd-aa8a-898a20176e29",
   "metadata": {},
   "source": [
    "## 6. Datei löschen\n",
    "- Zum Löschen von Dateien wird das Modul `os` verwendet.\n",
    "\n",
    "### Beispiel:"
   ]
  },
  {
   "cell_type": "code",
   "execution_count": 24,
   "id": "61da662d-c293-400b-8dc6-128be3f6e6aa",
   "metadata": {},
   "outputs": [],
   "source": [
    "import os\n",
    "\n",
    "if os.path.exists(\"example_2.txt\"):\n",
    "    os.remove(\"example_2.txt\")\n",
    "else:\n",
    "    print(\"Die Datei existiert nicht.\")\n"
   ]
  },
  {
   "cell_type": "markdown",
   "id": "1242366e-9061-4403-aab0-8e5f21dbe1c8",
   "metadata": {},
   "source": [
    "\n",
    "markdown\n",
    "Code kopieren\n",
    "## 7. Praktische Methoden\n",
    "- **`os.rename()`**: Datei umbenennen.\n",
    "- **`os.path.exists()`**: Prüft, ob eine Datei existiert.\n",
    "- **`os.mkdir()` / `os.makedirs()`**: Ordner erstellen."
   ]
  },
  {
   "cell_type": "code",
   "execution_count": 25,
   "id": "5a9e8430-a953-48ba-a3a9-899cfaea2310",
   "metadata": {},
   "outputs": [],
   "source": [
    "import os\n",
    "os.rename(\"example.txt\", \"example_2.txt\")\n"
   ]
  },
  {
   "cell_type": "code",
   "execution_count": 26,
   "id": "aca4140f-e502-4bdb-8755-a4fc1673a96b",
   "metadata": {},
   "outputs": [
    {
     "name": "stdout",
     "output_type": "stream",
     "text": [
      "Die Datei existiert nicht.\n"
     ]
    }
   ],
   "source": [
    "import os\n",
    "\n",
    "# Überprüfen, ob eine Datei existiert\n",
    "if os.path.exists(\"beispiel.txt\"):\n",
    "    print(\"Die Datei existiert!\")\n",
    "else:\n",
    "    print(\"Die Datei existiert nicht.\")\n"
   ]
  },
  {
   "cell_type": "code",
   "execution_count": 27,
   "id": "3dad8c48-d5b9-436b-b3ca-1a9193f4b075",
   "metadata": {},
   "outputs": [],
   "source": [
    "import os\n",
    "\n",
    "# Erstellen eines neuen Verzeichnisses\n",
    "os.mkdir(\"neuer_ordner\")\n"
   ]
  },
  {
   "cell_type": "code",
   "execution_count": 12,
   "id": "0ee00e05-6e66-47cc-a0ce-d6f4483e14b7",
   "metadata": {},
   "outputs": [
    {
     "name": "stdout",
     "output_type": "stream",
     "text": [
      "Inhalt der Datei:\n",
      "Hallo Welt!\n",
      "\n",
      "Datei wurde gelöscht.\n"
     ]
    }
   ],
   "source": [
    "import os\n",
    "\n",
    "# Datei erstellen und schreiben\n",
    "with open(\"example_2.txt\", \"w\") as file:\n",
    "    file.write(\"Hallo Welt!\\n\")\n",
    "\n",
    "# Datei lesen\n",
    "with open(\"example_2.txt\", \"r\") as file:\n",
    "    print(\"Inhalt der Datei:\")\n",
    "    print(file.read())\n",
    "\n",
    "# Datei anhängen\n",
    "with open(\"example_2.txt\", \"a\") as file:\n",
    "    file.write(\"Neue Zeile.\\n\")\n",
    "\n",
    "# Datei überprüfen und löschen\n",
    "if os.path.exists(\"example_2.txt\"):\n",
    "    os.remove(\"example_2.txt\")\n",
    "    print(\"Datei wurde gelöscht.\")\n",
    "else:\n",
    "    print(\"Die Datei existiert nicht.\")\n"
   ]
  },
  {
   "cell_type": "code",
   "execution_count": 4,
   "id": "eed014d8-c464-4cb1-b49b-42585cec4226",
   "metadata": {},
   "outputs": [],
   "source": [
    "with open(\"test.txt\", \"x\") as file:\n",
    "    file.write(\"Döndüm daldan düsen kuru yapraga\")\n",
    "    "
   ]
  },
  {
   "cell_type": "code",
   "execution_count": 14,
   "id": "6cf5ee87-6f54-4e57-a418-1667af26d872",
   "metadata": {},
   "outputs": [],
   "source": [
    "with open(\"test.txt\", \"w\") as file:\n",
    "    file.write(\"Leylim ley\\n\")\n",
    "    file.writelines([\"Döndüm daldan düsen kuru yapraga\\n\",\"Leylim ley\"])"
   ]
  },
  {
   "cell_type": "code",
   "execution_count": 17,
   "id": "55c441ee-50d8-4663-8fb4-346d8d99bd73",
   "metadata": {},
   "outputs": [
    {
     "name": "stdout",
     "output_type": "stream",
     "text": [
      "Leylim ley\n",
      "Döndüm daldan düsen kuru yapraga\n",
      "Leylim ley\n",
      "\n",
      "[]\n"
     ]
    }
   ],
   "source": [
    "with open(\"test.txt\", \"r\") as file:\n",
    "    print(file.read())\n",
    "    print(file.readline())\n",
    "    print(file.readlines())"
   ]
  },
  {
   "cell_type": "code",
   "execution_count": 18,
   "id": "11183618-f660-4e68-9ff3-69461f8f08e3",
   "metadata": {},
   "outputs": [
    {
     "name": "stdout",
     "output_type": "stream",
     "text": [
      "Leylim ley\n",
      "\n"
     ]
    }
   ],
   "source": [
    "with open(\"test.txt\", \"r\") as file:\n",
    "    print(file.readline())\n",
    "    "
   ]
  },
  {
   "cell_type": "code",
   "execution_count": 19,
   "id": "42fac946-e9a1-4bca-bc90-c15061aeb60e",
   "metadata": {},
   "outputs": [
    {
     "name": "stdout",
     "output_type": "stream",
     "text": [
      "['Leylim ley\\n', 'Döndüm daldan düsen kuru yapraga\\n', 'Leylim ley']\n"
     ]
    }
   ],
   "source": [
    "with open(\"test.txt\", \"r\") as file:\n",
    "    print(file.readlines())"
   ]
  },
  {
   "cell_type": "code",
   "execution_count": null,
   "id": "b5c60ebd-aec1-449f-b29d-576d35f6f27e",
   "metadata": {},
   "outputs": [],
   "source": [
    "import os\n",
    "os.rename(\"test.txt\", \"test1.txt\")"
   ]
  },
  {
   "cell_type": "code",
   "execution_count": null,
   "id": "174efcaa-81c2-47f2-8bab-25319194a8df",
   "metadata": {},
   "outputs": [],
   "source": [
    "import os\n",
    "if os.path.exists(\"test.txt\"):\n",
    "    os.remove(\"test.txt\")\n"
   ]
  }
 ],
 "metadata": {
  "kernelspec": {
   "display_name": "Python 3 (ipykernel)",
   "language": "python",
   "name": "python3"
  },
  "language_info": {
   "codemirror_mode": {
    "name": "ipython",
    "version": 3
   },
   "file_extension": ".py",
   "mimetype": "text/x-python",
   "name": "python",
   "nbconvert_exporter": "python",
   "pygments_lexer": "ipython3",
   "version": "3.12.7"
  }
 },
 "nbformat": 4,
 "nbformat_minor": 5
}
