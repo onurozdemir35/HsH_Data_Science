{
 "cells": [
  {
   "cell_type": "markdown",
   "id": "5119a277-ec70-4f9d-a625-5fcbf8540600",
   "metadata": {},
   "source": [
    "# Übungen zur Dateiverwaltung in Python\n",
    "\n",
    " \n",
    "\n"
   ]
  },
  {
   "cell_type": "markdown",
   "id": "02c0060e-e05b-4934-8427-0089db56135d",
   "metadata": {},
   "source": [
    "## Übung 1: Datei erstellen und schreiben (15 Min.)\n",
    "**Aufgabe**: Erstelle eine Datei `notes.txt` und schreibe die folgenden Zeilen hinein:\n",
    "1. Python ist eine vielseitige Programmiersprache.\n",
    "2. Dateiverwaltung in Python ist einfach und effektiv.\n",
    "3. Es gibt verschiedene Modi zum Arbeiten mit Dateien."
   ]
  },
  {
   "cell_type": "code",
   "execution_count": 2,
   "id": "ef847e74-0a12-4d9c-b5a1-f1e476515513",
   "metadata": {},
   "outputs": [
    {
     "ename": "FileExistsError",
     "evalue": "[Errno 17] File exists: 'notes_2.txt'",
     "output_type": "error",
     "traceback": [
      "\u001b[1;31m---------------------------------------------------------------------------\u001b[0m",
      "\u001b[1;31mFileExistsError\u001b[0m                           Traceback (most recent call last)",
      "Cell \u001b[1;32mIn[2], line 2\u001b[0m\n\u001b[0;32m      1\u001b[0m \u001b[38;5;66;03m# Schreibt bitte eure Lösung hier\u001b[39;00m\n\u001b[1;32m----> 2\u001b[0m \u001b[38;5;28;01mwith\u001b[39;00m \u001b[38;5;28mopen\u001b[39m(\u001b[38;5;124m\"\u001b[39m\u001b[38;5;124mnotes_2.txt\u001b[39m\u001b[38;5;124m\"\u001b[39m, \u001b[38;5;124m\"\u001b[39m\u001b[38;5;124mx\u001b[39m\u001b[38;5;124m\"\u001b[39m) \u001b[38;5;28;01mas\u001b[39;00m file:\n\u001b[0;32m      3\u001b[0m     file\u001b[38;5;241m.\u001b[39mwrite(\u001b[38;5;124m\"\u001b[39m\u001b[38;5;124mPython ist eine vielseitige Programmiersprache.\u001b[39m\u001b[38;5;130;01m\\n\u001b[39;00m\u001b[38;5;124m\"\u001b[39m)\n\u001b[0;32m      4\u001b[0m     file\u001b[38;5;241m.\u001b[39mwrite(\u001b[38;5;124m\"\u001b[39m\u001b[38;5;124mPython ist eine opensource Programmiersprache.\u001b[39m\u001b[38;5;130;01m\\n\u001b[39;00m\u001b[38;5;124m\"\u001b[39m)\n",
      "File \u001b[1;32mC:\\ProgramData\\anaconda3\\Lib\\site-packages\\IPython\\core\\interactiveshell.py:324\u001b[0m, in \u001b[0;36m_modified_open\u001b[1;34m(file, *args, **kwargs)\u001b[0m\n\u001b[0;32m    317\u001b[0m \u001b[38;5;28;01mif\u001b[39;00m file \u001b[38;5;129;01min\u001b[39;00m {\u001b[38;5;241m0\u001b[39m, \u001b[38;5;241m1\u001b[39m, \u001b[38;5;241m2\u001b[39m}:\n\u001b[0;32m    318\u001b[0m     \u001b[38;5;28;01mraise\u001b[39;00m \u001b[38;5;167;01mValueError\u001b[39;00m(\n\u001b[0;32m    319\u001b[0m         \u001b[38;5;124mf\u001b[39m\u001b[38;5;124m\"\u001b[39m\u001b[38;5;124mIPython won\u001b[39m\u001b[38;5;124m'\u001b[39m\u001b[38;5;124mt let you open fd=\u001b[39m\u001b[38;5;132;01m{\u001b[39;00mfile\u001b[38;5;132;01m}\u001b[39;00m\u001b[38;5;124m by default \u001b[39m\u001b[38;5;124m\"\u001b[39m\n\u001b[0;32m    320\u001b[0m         \u001b[38;5;124m\"\u001b[39m\u001b[38;5;124mas it is likely to crash IPython. If you know what you are doing, \u001b[39m\u001b[38;5;124m\"\u001b[39m\n\u001b[0;32m    321\u001b[0m         \u001b[38;5;124m\"\u001b[39m\u001b[38;5;124myou can use builtins\u001b[39m\u001b[38;5;124m'\u001b[39m\u001b[38;5;124m open.\u001b[39m\u001b[38;5;124m\"\u001b[39m\n\u001b[0;32m    322\u001b[0m     )\n\u001b[1;32m--> 324\u001b[0m \u001b[38;5;28;01mreturn\u001b[39;00m io_open(file, \u001b[38;5;241m*\u001b[39margs, \u001b[38;5;241m*\u001b[39m\u001b[38;5;241m*\u001b[39mkwargs)\n",
      "\u001b[1;31mFileExistsError\u001b[0m: [Errno 17] File exists: 'notes_2.txt'"
     ]
    }
   ],
   "source": [
    "# Schreibt bitte eure Lösung hier\n",
    "with open(\"notes_2.txt\", \"x\") as file:\n",
    "    file.write(\"Python ist eine vielseitige Programmiersprache.\\n\")\n",
    "    file.write(\"Python ist eine opensource Programmiersprache.\\n\")\n",
    "    file.write(\"Python ist eine einfach Programmiersprache.\")"
   ]
  },
  {
   "cell_type": "code",
   "execution_count": 5,
   "id": "1405b4d8-217f-4715-b7bb-39603c7b3563",
   "metadata": {},
   "outputs": [],
   "source": [
    "with open(\"notes.txt\", \"x\") as file:\n",
    "    file.write(\"Dies ist ein Beispieltext.\\n\")\n",
    "    file.write(\"Python macht Dateiverwaltung einfach.\\n\")\n",
    "    file.write(\"Zeilen können gelesen, geschrieben oder angehängt werden.\")\n",
    "    file.write(\"Viel Erfolg beim Programmieren!\")"
   ]
  },
  {
   "cell_type": "markdown",
   "id": "4a9d0fff-fe38-43a0-9822-7c18f02f3d56",
   "metadata": {},
   "source": [
    "## Übung 2: Datei lesen (15 Min.)\n",
    "**Aufgabe**: Lese den Inhalt der Datei `notes.txt` und gib ihn in der Konsole aus.\n"
   ]
  },
  {
   "cell_type": "code",
   "execution_count": 3,
   "id": "c0b17d8e-b603-40e0-a4f9-8b8b1d088346",
   "metadata": {},
   "outputs": [
    {
     "name": "stdout",
     "output_type": "stream",
     "text": [
      "Python ist eine vielseitige Programmiersprache.\n",
      "Python ist eine opensource Programmiersprache.\n",
      "Python ist eine einfach Programmiersprache.\n"
     ]
    }
   ],
   "source": [
    "# Schreibt bitte eure Lösung hier\n",
    "file = open(\"notes_2.txt\", \"r\")\n",
    "content = file.read()\n",
    "print(content)\n",
    "file.close()"
   ]
  },
  {
   "cell_type": "code",
   "execution_count": null,
   "id": "e83a8bc9-349e-4b3e-9e7b-a419788ec9ba",
   "metadata": {},
   "outputs": [],
   "source": []
  },
  {
   "cell_type": "markdown",
   "id": "65aeea01-8ad3-438d-8cab-d29ea180ea5c",
   "metadata": {},
   "source": [
    "## Übung 3: Zeilenweise lesen (15 Min.)\n",
    "**Aufgabe**: Lese die Datei `notes.txt` zeilenweise und gib jede Zeile einzeln aus.\n"
   ]
  },
  {
   "cell_type": "code",
   "execution_count": 6,
   "id": "e741978d-edaf-4d92-a4df-655e2e73f0b2",
   "metadata": {},
   "outputs": [
    {
     "name": "stdout",
     "output_type": "stream",
     "text": [
      "Dies ist ein Beispieltext.\n",
      "\n"
     ]
    }
   ],
   "source": [
    "# Schreibt bitte eure Lösung hier\n",
    "with open(\"notes.txt\",\"r\") as file:\n",
    "    print(file.readline())"
   ]
  },
  {
   "cell_type": "markdown",
   "id": "83dfe51a-ac98-4e90-aadc-5ed1d55c4d09",
   "metadata": {},
   "source": [
    "## Übung 4: Anhängen an eine Datei (10 Min.)\n",
    "**Aufgabe**: Füge der Datei `notes.txt` eine neue Zeile hinzu: \"Dateien in Python sind einfach zu handhaben.\"\n",
    "\n"
   ]
  },
  {
   "cell_type": "code",
   "execution_count": 4,
   "id": "e298c816-43be-4733-85ef-042031442fd8",
   "metadata": {},
   "outputs": [],
   "source": [
    "# Schreibt bitte eure Lösung hier\n",
    "with open(\"notes.txt\", \"w\") as file:\n",
    "    file.write(\"Das ist ein Test. \\n\")\n",
    "    "
   ]
  },
  {
   "cell_type": "markdown",
   "id": "a70e1b37-e556-40d8-a52b-3c353b6de7b9",
   "metadata": {},
   "source": [
    "## Übung 5: Datei umbenennen (10 Min.)\n",
    "**Aufgabe**: Benenne die Datei `notes.txt` in `my_notes.txt` um.\n"
   ]
  },
  {
   "cell_type": "code",
   "execution_count": 2,
   "id": "1c75c980-fafb-4967-ad16-564d92fd027d",
   "metadata": {},
   "outputs": [],
   "source": [
    "# Schreibt bitte eure Lösung hier\n",
    "import os\n",
    "os.rename(\"notes.txt\",\"my_notes.txt\" )"
   ]
  },
  {
   "cell_type": "markdown",
   "id": "be70b5a0-d030-457c-8bc3-28e340222ad3",
   "metadata": {},
   "source": [
    "## Übung 7: Ordner erstellen (10 Min.)\n",
    "**Aufgabe**: Erstelle einen Ordner `my_folder` im aktuellen Verzeichnis."
   ]
  },
  {
   "cell_type": "code",
   "execution_count": 4,
   "id": "e5bfff63-b141-4cdb-8b1b-5688d7bf34c1",
   "metadata": {},
   "outputs": [],
   "source": [
    "# Schreibt bitte eure Lösung hier\n",
    "os.mkdir(\"my_folder\")"
   ]
  },
  {
   "cell_type": "markdown",
   "id": "9d0a4761-06ea-41f2-8f3e-fc757ea8a2ad",
   "metadata": {},
   "source": [
    "## Übung 8: Datei löschen (10 Min.)\n",
    "**Aufgabe**: Lösche die Datei `my_notes.txt`, falls sie existiert.\n",
    "\n"
   ]
  },
  {
   "cell_type": "code",
   "execution_count": 7,
   "id": "65dbad14-a11f-4be2-a38c-b69c063eaf55",
   "metadata": {},
   "outputs": [],
   "source": [
    "# Schreibt bitte eure Lösung hier\n"
   ]
  }
 ],
 "metadata": {
  "kernelspec": {
   "display_name": "Python 3 (ipykernel)",
   "language": "python",
   "name": "python3"
  },
  "language_info": {
   "codemirror_mode": {
    "name": "ipython",
    "version": 3
   },
   "file_extension": ".py",
   "mimetype": "text/x-python",
   "name": "python",
   "nbconvert_exporter": "python",
   "pygments_lexer": "ipython3",
   "version": "3.12.7"
  }
 },
 "nbformat": 4,
 "nbformat_minor": 5
}
