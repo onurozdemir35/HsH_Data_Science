{
 "cells": [
  {
   "cell_type": "markdown",
   "id": "3e314ca5-d312-4d81-bce3-9f9d499be8e2",
   "metadata": {},
   "source": [
    "# Aufgabe 1: Eine Funktion, die \"Hallo, Welt!\" ausgibt (5 Min.)\n",
    "\n",
    "**Aufgabe**: Schreibe eine Funktion `gruesse()`, die den Text \"Hallo, Welt!\" ausgibt."
   ]
  },
  {
   "cell_type": "code",
   "execution_count": 1,
   "id": "5eb102f7-dd28-42e8-a70e-752ce91ae717",
   "metadata": {},
   "outputs": [],
   "source": [
    "# Schreibt bitte eure Lösung hier\n"
   ]
  },
  {
   "cell_type": "markdown",
   "id": "27ef224a-f326-48bd-8c09-20e3aeafb99f",
   "metadata": {},
   "source": [
    "# Aufgabe 2: Eine Funktion, die die Zahl 42 zurückgibt (5 Min.)\n",
    "\n",
    "**Aufgabe**: Schreibe eine Funktion `liefere_zahl()`, die immer die Zahl 42 zurückgibt.\n"
   ]
  },
  {
   "cell_type": "code",
   "execution_count": 2,
   "id": "c48ae6df-663a-40be-9b35-0a55cdea08ec",
   "metadata": {},
   "outputs": [],
   "source": [
    "# Schreibt bitte eure Lösung hier\n"
   ]
  },
  {
   "cell_type": "markdown",
   "id": "f709d5b4-5b8f-4516-bc6b-cec1959bc9e3",
   "metadata": {},
   "source": [
    "# Aufgabe 3: Eine Funktion, die den Wert 10 verdoppelt (5 Min.)\n",
    "\n",
    "**Aufgabe**: Schreibe eine Funktion `verdopple()`, die den Wert 10 verdoppelt und das Ergebnis zurückgibt.\n",
    "\n"
   ]
  },
  {
   "cell_type": "code",
   "execution_count": 3,
   "id": "fd4ba2d4-fafb-4a2d-ad04-5babee2741d8",
   "metadata": {},
   "outputs": [],
   "source": [
    "# Schreibt bitte eure Lösung hier\n",
    "\n"
   ]
  },
  {
   "cell_type": "markdown",
   "id": "837b77a5-b087-420a-9c71-c0d3465199b2",
   "metadata": {},
   "source": [
    "# Aufgabe 4: Einfache Funktion zur Addition (5 Min.)\n",
    "\n",
    "**Aufgabe**: Schreibe eine Funktion, die zwei Zahlen entgegennimmt und deren Summe zurückgibt.\n"
   ]
  },
  {
   "cell_type": "code",
   "execution_count": 4,
   "id": "c56172ef-4bb1-4ea0-acc2-8c44652c1c6f",
   "metadata": {},
   "outputs": [],
   "source": [
    "# Schreibt bitte eure Lösung hier\n",
    "\n"
   ]
  },
  {
   "cell_type": "markdown",
   "id": "b1983087-406c-4262-9cb6-56c9ef24cd65",
   "metadata": {},
   "source": [
    "# Aufgabe 5: Funktion zur Überprüfung, ob eine Zahl gerade oder ungerade ist (5 Min.)\n",
    "\n",
    "**Aufgabe**: Schreibe eine Funktion, die überprüft, ob eine Zahl gerade oder ungerade ist.\n"
   ]
  },
  {
   "cell_type": "code",
   "execution_count": 5,
   "id": "ad830b66-8a5d-4b85-8e14-b0ea31f94c17",
   "metadata": {},
   "outputs": [],
   "source": [
    "# Schreibt bitte eure Lösung hier\n",
    "\n"
   ]
  },
  {
   "cell_type": "markdown",
   "id": "24070859-4258-4219-be4b-7f23715ce098",
   "metadata": {},
   "source": [
    "# Aufgabe 6: Funktion zur Berechnung der Fakultät einer Zahl (10 Min.)\n",
    "\n",
    "**Aufgabe**: Schreibe eine Funktion, die die Fakultät einer Zahl berechnet."
   ]
  },
  {
   "cell_type": "code",
   "execution_count": 6,
   "id": "374bae18-39e8-46c3-90a9-2966e1028a7c",
   "metadata": {},
   "outputs": [],
   "source": [
    "# Schreibt bitte eure Lösung hier\n",
    "\n"
   ]
  },
  {
   "cell_type": "markdown",
   "id": "fa2c2eae-ece7-4700-b62a-ee6ddc690c67",
   "metadata": {},
   "source": [
    "## Aufgabe 7: Funktion zur Bestimmung des größten von drei Zahlen (5 Min.)\n",
    "\n",
    "**Aufgabe**: Schreibe eine Funktion, die die größte von drei Zahlen zurückgibt.\n"
   ]
  },
  {
   "cell_type": "code",
   "execution_count": 7,
   "id": "91f66726-9440-4361-82da-51b92c4169e5",
   "metadata": {},
   "outputs": [],
   "source": [
    "# Schreibt bitte eure Lösung hier\n",
    "\n"
   ]
  },
  {
   "cell_type": "markdown",
   "id": "17ca128b-b014-4d0d-9849-9f290d65a242",
   "metadata": {},
   "source": [
    "## Aufgabe 8: Funktion zur Berechnung des Potenzwertes (5 Min.)\n",
    "\n",
    "**Aufgabe**: Schreibe eine Funktion, die eine Zahl und einen Exponenten als Argumente entgegennimmt und die Zahl hoch dem Exponenten zurückgibt.\n",
    "\n"
   ]
  },
  {
   "cell_type": "code",
   "execution_count": 8,
   "id": "d32742f7-f8ad-4af5-b207-50a2a36c7e36",
   "metadata": {},
   "outputs": [],
   "source": [
    "# Schreibt bitte eure Lösung hier\n"
   ]
  },
  {
   "cell_type": "markdown",
   "id": "c0fd5b81-1cc6-4854-a147-30df4db7a879",
   "metadata": {},
   "source": [
    "## Aufgabe 10: Funktion zur Bestimmung, ob eine Zahl positiv, negativ oder null ist (5 Min.)\n",
    "\n",
    "**Aufgabe**: Schreibe eine Funktion, die überprüft, ob eine Zahl positiv, negativ oder null ist.\n"
   ]
  },
  {
   "cell_type": "code",
   "execution_count": 9,
   "id": "02372d78-c242-4968-9567-d053d4d79a66",
   "metadata": {},
   "outputs": [],
   "source": [
    "# Schreibt bitte eure Lösung hier\n",
    "\n"
   ]
  },
  {
   "cell_type": "markdown",
   "id": "a0772271-4dbf-4a7b-919d-be914255943f",
   "metadata": {},
   "source": [
    "## Aufgabe 11: Lambda-Funktion zur Berechnung des Quadrats einer Zahl (5 Min.)\n",
    "\n",
    "**Aufgabe**:\n",
    "Schreibe eine Lambda-Funktion, die das Quadrat einer gegebenen Zahl berechnet. Verwende diese Lambda-Funktion, um die Quadrate der Zahlen in einer Liste zu berechnen."
   ]
  },
  {
   "cell_type": "code",
   "execution_count": 10,
   "id": "cba9d5a5-909c-4cf9-bf75-673d39fd25d7",
   "metadata": {},
   "outputs": [],
   "source": [
    "# Schreibt bitte eure Lösung hier\n",
    "\n"
   ]
  },
  {
   "cell_type": "markdown",
   "id": "e05e10ca-23f7-4027-8a93-672fcca7394b",
   "metadata": {},
   "source": [
    "## Aufgabe 12: Sortieren einer Liste von Tupeln nach dem zweiten Element (10 Min.)\n",
    "**Aufgabe**:\n",
    "Schreibe eine Lambda-Funktion, die eine Liste von Tupeln nach dem zweiten Element in jedem Tupel sortiert."
   ]
  },
  {
   "cell_type": "code",
   "execution_count": 11,
   "id": "ab17647b-ce8c-46c6-9472-392315a637b0",
   "metadata": {},
   "outputs": [],
   "source": [
    "# Schreibt bitte eure Lösung hier\n"
   ]
  },
  {
   "cell_type": "markdown",
   "id": "0bc380e7-3d71-42fe-8fa0-7735a72cd6ac",
   "metadata": {},
   "source": [
    "## Aufgabe 13: **Computergestützter Unterricht** (30 Min.)\n",
    "- Eine Aufgabe aus dem Bachelorstudium im Rahmen des Kurses \"Python 1\" an der Fakultät 3 aus dem Jahr 2019.\n",
    "\n",
    "**Aufgabe**:\n",
    "Computergestützter Unterricht (CAI) bezeichnet den Einsatz von Computern zur Unterstützung des Lernens. In dieser Aufgabe erstellst du ein Skript, das einem Grundschüler hilft, Multiplikationen zu üben.\n",
    "\n",
    "1. **Funktion zur Generierung von Fragen:**  \n",
    "   Schreibe eine Funktion, die zufällig zwei positive einstellige Ganzzahlen (zwischen 1 und 9) generiert und als Tupel zurückgibt.\n",
    "\n",
    "2. **Fragen stellen und Antworten prüfen:**  \n",
    "   Verwende das Ergebnis der Funktion, um dem Benutzer eine Multiplikationsfrage zu stellen, z. B.:\n",
    "   > „Wie viel ist 6 mal 7?“\n",
    "   \n",
    "3. **Antwortauswertung:**  \n",
    "   - Bei einer richtigen Antwort soll die Nachricht „Sehr gut!“ angezeigt werden, und das Programm stellt eine neue Multiplikationsfrage.\n",
    "   - Bei einer falschen Antwort soll die Nachricht „Nein. Bitte versuche es noch einmal.“ angezeigt werden, und der Benutzer muss die gleiche Frage erneut beantworten, bis die richtige Antwort gegeben wird.\n"
   ]
  },
  {
   "cell_type": "code",
   "execution_count": null,
   "id": "7cff75a6-bc3c-42a7-a891-05cfae18643c",
   "metadata": {},
   "outputs": [],
   "source": [
    "# Schreibt bitte eure Lösung hier\n"
   ]
  },
  {
   "cell_type": "markdown",
   "id": "9a5de79c-30a3-4159-9f1e-2a4e9c0d84d8",
   "metadata": {},
   "source": [
    "## Aufgabe 14: Interaktiver Taschenrechner (30 Min.)\n",
    "\n",
    "**Aufgabe**: Schreibe ein Python-Programm, das einen interaktiven Taschenrechner implementiert. Das Programm sollte folgende Anforderungen erfüllen:\n",
    "\n",
    "### Benutzeroberfläche:\n",
    "- Der Benutzer kann zwischen vier Grundoperationen wählen: Addition, Subtraktion, Multiplikation und Division.\n",
    "- Das Programm fragt den Benutzer nach zwei Zahlen und gibt das Ergebnis der ausgewählten Operation aus.\n",
    "\n",
    "### Fehlerbehandlung:\n",
    "- Wenn der Benutzer versucht, durch null zu dividieren, gibt das Programm eine entsprechende Fehlermeldung aus.\n",
    "- Wenn der Benutzer eine ungültige Zahl eingibt, soll das Programm eine Fehlermeldung anzeigen und den Benutzer auffordern, die Eingabe zu wiederholen.\n",
    "\n",
    "### Wiederholung:\n",
    "- Nach jeder Berechnung fragt das Programm den Benutzer, ob er eine weitere Berechnung durchführen möchte. Das Programm soll dann fortfahren, bis der Benutzer „nein“ eingibt.\n"
   ]
  },
  {
   "cell_type": "code",
   "execution_count": 13,
   "id": "bb7b0126-de68-41bf-a691-13954b7ef579",
   "metadata": {},
   "outputs": [],
   "source": [
    "# Schreibt bitte eure Lösung hier\n"
   ]
  },
  {
   "cell_type": "code",
   "execution_count": null,
   "id": "2b4a1554-cf54-4e39-8f09-fafd97b4cf8a",
   "metadata": {},
   "outputs": [],
   "source": []
  }
 ],
 "metadata": {
  "kernelspec": {
   "display_name": "Python 3 (ipykernel)",
   "language": "python",
   "name": "python3"
  },
  "language_info": {
   "codemirror_mode": {
    "name": "ipython",
    "version": 3
   },
   "file_extension": ".py",
   "mimetype": "text/x-python",
   "name": "python",
   "nbconvert_exporter": "python",
   "pygments_lexer": "ipython3",
   "version": "3.12.7"
  }
 },
 "nbformat": 4,
 "nbformat_minor": 5
}
