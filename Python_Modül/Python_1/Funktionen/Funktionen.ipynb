{
 "cells": [
  {
   "cell_type": "markdown",
   "id": "7ba05bd9-ec79-426f-b726-3f20887415ff",
   "metadata": {},
   "source": [
    "# Funktionen in Python\n",
    "\n",
    "- **Definition**: Ein Block von Code, der eine bestimmte Aufgabe ausführt.\n",
    "- **Schlüsselwort**: `def` zum Definieren.\n",
    "- **Name**: Ein eindeutiger Bezeichner für die Funktion.\n",
    "- **Parameter**: Eingabewerte, die an die Funktion übergeben werden.\n",
    "- **Rückgabewert**: Mit `return` zurückgegebene Ergebnisse.\n",
    "- **Aufruf**: Funktionsname mit optionalen Argumenten.\n",
    "- **Zweck**: Code-Wiederverwendung, Strukturierung usw..\n",
    "- **Variadic**: Funktionen können eine variable Anzahl an Argumenten akzeptieren (z.B. `*args`, `**kwargs`).\n",
    "- **Anonyme Funktionen**: Mit `lambda` für einfache, temporäre Funktionen.\n",
    "- **Scope**: Funktionen haben ihren eigenen Gültigkeitsbereich (lokale Variablen).\n",
    "\n",
    "## Beispiele:\n"
   ]
  },
  {
   "cell_type": "code",
   "execution_count": null,
   "id": "bf13db4d-be6d-4def-bd54-633ec3012b72",
   "metadata": {},
   "outputs": [],
   "source": []
  },
  {
   "cell_type": "code",
   "execution_count": null,
   "id": "1009055c-3cc7-4e3a-967f-8f514a1d0a32",
   "metadata": {},
   "outputs": [],
   "source": []
  },
  {
   "cell_type": "code",
   "execution_count": null,
   "id": "38646cff-e77e-48fd-99b5-418fe5f677e7",
   "metadata": {},
   "outputs": [],
   "source": []
  },
  {
   "cell_type": "code",
   "execution_count": 2,
   "id": "4dfa0be1-cf6b-4e2a-8d52-1583a36291db",
   "metadata": {},
   "outputs": [
    {
     "name": "stdout",
     "output_type": "stream",
     "text": [
      "Hallo, Welt!\n"
     ]
    }
   ],
   "source": [
    "def hallo_welt():\n",
    "    print(\"Hallo, Welt!\")\n",
    "hallo_welt()  # Aufruf der Funktion"
   ]
  },
  {
   "cell_type": "code",
   "execution_count": 12,
   "id": "80d07274-2777-4134-a027-d0fe2ed66a80",
   "metadata": {},
   "outputs": [
    {
     "data": {
      "text/plain": [
       "4"
      ]
     },
     "execution_count": 12,
     "metadata": {},
     "output_type": "execute_result"
    }
   ],
   "source": [
    "\"\"\"Guess the number.\"\"\"\n",
    "import random\n",
    "def get_number():\n",
    "    \"\"\"Create a new number to guess.\"\"\"\n",
    "    return random.randrange(1, 11)\n",
    "   \n",
    "def new_game():\n",
    "    \"\"\"Start a new game.\"\"\"\n",
    "    return get_number()\n",
    "    print('Guess a number between 1 and 10')\n",
    "\n",
    "get_number()"
   ]
  },
  {
   "cell_type": "code",
   "execution_count": null,
   "id": "aa528a6d-894b-4fe3-af68-c09b9730ffab",
   "metadata": {},
   "outputs": [],
   "source": []
  },
  {
   "cell_type": "code",
   "execution_count": null,
   "id": "76b70f23-c30f-4f89-a424-792543584d4a",
   "metadata": {},
   "outputs": [],
   "source": []
  },
  {
   "cell_type": "code",
   "execution_count": 3,
   "id": "162bbd0a-1158-4bce-ac70-ef6d64411c76",
   "metadata": {},
   "outputs": [
    {
     "data": {
      "text/plain": [
       "25"
      ]
     },
     "execution_count": 3,
     "metadata": {},
     "output_type": "execute_result"
    }
   ],
   "source": [
    "def quadrat(x):\n",
    "    return x ** 2\n",
    "quadrat(5)  # 'x' ist der Parameter"
   ]
  },
  {
   "cell_type": "code",
   "execution_count": 4,
   "id": "81f26751-30a3-4483-aeaa-82930411cedc",
   "metadata": {},
   "outputs": [
    {
     "name": "stdout",
     "output_type": "stream",
     "text": [
      "7\n"
     ]
    }
   ],
   "source": [
    "def addiere(a, b):\n",
    "    return a + b\n",
    "ergebnis = addiere(3, 4)  # Rückgabewert ist 7\n",
    "print(ergebnis)"
   ]
  },
  {
   "cell_type": "code",
   "execution_count": 5,
   "id": "04b113cc-42e3-4c06-8823-2258c7b11c3a",
   "metadata": {},
   "outputs": [
    {
     "name": "stdout",
     "output_type": "stream",
     "text": [
      "7\n"
     ]
    }
   ],
   "source": [
    "def subtrahiere(a, b):\n",
    "    return a - b\n",
    "print(subtrahiere(10, 3))  # Aufruf der Funktion mit Argumenten"
   ]
  },
  {
   "cell_type": "code",
   "execution_count": 6,
   "id": "03df901a-9e6a-4722-b544-56b6083f7cdd",
   "metadata": {},
   "outputs": [
    {
     "name": "stdout",
     "output_type": "stream",
     "text": [
      "5.0\n"
     ]
    }
   ],
   "source": [
    "def berechne_durchschnitt(a, b, c):\n",
    "    return (a + b + c) / 3\n",
    "# Funktion kann immer wieder verwendet werden, um den Durchschnitt zu berechnen.\n",
    "print(berechne_durchschnitt(3, 5, 7))  # Ausgabe: 5.0"
   ]
  },
  {
   "cell_type": "code",
   "execution_count": 7,
   "id": "ee01e238-e50c-4a1a-8ee3-c7e63084a915",
   "metadata": {},
   "outputs": [
    {
     "name": "stdout",
     "output_type": "stream",
     "text": [
      "10\n"
     ]
    }
   ],
   "source": [
    "def addiere_viele(*args):\n",
    "    return sum(args)\n",
    "print(addiere_viele(1, 2, 3, 4))  # Ausgabe: 10"
   ]
  },
  {
   "cell_type": "code",
   "execution_count": 8,
   "id": "de98394d-f466-447e-a6a0-64a142329caa",
   "metadata": {},
   "outputs": [
    {
     "name": "stdout",
     "output_type": "stream",
     "text": [
      "10\n"
     ]
    }
   ],
   "source": [
    "def aenderer_wert():\n",
    "    x = 10  # 'x' ist lokal innerhalb der Funktion\n",
    "    return x\n",
    "print(aenderer_wert())  # Ausgabe: 10\n",
    "# print(x)  # Führt zu einem Fehler, da 'x' außerhalb der Funktion nicht existiert."
   ]
  },
  {
   "cell_type": "code",
   "execution_count": 14,
   "id": "7afeb196-a403-4679-88a0-7277fe7bf074",
   "metadata": {},
   "outputs": [
    {
     "name": "stdout",
     "output_type": "stream",
     "text": [
      "3000\n"
     ]
    }
   ],
   "source": [
    "def rechne_umsatz(verkaufspreis, menge):\n",
    "    return verkaufspreis * menge\n",
    "\n",
    "umsatz = rechne_umsatz(20, 150)  # 20 * 150 = 3000\n",
    "print(umsatz)  # Ausgabe: 3000"
   ]
  },
  {
   "cell_type": "code",
   "execution_count": 9,
   "id": "f6e24f4b-ca6b-4d6a-b035-278e25a1df89",
   "metadata": {},
   "outputs": [
    {
     "name": "stdout",
     "output_type": "stream",
     "text": [
      "4 ist eine gerade Zahl.\n",
      "7 ist keine gerade Zahl.\n"
     ]
    }
   ],
   "source": [
    "def ist_gerade(x):\n",
    "    if x % 2 == 0:  # Überprüft, ob die Zahl gerade ist\n",
    "        return True\n",
    "    else:\n",
    "        return False\n",
    "\n",
    "def prüfe_zahl(zahl):\n",
    "    if ist_gerade(zahl):  # Aufruf der Funktion \"ist_gerade\"\n",
    "        print(f\"{zahl} ist eine gerade Zahl.\")\n",
    "    else:\n",
    "        print(f\"{zahl} ist keine gerade Zahl.\")\n",
    "\n",
    "prüfe_zahl(4)  # Gibt \"4 ist eine gerade Zahl.\" aus\n",
    "prüfe_zahl(7)  # Gibt \"7 ist keine gerade Zahl.\" aus"
   ]
  },
  {
   "cell_type": "code",
   "execution_count": null,
   "id": "1858ed1d-8ab7-4b2d-ac20-346936013116",
   "metadata": {},
   "outputs": [],
   "source": []
  },
  {
   "cell_type": "code",
   "execution_count": 4,
   "id": "215d5b4e-1d3b-4102-bf44-393ee772a1f7",
   "metadata": {},
   "outputs": [
    {
     "name": "stdout",
     "output_type": "stream",
     "text": [
      "True\n"
     ]
    }
   ],
   "source": [
    "def return_true():\n",
    "    return True\n",
    "\n",
    "def call_return_true():\n",
    "    result = return_true()  # Aufruf der ersten Funktion und Speichern des Ergebnisses\n",
    "    return result\n",
    "\n",
    "# Ergebnis in einer Variablen speichern\n",
    "output = call_return_true()\n",
    "print(output)  # Ausgabe: True\n",
    "\n"
   ]
  },
  {
   "cell_type": "code",
   "execution_count": null,
   "id": "6054c3a5-6cb5-4339-b4bf-778de91bc5f5",
   "metadata": {},
   "outputs": [],
   "source": []
  },
  {
   "cell_type": "code",
   "execution_count": 1,
   "id": "50e4ca62-2331-4431-a374-bf35e66edeca",
   "metadata": {},
   "outputs": [
    {
     "name": "stdout",
     "output_type": "stream",
     "text": [
      "10\n",
      "15\n"
     ]
    }
   ],
   "source": [
    "def sum_numbers(*args):\n",
    "    return sum(args)\n",
    "\n",
    "# Beispielaufruf\n",
    "print(sum_numbers(1, 2, 3, 4))  # Ausgabe: 10\n",
    "print(sum_numbers(5, 10))       # Ausgabe: 15\n"
   ]
  },
  {
   "cell_type": "code",
   "execution_count": 2,
   "id": "dcef081a-447f-4104-8eb3-0ada74c1a38d",
   "metadata": {},
   "outputs": [
    {
     "name": "stdout",
     "output_type": "stream",
     "text": [
      "name: Alice\n",
      "age: 30\n",
      "city: Berlin\n"
     ]
    }
   ],
   "source": [
    "# **kwargs wird als Wörterbuch (dict) behandelt, das Schlüssel-Wert-Paare enthält.\n",
    "def print_person_details(**kwargs):\n",
    "    for key, value in kwargs.items():\n",
    "        print(f\"{key}: {value}\")\n",
    "\n",
    "# Beispielaufruf\n",
    "print_person_details(name=\"Alice\", age=30, city=\"Berlin\")\n",
    "# Ausgabe:\n",
    "# name: Alice\n",
    "# age: 30\n",
    "# city: Berlin\n"
   ]
  },
  {
   "cell_type": "code",
   "execution_count": 3,
   "id": "64ef4284-04dc-47fe-ae27-dba54e89afcd",
   "metadata": {},
   "outputs": [
    {
     "name": "stdout",
     "output_type": "stream",
     "text": [
      "Hello!\n",
      "Positional arguments: ('Alice', 'Bob')\n",
      "Keyword arguments: {'age': 25, 'city': 'Hamburg'}\n"
     ]
    }
   ],
   "source": [
    "def mixed_function(greeting, *args, **kwargs):\n",
    "    print(greeting)\n",
    "    print(\"Positional arguments:\", args)\n",
    "    print(\"Keyword arguments:\", kwargs)\n",
    "\n",
    "# Beispielaufruf\n",
    "mixed_function(\"Hello!\", \"Alice\", \"Bob\", age=25, city=\"Hamburg\")\n",
    "# Ausgabe:\n",
    "# Hello!\n",
    "# Positional arguments: ('Alice', 'Bob')\n",
    "# Keyword arguments: {'age': 25, 'city': 'Hamburg'}\n"
   ]
  },
  {
   "cell_type": "markdown",
   "id": "e9c8e0c4-20d5-4046-af47-0be45acdb5a6",
   "metadata": {},
   "source": [
    "## Was ist nicht erlaubt mit Funktionen in Python\n",
    "\n",
    "1. **Funktionen ohne `def` definieren**  \n",
    "   In Python müssen Funktionen mit dem Schlüsselwort `def` definiert werden. Eine Funktion ohne `def` ist ungültig.\n",
    "   ```python\n",
    "   # Fehler\n",
    "   hallo_welt():  # Keine 'def' Definition\n",
    "       print(\"Hallo, Welt!\")\n"
   ]
  },
  {
   "cell_type": "markdown",
   "id": "6d50c9dc-f492-487c-9471-462b1fe1713f",
   "metadata": {},
   "source": [
    "### Funktionen mit gleichen Namen wie reservierte Schlüsselwörter\n",
    "\n",
    "Es ist nicht erlaubt, eine Funktion mit einem Namen zu definieren, der ein reserviertes Schlüsselwort in Python ist.\n"
   ]
  },
  {
   "cell_type": "code",
   "execution_count": 19,
   "id": "4e4fe572-0b60-4370-8ba4-a9e52fead811",
   "metadata": {},
   "outputs": [
    {
     "ename": "SyntaxError",
     "evalue": "invalid syntax (3068615083.py, line 2)",
     "output_type": "error",
     "traceback": [
      "\u001b[1;36m  Cell \u001b[1;32mIn[19], line 2\u001b[1;36m\u001b[0m\n\u001b[1;33m    def def():  # 'def' ist ein Schlüsselwort\u001b[0m\n\u001b[1;37m        ^\u001b[0m\n\u001b[1;31mSyntaxError\u001b[0m\u001b[1;31m:\u001b[0m invalid syntax\n"
     ]
    }
   ],
   "source": [
    "# Fehler\n",
    "def def():  # 'def' ist ein Schlüsselwort\n",
    "    print(\"Dies ist eine ungültige Funktion!\")\n"
   ]
  },
  {
   "cell_type": "markdown",
   "id": "055fdbe3-a0aa-4117-8995-25a9e9b4c6a4",
   "metadata": {},
   "source": [
    "### Verwendung von Schlüsselwörtern als Funktionsparametern\n",
    "\n",
    "Du kannst keine Schlüsselwörter als Funktionsparameter verwenden, da sie reserviert sind.\n"
   ]
  },
  {
   "cell_type": "code",
   "execution_count": 20,
   "id": "8a4c1667-d908-4274-8c77-7d594d996c0d",
   "metadata": {},
   "outputs": [
    {
     "ename": "SyntaxError",
     "evalue": "invalid syntax (3628483093.py, line 2)",
     "output_type": "error",
     "traceback": [
      "\u001b[1;36m  Cell \u001b[1;32mIn[20], line 2\u001b[1;36m\u001b[0m\n\u001b[1;33m    def beispiel(True):  # 'True' ist ein Schlüsselwort\u001b[0m\n\u001b[1;37m                 ^\u001b[0m\n\u001b[1;31mSyntaxError\u001b[0m\u001b[1;31m:\u001b[0m invalid syntax\n"
     ]
    }
   ],
   "source": [
    "# Fehler\n",
    "def beispiel(True):  # 'True' ist ein Schlüsselwort\n",
    "    return True\n"
   ]
  },
  {
   "cell_type": "markdown",
   "id": "a8ad8e6c-4623-483d-9dd0-81815e8636d9",
   "metadata": {},
   "source": [
    "### Mehr als einen return-Wert ohne Verwendung von Datenstrukturen\n",
    "\n",
    "Du kannst nur einen Wert mit `return` zurückgeben, es sei denn, du verwendest eine Datenstruktur wie eine Liste, ein Tuple oder ein Dictionary, um mehrere Werte zurückzugeben.\n"
   ]
  },
  {
   "cell_type": "code",
   "execution_count": 22,
   "id": "53dcca09-3c6e-4e34-873e-287650bc1739",
   "metadata": {},
   "outputs": [],
   "source": [
    "# Fehler\n",
    "def multiple_returns():\n",
    "    return 1\n",
    "    return 2  # Dieser Code wird nicht erreicht, daher ist dies nicht erlaubt.\n"
   ]
  },
  {
   "cell_type": "markdown",
   "id": "237371d1-8099-43b9-a74b-cb6bd6bb3dec",
   "metadata": {},
   "source": [
    "### Verwendung von undefinierten Variablen im Funktionskörper\n",
    "\n",
    "Es ist nicht erlaubt, innerhalb einer Funktion auf Variablen zuzugreifen, die nicht definiert sind.\n"
   ]
  },
  {
   "cell_type": "code",
   "execution_count": 28,
   "id": "27474e3c-98de-4d6c-8545-cabbd487acf9",
   "metadata": {},
   "outputs": [
    {
     "ename": "NameError",
     "evalue": "name 'x_neu' is not defined",
     "output_type": "error",
     "traceback": [
      "\u001b[1;31m---------------------------------------------------------------------------\u001b[0m",
      "\u001b[1;31mNameError\u001b[0m                                 Traceback (most recent call last)",
      "Cell \u001b[1;32mIn[28], line 4\u001b[0m\n\u001b[0;32m      2\u001b[0m     result \u001b[38;5;241m=\u001b[39m x_neu \u001b[38;5;241m+\u001b[39m \u001b[38;5;241m5\u001b[39m  \u001b[38;5;66;03m# Fehler, da 'x' nicht definiert wurde\u001b[39;00m\n\u001b[0;32m      3\u001b[0m     \u001b[38;5;28;01mreturn\u001b[39;00m result\n\u001b[1;32m----> 4\u001b[0m \u001b[38;5;28mprint\u001b[39m(\u001b[43mberechne\u001b[49m\u001b[43m(\u001b[49m\u001b[43m)\u001b[49m)\n",
      "Cell \u001b[1;32mIn[28], line 2\u001b[0m, in \u001b[0;36mberechne\u001b[1;34m()\u001b[0m\n\u001b[0;32m      1\u001b[0m \u001b[38;5;28;01mdef\u001b[39;00m \u001b[38;5;21mberechne\u001b[39m():\n\u001b[1;32m----> 2\u001b[0m     result \u001b[38;5;241m=\u001b[39m \u001b[43mx_neu\u001b[49m \u001b[38;5;241m+\u001b[39m \u001b[38;5;241m5\u001b[39m  \u001b[38;5;66;03m# Fehler, da 'x' nicht definiert wurde\u001b[39;00m\n\u001b[0;32m      3\u001b[0m     \u001b[38;5;28;01mreturn\u001b[39;00m result\n",
      "\u001b[1;31mNameError\u001b[0m: name 'x_neu' is not defined"
     ]
    }
   ],
   "source": [
    "def berechne():\n",
    "    result = x_neu + 5  # Fehler, da 'x' nicht definiert wurde\n",
    "    return result\n",
    "print(berechne())"
   ]
  },
  {
   "cell_type": "markdown",
   "id": "20d30aa5-522e-44ae-8351-ab4793741efa",
   "metadata": {},
   "source": [
    "### Funktion ohne Rückgabewert aufrufen und erwarten, dass ein Wert zurückgegeben wird\n",
    "\n",
    "Wenn eine Funktion nichts mit `return` zurückgibt, wird `None` zurückgegeben. Es ist nicht erlaubt zu erwarten, dass sie einen anderen Wert zurückgibt, ohne dass `return` explizit verwendet wurde.\n"
   ]
  },
  {
   "cell_type": "code",
   "execution_count": 29,
   "id": "04348a7f-cd43-44b2-ad78-004e3cf657dd",
   "metadata": {},
   "outputs": [
    {
     "name": "stdout",
     "output_type": "stream",
     "text": [
      "Ich gebe nichts zurück.\n",
      "None\n"
     ]
    }
   ],
   "source": [
    "def keine_rueckgabe():\n",
    "    print(\"Ich gebe nichts zurück.\")\n",
    "\n",
    "result = keine_rueckgabe()  # result ist jetzt None\n",
    "print(result)  # Ausgabe: None\n"
   ]
  },
  {
   "cell_type": "markdown",
   "id": "cdc39896-6a82-46bf-a461-cb23868e18f8",
   "metadata": {},
   "source": [
    "## Verwendung einer Funktion vor ihrer Definition ohne deklarierte Funktionen\n",
    "\n",
    "In Python müssen Funktionen vor ihrem Aufruf definiert werden, wenn sie nicht in eine andere Struktur (wie z.B. eine Klasse oder ein Modul) integriert sind.\n"
   ]
  },
  {
   "cell_type": "code",
   "execution_count": 30,
   "id": "5f51d474-67c1-4dd6-9025-0a3efa77c6cc",
   "metadata": {},
   "outputs": [
    {
     "ename": "NameError",
     "evalue": "name 'meine_funktion' is not defined",
     "output_type": "error",
     "traceback": [
      "\u001b[1;31m---------------------------------------------------------------------------\u001b[0m",
      "\u001b[1;31mNameError\u001b[0m                                 Traceback (most recent call last)",
      "Cell \u001b[1;32mIn[30], line 2\u001b[0m\n\u001b[0;32m      1\u001b[0m \u001b[38;5;66;03m# Fehler\u001b[39;00m\n\u001b[1;32m----> 2\u001b[0m \u001b[43mmeine_funktion\u001b[49m()  \u001b[38;5;66;03m# Aufruf vor der Definition\u001b[39;00m\n\u001b[0;32m      4\u001b[0m \u001b[38;5;28;01mdef\u001b[39;00m \u001b[38;5;21mmeine_funktion\u001b[39m():\n\u001b[0;32m      5\u001b[0m     \u001b[38;5;28mprint\u001b[39m(\u001b[38;5;124m\"\u001b[39m\u001b[38;5;124mDies wird niemals ausgeführt.\u001b[39m\u001b[38;5;124m\"\u001b[39m)\n",
      "\u001b[1;31mNameError\u001b[0m: name 'meine_funktion' is not defined"
     ]
    }
   ],
   "source": [
    "# Fehler\n",
    "meine_funktion()  # Aufruf vor der Definition\n",
    "\n",
    "def meine_funktion():\n",
    "    print(\"Dies wird niemals ausgeführt.\")\n"
   ]
  },
  {
   "cell_type": "markdown",
   "id": "0c59cb0d-5d0b-43c7-83e8-584f11d65ea4",
   "metadata": {},
   "source": [
    "### Wenn du in einer Funktion zwei Argumente definierst, aber beim Aufruf nur eines übergibst, erhältst du einen Fehler, da die Funktion erwartet, dass alle definierten Parameter Werte erhalten. Hier ein Beispiel:\n",
    "\n"
   ]
  },
  {
   "cell_type": "code",
   "execution_count": 33,
   "id": "59847e25-bc71-4346-836f-f0a547d775ee",
   "metadata": {},
   "outputs": [
    {
     "ename": "TypeError",
     "evalue": "meine_funktion() missing 1 required positional argument: 'b'",
     "output_type": "error",
     "traceback": [
      "\u001b[1;31m---------------------------------------------------------------------------\u001b[0m",
      "\u001b[1;31mTypeError\u001b[0m                                 Traceback (most recent call last)",
      "Cell \u001b[1;32mIn[33], line 4\u001b[0m\n\u001b[0;32m      1\u001b[0m \u001b[38;5;28;01mdef\u001b[39;00m \u001b[38;5;21mmeine_funktion\u001b[39m(a, b):\n\u001b[0;32m      2\u001b[0m     \u001b[38;5;28mprint\u001b[39m(a, b)\n\u001b[1;32m----> 4\u001b[0m \u001b[43mmeine_funktion\u001b[49m\u001b[43m(\u001b[49m\u001b[38;5;241;43m5\u001b[39;49m\u001b[43m)\u001b[49m\n",
      "\u001b[1;31mTypeError\u001b[0m: meine_funktion() missing 1 required positional argument: 'b'"
     ]
    }
   ],
   "source": [
    "def meine_funktion(a, b):\n",
    "    print(a, b)\n",
    "\n",
    "meine_funktion(5)"
   ]
  },
  {
   "cell_type": "markdown",
   "id": "1aa263de-f7d0-4a02-a917-407a4f7d7499",
   "metadata": {},
   "source": [
    "## Built-in-Funktionen\n",
    "- Python bietet eingebaute Funktionen (Builtin-Funktionen).\n",
    "- Diese können ohne Funktionsdefinition verwendet werden.\n",
    "- Die Funktionen wurden von den Schöpfern von Python geschrieben.\n",
    "- Ziel: Lösung häufiger Probleme.\n",
    "- Sie sind direkt in Python integriert und sofort nutzbar.\n",
    "\n",
    "### Beispiele"
   ]
  },
  {
   "cell_type": "code",
   "execution_count": 1,
   "id": "85186feb-fac0-4419-b53a-c30422a71e38",
   "metadata": {},
   "outputs": [
    {
     "data": {
      "text/plain": [
       "12.0"
      ]
     },
     "execution_count": 1,
     "metadata": {},
     "output_type": "execute_result"
    }
   ],
   "source": [
    "float(12)"
   ]
  },
  {
   "cell_type": "code",
   "execution_count": 2,
   "id": "7d0d3254-beac-45b0-ba78-841ef87620e4",
   "metadata": {},
   "outputs": [
    {
     "data": {
      "text/plain": [
       "5.7"
      ]
     },
     "execution_count": 2,
     "metadata": {},
     "output_type": "execute_result"
    }
   ],
   "source": [
    "max(2,-1.2,5.7,4)\n"
   ]
  },
  {
   "cell_type": "code",
   "execution_count": 3,
   "id": "60be2937-50a2-447a-8675-e9cde90d2f96",
   "metadata": {},
   "outputs": [
    {
     "data": {
      "text/plain": [
       "-1"
      ]
     },
     "execution_count": 3,
     "metadata": {},
     "output_type": "execute_result"
    }
   ],
   "source": [
    "min(2.2,-1,5.7,4)\n"
   ]
  },
  {
   "cell_type": "code",
   "execution_count": 4,
   "id": "474ab6fa-bf0b-4089-9f17-45097763a6e8",
   "metadata": {},
   "outputs": [
    {
     "name": "stdout",
     "output_type": "stream",
     "text": [
      "6\n"
     ]
    }
   ],
   "source": [
    "text = \"Python\"\n",
    "print(len(text))  # Ausgabe: 6"
   ]
  },
  {
   "cell_type": "markdown",
   "id": "5f268e7f-2090-4e05-8f46-ea70d2804477",
   "metadata": {},
   "source": [
    "## Standardbibliothek\n",
    "- **Definition** Sammlung von wiederverwendbaren Funktionen und Datenstrukturen\n",
    "- **Modul**: Eine einzelne Python-Datei, die Funktionen oder Variablen enthält, um sie wiederzuverwenden.\n",
    "    - Dateiendung: ``.py``\n",
    "- **Paket**: Definition: Eine Sammlung von Modulen, die in einem Verzeichnis organisiert sind  die für einen speziellen Anwendungsbereich entwickelt wurden\n",
    "    - Eine Datei namens `__init__.py` muss im Ordner der Module vorhanden sein, damit der Python-Interpreter ihn als Paket erkennt.  \n",
    "    - Die Datei `__init__.py` markiert das Verzeichnis als Paket.  \n",
    "    - Sie kann leer sein; der Inhalt ist optional.  \n",
    "    - Wichtig ist lediglich, dass die Datei im Ordner existiert.  \n",
    "- **Bibliothek** ist ein Oberbegriff für eine Sammlung von Programmfunktionen.  \n",
    "    - Eine Bibliothek kann Hunderte von Modulen oder Paketen enthalten (z. B. die Python-Standardbibliothek).  \n",
    "    - Im Unterschied zu einem Paket können in einer Bibliothek Funktionalitäten für ganz unterschiedliche Problembereiche zusammengefasst sein.  \n",
    "    - Die Python-Standardbibliothek ist ein Beispiel für eine Bibliothek mit vielfältigen Funktionalitäten für verschiedene Anwendungsbereiche.  \n"
   ]
  },
  {
   "cell_type": "markdown",
   "id": "69087438-e05e-4060-bef3-91f986460b53",
   "metadata": {},
   "source": [
    "## Mathematische Funktionen\n",
    "- Ein häufig verwendetes Modul aus der Standardbibliothek ist `math`.\n",
    "- Es stellt die am häufigsten verwendeten mathematischen Funktionen bereit.\n",
    "- Bevor wir das Modul verwenden können, müssen wir es importieren:\n",
    "  ```python\n",
    "  import math\n"
   ]
  },
  {
   "cell_type": "code",
   "execution_count": 6,
   "id": "ac466b47-ce8c-4511-a42e-3e0f485c2697",
   "metadata": {},
   "outputs": [
    {
     "name": "stdout",
     "output_type": "stream",
     "text": [
      "<module 'math' (built-in)>\n"
     ]
    }
   ],
   "source": [
    "import math\n",
    "print(math)\n"
   ]
  },
  {
   "cell_type": "code",
   "execution_count": 7,
   "id": "c2099634-3ae8-46b1-b2d1-66b59b9067ae",
   "metadata": {},
   "outputs": [
    {
     "name": "stdout",
     "output_type": "stream",
     "text": [
      "120\n"
     ]
    }
   ],
   "source": [
    "# Fakultät\n",
    "print(math.factorial(5))  # Ausgabe: 120"
   ]
  },
  {
   "cell_type": "code",
   "execution_count": null,
   "id": "7391dd6a-a8fc-4278-95db-ba4f5e9c76ae",
   "metadata": {},
   "outputs": [],
   "source": []
  },
  {
   "cell_type": "markdown",
   "id": "8a114817-25c7-4a5f-abf4-e0b1a5f0c7c8",
   "metadata": {},
   "source": [
    "## Lambda-Funktionen in Python\n",
    "\n",
    "**Definition:**\n",
    "Lambda-Funktionen sind anonyme Funktionen, die in einer einzigen Zeile definiert werden. Sie ermöglichen das Erstellen von einfachen Funktionen ohne den Aufwand einer vollständigen Funktionsdefinition mit `def`.\n",
    "\n",
    "**Syntax:**\n",
    "```python\n",
    "lambda arguments: expression\n"
   ]
  },
  {
   "cell_type": "markdown",
   "id": "4c8725de-a73b-4c0d-ad61-daaa72a7ba3c",
   "metadata": {},
   "source": [
    "### Parameter:\n",
    "\n",
    "- **arguments**: Die Eingabeparameter der Funktion (können mehrere sein).\n",
    "- **expression**: Der Ausdruck, der ausgeführt wird, und dessen Ergebnis zurückgegeben wird.\n",
    "\n",
    "### Eigenschaften:\n",
    "\n",
    "- Sie können beliebig viele Eingabeparameter haben.\n",
    "- Sie können nur einen Ausdruck enthalten (keine Anweisungen oder Mehrfachausdrücke).\n",
    "- Sie geben das Ergebnis des Ausdrucks automatisch zurück."
   ]
  },
  {
   "cell_type": "code",
   "execution_count": 1,
   "id": "f439da9e-5c83-4a95-97fe-1d8de982e86f",
   "metadata": {},
   "outputs": [
    {
     "name": "stdout",
     "output_type": "stream",
     "text": [
      "5\n"
     ]
    }
   ],
   "source": [
    "# Eine einfache Lambda-Funktion, die zwei Zahlen addiert\n",
    "add = lambda x, y: x + y\n",
    "print(add(2, 3))  # Ausgabe: 5\n"
   ]
  },
  {
   "cell_type": "markdown",
   "id": "0ea7fd39-f60c-46cd-8033-93969661e707",
   "metadata": {},
   "source": [
    "## Quellen\n",
    "\n",
    "1. https://www.w3schools.com/python/\n",
    "2. https://www.python.org/\n",
    "3. https://www.py4e.com/book"
   ]
  },
  {
   "cell_type": "code",
   "execution_count": null,
   "id": "10b2c73b-1190-4e17-b4ae-fadb1b72673c",
   "metadata": {},
   "outputs": [],
   "source": []
  }
 ],
 "metadata": {
  "kernelspec": {
   "display_name": "Python 3 (ipykernel)",
   "language": "python",
   "name": "python3"
  },
  "language_info": {
   "codemirror_mode": {
    "name": "ipython",
    "version": 3
   },
   "file_extension": ".py",
   "mimetype": "text/x-python",
   "name": "python",
   "nbconvert_exporter": "python",
   "pygments_lexer": "ipython3",
   "version": "3.12.7"
  }
 },
 "nbformat": 4,
 "nbformat_minor": 5
}
