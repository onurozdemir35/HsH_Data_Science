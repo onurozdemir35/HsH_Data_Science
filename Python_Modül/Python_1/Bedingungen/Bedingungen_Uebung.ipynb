{
 "cells": [
  {
   "cell_type": "markdown",
   "id": "333716f1-dd16-4ef1-904b-87144c474f43",
   "metadata": {},
   "source": [
    "# Übung 1: Größer als 10\n",
    "\n",
    "**Aufgabe:** Schreibe ein Programm, das eine Zahl vom Benutzer einliest und überprüft, ob diese Zahl größer als 10 ist.\n"
   ]
  },
  {
   "cell_type": "code",
   "execution_count": 2,
   "id": "1690935d-5485-418b-8716-5a6e22ff2c43",
   "metadata": {},
   "outputs": [
    {
     "name": "stdin",
     "output_type": "stream",
     "text": [
      " 11\n"
     ]
    },
    {
     "name": "stdout",
     "output_type": "stream",
     "text": [
      "Die Zahl ist größer als 10\n"
     ]
    }
   ],
   "source": [
    "# Schreibt bitte eure Lösung hier\n",
    "a = int(input())\n",
    "if a > 10:\n",
    "    print(\"Die Zahl ist größer als 10\") "
   ]
  },
  {
   "cell_type": "markdown",
   "id": "470d880b-70a4-4939-8331-935aae538616",
   "metadata": {},
   "source": [
    "# Übung 2: Gerade oder ungerade\n",
    "\n",
    "**Aufgabe:** Schreibe ein Programm, das eine Zahl einliest und überprüft, ob sie gerade oder ungerade ist.\n"
   ]
  },
  {
   "cell_type": "code",
   "execution_count": 7,
   "id": "28f21f53-4654-4c9a-bb71-d389ff1b986b",
   "metadata": {},
   "outputs": [
    {
     "name": "stdin",
     "output_type": "stream",
     "text": [
      "Gib eine Zahl ein:  3\n"
     ]
    },
    {
     "name": "stdout",
     "output_type": "stream",
     "text": [
      "Zahl ist ungerade\n"
     ]
    }
   ],
   "source": [
    "# Schreibt bitte eure Lösung hier\n",
    "a = int(input(\"Gib eine Zahl ein: \"))\n",
    "if a % 2 == 0 :\n",
    "        print(\"Zahl ist gerade\")\n",
    "else:\n",
    "    print(\"Zahl ist ungerade\")"
   ]
  },
  {
   "cell_type": "markdown",
   "id": "827808b4-3254-4ed5-9622-6d356b8eeff4",
   "metadata": {},
   "source": [
    "# Übung 3: Alter prüfen\n",
    "\n",
    "**Aufgabe:** Schreibe ein Programm, das das Alter einer Person abfragt und überprüft, ob sie volljährig (18 Jahre oder älter) ist.\n"
   ]
  },
  {
   "cell_type": "code",
   "execution_count": 10,
   "id": "d9f266a1-f629-4725-90be-6a87f45c968d",
   "metadata": {},
   "outputs": [
    {
     "name": "stdin",
     "output_type": "stream",
     "text": [
      "Gib eine Zahl ein: 18\n"
     ]
    },
    {
     "name": "stdout",
     "output_type": "stream",
     "text": [
      "Du bist volljährig\n"
     ]
    }
   ],
   "source": [
    "# Schreibt bitte eure Lösung hier\n",
    "a = int(input(\"Gib eine Zahl ein:\"))\n",
    "\n",
    "if a >= 18:\n",
    "    print(\"Du bist volljährig\")\n",
    "else:\n",
    "    print(\"Du bist minderjährig\")\n",
    "        "
   ]
  },
  {
   "cell_type": "markdown",
   "id": "d4153a1c-508f-42ca-aac0-43f7a6a1deaf",
   "metadata": {},
   "source": [
    "# Übung 4: Notenbewertung\n",
    "\n",
    "**Aufgabe:** Schreibe ein Programm, das eine Note (zwischen 1 und 6) einliest und basierend auf der Note eine Bewertung ausgibt:\n",
    "\n",
    "- 1: Sehr gut\n",
    "- 2: Gut\n",
    "- 3: Befriedigend\n",
    "- 4: Ausreichend\n",
    "- 5: Mangelhaft\n",
    "- 6: Ungenügend\n"
   ]
  },
  {
   "cell_type": "code",
   "execution_count": 13,
   "id": "671b72eb-0912-467e-8dfa-38a76ea5898b",
   "metadata": {},
   "outputs": [
    {
     "name": "stdin",
     "output_type": "stream",
     "text": [
      "Gib eine Zahl ein: 66\n"
     ]
    },
    {
     "name": "stdout",
     "output_type": "stream",
     "text": [
      "Ausreichend\n"
     ]
    }
   ],
   "source": [
    "# Schreibt bitte eure Lösung hier\n",
    "a = int(input(\"Gib eine Zahl ein:\"))\n",
    "\n",
    "if a >= 90:\n",
    "    print(\"Sehr gut\")\n",
    "elif 90 > a >= 80:\n",
    "    print(\"Gut\")\n",
    "elif 80 > a >= 70:\n",
    "    print(\"Befriedigend\")\n",
    "elif 70 > a >= 60:\n",
    "    print(\"Ausreichend\")\n",
    "elif 60 > a >= 40:\n",
    "    print(\"Mangelhaft\")\n",
    "else:\n",
    "    print(\"Ungenügend\")"
   ]
  },
  {
   "cell_type": "markdown",
   "id": "e17693e4-1ac6-4fa8-8016-b27214bf1705",
   "metadata": {},
   "source": [
    "# Übung 5: Passworteingabe\n",
    "\n",
    "**Aufgabe:** Schreibe ein Programm, das den Benutzer nach einem Passwort fragt und überprüft, ob das Passwort \"geheim123\" lautet. Wenn es korrekt ist, soll eine Begrüßung angezeigt werden, andernfalls eine Fehlermeldung.\n"
   ]
  },
  {
   "cell_type": "code",
   "execution_count": 15,
   "id": "51cbdf2a-d655-4e65-b568-6b8c703d7dce",
   "metadata": {},
   "outputs": [
    {
     "name": "stdin",
     "output_type": "stream",
     "text": [
      "Geben Sie Ihr Password:  geheim123\n"
     ]
    },
    {
     "name": "stdout",
     "output_type": "stream",
     "text": [
      "Korrekt Password\n"
     ]
    }
   ],
   "source": [
    "# Schreibt bitte eure Lösung hier\n",
    "password = input(\"Geben Sie Ihr Password: \")\n",
    "if password == \"geheim123\":\n",
    "    print(\"Korrekt Password\")\n",
    "else:\n",
    "    print(\"Password ist Fehler\")"
   ]
  },
  {
   "cell_type": "markdown",
   "id": "99e5c13b-f74f-4d74-933b-90b51228af03",
   "metadata": {},
   "source": [
    "# Übung 6: Altersgruppen\n",
    "\n",
    "**Aufgabe:** Schreibe ein Programm, das das Alter einer Person einliest und die Altersgruppe ausgibt:\n",
    "\n",
    "- 0-12 Jahre: Kind\n",
    "- 13-17 Jahre: Teenager\n",
    "- 18-64 Jahre: Erwachsener\n",
    "- 65 Jahre und älter: Senior\n"
   ]
  },
  {
   "cell_type": "code",
   "execution_count": 6,
   "id": "e3de9606-c31b-40c5-afd9-17a164897a71",
   "metadata": {},
   "outputs": [
    {
     "name": "stdin",
     "output_type": "stream",
     "text": [
      "Wie alt bist du?  12\n"
     ]
    },
    {
     "name": "stdout",
     "output_type": "stream",
     "text": [
      "Kind\n"
     ]
    }
   ],
   "source": [
    "# Schreibt bitte eure Lösung hier\n",
    "Alter = int(input(\"Wie alt bist du? \"))\n",
    "if 0 <= Alter <= 12:\n",
    "    print(\"Kind\")\n",
    "elif 12 < Alter <= 17:\n",
    "    print(\"Teenager\")\n",
    "elif 17 < Alter <= 64:\n",
    "    print(\"Erwachsener\")\n",
    "elif 64 < Alter:\n",
    "    print(\"Senior\")"
   ]
  },
  {
   "cell_type": "markdown",
   "id": "d3f625f3-5e79-4089-aea9-a278dc3e50a9",
   "metadata": {},
   "source": [
    "# Übung 7: Mehrfache Bedingungen\n",
    "\n",
    "**Aufgabe:** Schreibe ein Programm, das eine Zahl einliest und überprüft, ob sie sowohl positiv als auch gerade ist.\n"
   ]
  },
  {
   "cell_type": "code",
   "execution_count": 3,
   "id": "7ec926e7-2069-4d10-8ec7-a9dc08bc77c7",
   "metadata": {},
   "outputs": [
    {
     "name": "stdin",
     "output_type": "stream",
     "text": [
      "Gib eine Zahl ein: 11\n"
     ]
    },
    {
     "name": "stdout",
     "output_type": "stream",
     "text": [
      "Schreib bitte eine positive und gerade Zahl\n"
     ]
    }
   ],
   "source": [
    "# Schreibt bitte eure Lösung hier\n",
    "a = int(input(\"Gib eine Zahl ein:\"))\n",
    "if a >= 0 and a % 2 == 0:\n",
    "    print(\"Die Zahl ist positiv und gerade\")\n",
    "else:\n",
    "    print(\"Schreib bitte eine positive und gerade Zahl\") "
   ]
  },
  {
   "cell_type": "markdown",
   "id": "d621bf90-0920-4035-8a51-3b7b68c71be2",
   "metadata": {},
   "source": [
    "# Übung 8: Rabattberechnung\n",
    "\n",
    "Schreibe ein Programm, das den Einkaufswert vom Benutzer abfragt, basierend darauf einen Rabatt berechnet und den Endbetrag ausgibt. Die Rabattregelungen sind wie folgt:\n",
    "\n",
    "- Einkaufswert **≥ 100**: 20% Rabatt  \n",
    "- Einkaufswert **50-99**: 10% Rabatt  \n",
    "- Einkaufswert **< 50**: Kein Rabatt (0%)  \n",
    "\n",
    "## Aufgabe\n",
    "1. Implementiere die Lösung ohne ternären Operator (Nutze `if-elif-else`).  \n",
    "2. Implementiere die gleiche Logik mit einem ternären Operator.  \n",
    "\n",
    " \n",
    " \n"
   ]
  },
  {
   "cell_type": "code",
   "execution_count": 1,
   "id": "6772e99f-e625-4a23-bc13-479ea70255d6",
   "metadata": {},
   "outputs": [],
   "source": [
    "# Schreibt bitte eure Lösung hier\n",
    "einkaufswert = float(input(\"Gib eine Zahl ein:\"))\n",
    "\n",
    "# Rabattberechnung\n",
    "if einkaufswert >= 100:\n",
    "    rabatt = 0.2\n",
    "elif einkaufswert >= 50:\n",
    "    rabatt = 0.1\n",
    "else:\n",
    "    rabatt = 0.0\n",
    "\n",
    "# Rabattbetrag und Gesamtpreis berechnen\n",
    "rabattbetrag = einkaufswert * rabatt\n",
    "gesamtpreis = einkaufswert - rabattbetrag\n",
    "\n",
    "# Ausgabe\n",
    "print(f\"Rabatt: {rabatt * 100:.0f}%\")\n",
    "print(f\"Rabattbetrag: {rabattbetrag:.2f} EUR\")\n",
    "print(f\"Gesamtpreis: {gesamtpreis:.2f} EUR\")\n",
    "    "
   ]
  },
  {
   "cell_type": "markdown",
   "id": "8e90a1b8-345d-497f-afee-554cb19ccaa5",
   "metadata": {},
   "source": [
    "# Übung 9: Steuerberechnung basierend auf Einkommen und Familienstatus\n",
    "\n",
    "Schreibe ein Programm, das basierend auf dem **Einkommen** und dem **Familienstatus** die Steuer berechnet.\n",
    "\n",
    "## Regeln für die Steuerberechnung:\n",
    "1. Wenn das Einkommen **≥ 80.000€**, zahlt die Person:  \n",
    "   - **30% Steuer**, wenn sie **ledig** ist.  \n",
    "   - **25% Steuer**, wenn sie **verheiratet** ist.  \n",
    "2. Wenn das Einkommen **50.000€ ≤ Einkommen < 80.000€**, zahlt die Person:  \n",
    "   - **20% Steuer**, wenn sie **ledig** ist.  \n",
    "   - **15% Steuer**, wenn sie **verheiratet** ist.  \n",
    "3. Wenn das Einkommen **< 50.000€**, zahlt die Person:  \n",
    "   - **10% Steuer**, wenn sie **ledig** ist.  \n",
    "   - **5% Steuer**, wenn sie **verheiratet** ist.  \n",
    "\n",
    "---\n",
    "\n",
    "## Aufgabe:\n",
    "1. Implementiere die Steuerberechnung mit verschachtelten `if-else` Bedingungen.  \n",
    "2. Gib die Steuer und das verbleibende Einkommen nach Abzug der Steuer aus.  \n",
    "\n",
    " \n"
   ]
  },
  {
   "cell_type": "code",
   "execution_count": null,
   "id": "e89f64a7-87ba-4796-99c9-7359f678f91e",
   "metadata": {},
   "outputs": [],
   "source": [
    "# Schreibt bitte eure Lösung hier\n",
    "# Eingaben\n",
    "einkommen = float(input(\"Geben Sie das Einkommen ein (in €): \"))\n",
    "familienstand = input(\"Sind Sie ledig oder verheiratet? (ledig/verheiratet): \").strip().lower()\n",
    "\n",
    "# Steuerberechnung mit expliziten Bedingungen\n",
    "if einkommen >= 80000:\n",
    "    if familienstand == \"ledig\":\n",
    "        steuer = 0.30\n",
    "    elif familienstand == \"verheiratet\":\n",
    "        steuer = 0.25\n",
    "    else:\n",
    "        steuer = 0.0  # Fallback für ungültigen Familienstand\n",
    "elif 50000 <= einkommen < 80000:\n",
    "    if familienstand == \"ledig\":\n",
    "        steuer = 0.20\n",
    "    elif familienstand == \"verheiratet\":\n",
    "        steuer = 0.15\n",
    "    else:\n",
    "        steuer = 0.0\n",
    "else:\n",
    "    if familienstand == \"ledig\":\n",
    "        steuer = 0.10\n",
    "    elif familienstand == \"verheiratet\":\n",
    "        steuer = 0.05\n",
    "    else:\n",
    "        steuer = 0.0\n",
    "\n",
    "# Steuerbetrag und Nettogehalt berechnen\n",
    "steuerbetrag = einkommen * steuer\n",
    "nettogehalt = einkommen - steuerbetrag\n",
    "\n",
    "# Ausgabe\n",
    "print(f\"Steuersatz: {steuer * 100:.0f}%\")\n",
    "print(f\"Steuerbetrag: {steuerbetrag:.2f} EUR\")\n",
    "print(f\"Nettogehalt: {nettogehalt:.2f} EUR\")\n",
    "\n"
   ]
  },
  {
   "cell_type": "markdown",
   "id": "ad42073b-c4ad-4674-aa9f-ee59ef7e12a3",
   "metadata": {},
   "source": [
    "# Übung 10: Passwortvalidierung mit `startswith`\n",
    "\n",
    "Schreibe ein Programm, das überprüft, ob ein eingegebenes Passwort bestimmten Regeln entspricht. Dabei wird überprüft, ob das Passwort mit bestimmten Zeichenfolgen beginnt.\n",
    "\n",
    "## Regeln für ein gültiges Passwort:\n",
    "1. Ein Passwort gilt als **stark**, wenn es:  \n",
    "   - Mit **\"admin-\"** beginnt und mindestens **12 Zeichen** lang ist.  \n",
    "2. Ein Passwort gilt als **mittel**, wenn es:  \n",
    "   - Mit **\"user-\"** beginnt und mindestens **8 Zeichen** lang ist.  \n",
    "3. Ein Passwort gilt als **schwach**, wenn es:  \n",
    "   - Mit **\"guest-\"** beginnt, unabhängig von der Länge.  \n",
    "4. In allen anderen Fällen gilt das Passwort als **ungültig**.  \n",
    "\n",
    "---\n",
    "\n",
    "## Aufgabe:\n",
    "1. Implementiere ein Programm, das den Benutzer nach einem Passwort fragt.  \n",
    "2. Überprüfe mit `startswith`, welche Kategorie das Passwort erfüllt, und gib die entsprechende Bewertung aus.  \n",
    "3. Falls das Passwort ungültig ist, gib eine Fehlermeldung aus.  \n",
    " \n"
   ]
  },
  {
   "cell_type": "code",
   "execution_count": 5,
   "id": "78caa983-6daa-4d48-bbc2-701627c45435",
   "metadata": {},
   "outputs": [
    {
     "name": "stdin",
     "output_type": "stream",
     "text": [
      "Geben Sie ein Passwort ein:  admin-sad\n"
     ]
    },
    {
     "name": "stdout",
     "output_type": "stream",
     "text": [
      "Das Passwort ist ungültig.\n"
     ]
    }
   ],
   "source": [
    "# Schreibt bitte eure Lösung hier\n",
    "# Eingabe\n",
    "# Passwort eingeben\n",
    "passwort = input(\"Geben Sie ein Passwort ein: \").strip()\n",
    "\n",
    "# Passwortstärke prüfen\n",
    "if passwort.startswith(\"admin-\") and len(passwort) >= 12:\n",
    "    staerke = \"stark\"\n",
    "elif passwort.startswith(\"user-\") and len(passwort) >= 8:\n",
    "    staerke = \"mittel\"\n",
    "elif passwort.startswith(\"guest-\"):\n",
    "    staerke = \"schwach\"\n",
    "else:\n",
    "    staerke = \"ungültig\"\n",
    "\n",
    "# Ausgabe\n",
    "print(f\"Das Passwort ist {staerke}.\")\n",
    "\n"
   ]
  },
  {
   "cell_type": "markdown",
   "id": "f00bb079-ae99-427b-aa9d-08fb23d00ee7",
   "metadata": {},
   "source": [
    "# Übung 11: Preisberechnung für ein Online-Abo mit Bedingungen\n",
    "\n",
    "Schreibe ein Programm, das den Preis für ein Online-Abo basierend auf verschiedenen Bedingungen berechnet. Es gibt mehrere Rabatte, die angewendet werden können, sowie spezielle Preisregelungen für bestimmte Abonnement-Typen und Rabatte.\n",
    "\n",
    "### **Bedingungen:**\n",
    "\n",
    "#### **Abonnement-Typ:**\n",
    "- **Basis-Abo:** Der Grundpreis beträgt **10€** pro Monat.\n",
    "- **Premium-Abo:** Der Grundpreis beträgt **20€** pro Monat.\n",
    "- **VIP-Abo:** Der Grundpreis beträgt **50€** pro Monat.\n",
    "\n",
    "#### **Rabatte:**\n",
    "- **Studentenrabatt:** 20% Rabatt für Studenten (wird nach der Abonnement-Typen-Berechnung angewendet).\n",
    "- **Langzeit-Rabatt:** 10% Rabatt, wenn der Nutzer sich für **12 Monate oder mehr** anmeldet.\n",
    "- **Sonderrabatt:** 5% Rabatt, wenn der Nutzer über **50€** für das Abo bezahlt.\n",
    "\n",
    "#### **Zahlungshäufigkeit:**\n",
    "- **Monatlich:** Der Benutzer zahlt jeden Monat den vollen Betrag.\n",
    "- **Jährlich:** Der Benutzer zahlt für **12 Monate im Voraus** und erhält einen zusätzlichen Rabatt von **5%**.\n",
    "\n",
    "### **Aufgabe:**\n",
    "- Das Programm soll den Benutzer nach dem **Abonnement-Typ**, ob der Nutzer ein **Student** ist, der **Zahlungsperiode** und der **Anzahl der Monate** fragen.\n",
    "- Berechne den Preis nach Anwendung aller Rabatte und gib den Endpreis aus.\n"
   ]
  },
  {
   "cell_type": "code",
   "execution_count": 9,
   "id": "7fb08b7c-753c-4900-bed6-531b8ab107fb",
   "metadata": {},
   "outputs": [
    {
     "name": "stdin",
     "output_type": "stream",
     "text": [
      "Wählen Sie das Abonnement aus (Basis, Premium, VIP):  VIP\n",
      "Sind Sie Student? (ja/nein):  ja\n",
      "Zahlungshäufigkeit (monatlich/jährlich):  10\n",
      "Für wie viele Monate möchten Sie das Abo abschließen?:  10\n"
     ]
    },
    {
     "name": "stdout",
     "output_type": "stream",
     "text": [
      "Der Endpreis für Ihr Abo beträgt: 380.00 EUR.\n"
     ]
    }
   ],
   "source": [
    "# Schreibt bitte eure Lösung hier\n",
    "# Eingaben\n",
    "abo_typ = input(\"Wählen Sie das Abonnement aus (Basis, Premium, VIP): \").strip().lower()\n",
    "student = input(\"Sind Sie Student? (ja/nein): \").strip().lower() == \"ja\"\n",
    "zahlungsperiode = input(\"Zahlungshäufigkeit (monatlich/jährlich): \").strip().lower()\n",
    "monate = int(input(\"Für wie viele Monate möchten Sie das Abo abschließen?: \"))\n",
    "\n",
    "# Grundpreise definieren\n",
    "grundpreise = {\n",
    "    \"basis\": 10,\n",
    "    \"premium\": 20,\n",
    "    \"vip\": 50\n",
    "}\n",
    "\n",
    "# Grundpreis basierend auf dem Abonnement-Typ\n",
    "if abo_typ in grundpreise:\n",
    "    grundpreis = grundpreise[abo_typ]\n",
    "else:\n",
    "    print(\"Ungültiger Abonnement-Typ.\")\n",
    "    exit()\n",
    "\n",
    "# Gesamtkosten vor Rabatten\n",
    "gesamtpreis = grundpreis * monate\n",
    "\n",
    "# Studentenrabatt\n",
    "if student:\n",
    "    gesamtpreis *= 0.80\n",
    "\n",
    "# Langzeit-Rabatt\n",
    "if monate >= 12:\n",
    "    gesamtpreis *= 0.90\n",
    "\n",
    "# Sonderrabatt\n",
    "if gesamtpreis > 50:\n",
    "    gesamtpreis *= 0.95\n",
    "\n",
    "# Jährlicher Zahlungsrabatt\n",
    "if zahlungsperiode == \"jährlich\" and monate >= 12:\n",
    "    gesamtpreis *= 0.95\n",
    "\n",
    "# Ausgabe des Endpreises\n",
    "print(f\"Der Endpreis für Ihr Abo beträgt: {gesamtpreis:.2f} EUR.\")\n"
   ]
  },
  {
   "cell_type": "code",
   "execution_count": null,
   "id": "383fbcf9-d7d7-4d1f-893e-49580c55e74f",
   "metadata": {},
   "outputs": [],
   "source": []
  }
 ],
 "metadata": {
  "kernelspec": {
   "display_name": "Python 3 (ipykernel)",
   "language": "python",
   "name": "python3"
  },
  "language_info": {
   "codemirror_mode": {
    "name": "ipython",
    "version": 3
   },
   "file_extension": ".py",
   "mimetype": "text/x-python",
   "name": "python",
   "nbconvert_exporter": "python",
   "pygments_lexer": "ipython3",
   "version": "3.12.7"
  }
 },
 "nbformat": 4,
 "nbformat_minor": 5
}
