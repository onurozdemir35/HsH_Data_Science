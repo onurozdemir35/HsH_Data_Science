{
 "cells": [
  {
   "cell_type": "markdown",
   "id": "0d41de3b-ea79-4751-8142-61c4b49403b8",
   "metadata": {},
   "source": [
    "# Bedingungen"
   ]
  },
  {
   "cell_type": "markdown",
   "id": "5c9917ab-3504-415c-ad8c-10ddee910b30",
   "metadata": {},
   "source": [
    "In Python gibt es Bedingungen, die verwendet werden, um den Programmfluss basierend auf Wahrheitswerten (True/False) zu steuern. Die wichtigsten Bedingungsstrukturen sind:\n",
    "\n",
    "1. **`if`**: Führt einen Codeblock aus, wenn die Bedingung wahr ist.\n",
    "\n",
    "\n",
    "<img src=\"images/If_Anweisung.png\" alt=\"Ablaufdiagramm einer If-Anweisung\" title=\"Ablaufdiagramm einer If-Anweisung\" width=\"600\" height=\"200\"/>\n",
    "<p>Bildquelle: <a href=\"https://www.py4e.com/book\">https://www.py4e.com/book<a></p>\n",
    "\n",
    "### Beispiel:\n",
    "```python\n",
    "# Eingabe der Zahl vom Benutzer\n",
    "number = 4\n",
    "\n",
    "# Überprüfen, ob die Zahl positiv ist\n",
    "if number > 0:\n",
    "    print(\"Die Zahl ist positiv.\")\n",
    "```\n",
    "\n",
    "\n",
    "2. **`elif`**: Wird verwendet, um weitere Bedingungen zu überprüfen, falls die vorherige Bedingung nicht wahr war.\n",
    "\n",
    "<img src=\"images/If_Else_Anweisung.png\" alt=\"Ablaufdiagramm einer If-Else-Anweisung\" title=\"Ablaufdiagramm einer If-Else-Anweisung\" width=\"600\" height=\"200\" />\n",
    "<p>Bildquelle: <a href=\"https://www.py4e.com/book\">https://www.py4e.com/book<a></p>\n",
    "\n",
    "### Beispiel:\n",
    "```python\n",
    "# Eingabe der Zahl vom Benutzer\n",
    "number = -1\n",
    "\n",
    "# Überprüfen, ob die Zahl positiv ist\n",
    "if number > 0:\n",
    "    print(\"Die Zahl ist positiv.\")\n",
    "elif number < 0:\n",
    "    print(\"Die Zahl ist Negativ.\")\n",
    "    \n",
    "```\n",
    "\n",
    "    \n",
    "3. **`else`**: Wird ausgeführt, wenn keine der vorherigen Bedingungen wahr ist.\n",
    "\n",
    "<img src=\"images/If_Then_ElseIf_Logik.png\" alt=\"If-Then-ElseIf-Logik\" title=\"If-Then-ElseIf-Logik\" width=\"600\" height=\"200\"/>\n",
    "<p>Bildquelle: <a href=\"https://www.py4e.com/book\">https://www.py4e.com/book<a></p>\n",
    "\n",
    "### Beispiel:\n",
    "```python\n",
    "x = 1\n",
    "if x > 0:\n",
    "    print(\"Positiv\")\n",
    "elif x < 0:\n",
    "    print(\"Negativ\")\n",
    "else:\n",
    "    print(\"Null\")\n",
    "```\n",
    "4. **Ternärer Operator** (`x if condition else y`): Eine Kurzform für einfache `if`-`else`-Bedingungen.\n",
    "\n",
    "\n",
    "### Beispiel1:\n",
    "```python\n",
    "zahl = 5\n",
    "ergebnis = \"positiv\" if zahl > 0 else \"negativ oder null\"\n",
    "print(ergebnis)  # Ausgabe: positiv\n",
    "\n",
    "```\n",
    "### Beispiel2:\n",
    "```python\n",
    " \n",
    "zahl = -1\n",
    "beschreibung = \"positiv\" if zahl > 0 else \"negativ\" if zahl < 0 else \"null\"\n",
    "print(beschreibung)  # Ausgabe: null\n",
    "```\n",
    " ### Beispiel3:\n",
    "```python\n",
    " \n",
    "zahl = 0\n",
    "beschreibung = \"positiv\" if zahl > 0 else \"negativ\" if zahl < 0 else \"null\"\n",
    "print(beschreibung)  # Ausgabe: null\n",
    "```\n",
    " \n",
    "\n",
    "\n",
    "\n",
    "5. **Verschachtelte Bedingungen**:\n",
    "\n",
    "\n",
    "<img src=\"images/Verschachtelte_If_Anweisungen.png\" alt=\"Verschachtelte If-Anweisungen\" title=\"Verschachtelte If-Anweisungen\" width=\"600\" height=\"200\"/>\n",
    "<p>Bildquelle: <a href=\"https://www.py4e.com/book\">https://www.py4e.com/book<a></p>\n",
    "\n",
    "\n",
    "### Beispiel:\n",
    "```python\n",
    "alter = 19\n",
    "Berufserfahrung_in_Jahren = 4\n",
    "\n",
    "if age >= 18:\n",
    "    if Berufserfahrung_in_Jahren >= 5:\n",
    "        print(\"Du bist für die Position geeignet!\")\n",
    "    else:\n",
    "        print(\"Du hast nicht genug Berufserfahrung für diese Position.\")\n",
    "else:\n",
    "    print(\"Du bist zu jung für diese Position.\")\n",
    "```\n",
    "\n"
   ]
  },
  {
   "cell_type": "code",
   "execution_count": 14,
   "id": "ca4cdbfb-21e0-4d50-b365-ec119f8ef9da",
   "metadata": {},
   "outputs": [
    {
     "name": "stdout",
     "output_type": "stream",
     "text": [
      "Die Zahl ist positiv.\n"
     ]
    }
   ],
   "source": [
    "# Eingabe der Zahl vom Benutzer\n",
    "number = 4\n",
    "\n",
    "# Überprüfen, ob die Zahl positiv ist\n",
    "if number > 0:\n",
    "    print(\"Die Zahl ist positiv.\")"
   ]
  },
  {
   "cell_type": "code",
   "execution_count": 3,
   "id": "26e28389-d047-4018-a5b5-180b44701865",
   "metadata": {},
   "outputs": [
    {
     "name": "stdout",
     "output_type": "stream",
     "text": [
      "Die Zahl ist Negativ.\n"
     ]
    }
   ],
   "source": [
    "# Eingabe der Zahl vom Benutzer\n",
    "number = -1\n",
    "\n",
    "# Überprüfen, ob die Zahl positiv ist\n",
    "if number > 0:\n",
    "    print(\"Die Zahl ist positiv.\")\n",
    "elif number < 0:\n",
    "    print(\"Die Zahl ist Negativ.\")\n",
    "    "
   ]
  },
  {
   "cell_type": "code",
   "execution_count": 11,
   "id": "a3ce357d-0c79-4ec8-ace0-4e285650cfac",
   "metadata": {},
   "outputs": [
    {
     "name": "stdout",
     "output_type": "stream",
     "text": [
      "Positiv\n"
     ]
    }
   ],
   "source": [
    "x = 1\n",
    "if x > 0:\n",
    "    print(\"Positiv\")\n",
    "elif x < 0:\n",
    "    print(\"Negativ\")\n",
    "else:\n",
    "    print(\"Null\")"
   ]
  },
  {
   "cell_type": "code",
   "execution_count": 13,
   "id": "86ba469b-33cb-4e44-a0d4-9b62b167cb7f",
   "metadata": {},
   "outputs": [
    {
     "name": "stdout",
     "output_type": "stream",
     "text": [
      "Du hast nicht genug Berufserfahrung für diese Position.\n"
     ]
    }
   ],
   "source": [
    "alter = 19\n",
    "Berufserfahrung_in_Jahren = 4\n",
    "\n",
    "if age >= 18:\n",
    "    if Berufserfahrung_in_Jahren >= 5:\n",
    "        print(\"Du bist für die Position geeignet!\")\n",
    "    else:\n",
    "        print(\"Du hast nicht genug Berufserfahrung für diese Position.\")\n",
    "else:\n",
    "    print(\"Du bist zu jung für diese Position.\")"
   ]
  },
  {
   "cell_type": "markdown",
   "id": "23e0ad6b-e920-4ddf-8639-936afe434a49",
   "metadata": {},
   "source": [
    "Die Bedingungen können auch in Kombination mit logischen Operatoren verwendet werden, wie:\n",
    "\n",
    "- **`and`**: Beide Bedingungen müssen wahr sein.\n",
    "- **`or`**: Mindestens eine der Bedingungen muss wahr sein.\n",
    "- **`not`**: Kehrt den Wahrheitswert einer Bedingung um.\n",
    "### Beispiel für logische Operatoren\n",
    "\n",
    "#### **`and`**:\n",
    "Beide Bedingungen müssen wahr sein.\n",
    "\n",
    "```python\n",
    "x = 5\n",
    "y = 10\n",
    "if x > 0 and y > 0:\n",
    "    print(\"Beide Zahlen sind positiv\")\n",
    "```\n",
    "\n",
    "**`Erklärung`**: Da sowohl x als auch y größer als 0 sind, wird \"Beide Zahlen sind positiv\" ausgegeben.\n",
    "\n",
    "\n",
    "\n"
   ]
  },
  {
   "cell_type": "code",
   "execution_count": 4,
   "id": "730d769f-20ff-40b6-bfe5-5feec5fdcfc1",
   "metadata": {},
   "outputs": [
    {
     "name": "stdout",
     "output_type": "stream",
     "text": [
      "Mindestens eine Zahl ist positiv\n"
     ]
    }
   ],
   "source": [
    "x = -5\n",
    "y = 10\n",
    "if x > 0 or y > 0:\n",
    "    print(\"Mindestens eine Zahl ist positiv\")\n"
   ]
  },
  {
   "cell_type": "markdown",
   "id": "031ba0e7-9401-4b32-977a-3e09414fba15",
   "metadata": {},
   "source": [
    "#### **`or`**:\n",
    "Mindestens eine der Bedingungen muss wahr sein.\n",
    "\n",
    "```python\n",
    "x = -5\n",
    "y = 10\n",
    "if x > 0 or y > 0:\n",
    "    print(\"Mindestens eine Zahl ist positiv\")\n",
    "```\n",
    "\n",
    "**`Erklärung`**: Da y größer als 0 ist, wird \"Mindestens eine Zahl ist positiv\" ausgegeben, auch wenn x negativ ist."
   ]
  },
  {
   "cell_type": "code",
   "execution_count": 5,
   "id": "fb767e99-a5a4-4a65-b71b-98984aa916a1",
   "metadata": {},
   "outputs": [
    {
     "name": "stdout",
     "output_type": "stream",
     "text": [
      "Mindestens eine Zahl ist positiv\n"
     ]
    }
   ],
   "source": [
    "x = -5\n",
    "y = 10\n",
    "if x > 0 or y > 0:\n",
    "    print(\"Mindestens eine Zahl ist positiv\")\n"
   ]
  },
  {
   "cell_type": "markdown",
   "id": "47763871-c411-4bae-9d52-96715fb06dfd",
   "metadata": {},
   "source": [
    "#### **`not`**:\n",
    "Kehrt den Wahrheitswert einer Bedingung um.\n",
    "\n",
    "```python\n",
    "x = -5\n",
    "if not x > 0:\n",
    "    print(\"x ist nicht positiv\")\n",
    "```\n",
    "**`Erklärung`**: Da x kleiner als 0 ist, wird der not-Operator den Wahrheitswert umkehren, sodass die Bedingung wahr ist, und \"x ist nicht positiv\" wird ausgegeben.\n"
   ]
  },
  {
   "cell_type": "code",
   "execution_count": 4,
   "id": "36902481-13b7-4d58-a289-432962940b76",
   "metadata": {},
   "outputs": [
    {
     "name": "stdout",
     "output_type": "stream",
     "text": [
      "x ist nicht positiv\n"
     ]
    }
   ],
   "source": [
    "x = -5\n",
    "if not x > 0:\n",
    "    print(\"x ist nicht positiv\")\n"
   ]
  },
  {
   "cell_type": "markdown",
   "id": "472d6b28-b7e6-4b36-9e4b-18571abea6a0",
   "metadata": {},
   "source": [
    "- **`if-Anweisungen`** dürfen nicht leer sein. \n",
    "- Falls eine If-Anweisung ohne Inhalt notwendig ist, verwenden Sie die `pass`-Anweisung.\n",
    "- Die `pass`-Anweisung verhindert Fehler bei leeren If-Blöcken.\n",
    "\n"
   ]
  },
  {
   "cell_type": "code",
   "execution_count": 7,
   "id": "30a7b0a0-f607-451b-989e-454dd34aeb7f",
   "metadata": {},
   "outputs": [],
   "source": [
    "x = 10\n",
    "\n",
    "if x > 5:\n",
    "    pass  # Keine Aktion, aber keine Fehlermeldung\n",
    "else:\n",
    "    print(\"x ist kleiner oder gleich 5\")"
   ]
  },
  {
   "cell_type": "markdown",
   "id": "dba74645-f391-4f7a-9504-8e1b03ae97fc",
   "metadata": {},
   "source": [
    "## Python input()- Funktion"
   ]
  },
  {
   "cell_type": "markdown",
   "id": "04f19514-407b-4b06-8d2a-db3635e89145",
   "metadata": {},
   "source": [
    "- Die `input()`-Funktion liest Benutzereingaben aus der Konsole.\n",
    "- Sie gibt die Eingabe immer als **Zeichenkette (String)** zurück.\n",
    "- Die Funktion zeigt optional eine **Eingabeaufforderung** an (z. B. `\"Wie heißt du?\"`).\n",
    "- Um die Eingabe als einen anderen Datentyp (z. B. `int` oder `float`) zu verwenden, muss eine **Typkonvertierung** erfolgen.\n",
    "- Beispiel für Typkonvertierung: `alter = int(input(\"Wie alt bist du? \"))`\n",
    "- Die Eingabe wird in der Variable gespeichert und kann anschließend weiterverarbeitet werden.\n"
   ]
  },
  {
   "cell_type": "code",
   "execution_count": 1,
   "id": "423ea9e6-da46-4338-8f5a-25454782e563",
   "metadata": {},
   "outputs": [
    {
     "name": "stdin",
     "output_type": "stream",
     "text": [
      "Wie heißt du?  Mohammad\n"
     ]
    },
    {
     "name": "stdout",
     "output_type": "stream",
     "text": [
      "Hallo, Mohammad!\n"
     ]
    }
   ],
   "source": [
    "name = input(\"Wie heißt du? \")\n",
    "print(\"Hallo, \" + name + \"!\")"
   ]
  },
  {
   "cell_type": "code",
   "execution_count": 9,
   "id": "73626c10-3c98-4caa-84cd-f7f6462c2a45",
   "metadata": {},
   "outputs": [
    {
     "name": "stdin",
     "output_type": "stream",
     "text": [
      "Wie alt bist du?  13\n"
     ]
    },
    {
     "name": "stdout",
     "output_type": "stream",
     "text": [
      "Du bist 13 Jahre alt.\n"
     ]
    }
   ],
   "source": [
    "alter = int(input(\"Wie alt bist du? \"))\n",
    "print(\"Du bist \" + str(alter) + \" Jahre alt.\")\n"
   ]
  },
  {
   "cell_type": "code",
   "execution_count": 10,
   "id": "e230103e-d2ba-448e-96a3-f912e1580e74",
   "metadata": {},
   "outputs": [
    {
     "name": "stdin",
     "output_type": "stream",
     "text": [
      "Wie viel kostet das?  35\n"
     ]
    },
    {
     "name": "stdout",
     "output_type": "stream",
     "text": [
      "Der Preis beträgt 35.0 Euro.\n"
     ]
    }
   ],
   "source": [
    "preis = float(input(\"Wie viel kostet das? \"))\n",
    "print(\"Der Preis beträgt \" + str(preis) + \" Euro.\")\n"
   ]
  },
  {
   "cell_type": "code",
   "execution_count": null,
   "id": "4e270c80-304e-48b6-9e24-0392b00b0e1b",
   "metadata": {},
   "outputs": [],
   "source": []
  },
  {
   "cell_type": "markdown",
   "id": "8a2f8ed7-80f3-4530-86ca-dba0f4060efd",
   "metadata": {},
   "source": [
    "## Quellen\n",
    "\n",
    "1. https://www.w3schools.com/python/\n",
    "2. https://www.python.org/\n",
    "3. https://www.py4e.com/book"
   ]
  },
  {
   "cell_type": "code",
   "execution_count": null,
   "id": "db04e991-d7f5-4314-85a0-b66a03bc8138",
   "metadata": {},
   "outputs": [],
   "source": []
  }
 ],
 "metadata": {
  "kernelspec": {
   "display_name": "Python 3 (ipykernel)",
   "language": "python",
   "name": "python3"
  },
  "language_info": {
   "codemirror_mode": {
    "name": "ipython",
    "version": 3
   },
   "file_extension": ".py",
   "mimetype": "text/x-python",
   "name": "python",
   "nbconvert_exporter": "python",
   "pygments_lexer": "ipython3",
   "version": "3.12.7"
  }
 },
 "nbformat": 4,
 "nbformat_minor": 5
}
