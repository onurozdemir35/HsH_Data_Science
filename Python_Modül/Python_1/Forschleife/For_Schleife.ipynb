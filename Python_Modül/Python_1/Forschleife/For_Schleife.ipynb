{
 "cells": [
  {
   "cell_type": "markdown",
   "id": "3b06562c-a4ca-4742-9fde-40a2bb7da974",
   "metadata": {},
   "source": [
    "# Python- Operatoren"
   ]
  },
  {
   "cell_type": "markdown",
   "id": "d1b05528-5ad3-466a-9ee3-5209b5182954",
   "metadata": {},
   "source": [
    "| **Operator**       | **Beispiel**                | **Beschreibung**                                              |\n",
    "|--------------------|-----------------------------|---------------------------------------------------------------|\n",
    "| **Arithmetische Operatoren** |                             |                                                               |\n",
    "| `+`                | `a + b`                     | Addition                                                      |\n",
    "| `-`                | `a - b`                     | Subtraktion                                                   |\n",
    "| `*`                | `a * b`                     | Multiplikation                                                |\n",
    "| `/`                | `a / b`                     | Division (gibt immer einen `float` zurück)                    |\n",
    "| `//`               | `a // b`                    | Ganzzahlige Division (gibt den ganzzahligen Quotienten zurück) |\n",
    "| `%`                | `a % b`                     | Modulo (Rest der Division)                                    |\n",
    "| `**`               | `a ** b`                    | Potenzierung                                                  |\n",
    "| **Vergleichsoperatoren** |                         |                                                               |\n",
    "| `==`               | `a == b`                    | Gleichheit                                                     |\n",
    "| `!=`               | `a != b`                    | Ungleichheit                                                   |\n",
    "| `>`                | `a > b`                     | Größer als                                                     |\n",
    "| `<`                | `a < b`                     | Kleiner als                                                    |\n",
    "| `>=`               | `a >= b`                    | Größer oder gleich                                             |\n",
    "| `<=`               | `a <= b`                    | Kleiner oder gleich                                            |\n",
    "| **Logische Operatoren** |                          |                                                               |\n",
    "| `and`              | `a and b`                   | Logisches UND                                                  |\n",
    "| `or`               | `a or b`                    | Logisches ODER                                                 |\n",
    "| `not`              | `not a`                     | Logisches NICHT                                                |\n",
    "| **Zuweisungsoperatoren** |                        |                                                               |\n",
    "| `=`                | `a = 5`                     | Zuweisung                                                     |\n",
    "| `+=`               | `a += 5`                    | Addition und Zuweisung                                        |\n",
    "| `-=`               | `a -= 5`                    | Subtraktion und Zuweisung                                     |\n",
    "| `*=`               | `a *= 5`                    | Multiplikation und Zuweisung                                   |\n",
    "| `/=`               | `a /= 5`                    | Division und Zuweisung                                         |\n",
    "| `//=`              | `a //= 5`                   | Ganzzahlige Division und Zuweisung                            |\n",
    "| `%=`               | `a %= 5`                    | Modulo und Zuweisung                                           |\n",
    "| `**=`              | `a **= 5`                   | Potenzierung und Zuweisung                                     |\n",
    "| **Identitätsoperatoren** |                        |                                                               |\n",
    "| `is`               | `a is b`                    | Überprüft, ob zwei Variablen auf dasselbe Objekt im Speicher verweisen |\n",
    "| `is not`           | `a is not b`                | Überprüft, ob zwei Variablen nicht dasselbe Objekt im Speicher sind |\n",
    "| **Mitgliedschaftsoperatoren** |                    |                                                               |\n",
    "| `in`               | `a in list`                 | Überprüft, ob ein Wert in einer Liste (oder einem anderen iterierbaren Objekt) enthalten ist |\n",
    "| `not in`           | `a not in list`             | Überprüft, ob ein Wert nicht in einer Liste (oder einem anderen iterierbaren Objekt) enthalten ist |\n",
    "| **Bitweise Operatoren** |                         |                                                               |\n",
    "| `&`                | `a & b`                     | Bitweises UND                                                  |\n",
    "| `|`                | `a | b`                     | Bitweises ODER                                                 |\n",
    "| `^`                | `a ^ b`                     | Bitweises XOR (exklusives ODER)                               |\n",
    "| `~`                | `~a`                        | Bitweises NOT (Invertierung)                                  |\n",
    "| `<<`               | `a << b`                    | Bitweises Verschieben nach links                               |\n",
    "| `>>`               | `a >> b`                    | Bitweises Verschieben nach rechts                              |\n"
   ]
  },
  {
   "cell_type": "markdown",
   "id": "3150e93c-a37a-4fbe-8aa2-94865dcdabd9",
   "metadata": {},
   "source": [
    "## Beispiele:"
   ]
  },
  {
   "cell_type": "markdown",
   "id": "0c6c4274-8ad3-4a39-9778-d8695af9fa11",
   "metadata": {},
   "source": [
    "## Arithmetische Operatoren\n",
    "- Diese Operatoren werden für grundlegende mathematische Berechnungen verwendet."
   ]
  },
  {
   "cell_type": "code",
   "execution_count": 29,
   "id": "6339d38c-3585-4c15-b6ac-4fd45c2145a5",
   "metadata": {},
   "outputs": [
    {
     "name": "stdout",
     "output_type": "stream",
     "text": [
      "15\n",
      "5\n",
      "50\n",
      "2.0\n",
      "2\n",
      "2\n",
      "0\n",
      "0\n",
      "100000\n"
     ]
    }
   ],
   "source": [
    "a = 10\n",
    "b = 5\n",
    "\n",
    "# Addition\n",
    "print(a + b)  # 15\n",
    "\n",
    "# Subtraktion\n",
    "print(a - b)  # 5\n",
    "\n",
    "# Multiplikation\n",
    "print(a * b)  # 50\n",
    "\n",
    "# Division\n",
    "print(a / b)  # 2.0 (Gleitkommazahl)\n",
    "\n",
    "# Ganzzahlige Division\n",
    "print(a // b)  # 2 (ganzzahlige Division)\n",
    "print(7 // 3)  # 2 (ganzzahlige Division)\n",
    "print(1 // 2)  # 2 (ganzzahlige Division)\n",
    "\n",
    "# Modulo (Restwert)\n",
    "print(a % b)  # 0 (Rest der Division)\n",
    "\n",
    "# Potenz\n",
    "print(a ** b)  # 100000\n"
   ]
  },
  {
   "cell_type": "markdown",
   "id": "2336ac37-b707-4cbc-b491-f8ec658e37b8",
   "metadata": {},
   "source": [
    "## 2. Vergleichsoperatoren\n",
    "Diese Operatoren vergleichen zwei Werte und geben einen Wahrheitswert (True oder False) zurück."
   ]
  },
  {
   "cell_type": "code",
   "execution_count": 2,
   "id": "43009c75-c166-42e1-8d45-3ab7a4f232a7",
   "metadata": {},
   "outputs": [
    {
     "name": "stdout",
     "output_type": "stream",
     "text": [
      "False\n",
      "True\n",
      "True\n",
      "False\n",
      "True\n",
      "False\n"
     ]
    }
   ],
   "source": [
    "x = 10\n",
    "y = 5\n",
    "\n",
    "# Gleich\n",
    "print(x == y)  # False\n",
    "\n",
    "# Ungleich\n",
    "print(x != y)  # True\n",
    "\n",
    "# Größer als\n",
    "print(x > y)  # True\n",
    "\n",
    "# Kleiner als\n",
    "print(x < y)  # False\n",
    "\n",
    "# Größer oder gleich\n",
    "print(x >= y)  # True\n",
    "\n",
    "# Kleiner oder gleich\n",
    "print(x <= y)  # False\n"
   ]
  },
  {
   "cell_type": "markdown",
   "id": "b84aebb9-afb1-4e19-b3ea-cda0ccd836ad",
   "metadata": {},
   "source": [
    "## 3. Logische Operatoren\n",
    "Diese Operatoren werden verwendet, um Bedingungen zu kombinieren.\n"
   ]
  },
  {
   "cell_type": "code",
   "execution_count": 3,
   "id": "74248f5f-b55d-403c-9759-078b7c66f72e",
   "metadata": {},
   "outputs": [
    {
     "name": "stdout",
     "output_type": "stream",
     "text": [
      "False\n",
      "True\n",
      "False\n"
     ]
    }
   ],
   "source": [
    "x = True\n",
    "y = False\n",
    "\n",
    "# UND (and)\n",
    "print(x and y)  # False\n",
    "\n",
    "# ODER (or)\n",
    "print(x or y)  # True\n",
    "\n",
    "# NICHT (not)\n",
    "print(not x)  # False\n"
   ]
  },
  {
   "cell_type": "markdown",
   "id": "db58d2d9-dbf9-40b5-9e4d-705efbc1677c",
   "metadata": {},
   "source": [
    "## 4. Zuweisungsoperatoren\n",
    "Diese Operatoren werden verwendet, um Variablen zuzuweisen.\n"
   ]
  },
  {
   "cell_type": "code",
   "execution_count": 10,
   "id": "6cc60f2d-8f5e-44d7-984b-73bf230ac0f2",
   "metadata": {},
   "outputs": [
    {
     "name": "stdout",
     "output_type": "stream",
     "text": [
      "5\n",
      "8\n",
      "6\n",
      "12\n",
      "4.0\n",
      "1.0\n",
      "1.0\n",
      "0.0\n"
     ]
    }
   ],
   "source": [
    "a = 10\n",
    "\n",
    "# Zuweisung\n",
    "a = 5\n",
    "print(a)  # 5\n",
    "\n",
    "# Zuweisung mit Addition\n",
    "a += 3\n",
    "#a = a + 3\n",
    "print(a)  # 8\n",
    "\n",
    "# Zuweisung mit Subtraktion\n",
    "a -= 2\n",
    "print(a)  # 6\n",
    "\n",
    "# Zuweisung mit Multiplikation\n",
    "a *= 2\n",
    "print(a)  # 12\n",
    "\n",
    "# Zuweisung mit Division\n",
    "a /= 3\n",
    "print(a)  # 4.0\n",
    "\n",
    "# Zuweisung mit Modulo\n",
    "a %= 3\n",
    "print(a)  # 1.0\n",
    "\n",
    "# Zuweisung mit Potenz\n",
    "a **= 2\n",
    "print(a)  # 1.0\n",
    "\n",
    "# Zuweisung mit ganzzahliger Division\n",
    "a //= 2\n",
    "print(a)  # 0.0\n"
   ]
  },
  {
   "cell_type": "markdown",
   "id": "8d7fd79f-0fb2-45ca-8489-b42c84483691",
   "metadata": {},
   "source": [
    "## 5. Bitweise Operatoren\n",
    "Bitweise Operatoren arbeiten mit den einzelnen Bits von Zahlen.\n"
   ]
  },
  {
   "cell_type": "markdown",
   "id": "88d33b97-2223-4db4-81ef-27a016e5d293",
   "metadata": {},
   "source": [
    "| Dezimal (Dez) | Binär (Bin) |\n",
    "|---------------|-------------|\n",
    "| 0             | 0000        |\n",
    "| 1             | 0001        |\n",
    "| 2             | 0010        |\n",
    "| 3             | 0011        |\n",
    "| 4             | 0100        |\n",
    "| 5             | 0101        |\n",
    "| 6             | 0110        |\n",
    "| 7             | 0111        |\n",
    "| 8             | 1000        |\n",
    "| 9             | 1001        |\n",
    "| 10            | 1010        |\n",
    "| 11            | 1011        |\n",
    "| 12            | 1100        |\n",
    "| 13            | 1101        |\n",
    "| 14            | 1110        |\n",
    "| 15            | 1111        |\n"
   ]
  },
  {
   "cell_type": "code",
   "execution_count": 14,
   "id": "f2a394ba-78d4-4f5f-974d-c0e8582d09f7",
   "metadata": {},
   "outputs": [
    {
     "name": "stdout",
     "output_type": "stream",
     "text": [
      "12\n"
     ]
    }
   ],
   "source": [
    "# Bitweises AND\n",
    "print(12 & 13)  # 1100"
   ]
  },
  {
   "cell_type": "code",
   "execution_count": 13,
   "id": "9db0164a-3678-42ba-abd9-77c8ea599709",
   "metadata": {},
   "outputs": [
    {
     "name": "stdout",
     "output_type": "stream",
     "text": [
      "3\n",
      "15\n",
      "12\n",
      "-16\n",
      "30\n",
      "7\n"
     ]
    }
   ],
   "source": [
    "a = 5  # 101 in binär\n",
    "b = 3  # 011 in binär\n",
    "\n",
    "# Bitweises AND\n",
    "print(a & b)  # 1 (001 in binär)\n",
    "\n",
    "# Bitweises OR\n",
    "print(a | b)  # 7 (111 in binär)\n",
    "\n",
    "# Bitweises XOR\n",
    "print(a ^ b)  # 6 (110 in binär)\n",
    "\n",
    "# Bitweises NOT\n",
    "print(~a)  # -6 (invertiert alle Bits)\n",
    "\n",
    "# Bitweises Shift nach links\n",
    "print(a << 1)  # 10 (1010 in binär)\n",
    "\n",
    "# Bitweises Shift nach rechts\n",
    "print(a >> 1)  # 2 (10 in binär)\n"
   ]
  },
  {
   "cell_type": "markdown",
   "id": "24f2acad-2692-41e8-b401-27954bdc5900",
   "metadata": {},
   "source": [
    "##   101    (5 in binär)\n",
    "  \n",
    "## & \n",
    "\n",
    "## 011    (3 in binär)\n",
    "-------\n",
    "  001    (Ergebnis in binär)\n"
   ]
  },
  {
   "cell_type": "markdown",
   "id": "93b289db-2c8f-45d5-a308-2067fec7eb0f",
   "metadata": {},
   "source": [
    "## 6. Mitgliedsoperatoren\n",
    "Mitgliedsoperatoren prüfen, ob ein Wert in einer Sequenz wie einer Liste, einem Tupel oder einem String enthalten ist."
   ]
  },
  {
   "cell_type": "code",
   "execution_count": 6,
   "id": "8755626d-9506-4676-9dd3-783af8f3c615",
   "metadata": {},
   "outputs": [
    {
     "name": "stdout",
     "output_type": "stream",
     "text": [
      "True\n",
      "True\n"
     ]
    }
   ],
   "source": [
    "liste = [1, 2, 3, 4, 5]\n",
    "\n",
    "# Mitgliedsoperator `in`\n",
    "print(3 in liste)  # True\n",
    "\n",
    "# Mitgliedsoperator `not in`\n",
    "print(6 not in liste)  # True\n"
   ]
  },
  {
   "cell_type": "markdown",
   "id": "1c312a53-15fc-452f-897a-f850ab301d37",
   "metadata": {},
   "source": [
    "## 7. Identitätsoperatoren\n",
    "Identitätsoperatoren prüfen, ob zwei Objekte im Speicher denselben Ort belegen (also dieselbe Instanz sind)."
   ]
  },
  {
   "cell_type": "code",
   "execution_count": 11,
   "id": "6ae5efe9-960a-4782-bc3b-e91b1a598254",
   "metadata": {},
   "outputs": [
    {
     "name": "stdout",
     "output_type": "stream",
     "text": [
      "False\n",
      "True\n",
      "True\n",
      "False\n"
     ]
    }
   ],
   "source": [
    "x = [1, 2, 3]\n",
    "y = [1, 2, 3]\n",
    "\n",
    "# Identitätsoperator `is` (vergleicht Objekte auf Identität)\n",
    "print(x is y)  # False, weil x und y unterschiedliche Objekte sind\n",
    "\n",
    "# Identitätsoperator `is not`\n",
    "print(x is not y)  # True, weil x und y unterschiedliche Objekte sind\n",
    "\n",
    "# Identität mit einer Variable\n",
    "z = x\n",
    "print(x is z)  # True, weil x und z dasselbe Objekt sind\n"
   ]
  },
  {
   "cell_type": "markdown",
   "id": "b05f11b8-d30c-47ea-9400-e02582d42208",
   "metadata": {},
   "source": [
    "# Die Funktionen: minimum, maximum, range, count un sum\n",
    "* **minimum** — der kleinste Wert in einer Sammlung von Werten.\n",
    "* **maximum** — der größte Wert in einer Sammlung von Werten.\n",
    "* **range** — der Bereich der Werte vom Minimum bis zum Maximum.\n",
    "* **count** — die Anzahl der Werte in einer Sammlung.\n",
    "* **sum** — die Gesamtsumme der Werte in einer Sammlung.\n"
   ]
  },
  {
   "cell_type": "markdown",
   "id": "50d3092c-3ba2-410e-a2b6-8e4f06103ece",
   "metadata": {},
   "source": [
    "# Beispiele: "
   ]
  },
  {
   "cell_type": "markdown",
   "id": "5983b91f-b118-4ff5-bdbb-8a4486c8add8",
   "metadata": {},
   "source": [
    "## 1. min() – Minimum"
   ]
  },
  {
   "cell_type": "code",
   "execution_count": 26,
   "id": "610a7bc2-8a56-42dd-8870-f3f73720055b",
   "metadata": {},
   "outputs": [
    {
     "name": "stdout",
     "output_type": "stream",
     "text": [
      "5\n"
     ]
    }
   ],
   "source": [
    "zahlen = [10, 20, 5, 8, 30]\n",
    "kleinster_wert = min(zahlen)\n",
    "print(kleinster_wert)  # Ausgabe: 5\n",
    " "
   ]
  },
  {
   "cell_type": "markdown",
   "id": "5167d81f-fdc2-4952-86de-af389525cf86",
   "metadata": {},
   "source": [
    "## 2. max() – Maximum"
   ]
  },
  {
   "cell_type": "code",
   "execution_count": 24,
   "id": "a2345d72-163e-42a9-9317-cd1e639e4c9f",
   "metadata": {},
   "outputs": [
    {
     "name": "stdout",
     "output_type": "stream",
     "text": [
      "30\n"
     ]
    }
   ],
   "source": [
    "zahlen = [10, 20, 5, 8, 30]\n",
    "groesster_wert = max(zahlen)\n",
    "print(groesster_wert)  # Ausgabe: 30\n"
   ]
  },
  {
   "cell_type": "markdown",
   "id": "abcaa1be-c98c-49ec-8099-e40da1443629",
   "metadata": {},
   "source": [
    "## 3. range() – Bereich\n",
    "range(start, stop, step)"
   ]
  },
  {
   "cell_type": "code",
   "execution_count": 21,
   "id": "71cd6220-5fcd-4028-8897-1dd398e1ddd5",
   "metadata": {},
   "outputs": [
    {
     "name": "stdout",
     "output_type": "stream",
     "text": [
      "[1, 2, 3, 4, 5]\n"
     ]
    }
   ],
   "source": [
    "bereich = range(1, 6)\n",
    "print(list(bereich))  # Ausgabe: [1, 2, 3, 4, 5]"
   ]
  },
  {
   "cell_type": "markdown",
   "id": "c9dae5c0-34ee-45fe-b0f1-36a77b41146a",
   "metadata": {},
   "source": [
    "## 4. count() – Zählen\n"
   ]
  },
  {
   "cell_type": "code",
   "execution_count": 22,
   "id": "64c21116-3597-42b7-9c2d-43073b0ede43",
   "metadata": {},
   "outputs": [
    {
     "name": "stdout",
     "output_type": "stream",
     "text": [
      "3\n"
     ]
    }
   ],
   "source": [
    "zahlen = [10, 20, 5, 8, 20, 30, 20]\n",
    "haeufigkeit = zahlen.count(20)\n",
    "print(haeufigkeit)  # Ausgabe: 3\n"
   ]
  },
  {
   "cell_type": "markdown",
   "id": "f3beee15-473f-4708-8abf-6b255c68b20e",
   "metadata": {},
   "source": [
    "## 5. sum() – Summe\n"
   ]
  },
  {
   "cell_type": "code",
   "execution_count": 23,
   "id": "60b64b80-dbf3-4c1f-9c75-7dc50e1743f6",
   "metadata": {},
   "outputs": [
    {
     "name": "stdout",
     "output_type": "stream",
     "text": [
      "73\n"
     ]
    }
   ],
   "source": [
    "zahlen = [10, 20, 5, 8, 30]\n",
    "gesamt_summe = sum(zahlen)\n",
    "print(gesamt_summe)  # Ausgabe: 73\n"
   ]
  },
  {
   "cell_type": "markdown",
   "id": "22e2d35c-0423-4bb4-a233-efa1862f7f11",
   "metadata": {},
   "source": [
    "# Schleifen (Loops)"
   ]
  },
  {
   "cell_type": "markdown",
   "id": "e3591058-1a3e-4ea9-a6cd-ec0a1217b9c8",
   "metadata": {},
   "source": [
    "## In Python stehen zwei grundlegende Schleifenbefehle zur Verfügung:\n",
    "\n",
    "1. `for`-Schleife\n",
    "2. `while`-Schleife\n",
    " "
   ]
  },
  {
   "cell_type": "markdown",
   "id": "9ab41953-2b12-42d9-a881-f3c51053b18c",
   "metadata": {},
   "source": [
    "## Erklärung: `for`-Schleife in Python\n",
    "\n",
    "### Allgemeines\n",
    "- Die `for`-Schleife wird verwendet, um über eine Sequenz (wie eine Liste, ein Tuple, ein Dictionary, eine Zeichenkette oder ein Range-Objekt) zu iterieren.\n",
    "- Sie eignet sich besonders gut, wenn die Anzahl der Iterationen bekannt ist oder eine definierte Reihenfolge durchlaufen werden soll.\n",
    "\n",
    "### Syntax\n",
    "```python\n",
    "for Element in Sequenz:\n",
    "    # Codeblock, der für jedes Element in der Sequenz ausgeführt wird\n",
    "    pass\n"
   ]
  },
  {
   "cell_type": "markdown",
   "id": "ab7f24be-d39b-47d3-bee8-92d7dd8c9bd7",
   "metadata": {},
   "source": [
    "### Funktionsweise:\n",
    "- `Element` ist eine Variable, die für jedes Element in der Sequenz nacheinander den jeweiligen Wert erhält.\n",
    "- Der Codeblock wird für jedes Element der Sequenz einmal ausgeführt."
   ]
  },
  {
   "cell_type": "markdown",
   "id": "53645208-f3c8-4a44-8601-9a0c37e2a0f8",
   "metadata": {},
   "source": [
    "### Beispiel"
   ]
  },
  {
   "cell_type": "markdown",
   "id": "f79b6d83-d1d5-4028-97ea-fae73b1982ef",
   "metadata": {},
   "source": [
    "#### Einfaches Beispiel mit einer Liste"
   ]
  },
  {
   "cell_type": "code",
   "execution_count": 15,
   "id": "98b11b9a-ee89-4834-8e1a-7563f45989fd",
   "metadata": {},
   "outputs": [
    {
     "name": "stdout",
     "output_type": "stream",
     "text": [
      "Apfel\n",
      "Banane\n",
      "Kirsche\n"
     ]
    }
   ],
   "source": [
    "fruits = [\"Apfel\", \"Banane\", \"Kirsche\"]\n",
    "for fruit in fruits:\n",
    "    print(fruit)"
   ]
  },
  {
   "cell_type": "markdown",
   "id": "40b15310-7261-4fac-b90d-a83f06bac28e",
   "metadata": {},
   "source": [
    "#### Beispiel mit `range()`"
   ]
  },
  {
   "cell_type": "code",
   "execution_count": 18,
   "id": "dae009a3-c58c-4351-8e84-4dfa40e47bb6",
   "metadata": {},
   "outputs": [
    {
     "name": "stdout",
     "output_type": "stream",
     "text": [
      "0\n",
      "1\n",
      "2\n"
     ]
    }
   ],
   "source": [
    "for i in range(3):\n",
    "    print(i)\n"
   ]
  },
  {
   "cell_type": "markdown",
   "id": "28cca3e8-ad57-4e09-a86c-6cc3b1ec5f52",
   "metadata": {},
   "source": [
    "#### Iteration über ein Dictionary\n"
   ]
  },
  {
   "cell_type": "code",
   "execution_count": 17,
   "id": "6db9f035-9482-44eb-ad23-83b651a34f2e",
   "metadata": {},
   "outputs": [
    {
     "name": "stdout",
     "output_type": "stream",
     "text": [
      "Name : John\n",
      "Alter : 30\n",
      "Stadt : Berlin\n"
     ]
    }
   ],
   "source": [
    "person = {\"Name\": \"John\", \"Alter\": 30, \"Stadt\": \"Berlin\"}\n",
    "for key, value in person.items():\n",
    "    print(key, \":\", value)"
   ]
  },
  {
   "cell_type": "markdown",
   "id": "8c757a11-54b0-4755-939f-ef2a75d069e3",
   "metadata": {},
   "source": [
    "### Python Tutor: Visualize Code and Get AI Help for Python, JavaScript, C, C++, and Java\n",
    "https://pythontutor.com/visualize.html#mode=edit"
   ]
  },
  {
   "cell_type": "markdown",
   "id": "25fb9b5d-07f6-4881-aaf1-817e9029c152",
   "metadata": {},
   "source": [
    "## Quellen\n",
    "\n",
    "1. https://www.w3schools.com/python/\n",
    "2. https://www.python.org/\n",
    "3. https://www.py4e.com/book"
   ]
  },
  {
   "cell_type": "code",
   "execution_count": null,
   "id": "3c3dd53f-4386-4723-b41f-40c54044d01a",
   "metadata": {},
   "outputs": [],
   "source": []
  }
 ],
 "metadata": {
  "kernelspec": {
   "display_name": "Python 3 (ipykernel)",
   "language": "python",
   "name": "python3"
  },
  "language_info": {
   "codemirror_mode": {
    "name": "ipython",
    "version": 3
   },
   "file_extension": ".py",
   "mimetype": "text/x-python",
   "name": "python",
   "nbconvert_exporter": "python",
   "pygments_lexer": "ipython3",
   "version": "3.12.7"
  }
 },
 "nbformat": 4,
 "nbformat_minor": 5
}
