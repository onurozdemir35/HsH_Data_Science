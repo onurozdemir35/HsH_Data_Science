{
 "cells": [
  {
   "cell_type": "markdown",
   "id": "02e48245-6d07-42f3-8526-cd2553782682",
   "metadata": {},
   "source": [
    "# Übungen zu `for`-Schleifen:"
   ]
  },
  {
   "cell_type": "markdown",
   "id": "58657582-c320-40d1-81b5-e01ce3ca93c7",
   "metadata": {},
   "source": [
    "## Übung 1: Zahlen ausgeben (5 Min.)\n",
    "Schreibe eine `for`-Schleife, die die Zahlen von 1 bis 10 ausgibt."
   ]
  },
  {
   "cell_type": "code",
   "execution_count": 22,
   "id": "93ed7d3c-0894-4318-b5f8-754b6a10889f",
   "metadata": {},
   "outputs": [
    {
     "name": "stdout",
     "output_type": "stream",
     "text": [
      "1\n",
      "2\n",
      "3\n",
      "4\n",
      "5\n",
      "6\n",
      "7\n",
      "8\n",
      "9\n",
      "10\n"
     ]
    }
   ],
   "source": [
    "# Schreibt bitte eure Lösung hier\n"
   ]
  },
  {
   "cell_type": "markdown",
   "id": "47205d6d-8e1d-43d5-8754-b07f310bea21",
   "metadata": {},
   "source": [
    "## Übung 2: Listenelemente durchlaufen (5 Min.)\n",
    "Erstelle eine Liste mit den Namen von fünf Städten. Verwende eine `for`-Schleife, um jedes Element der Liste auszugeben."
   ]
  },
  {
   "cell_type": "code",
   "execution_count": 23,
   "id": "1d91301d-89f8-4830-ac66-3ca51a7aab2c",
   "metadata": {},
   "outputs": [
    {
     "name": "stdout",
     "output_type": "stream",
     "text": [
      "1\n",
      "2\n",
      "4\n",
      "1\n"
     ]
    }
   ],
   "source": [
    "# Schreibt bitte eure Lösung hier\n"
   ]
  },
  {
   "cell_type": "markdown",
   "id": "4584ceea-4af4-4346-8366-8c63719861ad",
   "metadata": {},
   "source": [
    "## Übung 3: Summe berechnen (5 Min.)\n",
    "Berechne die Summe der Zahlen von 1 bis 100 mithilfe einer `for`-Schleife und gib das Ergebnis aus."
   ]
  },
  {
   "cell_type": "code",
   "execution_count": 24,
   "id": "3813c848-1ab3-47a2-9a04-de5e251b3608",
   "metadata": {},
   "outputs": [
    {
     "name": "stdout",
     "output_type": "stream",
     "text": [
      "5050\n"
     ]
    }
   ],
   "source": [
    "# Schreibt bitte eure Lösung hier\n"
   ]
  },
  {
   "cell_type": "markdown",
   "id": "3e3ced93-f9bf-4713-af40-1ae8830fb61b",
   "metadata": {},
   "source": [
    "## Übung 4: Zeichenkette umkehren (7 Min.)\n",
    "Schreibe eine `for`-Schleife, die die Zeichen eines Strings umkehrt und den umgekehrten String ausgibt."
   ]
  },
  {
   "cell_type": "code",
   "execution_count": 34,
   "id": "10e18ff1-8fd9-4c9f-b243-c7374baf8f61",
   "metadata": {},
   "outputs": [
    {
     "name": "stdout",
     "output_type": "stream",
     "text": [
      "nohtyP\n"
     ]
    }
   ],
   "source": [
    "# Schreibt bitte eure Lösung hier\n"
   ]
  },
  {
   "cell_type": "markdown",
   "id": "1cfaa198-c155-41f5-b757-6d756fa5c5e6",
   "metadata": {},
   "source": [
    "## Übung 5: Durchlaufe ein Dictionary (5 Min.)\n",
    "Erstelle ein Dictionary mit Namen als Schlüsseln und Alter als Werten. Verwende eine `for`-Schleife, um alle Namen und Alter auszugeben."
   ]
  },
  {
   "cell_type": "code",
   "execution_count": 42,
   "id": "659538b1-c29d-436e-b34b-6dc70e5b693a",
   "metadata": {},
   "outputs": [
    {
     "name": "stdout",
     "output_type": "stream",
     "text": [
      "Name ist  Max Alter ist  25\n",
      "Name ist  Anna Alter ist  30\n",
      "Name ist  Tom Alter ist  22\n"
     ]
    }
   ],
   "source": [
    "# Schreibt bitte eure Lösung hier\n"
   ]
  },
  {
   "cell_type": "markdown",
   "id": "cf9d26b2-a3f9-4861-bf1d-3060f5970076",
   "metadata": {},
   "source": [
    "## Übung 6: Durchlauf mit `range()` (5 Min.)\n",
    "Erstelle eine `for`-Schleife, die alle geraden Zahlen von 0 bis 20 ausgibt. Verwende dafür `range()`."
   ]
  },
  {
   "cell_type": "code",
   "execution_count": 43,
   "id": "74396637-1560-4b2e-b917-6f0c49f01e2a",
   "metadata": {},
   "outputs": [
    {
     "name": "stdout",
     "output_type": "stream",
     "text": [
      "0\n",
      "2\n",
      "4\n",
      "6\n",
      "8\n",
      "10\n",
      "12\n",
      "14\n",
      "16\n",
      "18\n",
      "20\n"
     ]
    }
   ],
   "source": [
    "# Schreibt bitte eure Lösung hier\n"
   ]
  },
  {
   "cell_type": "markdown",
   "id": "92f2be56-e8b1-457e-8c33-deba4cd9d087",
   "metadata": {},
   "source": [
    "## Übung 7: Fakultät berechnen (7 Min.)\n",
    "Berechne die Fakultät von 5 (5!) mit einer `for`-Schleife und gib das Ergebnis aus."
   ]
  },
  {
   "cell_type": "code",
   "execution_count": 47,
   "id": "aaceff8e-95dc-41f3-9974-e2799a3e7461",
   "metadata": {},
   "outputs": [
    {
     "name": "stdout",
     "output_type": "stream",
     "text": [
      "6\n"
     ]
    }
   ],
   "source": [
    "# Schreibt bitte eure Lösung hier\n",
    "\n"
   ]
  },
  {
   "cell_type": "markdown",
   "id": "63f8bced-74cd-4ee8-bc16-92624b4fa305",
   "metadata": {},
   "source": [
    "## Übung 8: Mehrere Listen kombinieren (5 Min.)\n",
    "Gegeben sind zwei Listen: eine mit Namen und eine mit den dazugehörigen Altersangaben. Verwende eine `for`-Schleife, um beide Listen zu kombinieren und auszugeben, z.B. \"Max ist 25 Jahre alt\"."
   ]
  },
  {
   "cell_type": "code",
   "execution_count": 50,
   "id": "1708c3e8-1c9d-437d-b47e-d36020356fef",
   "metadata": {},
   "outputs": [
    {
     "name": "stdout",
     "output_type": "stream",
     "text": [
      "Alex ist 23 Jahr Alt\n",
      "Aline ist 54 Jahr Alt\n",
      "Mohammad ist 43 Jahr Alt\n"
     ]
    }
   ],
   "source": [
    "# Schreibt bitte eure Lösung hier\n"
   ]
  },
  {
   "cell_type": "markdown",
   "id": "bd010cfa-f2c9-424b-b25a-7fcd82214bea",
   "metadata": {},
   "source": [
    "## Übung 9: Ein Dreieck aus Sternen (7 Min.)\n",
    "Schreibe eine for-Schleife, um ein Dreieck aus Sternen (*) zu erstellen. Die Höhe des Dreiecks sollte 5 Zeilen betragen."
   ]
  },
  {
   "cell_type": "code",
   "execution_count": 53,
   "id": "13fbd9c7-b5b6-4b0e-954f-99fe834fcc96",
   "metadata": {},
   "outputs": [
    {
     "name": "stdout",
     "output_type": "stream",
     "text": [
      "*\n",
      "**\n",
      "***\n",
      "****\n",
      "*****\n"
     ]
    }
   ],
   "source": [
    "# Schreibt bitte eure Lösung hier\n"
   ]
  },
  {
   "cell_type": "markdown",
   "id": "eb9e0075-2514-413d-bc26-b8977e70438b",
   "metadata": {},
   "source": [
    "## Übung 10: Ein umgekehrtes Dreieck aus Sternen (5 Min.)\n",
    "Schreibe eine for-Schleife, um ein umgekehrtes Dreieck aus Sternen zu erstellen. Die Höhe des Dreiecks sollte 5 Zeilen betragen."
   ]
  },
  {
   "cell_type": "code",
   "execution_count": 59,
   "id": "2022496a-c087-4ed0-8460-464229897370",
   "metadata": {},
   "outputs": [
    {
     "name": "stdout",
     "output_type": "stream",
     "text": [
      "*****\n",
      "****\n",
      "***\n",
      "**\n",
      "*\n"
     ]
    }
   ],
   "source": [
    "# Schreibt bitte eure Lösung hier\n",
    "\n",
    "    "
   ]
  },
  {
   "cell_type": "markdown",
   "id": "ea0c9b5d-a568-482b-b236-2256f1d700db",
   "metadata": {},
   "source": [
    "## Übung 11: Ein Quadrat aus Sternen (5 Min.)\n",
    "Schreibe eine for-Schleife, um ein Quadrat aus Sternen zu erstellen. Die Seitenlänge des Quadrats sollte 5 betragen."
   ]
  },
  {
   "cell_type": "code",
   "execution_count": 63,
   "id": "79b68992-7a5b-433f-ab07-8aebcf78b2e6",
   "metadata": {},
   "outputs": [
    {
     "name": "stdout",
     "output_type": "stream",
     "text": [
      "*****\n",
      "*****\n",
      "*****\n",
      "*****\n",
      "*****\n"
     ]
    }
   ],
   "source": [
    "# Schreibt bitte eure Lösung hier\n",
    "\n",
    "    "
   ]
  },
  {
   "cell_type": "markdown",
   "id": "17d2068a-6171-406b-8f11-489fd12642d0",
   "metadata": {},
   "source": [
    "## Übung 12: Ein Rechteck aus Sternen (5 Min.)\n",
    "Schreibe eine for-Schleife, um ein Rechteck aus Sternen zu erstellen. Die Breite des Rechtecks sollte 6 und die Höhe 4 betragen."
   ]
  },
  {
   "cell_type": "code",
   "execution_count": null,
   "id": "02379b3e-7b00-4299-952f-3066f7a9d543",
   "metadata": {},
   "outputs": [],
   "source": [
    "# Schreibt bitte eure Lösung hier\n"
   ]
  },
  {
   "cell_type": "markdown",
   "id": "10f26cce-d938-4934-b1c5-6264a98100cb",
   "metadata": {},
   "source": [
    "## Übung 13: Ein Diamant (10 Min.)\n",
    "Schreibe eine for-Schleife, um ein Diamantmuster aus Sternen zu erstellen."
   ]
  },
  {
   "cell_type": "code",
   "execution_count": 87,
   "id": "d6fb4dcb-e425-4f20-ad88-100f0db09cac",
   "metadata": {},
   "outputs": [
    {
     "name": "stdout",
     "output_type": "stream",
     "text": [
      "    *\n",
      "   ***\n",
      "  *****\n",
      " *******\n",
      "*********\n",
      " *******\n",
      "  *****\n",
      "   ***\n",
      "    *\n"
     ]
    }
   ],
   "source": [
    "# Schreibt bitte eure Lösung hier\n"
   ]
  },
  {
   "cell_type": "markdown",
   "id": "344f4af8-cdce-4617-b29c-50554c2e8e25",
   "metadata": {},
   "source": [
    "## Übung 14: Ein Quadrat mit Rändern (10 Min.)\n",
    "Schreibe eine for-Schleife, um ein Quadrat aus Sternen zu erstellen, aber mit einer leeren Mitte. Die Seitenlänge des Quadrats sollte 5 betragen."
   ]
  },
  {
   "cell_type": "code",
   "execution_count": 88,
   "id": "f9fa8232-ab31-49f1-89ce-74e93fe009c1",
   "metadata": {},
   "outputs": [
    {
     "name": "stdout",
     "output_type": "stream",
     "text": [
      "*****\n",
      "*   *\n",
      "*   *\n",
      "*   *\n",
      "*****\n"
     ]
    }
   ],
   "source": [
    "# Schreibt bitte eure Lösung hier\n"
   ]
  },
  {
   "cell_type": "markdown",
   "id": "e3981a35-bea1-49fb-aada-001c63b59672",
   "metadata": {},
   "source": [
    "## Übung 15: Ein Rechteck mit aufsteigenden Zahlen (5 Min.)\n",
    "Schreibe eine for-Schleife, um ein Rechteck zu erstellen, in dem die Zahlen von 1 bis 6 in jeder Zeile aufsteigen."
   ]
  },
  {
   "cell_type": "code",
   "execution_count": 95,
   "id": "5972ad24-c97e-4d91-b2dd-fc7a74aa1384",
   "metadata": {},
   "outputs": [
    {
     "name": "stdout",
     "output_type": "stream",
     "text": [
      "1 2 3 4 5\n",
      "1 2 3 4 5\n",
      "1 2 3 4 5\n",
      "1 2 3 4 5\n",
      "1 2 3 4 5\n"
     ]
    }
   ],
   "source": [
    "# Schreibt bitte eure Lösung hier\n",
    "for i in range(1, 6):\n",
    "    print(\" \".join(str(i) for i in range(1, 6)))"
   ]
  },
  {
   "cell_type": "markdown",
   "id": "c3a48f9e-80b5-419e-8060-ce90bfe376b0",
   "metadata": {},
   "source": [
    "## Übung 16: Ein gleichseitiges Dreieck aus Zahlen (5 Min.)\n",
    "Schreibe eine for-Schleife, um ein gleichseitiges Dreieck aus Zahlen zu erstellen. Die Höhe des Dreiecks sollte 5 Zeilen betragen."
   ]
  },
  {
   "cell_type": "code",
   "execution_count": 100,
   "id": "f473c9eb-34aa-4ebf-983c-985fb4a218b9",
   "metadata": {},
   "outputs": [
    {
     "name": "stdout",
     "output_type": "stream",
     "text": [
      "    1\n",
      "   1 2\n",
      "  1 2 3\n",
      " 1 2 3 4\n",
      "1 2 3 4 5\n"
     ]
    }
   ],
   "source": [
    "# Schreibt bitte eure Lösung hier\n"
   ]
  },
  {
   "cell_type": "code",
   "execution_count": null,
   "id": "147ece85-fd32-4d64-acd4-1dda0b9e87bf",
   "metadata": {},
   "outputs": [],
   "source": []
  }
 ],
 "metadata": {
  "kernelspec": {
   "display_name": "Python 3 (ipykernel)",
   "language": "python",
   "name": "python3"
  },
  "language_info": {
   "codemirror_mode": {
    "name": "ipython",
    "version": 3
   },
   "file_extension": ".py",
   "mimetype": "text/x-python",
   "name": "python",
   "nbconvert_exporter": "python",
   "pygments_lexer": "ipython3",
   "version": "3.12.7"
  }
 },
 "nbformat": 4,
 "nbformat_minor": 5
}
